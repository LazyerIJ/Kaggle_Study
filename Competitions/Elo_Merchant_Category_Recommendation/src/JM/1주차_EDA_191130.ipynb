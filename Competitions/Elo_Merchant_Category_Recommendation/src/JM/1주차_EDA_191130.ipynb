{
 "cells": [
  {
   "cell_type": "markdown",
   "metadata": {},
   "source": [
    "# 1. 라이브러리 로드"
   ]
  },
  {
   "cell_type": "code",
   "execution_count": 1,
   "metadata": {},
   "outputs": [
    {
     "data": {
      "text/plain": [
       "'D:\\\\kaggle\\\\ELO'"
      ]
     },
     "execution_count": 1,
     "metadata": {},
     "output_type": "execute_result"
    }
   ],
   "source": [
    "import pandas as pd\n",
    "import numpy as np\n",
    "import re\n",
    "import os\n",
    "import datetime\n",
    "import seaborn as sns\n",
    "import matplotlib.pyplot as plt\n",
    "%matplotlib inline\n",
    "import matplotlib.font_manager as fm\n",
    "import matplotlib as mpl\n",
    "plt.rcParams['font.family'] = 'Malgun Gothic'\n",
    "rc={'axes.labelsize': 15, 'font.size': 15, 'legend.fontsize': 12.0, 'axes.titlesize': 20}\n",
    "plt.rcParams.update(**rc)\n",
    "mpl.rcParams['axes.unicode_minus'] = False\n",
    "os.getcwd()"
   ]
  },
  {
   "cell_type": "markdown",
   "metadata": {},
   "source": [
    "# 2. 데이터 로드\n",
    "* train.csv: 학습 데이터\n",
    "* test.csv: 테스트 데이터\n",
    "\n",
    "* sample_submission.csv: 제출 예시 데이터\n",
    "\n",
    "* historical_transactions.csv: 상인 거래 데이터(옛날)\n",
    "* new_merchant_transactions.csv: 상인 거래 데이터(최신) \n",
    "\n",
    "* merchants.csv: 상인관련 지표 데이터\n",
    "\n",
    "* Data_Dictionary.xlsx: 데이터 설명 엑셀"
   ]
  },
  {
   "cell_type": "code",
   "execution_count": 2,
   "metadata": {},
   "outputs": [
    {
     "name": "stdout",
     "output_type": "stream",
     "text": [
      "Wall time: 59.9 s\n"
     ]
    }
   ],
   "source": [
    "%%time\n",
    "train=pd.read_csv(\"D:/kaggle/ELO/data/train.csv\",encoding='utf-8')\n",
    "test=pd.read_csv(\"D:/kaggle/ELO/data/test.csv\",encoding='utf-8')\n",
    "\n",
    "sample_sub=pd.read_csv(\"D:/kaggle/ELO/data/sample_submission.csv\",encoding='utf-8')\n",
    "\n",
    "history_trans=pd.read_csv(\"D:/kaggle/ELO/data/historical_transactions.csv\",encoding='utf-8')\n",
    "new_merchant=pd.read_csv(\"D:/kaggle/ELO/data/new_merchant_transactions.csv\",encoding='utf-8')\n",
    "\n",
    "merchant=pd.read_csv(\"D:/kaggle/ELO/data/merchants.csv\",encoding='utf-8')"
   ]
  },
  {
   "cell_type": "code",
   "execution_count": 3,
   "metadata": {},
   "outputs": [],
   "source": [
    "train_dic=pd.read_excel(\"D:/kaggle/ELO/data/Data_Dictionary.xlsx\",sheet_name = 'train')\n",
    "his_dic=pd.read_excel(\"D:/kaggle/ELO/data/Data_Dictionary.xlsx\",sheet_name = 'history')\n",
    "new_merchant_dic=pd.read_excel(\"D:/kaggle/ELO/data/Data_Dictionary.xlsx\",sheet_name = 'new_merchant_period')\n",
    "merchant_dic=pd.read_excel(\"D:/kaggle/ELO/data/Data_Dictionary.xlsx\",sheet_name = 'merchant')"
   ]
  },
  {
   "cell_type": "code",
   "execution_count": 13,
   "metadata": {},
   "outputs": [
    {
     "data": {
      "text/html": [
       "<div>\n",
       "<style scoped>\n",
       "    .dataframe tbody tr th:only-of-type {\n",
       "        vertical-align: middle;\n",
       "    }\n",
       "\n",
       "    .dataframe tbody tr th {\n",
       "        vertical-align: top;\n",
       "    }\n",
       "\n",
       "    .dataframe thead th {\n",
       "        text-align: right;\n",
       "    }\n",
       "</style>\n",
       "<table border=\"1\" class=\"dataframe\">\n",
       "  <thead>\n",
       "    <tr style=\"text-align: right;\">\n",
       "      <th></th>\n",
       "      <th>merchant_id</th>\n",
       "      <th>merchant_group_id</th>\n",
       "      <th>merchant_category_id</th>\n",
       "      <th>subsector_id</th>\n",
       "      <th>numerical_1</th>\n",
       "      <th>numerical_2</th>\n",
       "      <th>category_1</th>\n",
       "      <th>most_recent_sales_range</th>\n",
       "      <th>most_recent_purchases_range</th>\n",
       "      <th>avg_sales_lag3</th>\n",
       "      <th>...</th>\n",
       "      <th>avg_sales_lag6</th>\n",
       "      <th>avg_purchases_lag6</th>\n",
       "      <th>active_months_lag6</th>\n",
       "      <th>avg_sales_lag12</th>\n",
       "      <th>avg_purchases_lag12</th>\n",
       "      <th>active_months_lag12</th>\n",
       "      <th>category_4</th>\n",
       "      <th>city_id</th>\n",
       "      <th>state_id</th>\n",
       "      <th>category_2</th>\n",
       "    </tr>\n",
       "  </thead>\n",
       "  <tbody>\n",
       "    <tr>\n",
       "      <td>0</td>\n",
       "      <td>M_ID_838061e48c</td>\n",
       "      <td>8353</td>\n",
       "      <td>792</td>\n",
       "      <td>9</td>\n",
       "      <td>-0.057471</td>\n",
       "      <td>-0.057471</td>\n",
       "      <td>N</td>\n",
       "      <td>E</td>\n",
       "      <td>E</td>\n",
       "      <td>-0.40</td>\n",
       "      <td>...</td>\n",
       "      <td>-2.25</td>\n",
       "      <td>18.666667</td>\n",
       "      <td>6</td>\n",
       "      <td>-2.32</td>\n",
       "      <td>13.916667</td>\n",
       "      <td>12</td>\n",
       "      <td>N</td>\n",
       "      <td>242</td>\n",
       "      <td>9</td>\n",
       "      <td>1.0</td>\n",
       "    </tr>\n",
       "    <tr>\n",
       "      <td>1</td>\n",
       "      <td>M_ID_9339d880ad</td>\n",
       "      <td>3184</td>\n",
       "      <td>840</td>\n",
       "      <td>20</td>\n",
       "      <td>-0.057471</td>\n",
       "      <td>-0.057471</td>\n",
       "      <td>N</td>\n",
       "      <td>E</td>\n",
       "      <td>E</td>\n",
       "      <td>-0.72</td>\n",
       "      <td>...</td>\n",
       "      <td>-0.74</td>\n",
       "      <td>1.291667</td>\n",
       "      <td>6</td>\n",
       "      <td>-0.57</td>\n",
       "      <td>1.687500</td>\n",
       "      <td>12</td>\n",
       "      <td>N</td>\n",
       "      <td>22</td>\n",
       "      <td>16</td>\n",
       "      <td>1.0</td>\n",
       "    </tr>\n",
       "    <tr>\n",
       "      <td>2</td>\n",
       "      <td>M_ID_e726bbae1e</td>\n",
       "      <td>447</td>\n",
       "      <td>690</td>\n",
       "      <td>1</td>\n",
       "      <td>-0.057471</td>\n",
       "      <td>-0.057471</td>\n",
       "      <td>N</td>\n",
       "      <td>E</td>\n",
       "      <td>E</td>\n",
       "      <td>-82.13</td>\n",
       "      <td>...</td>\n",
       "      <td>-82.13</td>\n",
       "      <td>260.000000</td>\n",
       "      <td>2</td>\n",
       "      <td>-82.13</td>\n",
       "      <td>260.000000</td>\n",
       "      <td>2</td>\n",
       "      <td>N</td>\n",
       "      <td>-1</td>\n",
       "      <td>5</td>\n",
       "      <td>5.0</td>\n",
       "    </tr>\n",
       "    <tr>\n",
       "      <td>3</td>\n",
       "      <td>M_ID_a70e9c5f81</td>\n",
       "      <td>5026</td>\n",
       "      <td>792</td>\n",
       "      <td>9</td>\n",
       "      <td>-0.057471</td>\n",
       "      <td>-0.057471</td>\n",
       "      <td>Y</td>\n",
       "      <td>E</td>\n",
       "      <td>E</td>\n",
       "      <td>NaN</td>\n",
       "      <td>...</td>\n",
       "      <td>NaN</td>\n",
       "      <td>4.666667</td>\n",
       "      <td>6</td>\n",
       "      <td>NaN</td>\n",
       "      <td>3.833333</td>\n",
       "      <td>12</td>\n",
       "      <td>Y</td>\n",
       "      <td>-1</td>\n",
       "      <td>-1</td>\n",
       "      <td>NaN</td>\n",
       "    </tr>\n",
       "    <tr>\n",
       "      <td>4</td>\n",
       "      <td>M_ID_64456c37ce</td>\n",
       "      <td>2228</td>\n",
       "      <td>222</td>\n",
       "      <td>21</td>\n",
       "      <td>-0.057471</td>\n",
       "      <td>-0.057471</td>\n",
       "      <td>Y</td>\n",
       "      <td>E</td>\n",
       "      <td>E</td>\n",
       "      <td>NaN</td>\n",
       "      <td>...</td>\n",
       "      <td>NaN</td>\n",
       "      <td>0.361111</td>\n",
       "      <td>6</td>\n",
       "      <td>NaN</td>\n",
       "      <td>0.347222</td>\n",
       "      <td>12</td>\n",
       "      <td>Y</td>\n",
       "      <td>-1</td>\n",
       "      <td>-1</td>\n",
       "      <td>NaN</td>\n",
       "    </tr>\n",
       "  </tbody>\n",
       "</table>\n",
       "<p>5 rows × 22 columns</p>\n",
       "</div>"
      ],
      "text/plain": [
       "       merchant_id  merchant_group_id  merchant_category_id  subsector_id  \\\n",
       "0  M_ID_838061e48c               8353                   792             9   \n",
       "1  M_ID_9339d880ad               3184                   840            20   \n",
       "2  M_ID_e726bbae1e                447                   690             1   \n",
       "3  M_ID_a70e9c5f81               5026                   792             9   \n",
       "4  M_ID_64456c37ce               2228                   222            21   \n",
       "\n",
       "   numerical_1  numerical_2 category_1 most_recent_sales_range  \\\n",
       "0    -0.057471    -0.057471          N                       E   \n",
       "1    -0.057471    -0.057471          N                       E   \n",
       "2    -0.057471    -0.057471          N                       E   \n",
       "3    -0.057471    -0.057471          Y                       E   \n",
       "4    -0.057471    -0.057471          Y                       E   \n",
       "\n",
       "  most_recent_purchases_range  avg_sales_lag3  ...  avg_sales_lag6  \\\n",
       "0                           E           -0.40  ...           -2.25   \n",
       "1                           E           -0.72  ...           -0.74   \n",
       "2                           E          -82.13  ...          -82.13   \n",
       "3                           E             NaN  ...             NaN   \n",
       "4                           E             NaN  ...             NaN   \n",
       "\n",
       "   avg_purchases_lag6  active_months_lag6  avg_sales_lag12  \\\n",
       "0           18.666667                   6            -2.32   \n",
       "1            1.291667                   6            -0.57   \n",
       "2          260.000000                   2           -82.13   \n",
       "3            4.666667                   6              NaN   \n",
       "4            0.361111                   6              NaN   \n",
       "\n",
       "   avg_purchases_lag12  active_months_lag12  category_4  city_id state_id  \\\n",
       "0            13.916667                   12           N      242        9   \n",
       "1             1.687500                   12           N       22       16   \n",
       "2           260.000000                    2           N       -1        5   \n",
       "3             3.833333                   12           Y       -1       -1   \n",
       "4             0.347222                   12           Y       -1       -1   \n",
       "\n",
       "   category_2  \n",
       "0         1.0  \n",
       "1         1.0  \n",
       "2         5.0  \n",
       "3         NaN  \n",
       "4         NaN  \n",
       "\n",
       "[5 rows x 22 columns]"
      ]
     },
     "execution_count": 13,
     "metadata": {},
     "output_type": "execute_result"
    }
   ],
   "source": [
    "merchant.head()"
   ]
  },
  {
   "cell_type": "markdown",
   "metadata": {},
   "source": [
    "# EDA \n",
    "## 1. train/test"
   ]
  },
  {
   "cell_type": "code",
   "execution_count": 14,
   "metadata": {},
   "outputs": [
    {
     "data": {
      "text/html": [
       "<div>\n",
       "<style scoped>\n",
       "    .dataframe tbody tr th:only-of-type {\n",
       "        vertical-align: middle;\n",
       "    }\n",
       "\n",
       "    .dataframe tbody tr th {\n",
       "        vertical-align: top;\n",
       "    }\n",
       "\n",
       "    .dataframe thead th {\n",
       "        text-align: right;\n",
       "    }\n",
       "</style>\n",
       "<table border=\"1\" class=\"dataframe\">\n",
       "  <thead>\n",
       "    <tr style=\"text-align: right;\">\n",
       "      <th></th>\n",
       "      <th>first_active_month</th>\n",
       "      <th>card_id</th>\n",
       "      <th>feature_1</th>\n",
       "      <th>feature_2</th>\n",
       "      <th>feature_3</th>\n",
       "      <th>target</th>\n",
       "    </tr>\n",
       "  </thead>\n",
       "  <tbody>\n",
       "    <tr>\n",
       "      <td>0</td>\n",
       "      <td>2017-06</td>\n",
       "      <td>C_ID_92a2005557</td>\n",
       "      <td>5</td>\n",
       "      <td>2</td>\n",
       "      <td>1</td>\n",
       "      <td>-0.820283</td>\n",
       "    </tr>\n",
       "    <tr>\n",
       "      <td>1</td>\n",
       "      <td>2017-01</td>\n",
       "      <td>C_ID_3d0044924f</td>\n",
       "      <td>4</td>\n",
       "      <td>1</td>\n",
       "      <td>0</td>\n",
       "      <td>0.392913</td>\n",
       "    </tr>\n",
       "    <tr>\n",
       "      <td>2</td>\n",
       "      <td>2016-08</td>\n",
       "      <td>C_ID_d639edf6cd</td>\n",
       "      <td>2</td>\n",
       "      <td>2</td>\n",
       "      <td>0</td>\n",
       "      <td>0.688056</td>\n",
       "    </tr>\n",
       "    <tr>\n",
       "      <td>3</td>\n",
       "      <td>2017-09</td>\n",
       "      <td>C_ID_186d6a6901</td>\n",
       "      <td>4</td>\n",
       "      <td>3</td>\n",
       "      <td>0</td>\n",
       "      <td>0.142495</td>\n",
       "    </tr>\n",
       "    <tr>\n",
       "      <td>4</td>\n",
       "      <td>2017-11</td>\n",
       "      <td>C_ID_cdbd2c0db2</td>\n",
       "      <td>1</td>\n",
       "      <td>3</td>\n",
       "      <td>0</td>\n",
       "      <td>-0.159749</td>\n",
       "    </tr>\n",
       "  </tbody>\n",
       "</table>\n",
       "</div>"
      ],
      "text/plain": [
       "  first_active_month          card_id  feature_1  feature_2  feature_3  \\\n",
       "0            2017-06  C_ID_92a2005557          5          2          1   \n",
       "1            2017-01  C_ID_3d0044924f          4          1          0   \n",
       "2            2016-08  C_ID_d639edf6cd          2          2          0   \n",
       "3            2017-09  C_ID_186d6a6901          4          3          0   \n",
       "4            2017-11  C_ID_cdbd2c0db2          1          3          0   \n",
       "\n",
       "     target  \n",
       "0 -0.820283  \n",
       "1  0.392913  \n",
       "2  0.688056  \n",
       "3  0.142495  \n",
       "4 -0.159749  "
      ]
     },
     "execution_count": 14,
     "metadata": {},
     "output_type": "execute_result"
    }
   ],
   "source": [
    "train.head()\n",
    "#train.info()\n",
    "\n",
    "#test.head()\n",
    "#test.info()"
   ]
  },
  {
   "cell_type": "markdown",
   "metadata": {},
   "source": [
    "### first_active_month "
   ]
  },
  {
   "cell_type": "code",
   "execution_count": 5,
   "metadata": {},
   "outputs": [
    {
     "data": {
      "text/plain": [
       "[Text(0, 0, '2011-11'),\n",
       " Text(0, 0, '2011-12'),\n",
       " Text(0, 0, '2012-02'),\n",
       " Text(0, 0, '2012-03'),\n",
       " Text(0, 0, '2012-04'),\n",
       " Text(0, 0, '2012-05'),\n",
       " Text(0, 0, '2012-06'),\n",
       " Text(0, 0, '2012-07'),\n",
       " Text(0, 0, '2012-08'),\n",
       " Text(0, 0, '2012-09'),\n",
       " Text(0, 0, '2012-10'),\n",
       " Text(0, 0, '2012-11'),\n",
       " Text(0, 0, '2012-12'),\n",
       " Text(0, 0, '2013-01'),\n",
       " Text(0, 0, '2013-02'),\n",
       " Text(0, 0, '2013-03'),\n",
       " Text(0, 0, '2013-04'),\n",
       " Text(0, 0, '2013-05'),\n",
       " Text(0, 0, '2013-06'),\n",
       " Text(0, 0, '2013-07'),\n",
       " Text(0, 0, '2013-08'),\n",
       " Text(0, 0, '2013-09'),\n",
       " Text(0, 0, '2013-10'),\n",
       " Text(0, 0, '2013-11'),\n",
       " Text(0, 0, '2013-12'),\n",
       " Text(0, 0, '2014-01'),\n",
       " Text(0, 0, '2014-02'),\n",
       " Text(0, 0, '2014-03'),\n",
       " Text(0, 0, '2014-04'),\n",
       " Text(0, 0, '2014-05'),\n",
       " Text(0, 0, '2014-06'),\n",
       " Text(0, 0, '2014-07'),\n",
       " Text(0, 0, '2014-08'),\n",
       " Text(0, 0, '2014-09'),\n",
       " Text(0, 0, '2014-10'),\n",
       " Text(0, 0, '2014-11'),\n",
       " Text(0, 0, '2014-12'),\n",
       " Text(0, 0, '2015-01'),\n",
       " Text(0, 0, '2015-02'),\n",
       " Text(0, 0, '2015-03'),\n",
       " Text(0, 0, '2015-04'),\n",
       " Text(0, 0, '2015-05'),\n",
       " Text(0, 0, '2015-06'),\n",
       " Text(0, 0, '2015-07'),\n",
       " Text(0, 0, '2015-08'),\n",
       " Text(0, 0, '2015-09'),\n",
       " Text(0, 0, '2015-10'),\n",
       " Text(0, 0, '2015-11'),\n",
       " Text(0, 0, '2015-12'),\n",
       " Text(0, 0, '2016-01'),\n",
       " Text(0, 0, '2016-02'),\n",
       " Text(0, 0, '2016-03'),\n",
       " Text(0, 0, '2016-04'),\n",
       " Text(0, 0, '2016-05'),\n",
       " Text(0, 0, '2016-06'),\n",
       " Text(0, 0, '2016-07'),\n",
       " Text(0, 0, '2016-08'),\n",
       " Text(0, 0, '2016-09'),\n",
       " Text(0, 0, '2016-10'),\n",
       " Text(0, 0, '2016-11'),\n",
       " Text(0, 0, '2016-12'),\n",
       " Text(0, 0, '2017-01'),\n",
       " Text(0, 0, '2017-02'),\n",
       " Text(0, 0, '2017-03'),\n",
       " Text(0, 0, '2017-04'),\n",
       " Text(0, 0, '2017-05'),\n",
       " Text(0, 0, '2017-06'),\n",
       " Text(0, 0, '2017-07'),\n",
       " Text(0, 0, '2017-08'),\n",
       " Text(0, 0, '2017-09'),\n",
       " Text(0, 0, '2017-10'),\n",
       " Text(0, 0, '2017-11'),\n",
       " Text(0, 0, '2017-12'),\n",
       " Text(0, 0, '2018-01'),\n",
       " Text(0, 0, '2018-02')]"
      ]
     },
     "execution_count": 5,
     "metadata": {},
     "output_type": "execute_result"
    },
    {
     "data": {
      "image/png": "[encoded data removed]",
      "text/plain": [
       "<Figure size 1440x720 with 1 Axes>"
      ]
     },
     "metadata": {
      "needs_background": "light"
     },
     "output_type": "display_data"
    }
   ],
   "source": [
    "### first_active_month \n",
    "plt.figure(figsize=(20,10))\n",
    "plt.title(\"[train] first_active_month 분포\",size=20)\n",
    "first_active_month=sns.countplot(x=train.first_active_month,palette='Spectral',\n",
    "            order = np.sort(train.first_active_month.value_counts().index))\n",
    "first_active_month.set_xticklabels(first_active_month.get_xticklabels(), rotation=90, size=15)"
   ]
  },
  {
   "cell_type": "code",
   "execution_count": 6,
   "metadata": {
    "scrolled": true
   },
   "outputs": [
    {
     "data": {
      "text/plain": [
       "[Text(0, 0, '2011-11'),\n",
       " Text(0, 0, '2011-12'),\n",
       " Text(0, 0, '2012-01'),\n",
       " Text(0, 0, '2012-02'),\n",
       " Text(0, 0, '2012-03'),\n",
       " Text(0, 0, '2012-04'),\n",
       " Text(0, 0, '2012-05'),\n",
       " Text(0, 0, '2012-06'),\n",
       " Text(0, 0, '2012-07'),\n",
       " Text(0, 0, '2012-08'),\n",
       " Text(0, 0, '2012-09'),\n",
       " Text(0, 0, '2012-10'),\n",
       " Text(0, 0, '2012-11'),\n",
       " Text(0, 0, '2012-12'),\n",
       " Text(0, 0, '2013-01'),\n",
       " Text(0, 0, '2013-02'),\n",
       " Text(0, 0, '2013-03'),\n",
       " Text(0, 0, '2013-04'),\n",
       " Text(0, 0, '2013-05'),\n",
       " Text(0, 0, '2013-06'),\n",
       " Text(0, 0, '2013-07'),\n",
       " Text(0, 0, '2013-08'),\n",
       " Text(0, 0, '2013-09'),\n",
       " Text(0, 0, '2013-10'),\n",
       " Text(0, 0, '2013-11'),\n",
       " Text(0, 0, '2013-12'),\n",
       " Text(0, 0, '2014-01'),\n",
       " Text(0, 0, '2014-02'),\n",
       " Text(0, 0, '2014-03'),\n",
       " Text(0, 0, '2014-04'),\n",
       " Text(0, 0, '2014-05'),\n",
       " Text(0, 0, '2014-06'),\n",
       " Text(0, 0, '2014-07'),\n",
       " Text(0, 0, '2014-08'),\n",
       " Text(0, 0, '2014-09'),\n",
       " Text(0, 0, '2014-10'),\n",
       " Text(0, 0, '2014-11'),\n",
       " Text(0, 0, '2014-12'),\n",
       " Text(0, 0, '2015-01'),\n",
       " Text(0, 0, '2015-02'),\n",
       " Text(0, 0, '2015-03'),\n",
       " Text(0, 0, '2015-04'),\n",
       " Text(0, 0, '2015-05'),\n",
       " Text(0, 0, '2015-06'),\n",
       " Text(0, 0, '2015-07'),\n",
       " Text(0, 0, '2015-08'),\n",
       " Text(0, 0, '2015-09'),\n",
       " Text(0, 0, '2015-10'),\n",
       " Text(0, 0, '2015-11'),\n",
       " Text(0, 0, '2015-12'),\n",
       " Text(0, 0, '2016-01'),\n",
       " Text(0, 0, '2016-02'),\n",
       " Text(0, 0, '2016-03'),\n",
       " Text(0, 0, '2016-04'),\n",
       " Text(0, 0, '2016-05'),\n",
       " Text(0, 0, '2016-06'),\n",
       " Text(0, 0, '2016-07'),\n",
       " Text(0, 0, '2016-08'),\n",
       " Text(0, 0, '2016-09'),\n",
       " Text(0, 0, '2016-10'),\n",
       " Text(0, 0, '2016-11'),\n",
       " Text(0, 0, '2016-12'),\n",
       " Text(0, 0, '2017-01'),\n",
       " Text(0, 0, '2017-02'),\n",
       " Text(0, 0, '2017-03'),\n",
       " Text(0, 0, '2017-04'),\n",
       " Text(0, 0, '2017-05'),\n",
       " Text(0, 0, '2017-06'),\n",
       " Text(0, 0, '2017-07'),\n",
       " Text(0, 0, '2017-08'),\n",
       " Text(0, 0, '2017-09'),\n",
       " Text(0, 0, '2017-10'),\n",
       " Text(0, 0, '2017-11'),\n",
       " Text(0, 0, '2017-12'),\n",
       " Text(0, 0, '2018-01')]"
      ]
     },
     "execution_count": 6,
     "metadata": {},
     "output_type": "execute_result"
    },
    {
     "data": {
      "image/png": "[encoded data removed]",
      "text/plain": [
       "<Figure size 1440x720 with 1 Axes>"
      ]
     },
     "metadata": {
      "needs_background": "light"
     },
     "output_type": "display_data"
    }
   ],
   "source": [
    "### first_active_month \n",
    "plt.figure(figsize=(20,10))\n",
    "plt.title(\"[test] first_active_month 분포\",size=20)\n",
    "first_active_month=sns.countplot(x=test.first_active_month,palette='Spectral',\n",
    "            order = np.sort(test.first_active_month.value_counts().index))\n",
    "first_active_month.set_xticklabels(first_active_month.get_xticklabels(), rotation=90, size=15)"
   ]
  },
  {
   "cell_type": "markdown",
   "metadata": {},
   "source": [
    "### feature 1/2/3"
   ]
  },
  {
   "cell_type": "code",
   "execution_count": 7,
   "metadata": {
    "scrolled": true
   },
   "outputs": [
    {
     "data": {
      "image/png": "[encoded data removed]",
      "text/plain": [
       "<Figure size 1152x432 with 3 Axes>"
      ]
     },
     "metadata": {
      "needs_background": "light"
     },
     "output_type": "display_data"
    }
   ],
   "source": [
    "fig, ax = plt.subplots(1, 3, figsize = (16, 6));\n",
    "train['feature_1'].value_counts().sort_index().plot(kind='bar', ax=ax[0], color='teal', title='feature_1');\n",
    "train['feature_2'].value_counts().sort_index().plot(kind='bar', ax=ax[1], color='brown', title='feature_2');\n",
    "train['feature_3'].value_counts().sort_index().plot(kind='bar', ax=ax[2], color='gold', title='feature_3');\n",
    "plt.suptitle('feature 1/2/3 분포',size=20);"
   ]
  },
  {
   "cell_type": "markdown",
   "metadata": {},
   "source": [
    "### target"
   ]
  },
  {
   "cell_type": "code",
   "execution_count": 8,
   "metadata": {},
   "outputs": [
    {
     "data": {
      "text/plain": [
       "<matplotlib.axes._subplots.AxesSubplot at 0x22d8061bf48>"
      ]
     },
     "execution_count": 8,
     "metadata": {},
     "output_type": "execute_result"
    },
    {
     "data": {
      "image/png": "[encoded data removed]",
      "text/plain": [
       "<Figure size 720x360 with 1 Axes>"
      ]
     },
     "metadata": {
      "needs_background": "light"
     },
     "output_type": "display_data"
    }
   ],
   "source": [
    "plt.figure(figsize=(10,5))\n",
    "plt.title(\"Target(충성도, 종속변수) 분포\",size=20)\n",
    "sns.distplot(train.target)"
   ]
  },
  {
   "cell_type": "code",
   "execution_count": 9,
   "metadata": {},
   "outputs": [
    {
     "name": "stdout",
     "output_type": "stream",
     "text": [
      "-30 이하 target 값은 2207 개.\n"
     ]
    }
   ],
   "source": [
    "print('-30 이하 target 값은 {} 개.'.format(len(train.loc[train.target < -30])))"
   ]
  },
  {
   "cell_type": "markdown",
   "metadata": {},
   "source": [
    "## 2. transactions(historical / new)"
   ]
  },
  {
   "cell_type": "code",
   "execution_count": 10,
   "metadata": {
    "scrolled": true
   },
   "outputs": [
    {
     "name": "stdout",
     "output_type": "stream",
     "text": [
      "<class 'pandas.core.frame.DataFrame'>\n",
      "RangeIndex: 29112361 entries, 0 to 29112360\n",
      "Data columns (total 14 columns):\n",
      "authorized_flag         object\n",
      "card_id                 object\n",
      "city_id                 int64\n",
      "category_1              object\n",
      "installments            int64\n",
      "category_3              object\n",
      "merchant_category_id    int64\n",
      "merchant_id             object\n",
      "month_lag               int64\n",
      "purchase_amount         float64\n",
      "purchase_date           object\n",
      "category_2              float64\n",
      "state_id                int64\n",
      "subsector_id            int64\n",
      "dtypes: float64(2), int64(6), object(6)\n",
      "memory usage: 3.0+ GB\n"
     ]
    }
   ],
   "source": [
    "history_trans.head()\n",
    "history_trans.info()"
   ]
  },
  {
   "cell_type": "code",
   "execution_count": 11,
   "metadata": {},
   "outputs": [
    {
     "data": {
      "text/html": [
       "<div>\n",
       "<style scoped>\n",
       "    .dataframe tbody tr th:only-of-type {\n",
       "        vertical-align: middle;\n",
       "    }\n",
       "\n",
       "    .dataframe tbody tr th {\n",
       "        vertical-align: top;\n",
       "    }\n",
       "\n",
       "    .dataframe thead th {\n",
       "        text-align: right;\n",
       "    }\n",
       "</style>\n",
       "<table border=\"1\" class=\"dataframe\">\n",
       "  <thead>\n",
       "    <tr style=\"text-align: right;\">\n",
       "      <th></th>\n",
       "      <th>열이름</th>\n",
       "      <th>NA개수</th>\n",
       "      <th>NA비율(%)</th>\n",
       "    </tr>\n",
       "  </thead>\n",
       "  <tbody>\n",
       "    <tr>\n",
       "      <td>0</td>\n",
       "      <td>authorized_flag</td>\n",
       "      <td>0</td>\n",
       "      <td>0.000000</td>\n",
       "    </tr>\n",
       "    <tr>\n",
       "      <td>1</td>\n",
       "      <td>card_id</td>\n",
       "      <td>0</td>\n",
       "      <td>0.000000</td>\n",
       "    </tr>\n",
       "    <tr>\n",
       "      <td>2</td>\n",
       "      <td>city_id</td>\n",
       "      <td>0</td>\n",
       "      <td>0.000000</td>\n",
       "    </tr>\n",
       "    <tr>\n",
       "      <td>3</td>\n",
       "      <td>category_1</td>\n",
       "      <td>0</td>\n",
       "      <td>0.000000</td>\n",
       "    </tr>\n",
       "    <tr>\n",
       "      <td>4</td>\n",
       "      <td>installments</td>\n",
       "      <td>0</td>\n",
       "      <td>0.000000</td>\n",
       "    </tr>\n",
       "    <tr>\n",
       "      <td>5</td>\n",
       "      <td>category_3</td>\n",
       "      <td>178159</td>\n",
       "      <td>0.611970</td>\n",
       "    </tr>\n",
       "    <tr>\n",
       "      <td>6</td>\n",
       "      <td>merchant_category_id</td>\n",
       "      <td>0</td>\n",
       "      <td>0.000000</td>\n",
       "    </tr>\n",
       "    <tr>\n",
       "      <td>7</td>\n",
       "      <td>merchant_id</td>\n",
       "      <td>138481</td>\n",
       "      <td>0.475678</td>\n",
       "    </tr>\n",
       "    <tr>\n",
       "      <td>8</td>\n",
       "      <td>month_lag</td>\n",
       "      <td>0</td>\n",
       "      <td>0.000000</td>\n",
       "    </tr>\n",
       "    <tr>\n",
       "      <td>9</td>\n",
       "      <td>purchase_amount</td>\n",
       "      <td>0</td>\n",
       "      <td>0.000000</td>\n",
       "    </tr>\n",
       "    <tr>\n",
       "      <td>10</td>\n",
       "      <td>purchase_date</td>\n",
       "      <td>0</td>\n",
       "      <td>0.000000</td>\n",
       "    </tr>\n",
       "    <tr>\n",
       "      <td>11</td>\n",
       "      <td>category_2</td>\n",
       "      <td>2652864</td>\n",
       "      <td>9.112500</td>\n",
       "    </tr>\n",
       "    <tr>\n",
       "      <td>12</td>\n",
       "      <td>state_id</td>\n",
       "      <td>0</td>\n",
       "      <td>0.000000</td>\n",
       "    </tr>\n",
       "    <tr>\n",
       "      <td>13</td>\n",
       "      <td>subsector_id</td>\n",
       "      <td>0</td>\n",
       "      <td>0.000000</td>\n",
       "    </tr>\n",
       "  </tbody>\n",
       "</table>\n",
       "</div>"
      ],
      "text/plain": [
       "                     열이름     NA개수   NA비율(%)\n",
       "0        authorized_flag        0  0.000000\n",
       "1                card_id        0  0.000000\n",
       "2                city_id        0  0.000000\n",
       "3             category_1        0  0.000000\n",
       "4           installments        0  0.000000\n",
       "5             category_3   178159  0.611970\n",
       "6   merchant_category_id        0  0.000000\n",
       "7            merchant_id   138481  0.475678\n",
       "8              month_lag        0  0.000000\n",
       "9        purchase_amount        0  0.000000\n",
       "10         purchase_date        0  0.000000\n",
       "11            category_2  2652864  9.112500\n",
       "12              state_id        0  0.000000\n",
       "13          subsector_id        0  0.000000"
      ]
     },
     "execution_count": 11,
     "metadata": {},
     "output_type": "execute_result"
    }
   ],
   "source": [
    "colname=[]\n",
    "na_count=[]\n",
    "\n",
    "for column in history_trans.columns.values:\n",
    "    colname.append(column)\n",
    "    na_count.append(history_trans['{}'.format(column)].isna().sum())\n",
    "    \n",
    "                    \n",
    "col=pd.DataFrame(colname,columns=['열이름'])\n",
    "count=pd.DataFrame(na_count,columns=['NA개수'])\n",
    "\n",
    "\n",
    "na_df=pd.concat([col,count],axis=1)\n",
    "na_df['NA비율(%)']=na_df['NA개수']/len(history_trans.card_id)*100\n",
    "na_df"
   ]
  },
  {
   "cell_type": "code",
   "execution_count": 12,
   "metadata": {},
   "outputs": [
    {
     "ename": "SyntaxError",
     "evalue": "invalid syntax (<ipython-input-12-88db94e0bbd9>, line 1)",
     "output_type": "error",
     "traceback": [
      "\u001b[1;36m  File \u001b[1;32m\"<ipython-input-12-88db94e0bbd9>\"\u001b[1;36m, line \u001b[1;32m1\u001b[0m\n\u001b[1;33m    year=history_trans.purchase_date[]\u001b[0m\n\u001b[1;37m                                     ^\u001b[0m\n\u001b[1;31mSyntaxError\u001b[0m\u001b[1;31m:\u001b[0m invalid syntax\n"
     ]
    }
   ],
   "source": [
    "year=history_trans.purchase_date[]\n",
    "month=\n",
    "print('Purchase date 기간:',min(history_trans.purchase_date),'~',max(history_trans.purchase_date))"
   ]
  },
  {
   "cell_type": "markdown",
   "metadata": {},
   "source": [
    "### month_lag"
   ]
  },
  {
   "cell_type": "code",
   "execution_count": null,
   "metadata": {},
   "outputs": [],
   "source": [
    "### first_active_month \n",
    "plt.figure(figsize=(5,5))\n",
    "plt.title(\"month_lag 분포\",size=20)\n",
    "month_lag=sns.countplot(x=history_trans.month_lag,palette='Spectral')\n",
    "#first_active_month.set_xticklabels(first_active_month.get_xticklabels(), rotation=90, size=15)"
   ]
  },
  {
   "cell_type": "markdown",
   "metadata": {},
   "source": [
    "### authorized_flag"
   ]
  },
  {
   "cell_type": "code",
   "execution_count": null,
   "metadata": {},
   "outputs": [],
   "source": [
    "### authorized_flag\n",
    "plt.figure(figsize=(5,5))\n",
    "plt.title(\"authorized_flag 분포\",size=20)\n",
    "authorized_flag=sns.countplot(x=history_trans.authorized_flag,palette='Set1')\n",
    "#city_id.set_xticklabels(city_id.get_xticklabels(), rotation=90, size=15)"
   ]
  },
  {
   "cell_type": "code",
   "execution_count": null,
   "metadata": {},
   "outputs": [],
   "source": [
    "print(len(history_trans.loc[history_trans.authorized_flag=='Y']))\n",
    "print(len(history_trans.loc[history_trans.authorized_flag!='Y']))"
   ]
  },
  {
   "cell_type": "markdown",
   "metadata": {},
   "source": [
    "### category_3"
   ]
  },
  {
   "cell_type": "code",
   "execution_count": null,
   "metadata": {},
   "outputs": [],
   "source": [
    "### category_3\n",
    "plt.figure(figsize=(5,5))\n",
    "plt.title(\"category_3 분포\",size=20)\n",
    "category_3=sns.countplot(x=history_trans.category_3,palette='Set1')\n",
    "#city_id.set_xticklabels(city_id.get_xticklabels(), rotation=90, size=15)"
   ]
  },
  {
   "cell_type": "code",
   "execution_count": null,
   "metadata": {},
   "outputs": [],
   "source": [
    "history_trans.category_3.isna().sum()"
   ]
  },
  {
   "cell_type": "markdown",
   "metadata": {},
   "source": [
    "### installments"
   ]
  },
  {
   "cell_type": "code",
   "execution_count": null,
   "metadata": {},
   "outputs": [],
   "source": [
    "### installments\n",
    "plt.figure(figsize=(5,5))\n",
    "plt.title(\"installments 분포\",size=20)\n",
    "installments=sns.countplot(x=history_trans.installments,palette='Set1')\n",
    "#city_id.set_xticklabels(city_id.get_xticklabels(), rotation=90, size=15)"
   ]
  },
  {
   "cell_type": "markdown",
   "metadata": {},
   "source": [
    "### category_1"
   ]
  },
  {
   "cell_type": "code",
   "execution_count": null,
   "metadata": {
    "scrolled": true
   },
   "outputs": [],
   "source": [
    "### category_1\n",
    "plt.figure(figsize=(5,5))\n",
    "plt.title(\"category_1 분포\",size=20)\n",
    "category_1=sns.countplot(x=history_trans.category_1,palette='Set1')\n",
    "#city_id.set_xticklabels(city_id.get_xticklabels(), rotation=90, size=15)"
   ]
  },
  {
   "cell_type": "markdown",
   "metadata": {},
   "source": [
    "### merchant_category_id"
   ]
  },
  {
   "cell_type": "code",
   "execution_count": null,
   "metadata": {},
   "outputs": [],
   "source": [
    "### merchant_category_id\n",
    "plt.figure(figsize=(5,150))\n",
    "plt.title(\"merchant_category_id 분포\",size=20)\n",
    "merchant_category_id=sns.countplot(y=history_trans.merchant_category_id,palette='Set1')\n",
    "#city_id.set_xticklabels(city_id.get_xticklabels(), rotation=90, size=15)"
   ]
  },
  {
   "cell_type": "code",
   "execution_count": null,
   "metadata": {},
   "outputs": [],
   "source": [
    "pd.DataFrame(history_trans.merchant_category_id.value_counts())"
   ]
  },
  {
   "cell_type": "markdown",
   "metadata": {},
   "source": [
    "### subsector_id"
   ]
  },
  {
   "cell_type": "code",
   "execution_count": null,
   "metadata": {},
   "outputs": [],
   "source": [
    "### subsector_id\n",
    "plt.figure(figsize=(5,8))\n",
    "plt.title(\"subsector_id 분포\",size=20)\n",
    "subsector_id=sns.countplot(y=history_trans.subsector_id,palette='Set1')\n",
    "#city_id.set_xticklabels(city_id.get_xticklabels(), rotation=90, size=15)"
   ]
  },
  {
   "cell_type": "code",
   "execution_count": null,
   "metadata": {
    "scrolled": true
   },
   "outputs": [],
   "source": [
    "pd.DataFrame(history_trans.subsector_id.value_counts())"
   ]
  },
  {
   "cell_type": "code",
   "execution_count": null,
   "metadata": {},
   "outputs": [],
   "source": [
    "print(len(history_trans.subsector_id.value_counts()))"
   ]
  },
  {
   "cell_type": "markdown",
   "metadata": {},
   "source": [
    "### merchant_id"
   ]
  },
  {
   "cell_type": "code",
   "execution_count": null,
   "metadata": {},
   "outputs": [],
   "source": [
    "pd.DataFrame(history_trans.merchant_id.value_counts())"
   ]
  },
  {
   "cell_type": "code",
   "execution_count": null,
   "metadata": {
    "scrolled": true
   },
   "outputs": [],
   "source": [
    "history_trans.merchant_id.isna().sum()"
   ]
  },
  {
   "cell_type": "markdown",
   "metadata": {},
   "source": [
    "### purchase_amount"
   ]
  },
  {
   "cell_type": "code",
   "execution_count": null,
   "metadata": {
    "scrolled": true
   },
   "outputs": [],
   "source": [
    "pd.DataFrame(history_trans.purchase_amount.value_counts())"
   ]
  },
  {
   "cell_type": "code",
   "execution_count": null,
   "metadata": {},
   "outputs": [],
   "source": [
    "print('표준화된 구매량 : 최소 {}회 ~ 최대 {}회'.\n",
    "      format(min(history_trans.purchase_amount),max(history_trans.purchase_amount)))"
   ]
  },
  {
   "cell_type": "code",
   "execution_count": null,
   "metadata": {
    "scrolled": true
   },
   "outputs": [],
   "source": [
    "history_trans.purchase_amount.isna().sum()"
   ]
  },
  {
   "cell_type": "markdown",
   "metadata": {},
   "source": [
    "### city_id"
   ]
  },
  {
   "cell_type": "code",
   "execution_count": null,
   "metadata": {},
   "outputs": [],
   "source": [
    "pd.DataFrame(history_trans.city_id.value_counts())"
   ]
  },
  {
   "cell_type": "code",
   "execution_count": null,
   "metadata": {},
   "outputs": [],
   "source": [
    "history_trans.city_id.isna().sum()"
   ]
  },
  {
   "cell_type": "code",
   "execution_count": null,
   "metadata": {},
   "outputs": [],
   "source": [
    "### city_id\n",
    "plt.figure(figsize=(5,5))\n",
    "plt.title(\"city_id 분포(top10 만)\",size=20)\n",
    "city_id=sns.countplot(x=history_trans.city_id,palette='Set1',\n",
    "                     order=history_trans.city_id.value_counts().index[0:10])\n",
    "#city_id.set_xticklabels(city_id.get_xticklabels(), rotation=90, size=15)"
   ]
  },
  {
   "cell_type": "markdown",
   "metadata": {},
   "source": [
    "### state_id"
   ]
  },
  {
   "cell_type": "code",
   "execution_count": null,
   "metadata": {},
   "outputs": [],
   "source": [
    "pd.DataFrame(history_trans.state_id.value_counts())"
   ]
  },
  {
   "cell_type": "code",
   "execution_count": null,
   "metadata": {
    "scrolled": true
   },
   "outputs": [],
   "source": [
    "history_trans.city_id.isna().sum()"
   ]
  },
  {
   "cell_type": "code",
   "execution_count": null,
   "metadata": {},
   "outputs": [],
   "source": [
    "len(history_trans.state_id.value_counts())"
   ]
  },
  {
   "cell_type": "code",
   "execution_count": null,
   "metadata": {},
   "outputs": [],
   "source": [
    "### state_id\n",
    "plt.figure(figsize=(15,5))\n",
    "plt.title(\"state_id 분포\",size=20)\n",
    "state_id=sns.countplot(x=history_trans.state_id,palette='Set1',\n",
    "                     order=history_trans.state_id.value_counts().index)\n",
    "#city_id.set_xticklabels(city_id.get_xticklabels(), rotation=90, size=15)"
   ]
  },
  {
   "cell_type": "markdown",
   "metadata": {},
   "source": [
    "### category_2"
   ]
  },
  {
   "cell_type": "code",
   "execution_count": null,
   "metadata": {},
   "outputs": [],
   "source": [
    "pd.DataFrame(history_trans.category_2.value_counts())"
   ]
  },
  {
   "cell_type": "code",
   "execution_count": null,
   "metadata": {},
   "outputs": [],
   "source": [
    "### category_2\n",
    "plt.figure(figsize=(5,5))\n",
    "plt.title(\"category_2 분포\",size=20)\n",
    "category_2=sns.countplot(x=history_trans.category_2,palette='Set1',\n",
    "                     order=history_trans.category_2.value_counts().index)\n",
    "#city_id.set_xticklabels(city_id.get_xticklabels(), rotation=90, size=15)"
   ]
  },
  {
   "cell_type": "markdown",
   "metadata": {},
   "source": [
    "## 3. merchants"
   ]
  },
  {
   "cell_type": "code",
   "execution_count": null,
   "metadata": {},
   "outputs": [],
   "source": []
  }
 ],
 "metadata": {
  "kernelspec": {
   "display_name": "Python 3",
   "language": "python",
   "name": "python3"
  },
  "language_info": {
   "codemirror_mode": {
    "name": "ipython",
    "version": 3
   },
   "file_extension": ".py",
   "mimetype": "text/x-python",
   "name": "python",
   "nbconvert_exporter": "python",
   "pygments_lexer": "ipython3",
   "version": "3.7.4"
  }
 },
 "nbformat": 4,
 "nbformat_minor": 2
}
