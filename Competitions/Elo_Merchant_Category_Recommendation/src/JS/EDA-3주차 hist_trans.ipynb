{
 "cells": [
  {
   "cell_type": "code",
   "execution_count": 1,
   "metadata": {},
   "outputs": [
    {
     "name": "stdout",
     "output_type": "stream",
     "text": [
      "['Data_Dictionary.xlsx', 'historical_transactions.csv', 'merchants.csv', 'new_merchant_transactions.csv', 'sample_submission.csv', 'test.csv', 'train.csv']\n"
     ]
    }
   ],
   "source": [
    "import os\n",
    "import pandas as pd\n",
    "import glob\n",
    "import numpy as np\n",
    "import seaborn as sns\n",
    "import matplotlib.pyplot as plt\n",
    "\n",
    "print(os.listdir(\"C:/Users/오원석/user_name/elo-merchant-category-recommendation\"))"
   ]
  },
  {
   "cell_type": "code",
   "execution_count": 2,
   "metadata": {},
   "outputs": [
    {
     "data": {
      "text/html": [
       "<div>\n",
       "<style scoped>\n",
       "    .dataframe tbody tr th:only-of-type {\n",
       "        vertical-align: middle;\n",
       "    }\n",
       "\n",
       "    .dataframe tbody tr th {\n",
       "        vertical-align: top;\n",
       "    }\n",
       "\n",
       "    .dataframe thead th {\n",
       "        text-align: right;\n",
       "    }\n",
       "</style>\n",
       "<table border=\"1\" class=\"dataframe\">\n",
       "  <thead>\n",
       "    <tr style=\"text-align: right;\">\n",
       "      <th></th>\n",
       "      <th>authorized_flag</th>\n",
       "      <th>card_id</th>\n",
       "      <th>city_id</th>\n",
       "      <th>category_1</th>\n",
       "      <th>installments</th>\n",
       "      <th>category_3</th>\n",
       "      <th>merchant_category_id</th>\n",
       "      <th>merchant_id</th>\n",
       "      <th>month_lag</th>\n",
       "      <th>purchase_amount</th>\n",
       "      <th>purchase_date</th>\n",
       "      <th>category_2</th>\n",
       "      <th>state_id</th>\n",
       "      <th>subsector_id</th>\n",
       "    </tr>\n",
       "  </thead>\n",
       "  <tbody>\n",
       "    <tr>\n",
       "      <th>0</th>\n",
       "      <td>Y</td>\n",
       "      <td>C_ID_4e6213e9bc</td>\n",
       "      <td>88</td>\n",
       "      <td>N</td>\n",
       "      <td>0</td>\n",
       "      <td>A</td>\n",
       "      <td>80</td>\n",
       "      <td>M_ID_e020e9b302</td>\n",
       "      <td>-8</td>\n",
       "      <td>-0.703331</td>\n",
       "      <td>2017-06-25 15:33:07</td>\n",
       "      <td>1.0</td>\n",
       "      <td>16</td>\n",
       "      <td>37</td>\n",
       "    </tr>\n",
       "    <tr>\n",
       "      <th>1</th>\n",
       "      <td>Y</td>\n",
       "      <td>C_ID_4e6213e9bc</td>\n",
       "      <td>88</td>\n",
       "      <td>N</td>\n",
       "      <td>0</td>\n",
       "      <td>A</td>\n",
       "      <td>367</td>\n",
       "      <td>M_ID_86ec983688</td>\n",
       "      <td>-7</td>\n",
       "      <td>-0.733128</td>\n",
       "      <td>2017-07-15 12:10:45</td>\n",
       "      <td>1.0</td>\n",
       "      <td>16</td>\n",
       "      <td>16</td>\n",
       "    </tr>\n",
       "    <tr>\n",
       "      <th>2</th>\n",
       "      <td>Y</td>\n",
       "      <td>C_ID_4e6213e9bc</td>\n",
       "      <td>88</td>\n",
       "      <td>N</td>\n",
       "      <td>0</td>\n",
       "      <td>A</td>\n",
       "      <td>80</td>\n",
       "      <td>M_ID_979ed661fc</td>\n",
       "      <td>-6</td>\n",
       "      <td>-0.720386</td>\n",
       "      <td>2017-08-09 22:04:29</td>\n",
       "      <td>1.0</td>\n",
       "      <td>16</td>\n",
       "      <td>37</td>\n",
       "    </tr>\n",
       "    <tr>\n",
       "      <th>3</th>\n",
       "      <td>Y</td>\n",
       "      <td>C_ID_4e6213e9bc</td>\n",
       "      <td>88</td>\n",
       "      <td>N</td>\n",
       "      <td>0</td>\n",
       "      <td>A</td>\n",
       "      <td>560</td>\n",
       "      <td>M_ID_e6d5ae8ea6</td>\n",
       "      <td>-5</td>\n",
       "      <td>-0.735352</td>\n",
       "      <td>2017-09-02 10:06:26</td>\n",
       "      <td>1.0</td>\n",
       "      <td>16</td>\n",
       "      <td>34</td>\n",
       "    </tr>\n",
       "    <tr>\n",
       "      <th>4</th>\n",
       "      <td>Y</td>\n",
       "      <td>C_ID_4e6213e9bc</td>\n",
       "      <td>88</td>\n",
       "      <td>N</td>\n",
       "      <td>0</td>\n",
       "      <td>A</td>\n",
       "      <td>80</td>\n",
       "      <td>M_ID_e020e9b302</td>\n",
       "      <td>-11</td>\n",
       "      <td>-0.722865</td>\n",
       "      <td>2017-03-10 01:14:19</td>\n",
       "      <td>1.0</td>\n",
       "      <td>16</td>\n",
       "      <td>37</td>\n",
       "    </tr>\n",
       "  </tbody>\n",
       "</table>\n",
       "</div>"
      ],
      "text/plain": [
       "  authorized_flag          card_id  city_id category_1  installments  \\\n",
       "0               Y  C_ID_4e6213e9bc       88          N             0   \n",
       "1               Y  C_ID_4e6213e9bc       88          N             0   \n",
       "2               Y  C_ID_4e6213e9bc       88          N             0   \n",
       "3               Y  C_ID_4e6213e9bc       88          N             0   \n",
       "4               Y  C_ID_4e6213e9bc       88          N             0   \n",
       "\n",
       "  category_3  merchant_category_id      merchant_id  month_lag  \\\n",
       "0          A                    80  M_ID_e020e9b302         -8   \n",
       "1          A                   367  M_ID_86ec983688         -7   \n",
       "2          A                    80  M_ID_979ed661fc         -6   \n",
       "3          A                   560  M_ID_e6d5ae8ea6         -5   \n",
       "4          A                    80  M_ID_e020e9b302        -11   \n",
       "\n",
       "   purchase_amount        purchase_date  category_2  state_id  subsector_id  \n",
       "0        -0.703331  2017-06-25 15:33:07         1.0        16            37  \n",
       "1        -0.733128  2017-07-15 12:10:45         1.0        16            16  \n",
       "2        -0.720386  2017-08-09 22:04:29         1.0        16            37  \n",
       "3        -0.735352  2017-09-02 10:06:26         1.0        16            34  \n",
       "4        -0.722865  2017-03-10 01:14:19         1.0        16            37  "
      ]
     },
     "execution_count": 2,
     "metadata": {},
     "output_type": "execute_result"
    }
   ],
   "source": [
    "hist_df = pd.read_csv(\"C:/Users/오원석/user_name/elo-merchant-category-recommendation/historical_transactions.csv\")\n",
    "hist_df.head()"
   ]
  },
  {
   "cell_type": "code",
   "execution_count": 3,
   "metadata": {},
   "outputs": [
    {
     "data": {
      "text/plain": [
       "407573054"
      ]
     },
     "execution_count": 3,
     "metadata": {},
     "output_type": "execute_result"
    }
   ],
   "source": [
    "hist_df.size"
   ]
  },
  {
   "cell_type": "code",
   "execution_count": 4,
   "metadata": {},
   "outputs": [
    {
     "name": "stdout",
     "output_type": "stream",
     "text": [
      "    authorized_flag          card_id  city_id category_1  installments  \\\n",
      "0                 Y  C_ID_4e6213e9bc       88          N             0   \n",
      "1                 Y  C_ID_4e6213e9bc       88          N             0   \n",
      "2                 Y  C_ID_4e6213e9bc       88          N             0   \n",
      "3                 Y  C_ID_4e6213e9bc       88          N             0   \n",
      "4                 Y  C_ID_4e6213e9bc       88          N             0   \n",
      "5                 Y  C_ID_4e6213e9bc      333          N             0   \n",
      "6                 Y  C_ID_4e6213e9bc       88          N             0   \n",
      "7                 Y  C_ID_4e6213e9bc        3          N             0   \n",
      "8                 Y  C_ID_4e6213e9bc       88          N             0   \n",
      "9                 Y  C_ID_4e6213e9bc       88          N             0   \n",
      "10                Y  C_ID_4e6213e9bc       88          N             0   \n",
      "11                Y  C_ID_4e6213e9bc       -1          N             0   \n",
      "12                Y  C_ID_4e6213e9bc       88          N             0   \n",
      "13                Y  C_ID_4e6213e9bc       88          N             0   \n",
      "14                Y  C_ID_4e6213e9bc       88          N             0   \n",
      "15                Y  C_ID_4e6213e9bc       88          N             0   \n",
      "16                Y  C_ID_4e6213e9bc       69          N             0   \n",
      "17                Y  C_ID_4e6213e9bc       88          N             0   \n",
      "18                Y  C_ID_4e6213e9bc      233          N             0   \n",
      "19                Y  C_ID_4e6213e9bc       88          N             0   \n",
      "20                Y  C_ID_4e6213e9bc       88          N             0   \n",
      "21                Y  C_ID_4e6213e9bc       88          N             0   \n",
      "22                Y  C_ID_4e6213e9bc       88          N             0   \n",
      "23                Y  C_ID_4e6213e9bc       88          N             0   \n",
      "24                Y  C_ID_4e6213e9bc        3          N             0   \n",
      "25                Y  C_ID_4e6213e9bc      333          N             0   \n",
      "26                Y  C_ID_4e6213e9bc       88          N             0   \n",
      "27                Y  C_ID_4e6213e9bc       88          N             0   \n",
      "28                Y  C_ID_4e6213e9bc       88          N             0   \n",
      "29                Y  C_ID_4e6213e9bc       88          N             0   \n",
      "..              ...              ...      ...        ...           ...   \n",
      "970               Y  C_ID_fc8e41b9cf      251          N             1   \n",
      "971               Y  C_ID_fc8e41b9cf      170          N             1   \n",
      "972               Y  C_ID_fc8e41b9cf      251          N             1   \n",
      "973               Y  C_ID_fc8e41b9cf      170          N             1   \n",
      "974               Y  C_ID_fc8e41b9cf      251          N             1   \n",
      "975               N  C_ID_fc8e41b9cf      170          N             1   \n",
      "976               Y  C_ID_fc8e41b9cf       69          N             1   \n",
      "977               Y  C_ID_fc8e41b9cf      251          N             1   \n",
      "978               Y  C_ID_fc8e41b9cf       69          N             1   \n",
      "979               Y  C_ID_fc8e41b9cf      251          N             4   \n",
      "980               Y  C_ID_fc8e41b9cf      170          N             1   \n",
      "981               Y  C_ID_fc8e41b9cf      251          N             2   \n",
      "982               Y  C_ID_fc8e41b9cf      251          N             1   \n",
      "983               Y  C_ID_fc8e41b9cf       69          N             1   \n",
      "984               Y  C_ID_fc8e41b9cf      170          N             1   \n",
      "985               Y  C_ID_fc8e41b9cf       69          N             1   \n",
      "986               Y  C_ID_fc8e41b9cf      251          N             1   \n",
      "987               Y  C_ID_fc8e41b9cf      251          N             1   \n",
      "988               Y  C_ID_fc8e41b9cf       69          N             1   \n",
      "989               Y  C_ID_fc8e41b9cf      170          N             1   \n",
      "990               Y  C_ID_fc8e41b9cf       69          N             1   \n",
      "991               Y  C_ID_fc8e41b9cf      170          N             1   \n",
      "992               Y  C_ID_fc8e41b9cf      251          N            -1   \n",
      "993               Y  C_ID_fc8e41b9cf       69          N             1   \n",
      "994               Y  C_ID_fc8e41b9cf      251          N             1   \n",
      "995               Y  C_ID_fc8e41b9cf      170          N             1   \n",
      "996               Y  C_ID_fc8e41b9cf       69          N             1   \n",
      "997               Y  C_ID_fc8e41b9cf       -1          Y            10   \n",
      "998               Y  C_ID_fc8e41b9cf      170          N             1   \n",
      "999               Y  C_ID_fc8e41b9cf      251          N             1   \n",
      "\n",
      "    category_3  merchant_category_id      merchant_id  month_lag  \\\n",
      "0            A                    80  M_ID_e020e9b302         -8   \n",
      "1            A                   367  M_ID_86ec983688         -7   \n",
      "2            A                    80  M_ID_979ed661fc         -6   \n",
      "3            A                   560  M_ID_e6d5ae8ea6         -5   \n",
      "4            A                    80  M_ID_e020e9b302        -11   \n",
      "5            A                    80  M_ID_50af771f8d          0   \n",
      "6            A                   278  M_ID_5e8220e564        -11   \n",
      "7            A                    80  M_ID_9d41786a50         -3   \n",
      "8            A                    80  M_ID_979ed661fc         -8   \n",
      "9            A                    80  M_ID_74ba14b5fc        -11   \n",
      "10           A                   683  M_ID_1449f22bfb         -9   \n",
      "11           A                   560  M_ID_7c5e93af2f          0   \n",
      "12           A                    80  M_ID_e020e9b302         -8   \n",
      "13           A                   130  M_ID_e8fb39882d         -7   \n",
      "14           A                    80  M_ID_97e86eae5f         -4   \n",
      "15           A                   560  M_ID_e6d5ae8ea6         -8   \n",
      "16           A                   879  M_ID_00a6ca8a8a          0   \n",
      "17           A                   278  M_ID_21e1552dab         -7   \n",
      "18           A                    80  M_ID_4524a562f3         -1   \n",
      "19           A                    80  M_ID_e020e9b302         -6   \n",
      "20           A                   278  M_ID_21e1552dab         -6   \n",
      "21           A                    80  M_ID_979ed661fc         -7   \n",
      "22           A                    80  M_ID_979ed661fc         -7   \n",
      "23           A                   278  M_ID_e020e9b302         -9   \n",
      "24           A                   511  M_ID_79db784180        -13   \n",
      "25           A                    80  M_ID_50af771f8d          0   \n",
      "26           A                   278  M_ID_e020e9b302        -10   \n",
      "27           A                    80  M_ID_979ed661fc         -8   \n",
      "28           A                   278  M_ID_21e1552dab        -11   \n",
      "29           A                    80  M_ID_dc7356f06d         -6   \n",
      "..         ...                   ...              ...        ...   \n",
      "970          B                   705  M_ID_52be14d4cd         -3   \n",
      "971          B                   705  M_ID_0b4c679b97          0   \n",
      "972          B                   560  M_ID_d02cdc38a4         -6   \n",
      "973          B                   705              NaN         -1   \n",
      "974          B                   818  M_ID_bab0ff4b00         -6   \n",
      "975          B                   307  M_ID_2e0430b435         -7   \n",
      "976          B                   879  M_ID_00a6ca8a8a         -7   \n",
      "977          B                   818  M_ID_965ce0e787         -2   \n",
      "978          B                   879  M_ID_00a6ca8a8a         -2   \n",
      "979          C                   367  M_ID_463ce2176b         -1   \n",
      "980          B                   367  M_ID_68e26f3cca         -7   \n",
      "981          C                    45  M_ID_0b8fcff1d6         -6   \n",
      "982          B                   278  M_ID_b78e671aa3         -7   \n",
      "983          B                   879  M_ID_00a6ca8a8a          0   \n",
      "984          B                   367  M_ID_68e26f3cca         -6   \n",
      "985          B                   879  M_ID_00a6ca8a8a         -6   \n",
      "986          B                   278  M_ID_b78e671aa3         -6   \n",
      "987          B                   307  M_ID_daa25cafc4         -4   \n",
      "988          B                   879  M_ID_00a6ca8a8a         -1   \n",
      "989          B                   705  M_ID_0b4c679b97         -7   \n",
      "990          B                   879  M_ID_00a6ca8a8a         -2   \n",
      "991          B                   705  M_ID_d1159a8e77         -1   \n",
      "992        NaN                   414  M_ID_d12eaa9bd7         -3   \n",
      "993          B                   879  M_ID_00a6ca8a8a         -2   \n",
      "994          B                    80  M_ID_95292f43df         -6   \n",
      "995          B                   842  M_ID_7cb3455b49         -7   \n",
      "996          B                   879  M_ID_00a6ca8a8a         -6   \n",
      "997          C                   706  M_ID_23ddadf852         -1   \n",
      "998          B                   307  M_ID_2e0430b435          0   \n",
      "999          B                   437  M_ID_5b83f4bf2d         -5   \n",
      "\n",
      "     purchase_amount        purchase_date  category_2  state_id  subsector_id  \n",
      "0          -0.703331  2017-06-25 15:33:07         1.0        16            37  \n",
      "1          -0.733128  2017-07-15 12:10:45         1.0        16            16  \n",
      "2          -0.720386  2017-08-09 22:04:29         1.0        16            37  \n",
      "3          -0.735352  2017-09-02 10:06:26         1.0        16            34  \n",
      "4          -0.722865  2017-03-10 01:14:19         1.0        16            37  \n",
      "5          -0.734887  2018-02-24 08:45:05         1.0         9            37  \n",
      "6          -0.716855  2017-03-21 00:10:51         1.0        16            37  \n",
      "7          -0.657049  2017-11-18 20:05:55         1.0        16            37  \n",
      "8          -0.737967  2017-06-01 22:02:56         1.0        16            37  \n",
      "9          -0.715352  2017-03-16 15:41:22         1.0        16            37  \n",
      "10         -0.734135  2017-05-09 12:42:07         1.0        16            34  \n",
      "11         -0.727929  2018-02-08 20:05:45         NaN        -1            34  \n",
      "12         -0.741649  2017-06-08 18:02:29         1.0        16            37  \n",
      "13         -0.727373  2017-07-14 12:59:38         1.0        16            41  \n",
      "14         -0.731881  2017-10-24 13:29:29         1.0        16            37  \n",
      "15         -0.738192  2017-06-14 07:40:48         1.0        16            34  \n",
      "16         -0.725871  2018-02-07 12:19:33         1.0         9            29  \n",
      "17         -0.734887  2017-07-07 13:03:27         1.0        16            37  \n",
      "18         -0.699725  2018-01-08 23:54:29         1.0         9            37  \n",
      "19         -0.745405  2017-08-11 17:53:00         1.0        16            37  \n",
      "20         -0.734887  2017-08-30 12:53:57         1.0        16            37  \n",
      "21         -0.737967  2017-07-01 21:27:23         1.0        16            37  \n",
      "22         -0.739545  2017-07-14 22:06:02         1.0        16            37  \n",
      "23         -0.726998  2017-05-06 12:29:50         1.0        16            37  \n",
      "24         -0.731881  2017-01-20 09:16:43         1.0        16             7  \n",
      "25         -0.735638  2018-02-26 14:54:38         1.0         9            37  \n",
      "26         -0.726472  2017-04-29 12:30:03         1.0        16            37  \n",
      "27         -0.726772  2017-06-23 21:43:17         1.0        16            37  \n",
      "28         -0.721363  2017-03-10 15:46:19         1.0        16            37  \n",
      "29         -0.692211  2017-08-05 19:10:32         1.0        16            37  \n",
      "..               ...                  ...         ...       ...           ...  \n",
      "970        -0.490916  2017-11-30 14:19:35         3.0         8            33  \n",
      "971        -0.351711  2018-02-16 09:57:49         3.0         8            33  \n",
      "972        -0.689026  2017-08-08 16:10:29         3.0         8            34  \n",
      "973        -0.672887  2018-01-09 12:28:19         3.0         8            33  \n",
      "974        -0.634209  2017-08-16 12:48:08         3.0         8            12  \n",
      "975        -0.671775  2017-07-22 17:52:54         NaN        -1            19  \n",
      "976        -0.689056  2017-07-21 20:33:11         1.0         9            29  \n",
      "977        -0.638717  2017-12-04 11:32:47         3.0         8            12  \n",
      "978        -0.519842  2017-12-13 12:34:46         1.0         9            29  \n",
      "979        -0.058543  2018-01-04 13:09:23         3.0         8            16  \n",
      "980        -0.692812  2017-07-23 14:47:45         3.0         8            16  \n",
      "981        -0.548558  2017-08-23 10:05:30         3.0         8            18  \n",
      "982        -0.536537  2017-07-16 15:42:39         3.0         8            37  \n",
      "983        -0.731881  2018-02-09 13:32:42         1.0         9            29  \n",
      "984        -0.719860  2017-08-20 17:30:32         3.0         8            16  \n",
      "985        -0.548558  2017-08-12 18:32:17         1.0         9            29  \n",
      "986        -0.683691  2017-08-21 12:28:15         3.0         8            37  \n",
      "987        -0.596643  2017-10-11 13:41:14         3.0         8            19  \n",
      "988        -0.688304  2018-01-24 18:30:31         1.0         9            29  \n",
      "989        -0.677786  2017-07-19 18:03:33         3.0         8            33  \n",
      "990        -0.689056  2017-12-05 21:09:07         1.0         9            29  \n",
      "991        -0.468917  2018-01-10 13:29:33         3.0         8            33  \n",
      "992         0.421809  2017-11-27 00:00:00         3.0         8            29  \n",
      "993        -0.668770  2017-12-01 21:01:30         1.0         9            29  \n",
      "994        -0.586124  2017-08-07 20:40:37         3.0         8            37  \n",
      "995        -0.521510  2017-07-23 13:21:54         3.0         8            37  \n",
      "996        -0.689056  2017-08-31 21:58:30         1.0         9            29  \n",
      "997         0.786548  2018-01-23 16:15:49         NaN        -1            26  \n",
      "998        -0.521510  2018-02-16 10:27:31         NaN        -1            19  \n",
      "999         1.192925  2017-09-12 14:09:31         3.0         8            15  \n",
      "\n",
      "[1000 rows x 14 columns]\n"
     ]
    }
   ],
   "source": [
    "history_reader = pd.read_csv(\"C:/Users/오원석/user_name/elo-merchant-category-recommendation/historical_transactions.csv\", chunksize = 1000)\n",
    "type(history_reader)\n",
    "\n",
    "hist_chunk = None\n",
    "for chunk in history_reader:\n",
    "    hist_chunk = chunk\n",
    "    print(hist_chunk)\n",
    "    break"
   ]
  },
  {
   "cell_type": "code",
   "execution_count": 5,
   "metadata": {},
   "outputs": [
    {
     "data": {
      "text/plain": [
       "pandas.core.frame.DataFrame"
      ]
     },
     "execution_count": 5,
     "metadata": {},
     "output_type": "execute_result"
    }
   ],
   "source": [
    "type(hist_chunk)"
   ]
  },
  {
   "cell_type": "code",
   "execution_count": 6,
   "metadata": {},
   "outputs": [
    {
     "name": "stdout",
     "output_type": "stream",
     "text": [
      "['authorized_flag', 'card_id', 'city_id', 'category_1', 'installments', 'category_3', 'merchant_category_id', 'merchant_id', 'month_lag', 'purchase_amount', 'purchase_date', 'category_2', 'state_id', 'subsector_id']\n"
     ]
    }
   ],
   "source": [
    "history_columns = list(hist_chunk.columns)\n",
    "print(history_columns)"
   ]
  },
  {
   "cell_type": "code",
   "execution_count": 7,
   "metadata": {},
   "outputs": [
    {
     "data": {
      "text/plain": [
       "authorized_flag          object\n",
       "card_id                  object\n",
       "city_id                   int64\n",
       "category_1               object\n",
       "installments              int64\n",
       "category_3               object\n",
       "merchant_category_id      int64\n",
       "merchant_id              object\n",
       "month_lag                 int64\n",
       "purchase_amount         float64\n",
       "purchase_date            object\n",
       "category_2              float64\n",
       "state_id                  int64\n",
       "subsector_id              int64\n",
       "dtype: object"
      ]
     },
     "execution_count": 7,
     "metadata": {},
     "output_type": "execute_result"
    }
   ],
   "source": [
    "hist_chunk.dtypes"
   ]
  },
  {
   "cell_type": "code",
   "execution_count": 8,
   "metadata": {},
   "outputs": [],
   "source": [
    "def reduce_mem_usage(df, verbose=True):\n",
    "    numerics = ['int16', 'int32', 'int64', 'float16', 'float32', 'float64']\n",
    "    start_mem = df.memory_usage().sum() / 1024**2    \n",
    "    for col in df.columns:\n",
    "        col_type = df[col].dtypes\n",
    "        if df[col].dtypes == 'object':\n",
    "            df[col] = df[col].astype('category')\n",
    "        if col_type in numerics:\n",
    "            c_min = df[col].min()\n",
    "            c_max = df[col].max()\n",
    "            if str(col_type)[:3] == 'int':\n",
    "                if c_min > np.iinfo(np.int8).min and c_max < np.iinfo(np.int8).max:\n",
    "                    df[col] = df[col].astype(np.int8)\n",
    "                elif c_min > np.iinfo(np.int16).min and c_max < np.iinfo(np.int16).max:\n",
    "                    df[col] = df[col].astype(np.int16)\n",
    "                elif c_min > np.iinfo(np.int32).min and c_max < np.iinfo(np.int32).max:\n",
    "                    df[col] = df[col].astype(np.int32)\n",
    "                elif c_min > np.iinfo(np.int64).min and c_max < np.iinfo(np.int64).max:\n",
    "                    df[col] = df[col].astype(np.int64)  \n",
    "            else:\n",
    "                if c_min > np.finfo(np.float16).min and c_max < np.finfo(np.float16).max:\n",
    "                    df[col] = df[col].astype(np.float16)\n",
    "                elif c_min > np.finfo(np.float32).min and c_max < np.finfo(np.float32).max:\n",
    "                    df[col] = df[col].astype(np.float32)\n",
    "                else:\n",
    "                    df[col] = df[col].astype(np.float64)    \n",
    "    end_mem = df.memory_usage().sum() / 1024**2\n",
    "    if verbose: print('Mem. usage decreased to {:5.2f} Mb ({:.1f}% reduction)'.format(end_mem, 100 * (start_mem - end_mem) / start_mem))\n",
    "    return df"
   ]
  },
  {
   "cell_type": "code",
   "execution_count": 10,
   "metadata": {},
   "outputs": [
    {
     "name": "stdout",
     "output_type": "stream",
     "text": [
      "Mem. usage decreased to 1622.97 Mb (0.0% reduction)\n"
     ]
    },
    {
     "data": {
      "text/plain": [
       "20"
      ]
     },
     "execution_count": 10,
     "metadata": {},
     "output_type": "execute_result"
    }
   ],
   "source": [
    "import gc\n",
    "\n",
    "hist_trans = reduce_mem_usage(hist_df)\n",
    "gc.collect()"
   ]
  },
  {
   "cell_type": "code",
   "execution_count": 11,
   "metadata": {},
   "outputs": [
    {
     "data": {
      "text/plain": [
       "authorized_flag         category\n",
       "card_id                 category\n",
       "city_id                    int16\n",
       "category_1              category\n",
       "installments               int16\n",
       "category_3              category\n",
       "merchant_category_id       int16\n",
       "merchant_id             category\n",
       "month_lag                   int8\n",
       "purchase_amount          float32\n",
       "purchase_date           category\n",
       "category_2               float16\n",
       "state_id                    int8\n",
       "subsector_id                int8\n",
       "dtype: object"
      ]
     },
     "execution_count": 11,
     "metadata": {},
     "output_type": "execute_result"
    }
   ],
   "source": [
    "hist_trans.dtypes"
   ]
  },
  {
   "cell_type": "code",
   "execution_count": 12,
   "metadata": {},
   "outputs": [
    {
     "data": {
      "text/html": [
       "<div>\n",
       "<style scoped>\n",
       "    .dataframe tbody tr th:only-of-type {\n",
       "        vertical-align: middle;\n",
       "    }\n",
       "\n",
       "    .dataframe tbody tr th {\n",
       "        vertical-align: top;\n",
       "    }\n",
       "\n",
       "    .dataframe thead th {\n",
       "        text-align: right;\n",
       "    }\n",
       "</style>\n",
       "<table border=\"1\" class=\"dataframe\">\n",
       "  <thead>\n",
       "    <tr style=\"text-align: right;\">\n",
       "      <th></th>\n",
       "      <th>authorized_flag</th>\n",
       "      <th>card_id</th>\n",
       "      <th>city_id</th>\n",
       "      <th>category_1</th>\n",
       "      <th>installments</th>\n",
       "      <th>category_3</th>\n",
       "      <th>merchant_category_id</th>\n",
       "      <th>merchant_id</th>\n",
       "      <th>month_lag</th>\n",
       "      <th>purchase_amount</th>\n",
       "      <th>purchase_date</th>\n",
       "      <th>category_2</th>\n",
       "      <th>state_id</th>\n",
       "      <th>subsector_id</th>\n",
       "    </tr>\n",
       "  </thead>\n",
       "  <tbody>\n",
       "    <tr>\n",
       "      <th>0</th>\n",
       "      <td>Y</td>\n",
       "      <td>C_ID_4e6213e9bc</td>\n",
       "      <td>88</td>\n",
       "      <td>N</td>\n",
       "      <td>0</td>\n",
       "      <td>A</td>\n",
       "      <td>80</td>\n",
       "      <td>M_ID_e020e9b302</td>\n",
       "      <td>-8</td>\n",
       "      <td>-0.703331</td>\n",
       "      <td>2017-06-25 15:33:07</td>\n",
       "      <td>1.0</td>\n",
       "      <td>16</td>\n",
       "      <td>37</td>\n",
       "    </tr>\n",
       "    <tr>\n",
       "      <th>1</th>\n",
       "      <td>Y</td>\n",
       "      <td>C_ID_4e6213e9bc</td>\n",
       "      <td>88</td>\n",
       "      <td>N</td>\n",
       "      <td>0</td>\n",
       "      <td>A</td>\n",
       "      <td>367</td>\n",
       "      <td>M_ID_86ec983688</td>\n",
       "      <td>-7</td>\n",
       "      <td>-0.733128</td>\n",
       "      <td>2017-07-15 12:10:45</td>\n",
       "      <td>1.0</td>\n",
       "      <td>16</td>\n",
       "      <td>16</td>\n",
       "    </tr>\n",
       "    <tr>\n",
       "      <th>2</th>\n",
       "      <td>Y</td>\n",
       "      <td>C_ID_4e6213e9bc</td>\n",
       "      <td>88</td>\n",
       "      <td>N</td>\n",
       "      <td>0</td>\n",
       "      <td>A</td>\n",
       "      <td>80</td>\n",
       "      <td>M_ID_979ed661fc</td>\n",
       "      <td>-6</td>\n",
       "      <td>-0.720386</td>\n",
       "      <td>2017-08-09 22:04:29</td>\n",
       "      <td>1.0</td>\n",
       "      <td>16</td>\n",
       "      <td>37</td>\n",
       "    </tr>\n",
       "    <tr>\n",
       "      <th>3</th>\n",
       "      <td>Y</td>\n",
       "      <td>C_ID_4e6213e9bc</td>\n",
       "      <td>88</td>\n",
       "      <td>N</td>\n",
       "      <td>0</td>\n",
       "      <td>A</td>\n",
       "      <td>560</td>\n",
       "      <td>M_ID_e6d5ae8ea6</td>\n",
       "      <td>-5</td>\n",
       "      <td>-0.735352</td>\n",
       "      <td>2017-09-02 10:06:26</td>\n",
       "      <td>1.0</td>\n",
       "      <td>16</td>\n",
       "      <td>34</td>\n",
       "    </tr>\n",
       "    <tr>\n",
       "      <th>4</th>\n",
       "      <td>Y</td>\n",
       "      <td>C_ID_4e6213e9bc</td>\n",
       "      <td>88</td>\n",
       "      <td>N</td>\n",
       "      <td>0</td>\n",
       "      <td>A</td>\n",
       "      <td>80</td>\n",
       "      <td>M_ID_e020e9b302</td>\n",
       "      <td>-11</td>\n",
       "      <td>-0.722865</td>\n",
       "      <td>2017-03-10 01:14:19</td>\n",
       "      <td>1.0</td>\n",
       "      <td>16</td>\n",
       "      <td>37</td>\n",
       "    </tr>\n",
       "  </tbody>\n",
       "</table>\n",
       "</div>"
      ],
      "text/plain": [
       "  authorized_flag          card_id  city_id category_1  installments  \\\n",
       "0               Y  C_ID_4e6213e9bc       88          N             0   \n",
       "1               Y  C_ID_4e6213e9bc       88          N             0   \n",
       "2               Y  C_ID_4e6213e9bc       88          N             0   \n",
       "3               Y  C_ID_4e6213e9bc       88          N             0   \n",
       "4               Y  C_ID_4e6213e9bc       88          N             0   \n",
       "\n",
       "  category_3  merchant_category_id      merchant_id  month_lag  \\\n",
       "0          A                    80  M_ID_e020e9b302         -8   \n",
       "1          A                   367  M_ID_86ec983688         -7   \n",
       "2          A                    80  M_ID_979ed661fc         -6   \n",
       "3          A                   560  M_ID_e6d5ae8ea6         -5   \n",
       "4          A                    80  M_ID_e020e9b302        -11   \n",
       "\n",
       "   purchase_amount        purchase_date  category_2  state_id  subsector_id  \n",
       "0        -0.703331  2017-06-25 15:33:07         1.0        16            37  \n",
       "1        -0.733128  2017-07-15 12:10:45         1.0        16            16  \n",
       "2        -0.720386  2017-08-09 22:04:29         1.0        16            37  \n",
       "3        -0.735352  2017-09-02 10:06:26         1.0        16            34  \n",
       "4        -0.722865  2017-03-10 01:14:19         1.0        16            37  "
      ]
     },
     "execution_count": 12,
     "metadata": {},
     "output_type": "execute_result"
    }
   ],
   "source": [
    "hist_trans.head()"
   ]
  },
  {
   "cell_type": "code",
   "execution_count": 13,
   "metadata": {},
   "outputs": [
    {
     "data": {
      "text/plain": [
       "Index(['authorized_flag', 'card_id', 'city_id', 'category_1', 'installments',\n",
       "       'category_3', 'merchant_category_id', 'merchant_id', 'month_lag',\n",
       "       'purchase_amount', 'purchase_date', 'category_2', 'state_id',\n",
       "       'subsector_id'],\n",
       "      dtype='object')"
      ]
     },
     "execution_count": 13,
     "metadata": {},
     "output_type": "execute_result"
    }
   ],
   "source": [
    "hist_trans.columns"
   ]
  },
  {
   "cell_type": "code",
   "execution_count": 14,
   "metadata": {},
   "outputs": [
    {
     "data": {
      "image/png": "[encoded data removed]",
      "text/plain": [
       "<Figure size 432x432 with 1 Axes>"
      ]
     },
     "metadata": {
      "needs_background": "light"
     },
     "output_type": "display_data"
    }
   ],
   "source": [
    "temp = hist_trans[\"authorized_flag\"].value_counts()\n",
    "df = pd.DataFrame({'labels':temp.index,\n",
    "                'values':temp.values})\n",
    "plt.figure(figsize=(6,6))\n",
    "plt.title('Y Or N')\n",
    "sns.barplot(x='labels', y='values', data=df)\n",
    "plt.show()"
   ]
  },
  {
   "cell_type": "code",
   "execution_count": 15,
   "metadata": {},
   "outputs": [
    {
     "data": {
      "image/png": "[encoded data removed]",
      "text/plain": [
       "<Figure size 432x432 with 1 Axes>"
      ]
     },
     "metadata": {
      "needs_background": "light"
     },
     "output_type": "display_data"
    }
   ],
   "source": [
    "temp = hist_trans[\"category_1\"].value_counts()\n",
    "df = pd.DataFrame({'labels':temp.index,\n",
    "                'values':temp.values})\n",
    "plt.figure(figsize=(6,6))\n",
    "plt.title('Y Or N')\n",
    "sns.barplot(x='labels', y='values', data=df)\n",
    "plt.show()"
   ]
  },
  {
   "cell_type": "code",
   "execution_count": 16,
   "metadata": {},
   "outputs": [
    {
     "data": {
      "image/png": "[encoded data removed]",
      "text/plain": [
       "<Figure size 432x432 with 1 Axes>"
      ]
     },
     "metadata": {
      "needs_background": "light"
     },
     "output_type": "display_data"
    }
   ],
   "source": [
    "temp = hist_trans[\"category_3\"].value_counts()\n",
    "df = pd.DataFrame({'labels':temp.index,\n",
    "                'values':temp.values})\n",
    "plt.figure(figsize=(6,6))\n",
    "plt.title('A Or B Or C')\n",
    "sns.barplot(x='labels', y='values', data=df)\n",
    "plt.show()"
   ]
  },
  {
   "cell_type": "code",
   "execution_count": 17,
   "metadata": {},
   "outputs": [
    {
     "data": {
      "image/png": "[encoded data removed]",
      "text/plain": [
       "<Figure size 432x432 with 1 Axes>"
      ]
     },
     "metadata": {
      "needs_background": "light"
     },
     "output_type": "display_data"
    }
   ],
   "source": [
    "temp = hist_trans[\"category_2\"].value_counts()\n",
    "df = pd.DataFrame({'labels':temp.index,\n",
    "                'values':temp.values})\n",
    "plt.figure(figsize=(6,6))\n",
    "plt.title('1~ 5')\n",
    "sns.barplot(x='labels', y='values', data=df)\n",
    "plt.show()"
   ]
  },
  {
   "cell_type": "code",
   "execution_count": 18,
   "metadata": {},
   "outputs": [
    {
     "data": {
      "image/png": "[encoded data removed]",
      "text/plain": [
       "<Figure size 432x432 with 1 Axes>"
      ]
     },
     "metadata": {
      "needs_background": "light"
     },
     "output_type": "display_data"
    }
   ],
   "source": [
    "temp = hist_trans[\"month_lag\"].value_counts()\n",
    "df = pd.DataFrame({'labels':temp.index,\n",
    "                'values':temp.values})\n",
    "plt.figure(figsize=(6,6))\n",
    "plt.title('1~ 5')\n",
    "sns.barplot(x='labels', y='values', data=df)\n",
    "plt.show()"
   ]
  },
  {
   "cell_type": "code",
   "execution_count": 19,
   "metadata": {},
   "outputs": [
    {
     "data": {
      "text/plain": [
       "<matplotlib.axes._subplots.AxesSubplot at 0x1a2013d07b8>"
      ]
     },
     "execution_count": 19,
     "metadata": {},
     "output_type": "execute_result"
    },
    {
     "data": {
      "image/png": "[encoded data removed]",
      "text/plain": [
       "<Figure size 1008x432 with 1 Axes>"
      ]
     },
     "metadata": {
      "needs_background": "light"
     },
     "output_type": "display_data"
    }
   ],
   "source": [
    "fg, ax = plt.subplots(figsize=(14,6))\n",
    "sns.distplot(hist_trans['purchase_amount'])"
   ]
  },
  {
   "cell_type": "code",
   "execution_count": 20,
   "metadata": {},
   "outputs": [
    {
     "data": {
      "text/plain": [
       "<matplotlib.axes._subplots.AxesSubplot at 0x1a201487908>"
      ]
     },
     "execution_count": 20,
     "metadata": {},
     "output_type": "execute_result"
    },
    {
     "data": {
      "image/png": "[encoded data removed]",
      "text/plain": [
       "<Figure size 1008x432 with 1 Axes>"
      ]
     },
     "metadata": {
      "needs_background": "light"
     },
     "output_type": "display_data"
    }
   ],
   "source": [
    "fg, ax = plt.subplots(figsize=(14,6))\n",
    "sns.distplot(hist_trans['installments'])"
   ]
  },
  {
   "cell_type": "code",
   "execution_count": 21,
   "metadata": {},
   "outputs": [
    {
     "data": {
      "image/png": "[encoded data removed]",
      "text/plain": [
       "<Figure size 1440x720 with 1 Axes>"
      ]
     },
     "metadata": {
      "needs_background": "light"
     },
     "output_type": "display_data"
    }
   ],
   "source": [
    "temp = hist_trans[\"city_id\"].value_counts()\n",
    "df = pd.DataFrame({'labels':temp.index,\n",
    "                'values':temp.values})\n",
    "plt.figure(figsize=(20,10))\n",
    "plt.title('city id')\n",
    "sns.barplot(x='labels', y='values', data=df)\n",
    "plt.show()"
   ]
  },
  {
   "cell_type": "code",
   "execution_count": 23,
   "metadata": {},
   "outputs": [],
   "source": [
    "hist_trans['authorized_flag']=hist_trans['authorized_flag'].map({'Y':1, 'N':0})\n",
    "hist_trans['category_1']=hist_trans['category_1'].map({'Y':1, 'N':0})"
   ]
  },
  {
   "cell_type": "code",
   "execution_count": 24,
   "metadata": {},
   "outputs": [
    {
     "data": {
      "text/html": [
       "<div>\n",
       "<style scoped>\n",
       "    .dataframe tbody tr th:only-of-type {\n",
       "        vertical-align: middle;\n",
       "    }\n",
       "\n",
       "    .dataframe tbody tr th {\n",
       "        vertical-align: top;\n",
       "    }\n",
       "\n",
       "    .dataframe thead th {\n",
       "        text-align: right;\n",
       "    }\n",
       "</style>\n",
       "<table border=\"1\" class=\"dataframe\">\n",
       "  <thead>\n",
       "    <tr style=\"text-align: right;\">\n",
       "      <th></th>\n",
       "      <th>authorized_flag</th>\n",
       "      <th>card_id</th>\n",
       "      <th>city_id</th>\n",
       "      <th>category_1</th>\n",
       "      <th>installments</th>\n",
       "      <th>category_3</th>\n",
       "      <th>merchant_category_id</th>\n",
       "      <th>merchant_id</th>\n",
       "      <th>month_lag</th>\n",
       "      <th>purchase_amount</th>\n",
       "      <th>purchase_date</th>\n",
       "      <th>category_2</th>\n",
       "      <th>state_id</th>\n",
       "      <th>subsector_id</th>\n",
       "    </tr>\n",
       "  </thead>\n",
       "  <tbody>\n",
       "    <tr>\n",
       "      <th>0</th>\n",
       "      <td>1</td>\n",
       "      <td>C_ID_4e6213e9bc</td>\n",
       "      <td>88</td>\n",
       "      <td>0</td>\n",
       "      <td>0</td>\n",
       "      <td>A</td>\n",
       "      <td>80</td>\n",
       "      <td>M_ID_e020e9b302</td>\n",
       "      <td>-8</td>\n",
       "      <td>-0.703331</td>\n",
       "      <td>2017-06-25 15:33:07</td>\n",
       "      <td>1.0</td>\n",
       "      <td>16</td>\n",
       "      <td>37</td>\n",
       "    </tr>\n",
       "    <tr>\n",
       "      <th>1</th>\n",
       "      <td>1</td>\n",
       "      <td>C_ID_4e6213e9bc</td>\n",
       "      <td>88</td>\n",
       "      <td>0</td>\n",
       "      <td>0</td>\n",
       "      <td>A</td>\n",
       "      <td>367</td>\n",
       "      <td>M_ID_86ec983688</td>\n",
       "      <td>-7</td>\n",
       "      <td>-0.733128</td>\n",
       "      <td>2017-07-15 12:10:45</td>\n",
       "      <td>1.0</td>\n",
       "      <td>16</td>\n",
       "      <td>16</td>\n",
       "    </tr>\n",
       "    <tr>\n",
       "      <th>2</th>\n",
       "      <td>1</td>\n",
       "      <td>C_ID_4e6213e9bc</td>\n",
       "      <td>88</td>\n",
       "      <td>0</td>\n",
       "      <td>0</td>\n",
       "      <td>A</td>\n",
       "      <td>80</td>\n",
       "      <td>M_ID_979ed661fc</td>\n",
       "      <td>-6</td>\n",
       "      <td>-0.720386</td>\n",
       "      <td>2017-08-09 22:04:29</td>\n",
       "      <td>1.0</td>\n",
       "      <td>16</td>\n",
       "      <td>37</td>\n",
       "    </tr>\n",
       "    <tr>\n",
       "      <th>3</th>\n",
       "      <td>1</td>\n",
       "      <td>C_ID_4e6213e9bc</td>\n",
       "      <td>88</td>\n",
       "      <td>0</td>\n",
       "      <td>0</td>\n",
       "      <td>A</td>\n",
       "      <td>560</td>\n",
       "      <td>M_ID_e6d5ae8ea6</td>\n",
       "      <td>-5</td>\n",
       "      <td>-0.735352</td>\n",
       "      <td>2017-09-02 10:06:26</td>\n",
       "      <td>1.0</td>\n",
       "      <td>16</td>\n",
       "      <td>34</td>\n",
       "    </tr>\n",
       "    <tr>\n",
       "      <th>4</th>\n",
       "      <td>1</td>\n",
       "      <td>C_ID_4e6213e9bc</td>\n",
       "      <td>88</td>\n",
       "      <td>0</td>\n",
       "      <td>0</td>\n",
       "      <td>A</td>\n",
       "      <td>80</td>\n",
       "      <td>M_ID_e020e9b302</td>\n",
       "      <td>-11</td>\n",
       "      <td>-0.722865</td>\n",
       "      <td>2017-03-10 01:14:19</td>\n",
       "      <td>1.0</td>\n",
       "      <td>16</td>\n",
       "      <td>37</td>\n",
       "    </tr>\n",
       "  </tbody>\n",
       "</table>\n",
       "</div>"
      ],
      "text/plain": [
       "   authorized_flag          card_id  city_id  category_1  installments  \\\n",
       "0                1  C_ID_4e6213e9bc       88           0             0   \n",
       "1                1  C_ID_4e6213e9bc       88           0             0   \n",
       "2                1  C_ID_4e6213e9bc       88           0             0   \n",
       "3                1  C_ID_4e6213e9bc       88           0             0   \n",
       "4                1  C_ID_4e6213e9bc       88           0             0   \n",
       "\n",
       "  category_3  merchant_category_id      merchant_id  month_lag  \\\n",
       "0          A                    80  M_ID_e020e9b302         -8   \n",
       "1          A                   367  M_ID_86ec983688         -7   \n",
       "2          A                    80  M_ID_979ed661fc         -6   \n",
       "3          A                   560  M_ID_e6d5ae8ea6         -5   \n",
       "4          A                    80  M_ID_e020e9b302        -11   \n",
       "\n",
       "   purchase_amount        purchase_date  category_2  state_id  subsector_id  \n",
       "0        -0.703331  2017-06-25 15:33:07         1.0        16            37  \n",
       "1        -0.733128  2017-07-15 12:10:45         1.0        16            16  \n",
       "2        -0.720386  2017-08-09 22:04:29         1.0        16            37  \n",
       "3        -0.735352  2017-09-02 10:06:26         1.0        16            34  \n",
       "4        -0.722865  2017-03-10 01:14:19         1.0        16            37  "
      ]
     },
     "execution_count": 24,
     "metadata": {},
     "output_type": "execute_result"
    }
   ],
   "source": [
    "hist_trans.head()"
   ]
  },
  {
   "cell_type": "code",
   "execution_count": 25,
   "metadata": {},
   "outputs": [
    {
     "data": {
      "text/html": [
       "<div>\n",
       "<style scoped>\n",
       "    .dataframe tbody tr th:only-of-type {\n",
       "        vertical-align: middle;\n",
       "    }\n",
       "\n",
       "    .dataframe tbody tr th {\n",
       "        vertical-align: top;\n",
       "    }\n",
       "\n",
       "    .dataframe thead th {\n",
       "        text-align: right;\n",
       "    }\n",
       "</style>\n",
       "<table border=\"1\" class=\"dataframe\">\n",
       "  <thead>\n",
       "    <tr style=\"text-align: right;\">\n",
       "      <th></th>\n",
       "      <th>Total</th>\n",
       "      <th>Percent</th>\n",
       "    </tr>\n",
       "  </thead>\n",
       "  <tbody>\n",
       "    <tr>\n",
       "      <th>category_2</th>\n",
       "      <td>2652864</td>\n",
       "      <td>9.112500</td>\n",
       "    </tr>\n",
       "    <tr>\n",
       "      <th>category_3</th>\n",
       "      <td>178159</td>\n",
       "      <td>0.611970</td>\n",
       "    </tr>\n",
       "    <tr>\n",
       "      <th>merchant_id</th>\n",
       "      <td>138481</td>\n",
       "      <td>0.475678</td>\n",
       "    </tr>\n",
       "    <tr>\n",
       "      <th>subsector_id</th>\n",
       "      <td>0</td>\n",
       "      <td>0.000000</td>\n",
       "    </tr>\n",
       "    <tr>\n",
       "      <th>state_id</th>\n",
       "      <td>0</td>\n",
       "      <td>0.000000</td>\n",
       "    </tr>\n",
       "    <tr>\n",
       "      <th>purchase_date</th>\n",
       "      <td>0</td>\n",
       "      <td>0.000000</td>\n",
       "    </tr>\n",
       "    <tr>\n",
       "      <th>purchase_amount</th>\n",
       "      <td>0</td>\n",
       "      <td>0.000000</td>\n",
       "    </tr>\n",
       "    <tr>\n",
       "      <th>month_lag</th>\n",
       "      <td>0</td>\n",
       "      <td>0.000000</td>\n",
       "    </tr>\n",
       "    <tr>\n",
       "      <th>merchant_category_id</th>\n",
       "      <td>0</td>\n",
       "      <td>0.000000</td>\n",
       "    </tr>\n",
       "    <tr>\n",
       "      <th>installments</th>\n",
       "      <td>0</td>\n",
       "      <td>0.000000</td>\n",
       "    </tr>\n",
       "    <tr>\n",
       "      <th>category_1</th>\n",
       "      <td>0</td>\n",
       "      <td>0.000000</td>\n",
       "    </tr>\n",
       "    <tr>\n",
       "      <th>city_id</th>\n",
       "      <td>0</td>\n",
       "      <td>0.000000</td>\n",
       "    </tr>\n",
       "    <tr>\n",
       "      <th>card_id</th>\n",
       "      <td>0</td>\n",
       "      <td>0.000000</td>\n",
       "    </tr>\n",
       "    <tr>\n",
       "      <th>authorized_flag</th>\n",
       "      <td>0</td>\n",
       "      <td>0.000000</td>\n",
       "    </tr>\n",
       "  </tbody>\n",
       "</table>\n",
       "</div>"
      ],
      "text/plain": [
       "                        Total   Percent\n",
       "category_2            2652864  9.112500\n",
       "category_3             178159  0.611970\n",
       "merchant_id            138481  0.475678\n",
       "subsector_id                0  0.000000\n",
       "state_id                    0  0.000000\n",
       "purchase_date               0  0.000000\n",
       "purchase_amount             0  0.000000\n",
       "month_lag                   0  0.000000\n",
       "merchant_category_id        0  0.000000\n",
       "installments                0  0.000000\n",
       "category_1                  0  0.000000\n",
       "city_id                     0  0.000000\n",
       "card_id                     0  0.000000\n",
       "authorized_flag             0  0.000000"
      ]
     },
     "execution_count": 25,
     "metadata": {},
     "output_type": "execute_result"
    }
   ],
   "source": [
    "total = hist_trans.isnull().sum().sort_values(ascending = False)\n",
    "percent = (hist_trans.isnull().sum()/hist_trans.isnull().count()*100).sort_values(ascending=False)\n",
    "missing_data = pd.concat([total, percent], axis=1, keys=['Total','Percent'])\n",
    "missing_data.head(20)"
   ]
  },
  {
   "cell_type": "code",
   "execution_count": 27,
   "metadata": {},
   "outputs": [
    {
     "name": "stderr",
     "output_type": "stream",
     "text": [
      "C:\\anaconda_c\\lib\\site-packages\\numpy\\core\\fromnumeric.py:2389: FutureWarning: Method .ptp is deprecated and will be removed in a future version. Use numpy.ptp instead.\n",
      "  return ptp(axis=axis, out=out, **kwargs)\n"
     ]
    }
   ],
   "source": [
    "def aggregate_historical_transactions(history):\n",
    "   \n",
    "    history.loc[:, 'purchase_date'] = pd.DatetimeIndex(history['purchase_date']).\\\n",
    "                                      astype(np.int64) * 1e-9\n",
    "   \n",
    "    agg_func = {\n",
    "        'authorized_flag': ['sum', 'mean'],\n",
    "        'merchant_id': ['nunique'],\n",
    "        'city_id': ['nunique'],\n",
    "        'purchase_amount': ['sum', 'median', 'max', 'min', 'std'],\n",
    "        'installments': ['sum', 'median', 'max', 'min', 'std'],\n",
    "        'purchase_date': [np.ptp],\n",
    "        'month_lag': ['min', 'max']\n",
    "        }\n",
    "    agg_history = history.groupby(['card_id']).agg(agg_func)\n",
    "    agg_history.columns = ['hist_' + '_'.join(col).strip()\n",
    "                           for col in agg_history.columns.values]\n",
    "    agg_history.reset_index(inplace=True)\n",
    "   \n",
    "    df = (history.groupby('card_id')\n",
    "          .size()\n",
    "          .reset_index(name='hist_transactions_count'))\n",
    "   \n",
    "    agg_history = pd.merge(df, agg_history, on='card_id', how='left')\n",
    "   \n",
    "    return agg_history\n",
    "\n",
    "history = aggregate_historical_transactions(hist_trans)\n",
    "del hist_trans"
   ]
  },
  {
   "cell_type": "code",
   "execution_count": 28,
   "metadata": {},
   "outputs": [
    {
     "data": {
      "text/plain": [
       "63878"
      ]
     },
     "execution_count": 28,
     "metadata": {},
     "output_type": "execute_result"
    }
   ],
   "source": [
    "gc.collect()"
   ]
  },
  {
   "cell_type": "code",
   "execution_count": 30,
   "metadata": {},
   "outputs": [],
   "source": [
    "train=pd.read_csv(\"C:/Users/오원석/user_name/elo-merchant-category-recommendation/train.csv\")"
   ]
  },
  {
   "cell_type": "code",
   "execution_count": 31,
   "metadata": {},
   "outputs": [],
   "source": [
    "train = pd.merge(train, history, on='card_id', how='left')"
   ]
  },
  {
   "cell_type": "code",
   "execution_count": 32,
   "metadata": {},
   "outputs": [
    {
     "data": {
      "text/html": [
       "<div>\n",
       "<style scoped>\n",
       "    .dataframe tbody tr th:only-of-type {\n",
       "        vertical-align: middle;\n",
       "    }\n",
       "\n",
       "    .dataframe tbody tr th {\n",
       "        vertical-align: top;\n",
       "    }\n",
       "\n",
       "    .dataframe thead th {\n",
       "        text-align: right;\n",
       "    }\n",
       "</style>\n",
       "<table border=\"1\" class=\"dataframe\">\n",
       "  <thead>\n",
       "    <tr style=\"text-align: right;\">\n",
       "      <th></th>\n",
       "      <th>first_active_month</th>\n",
       "      <th>card_id</th>\n",
       "      <th>feature_1</th>\n",
       "      <th>feature_2</th>\n",
       "      <th>feature_3</th>\n",
       "      <th>target</th>\n",
       "      <th>hist_transactions_count</th>\n",
       "      <th>hist_authorized_flag_sum</th>\n",
       "      <th>hist_authorized_flag_mean</th>\n",
       "      <th>hist_merchant_id_nunique</th>\n",
       "      <th>...</th>\n",
       "      <th>hist_purchase_amount_min</th>\n",
       "      <th>hist_purchase_amount_std</th>\n",
       "      <th>hist_installments_sum</th>\n",
       "      <th>hist_installments_median</th>\n",
       "      <th>hist_installments_max</th>\n",
       "      <th>hist_installments_min</th>\n",
       "      <th>hist_installments_std</th>\n",
       "      <th>hist_purchase_date_ptp</th>\n",
       "      <th>hist_month_lag_min</th>\n",
       "      <th>hist_month_lag_max</th>\n",
       "    </tr>\n",
       "  </thead>\n",
       "  <tbody>\n",
       "    <tr>\n",
       "      <th>0</th>\n",
       "      <td>2017-06</td>\n",
       "      <td>C_ID_92a2005557</td>\n",
       "      <td>5</td>\n",
       "      <td>2</td>\n",
       "      <td>1</td>\n",
       "      <td>-0.820283</td>\n",
       "      <td>260</td>\n",
       "      <td>247</td>\n",
       "      <td>0.950000</td>\n",
       "      <td>94</td>\n",
       "      <td>...</td>\n",
       "      <td>-0.739395</td>\n",
       "      <td>0.212139</td>\n",
       "      <td>4</td>\n",
       "      <td>0.0</td>\n",
       "      <td>1</td>\n",
       "      <td>0</td>\n",
       "      <td>0.123314</td>\n",
       "      <td>20977987.0</td>\n",
       "      <td>-8</td>\n",
       "      <td>0</td>\n",
       "    </tr>\n",
       "    <tr>\n",
       "      <th>1</th>\n",
       "      <td>2017-01</td>\n",
       "      <td>C_ID_3d0044924f</td>\n",
       "      <td>4</td>\n",
       "      <td>1</td>\n",
       "      <td>0</td>\n",
       "      <td>0.392913</td>\n",
       "      <td>350</td>\n",
       "      <td>339</td>\n",
       "      <td>0.968571</td>\n",
       "      <td>142</td>\n",
       "      <td>...</td>\n",
       "      <td>-0.742400</td>\n",
       "      <td>0.384967</td>\n",
       "      <td>543</td>\n",
       "      <td>1.0</td>\n",
       "      <td>10</td>\n",
       "      <td>-1</td>\n",
       "      <td>1.510777</td>\n",
       "      <td>33717687.0</td>\n",
       "      <td>-12</td>\n",
       "      <td>0</td>\n",
       "    </tr>\n",
       "    <tr>\n",
       "      <th>2</th>\n",
       "      <td>2016-08</td>\n",
       "      <td>C_ID_d639edf6cd</td>\n",
       "      <td>2</td>\n",
       "      <td>2</td>\n",
       "      <td>0</td>\n",
       "      <td>0.688056</td>\n",
       "      <td>43</td>\n",
       "      <td>41</td>\n",
       "      <td>0.953488</td>\n",
       "      <td>13</td>\n",
       "      <td>...</td>\n",
       "      <td>-0.730138</td>\n",
       "      <td>0.087380</td>\n",
       "      <td>0</td>\n",
       "      <td>0.0</td>\n",
       "      <td>0</td>\n",
       "      <td>0</td>\n",
       "      <td>0.000000</td>\n",
       "      <td>35635623.0</td>\n",
       "      <td>-13</td>\n",
       "      <td>0</td>\n",
       "    </tr>\n",
       "    <tr>\n",
       "      <th>3</th>\n",
       "      <td>2017-09</td>\n",
       "      <td>C_ID_186d6a6901</td>\n",
       "      <td>4</td>\n",
       "      <td>3</td>\n",
       "      <td>0</td>\n",
       "      <td>0.142495</td>\n",
       "      <td>77</td>\n",
       "      <td>77</td>\n",
       "      <td>1.000000</td>\n",
       "      <td>50</td>\n",
       "      <td>...</td>\n",
       "      <td>-0.740897</td>\n",
       "      <td>0.261624</td>\n",
       "      <td>84</td>\n",
       "      <td>1.0</td>\n",
       "      <td>3</td>\n",
       "      <td>-1</td>\n",
       "      <td>0.588974</td>\n",
       "      <td>13375339.0</td>\n",
       "      <td>-5</td>\n",
       "      <td>0</td>\n",
       "    </tr>\n",
       "    <tr>\n",
       "      <th>4</th>\n",
       "      <td>2017-11</td>\n",
       "      <td>C_ID_cdbd2c0db2</td>\n",
       "      <td>1</td>\n",
       "      <td>3</td>\n",
       "      <td>0</td>\n",
       "      <td>-0.159749</td>\n",
       "      <td>133</td>\n",
       "      <td>128</td>\n",
       "      <td>0.962406</td>\n",
       "      <td>66</td>\n",
       "      <td>...</td>\n",
       "      <td>-0.746156</td>\n",
       "      <td>1.352094</td>\n",
       "      <td>182</td>\n",
       "      <td>1.0</td>\n",
       "      <td>12</td>\n",
       "      <td>1</td>\n",
       "      <td>1.896862</td>\n",
       "      <td>9405641.0</td>\n",
       "      <td>-3</td>\n",
       "      <td>0</td>\n",
       "    </tr>\n",
       "  </tbody>\n",
       "</table>\n",
       "<p>5 rows × 24 columns</p>\n",
       "</div>"
      ],
      "text/plain": [
       "  first_active_month          card_id  feature_1  feature_2  feature_3  \\\n",
       "0            2017-06  C_ID_92a2005557          5          2          1   \n",
       "1            2017-01  C_ID_3d0044924f          4          1          0   \n",
       "2            2016-08  C_ID_d639edf6cd          2          2          0   \n",
       "3            2017-09  C_ID_186d6a6901          4          3          0   \n",
       "4            2017-11  C_ID_cdbd2c0db2          1          3          0   \n",
       "\n",
       "     target  hist_transactions_count  hist_authorized_flag_sum  \\\n",
       "0 -0.820283                      260                       247   \n",
       "1  0.392913                      350                       339   \n",
       "2  0.688056                       43                        41   \n",
       "3  0.142495                       77                        77   \n",
       "4 -0.159749                      133                       128   \n",
       "\n",
       "   hist_authorized_flag_mean  hist_merchant_id_nunique  ...  \\\n",
       "0                   0.950000                        94  ...   \n",
       "1                   0.968571                       142  ...   \n",
       "2                   0.953488                        13  ...   \n",
       "3                   1.000000                        50  ...   \n",
       "4                   0.962406                        66  ...   \n",
       "\n",
       "   hist_purchase_amount_min  hist_purchase_amount_std  hist_installments_sum  \\\n",
       "0                 -0.739395                  0.212139                      4   \n",
       "1                 -0.742400                  0.384967                    543   \n",
       "2                 -0.730138                  0.087380                      0   \n",
       "3                 -0.740897                  0.261624                     84   \n",
       "4                 -0.746156                  1.352094                    182   \n",
       "\n",
       "   hist_installments_median  hist_installments_max  hist_installments_min  \\\n",
       "0                       0.0                      1                      0   \n",
       "1                       1.0                     10                     -1   \n",
       "2                       0.0                      0                      0   \n",
       "3                       1.0                      3                     -1   \n",
       "4                       1.0                     12                      1   \n",
       "\n",
       "   hist_installments_std  hist_purchase_date_ptp  hist_month_lag_min  \\\n",
       "0               0.123314              20977987.0                  -8   \n",
       "1               1.510777              33717687.0                 -12   \n",
       "2               0.000000              35635623.0                 -13   \n",
       "3               0.588974              13375339.0                  -5   \n",
       "4               1.896862               9405641.0                  -3   \n",
       "\n",
       "   hist_month_lag_max  \n",
       "0                   0  \n",
       "1                   0  \n",
       "2                   0  \n",
       "3                   0  \n",
       "4                   0  \n",
       "\n",
       "[5 rows x 24 columns]"
      ]
     },
     "execution_count": 32,
     "metadata": {},
     "output_type": "execute_result"
    }
   ],
   "source": [
    "train.head()"
   ]
  },
  {
   "cell_type": "code",
   "execution_count": 33,
   "metadata": {},
   "outputs": [
    {
     "data": {
      "text/plain": [
       "Index(['first_active_month', 'card_id', 'feature_1', 'feature_2', 'feature_3',\n",
       "       'target', 'hist_transactions_count', 'hist_authorized_flag_sum',\n",
       "       'hist_authorized_flag_mean', 'hist_merchant_id_nunique',\n",
       "       'hist_city_id_nunique', 'hist_purchase_amount_sum',\n",
       "       'hist_purchase_amount_median', 'hist_purchase_amount_max',\n",
       "       'hist_purchase_amount_min', 'hist_purchase_amount_std',\n",
       "       'hist_installments_sum', 'hist_installments_median',\n",
       "       'hist_installments_max', 'hist_installments_min',\n",
       "       'hist_installments_std', 'hist_purchase_date_ptp', 'hist_month_lag_min',\n",
       "       'hist_month_lag_max'],\n",
       "      dtype='object')"
      ]
     },
     "execution_count": 33,
     "metadata": {},
     "output_type": "execute_result"
    }
   ],
   "source": [
    "train.columns"
   ]
  },
  {
   "cell_type": "code",
   "execution_count": null,
   "metadata": {},
   "outputs": [],
   "source": []
  }
 ],
 "metadata": {
  "kernelspec": {
   "display_name": "Python 3",
   "language": "python",
   "name": "python3"
  },
  "language_info": {
   "codemirror_mode": {
    "name": "ipython",
    "version": 3
   },
   "file_extension": ".py",
   "mimetype": "text/x-python",
   "name": "python",
   "nbconvert_exporter": "python",
   "pygments_lexer": "ipython3",
   "version": "3.7.3"
  }
 },
 "nbformat": 4,
 "nbformat_minor": 2
}
