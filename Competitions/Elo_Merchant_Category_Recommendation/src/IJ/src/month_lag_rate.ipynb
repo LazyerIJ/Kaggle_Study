{
 "cells": [
  {
   "cell_type": "code",
   "execution_count": 1,
   "metadata": {},
   "outputs": [],
   "source": [
    "import os\n",
    "import pandas as pd\n",
    "import glob\n",
    "import numpy as np\n",
    "import seaborn as sns\n",
    "import matplotlib.pyplot as plt\n",
    "import gc"
   ]
  },
  {
   "cell_type": "code",
   "execution_count": 2,
   "metadata": {},
   "outputs": [
    {
     "name": "stdout",
     "output_type": "stream",
     "text": [
      "['historical_transactions.csv', 'merchants.csv', 'new_merchant_transactions.csv', 'sample_submission.csv', 'train.csv', 'test.csv']\n"
     ]
    }
   ],
   "source": [
    "input_dir = os.path.join('..', 'input')\n",
    "file_csv = [file for file in os.listdir(input_dir)\\\n",
    "            if file.endswith('.csv')]\n",
    "print(file_csv)"
   ]
  },
  {
   "cell_type": "code",
   "execution_count": 70,
   "metadata": {},
   "outputs": [],
   "source": [
    "pd.set_option('max_columns', None)"
   ]
  },
  {
   "cell_type": "code",
   "execution_count": 3,
   "metadata": {},
   "outputs": [],
   "source": [
    "## Pandas@reduce dataframe memory\n",
    "def reduce_mem_usage(props, fillna=False, fillval=None):\n",
    "    start_mem_usg = props.memory_usage().sum() / 1024**2\n",
    "    print(\"Memory usage of properties dataframe is :\",start_mem_usg,\" MB\")\n",
    "    NAlist = [] # Keeps track of columns that have missing values filled in. \n",
    "    for col in props.columns:\n",
    "        if props[col].dtype != object:  # Exclude strings\n",
    "            \n",
    "            # Print current column type\n",
    "            print(\"******************************\")\n",
    "            print(\"Column: \", col)\n",
    "            print(\"dtype before: \", props[col].dtype)\n",
    "            \n",
    "            # make variables for Int, max and min\n",
    "            IsInt = False\n",
    "            mx = props[col].max()\n",
    "            mn = props[col].min()\n",
    "            \n",
    "            # Integer does not support NA, therefore, NA needs to be filled\n",
    "            if not np.isfinite(props[col]).all(): \n",
    "                if not fillna:\n",
    "                    print('[*]skip {} cause of NA value'.format(col))\n",
    "                    continue\n",
    "                NAlist.append(col)\n",
    "                props[col].fillna(fillval,inplace=True)  \n",
    "            \n",
    "            # test if column can be converted to an integer\n",
    "            asint = props[col].fillna(0).astype(np.int64)\n",
    "            result = (props[col] - asint)\n",
    "            result = result.sum()\n",
    "            if result > -0.01 and result < 0.01:\n",
    "                IsInt = True\n",
    "\n",
    "            # Make Integer/unsigned Integer datatypes\n",
    "            if IsInt:\n",
    "                if mn >= 0:\n",
    "                    if mx < pow(2, 8)-1:\n",
    "                        props[col] = props[col].astype(np.uint8)\n",
    "                    elif mx < pow(2, 16)-1:\n",
    "                        props[col] = props[col].astype(np.uint16)\n",
    "                    elif mx < pow(2, 32)-1:\n",
    "                        props[col] = props[col].astype(np.uint32)\n",
    "                    else:\n",
    "                        props[col] = props[col].astype(np.uint64)\n",
    "                else:\n",
    "                    if mn > np.iinfo(np.int8).min and mx < np.iinfo(np.int8).max:\n",
    "                        props[col] = props[col].astype(np.int8)\n",
    "                    elif mn > np.iinfo(np.int16).min and mx < np.iinfo(np.int16).max:\n",
    "                        props[col] = props[col].astype(np.int16)\n",
    "                    elif mn > np.iinfo(np.int32).min and mx < np.iinfo(np.int32).max:\n",
    "                        props[col] = props[col].astype(np.int32)\n",
    "                    elif mn > np.iinfo(np.int64).min and mx < np.iinfo(np.int64).max:\n",
    "                        props[col] = props[col].astype(np.int64)    \n",
    "            \n",
    "            # Make float datatypes 32 bit\n",
    "            else:\n",
    "                props[col] = props[col].astype(np.float32)\n",
    "            \n",
    "            # Print new column type\n",
    "            print(\"dtype after: \",props[col].dtype)\n",
    "            print(\"******************************\")\n",
    "    \n",
    "    # Print final result\n",
    "    print(\"___MEMORY USAGE AFTER COMPLETION:___\")\n",
    "    mem_usg = props.memory_usage().sum() / 1024**2 \n",
    "    print(\"Memory usage is: \",mem_usg,\" MB\")\n",
    "    print(\"This is \",100*mem_usg/start_mem_usg,\"% of the initial size\")\n",
    "    return props, NAlist"
   ]
  },
  {
   "cell_type": "code",
   "execution_count": 4,
   "metadata": {
    "scrolled": true
   },
   "outputs": [
    {
     "name": "stdout",
     "output_type": "stream",
     "text": [
      "Memory usage of properties dataframe is : 3109.5357055664062  MB\n",
      "******************************\n",
      "Column:  city_id\n",
      "dtype before:  int64\n",
      "dtype after:  int16\n",
      "******************************\n",
      "******************************\n",
      "Column:  installments\n",
      "dtype before:  int64\n",
      "dtype after:  int16\n",
      "******************************\n",
      "******************************\n",
      "Column:  merchant_category_id\n",
      "dtype before:  int64\n",
      "dtype after:  int16\n",
      "******************************\n",
      "******************************\n",
      "Column:  month_lag\n",
      "dtype before:  int64\n",
      "dtype after:  int8\n",
      "******************************\n",
      "******************************\n",
      "Column:  purchase_amount\n",
      "dtype before:  float64\n",
      "dtype after:  float32\n",
      "******************************\n",
      "******************************\n",
      "Column:  category_2\n",
      "dtype before:  float64\n",
      "[*]skip category_2 cause of NA value\n",
      "******************************\n",
      "Column:  state_id\n",
      "dtype before:  int64\n",
      "dtype after:  int8\n",
      "******************************\n",
      "******************************\n",
      "Column:  subsector_id\n",
      "dtype before:  int64\n",
      "dtype after:  int8\n",
      "******************************\n",
      "___MEMORY USAGE AFTER COMPLETION:___\n",
      "Memory usage is:  1915.6961336135864  MB\n",
      "This is  61.607143799129965 % of the initial size\n",
      "Memory usage of properties dataframe is : 9.24310302734375  MB\n",
      "******************************\n",
      "Column:  feature_1\n",
      "dtype before:  int64\n",
      "dtype after:  uint8\n",
      "******************************\n",
      "******************************\n",
      "Column:  feature_2\n",
      "dtype before:  int64\n",
      "dtype after:  uint8\n",
      "******************************\n",
      "******************************\n",
      "Column:  feature_3\n",
      "dtype before:  int64\n",
      "dtype after:  uint8\n",
      "******************************\n",
      "******************************\n",
      "Column:  target\n",
      "dtype before:  float64\n",
      "dtype after:  float32\n",
      "******************************\n",
      "___MEMORY USAGE AFTER COMPLETION:___\n",
      "Memory usage is:  4.4290266036987305  MB\n",
      "This is  47.917096570236204 % of the initial size\n"
     ]
    }
   ],
   "source": [
    "trans_df = pd.read_csv(os.path.join(input_dir, 'historical_transactions.csv'))\n",
    "train_df = pd.read_csv(os.path.join(input_dir, 'train.csv'))\n",
    "trans_df, _ = reduce_mem_usage(trans_df, fillna=False, fillval=-999)\n",
    "train_df, _ = reduce_mem_usage(train_df, fillna=False, fillval=-999)"
   ]
  },
  {
   "cell_type": "code",
   "execution_count": 5,
   "metadata": {},
   "outputs": [],
   "source": [
    "trans_df = pd.merge(trans_df, train_df, on=['card_id'], how='left')"
   ]
  },
  {
   "cell_type": "code",
   "execution_count": 6,
   "metadata": {},
   "outputs": [],
   "source": [
    "del train_df"
   ]
  },
  {
   "cell_type": "code",
   "execution_count": 7,
   "metadata": {
    "scrolled": true
   },
   "outputs": [
    {
     "name": "stdout",
     "output_type": "stream",
     "text": [
      "[*]trans_df : (26595452, 6)\n"
     ]
    }
   ],
   "source": [
    "trans_df = trans_df[trans_df['authorized_flag']=='Y'][['card_id', 'purchase_date', 'purchase_amount', 'first_active_month', 'month_lag', 'target']]\n",
    "print('[*]trans_df : {}'.format(trans_df.shape))"
   ]
  },
  {
   "cell_type": "code",
   "execution_count": 8,
   "metadata": {},
   "outputs": [],
   "source": [
    "trans_df = trans_df[~trans_df.target.isnull()]"
   ]
  },
  {
   "cell_type": "code",
   "execution_count": 9,
   "metadata": {},
   "outputs": [
    {
     "name": "stdout",
     "output_type": "stream",
     "text": [
      "[*]trans_df : (16468145, 6)\n"
     ]
    }
   ],
   "source": [
    "print('[*]trans_df : {}'.format(trans_df.shape))"
   ]
  },
  {
   "cell_type": "code",
   "execution_count": 10,
   "metadata": {},
   "outputs": [],
   "source": [
    "trans_df['purchase_year'] = trans_df['purchase_date'].apply(lambda x: x[0:4])\n",
    "trans_df['purchase_month'] = trans_df['purchase_date'].apply(lambda x: x[5:7])"
   ]
  },
  {
   "cell_type": "code",
   "execution_count": 11,
   "metadata": {},
   "outputs": [],
   "source": [
    "trans_df['purchase_year'] = trans_df['purchase_year'].astype(int)\n",
    "trans_df['purchase_month'] = trans_df['purchase_month'].astype(int)\n",
    "trans_df['month_lag'] = trans_df['month_lag'].astype(int)"
   ]
  },
  {
   "cell_type": "code",
   "execution_count": 12,
   "metadata": {},
   "outputs": [
    {
     "data": {
      "text/html": [
       "<div>\n",
       "<style scoped>\n",
       "    .dataframe tbody tr th:only-of-type {\n",
       "        vertical-align: middle;\n",
       "    }\n",
       "\n",
       "    .dataframe tbody tr th {\n",
       "        vertical-align: top;\n",
       "    }\n",
       "\n",
       "    .dataframe thead th {\n",
       "        text-align: right;\n",
       "    }\n",
       "</style>\n",
       "<table border=\"1\" class=\"dataframe\">\n",
       "  <thead>\n",
       "    <tr style=\"text-align: right;\">\n",
       "      <th></th>\n",
       "      <th>card_id</th>\n",
       "      <th>purchase_date</th>\n",
       "      <th>purchase_amount</th>\n",
       "      <th>first_active_month</th>\n",
       "      <th>month_lag</th>\n",
       "      <th>target</th>\n",
       "      <th>purchase_year</th>\n",
       "      <th>purchase_month</th>\n",
       "    </tr>\n",
       "  </thead>\n",
       "  <tbody>\n",
       "    <tr>\n",
       "      <th>401</th>\n",
       "      <td>C_ID_5037ff576e</td>\n",
       "      <td>2017-08-14 15:46:08</td>\n",
       "      <td>1.189469</td>\n",
       "      <td>2017-01</td>\n",
       "      <td>-4</td>\n",
       "      <td>-2.352713</td>\n",
       "      <td>2017</td>\n",
       "      <td>8</td>\n",
       "    </tr>\n",
       "    <tr>\n",
       "      <th>402</th>\n",
       "      <td>C_ID_5037ff576e</td>\n",
       "      <td>2017-03-05 14:57:51</td>\n",
       "      <td>-0.640069</td>\n",
       "      <td>2017-01</td>\n",
       "      <td>-9</td>\n",
       "      <td>-2.352713</td>\n",
       "      <td>2017</td>\n",
       "      <td>3</td>\n",
       "    </tr>\n",
       "    <tr>\n",
       "      <th>403</th>\n",
       "      <td>C_ID_5037ff576e</td>\n",
       "      <td>2017-08-15 10:45:28</td>\n",
       "      <td>-0.652256</td>\n",
       "      <td>2017-01</td>\n",
       "      <td>-4</td>\n",
       "      <td>-2.352713</td>\n",
       "      <td>2017</td>\n",
       "      <td>8</td>\n",
       "    </tr>\n",
       "  </tbody>\n",
       "</table>\n",
       "</div>"
      ],
      "text/plain": [
       "             card_id        purchase_date  purchase_amount first_active_month  \\\n",
       "401  C_ID_5037ff576e  2017-08-14 15:46:08         1.189469            2017-01   \n",
       "402  C_ID_5037ff576e  2017-03-05 14:57:51        -0.640069            2017-01   \n",
       "403  C_ID_5037ff576e  2017-08-15 10:45:28        -0.652256            2017-01   \n",
       "\n",
       "     month_lag    target  purchase_year  purchase_month  \n",
       "401         -4 -2.352713           2017               8  \n",
       "402         -9 -2.352713           2017               3  \n",
       "403         -4 -2.352713           2017               8  "
      ]
     },
     "execution_count": 12,
     "metadata": {},
     "output_type": "execute_result"
    }
   ],
   "source": [
    "trans_df.head(3)"
   ]
  },
  {
   "cell_type": "code",
   "execution_count": 13,
   "metadata": {},
   "outputs": [],
   "source": [
    "trans_df['new_purchase_month'] = trans_df['purchase_month'] - trans_df['month_lag']\n",
    "trans_df['new_purchase_year'] = trans_df['purchase_year']"
   ]
  },
  {
   "cell_type": "code",
   "execution_count": 14,
   "metadata": {},
   "outputs": [],
   "source": [
    "over_month_idx = trans_df[trans_df['new_purchase_month']>12].index.values"
   ]
  },
  {
   "cell_type": "code",
   "execution_count": 15,
   "metadata": {
    "scrolled": true
   },
   "outputs": [],
   "source": [
    "trans_df.loc[over_month_idx,'new_purchase_month'] = trans_df.loc[over_month_idx,'new_purchase_month'] - 12\n",
    "trans_df.loc[over_month_idx,'new_purchase_year'] = trans_df.loc[over_month_idx,'purchase_year'] + 1"
   ]
  },
  {
   "cell_type": "code",
   "execution_count": 16,
   "metadata": {},
   "outputs": [
    {
     "name": "stdout",
     "output_type": "stream",
     "text": [
      "unique count -> new_purchase_month : 1\n",
      "unique count -> new_purchase_year : 1\n"
     ]
    }
   ],
   "source": [
    "print('unique count -> new_purchase_month : {}'.format(max(trans_df.groupby(['card_id']).new_purchase_month.nunique())))\n",
    "print('unique count -> new_purchase_year : {}'.format(max(trans_df.groupby(['card_id']).new_purchase_year.nunique())))"
   ]
  },
  {
   "cell_type": "code",
   "execution_count": 17,
   "metadata": {},
   "outputs": [],
   "source": [
    "trans_df['first_active_year'] = trans_df['first_active_month'].apply(lambda x: x[0:4])\n",
    "trans_df['first_active_month'] = trans_df['first_active_month'].apply(lambda x: x[5:])"
   ]
  },
  {
   "cell_type": "code",
   "execution_count": 18,
   "metadata": {},
   "outputs": [
    {
     "name": "stdout",
     "output_type": "stream",
     "text": [
      "unique count -> first_active_year : 1\n",
      "unique count -> first_active_month : 1\n"
     ]
    }
   ],
   "source": [
    "print('unique count -> first_active_year : {}'.format(max(trans_df.groupby(['card_id']).first_active_year.nunique())))\n",
    "print('unique count -> first_active_month : {}'.format(max(trans_df.groupby(['card_id']).first_active_month.nunique())))"
   ]
  },
  {
   "cell_type": "code",
   "execution_count": 19,
   "metadata": {},
   "outputs": [
    {
     "data": {
      "text/html": [
       "<div>\n",
       "<style scoped>\n",
       "    .dataframe tbody tr th:only-of-type {\n",
       "        vertical-align: middle;\n",
       "    }\n",
       "\n",
       "    .dataframe tbody tr th {\n",
       "        vertical-align: top;\n",
       "    }\n",
       "\n",
       "    .dataframe thead th {\n",
       "        text-align: right;\n",
       "    }\n",
       "</style>\n",
       "<table border=\"1\" class=\"dataframe\">\n",
       "  <thead>\n",
       "    <tr style=\"text-align: right;\">\n",
       "      <th></th>\n",
       "      <th>card_id</th>\n",
       "      <th>purchase_date</th>\n",
       "      <th>purchase_amount</th>\n",
       "      <th>first_active_month</th>\n",
       "      <th>month_lag</th>\n",
       "      <th>target</th>\n",
       "      <th>purchase_year</th>\n",
       "      <th>purchase_month</th>\n",
       "      <th>new_purchase_month</th>\n",
       "      <th>new_purchase_year</th>\n",
       "      <th>first_active_year</th>\n",
       "    </tr>\n",
       "  </thead>\n",
       "  <tbody>\n",
       "    <tr>\n",
       "      <th>401</th>\n",
       "      <td>C_ID_5037ff576e</td>\n",
       "      <td>2017-08-14 15:46:08</td>\n",
       "      <td>1.189469</td>\n",
       "      <td>01</td>\n",
       "      <td>-4</td>\n",
       "      <td>-2.352713</td>\n",
       "      <td>2017</td>\n",
       "      <td>8</td>\n",
       "      <td>12</td>\n",
       "      <td>2017</td>\n",
       "      <td>2017</td>\n",
       "    </tr>\n",
       "    <tr>\n",
       "      <th>402</th>\n",
       "      <td>C_ID_5037ff576e</td>\n",
       "      <td>2017-03-05 14:57:51</td>\n",
       "      <td>-0.640069</td>\n",
       "      <td>01</td>\n",
       "      <td>-9</td>\n",
       "      <td>-2.352713</td>\n",
       "      <td>2017</td>\n",
       "      <td>3</td>\n",
       "      <td>12</td>\n",
       "      <td>2017</td>\n",
       "      <td>2017</td>\n",
       "    </tr>\n",
       "    <tr>\n",
       "      <th>403</th>\n",
       "      <td>C_ID_5037ff576e</td>\n",
       "      <td>2017-08-15 10:45:28</td>\n",
       "      <td>-0.652256</td>\n",
       "      <td>01</td>\n",
       "      <td>-4</td>\n",
       "      <td>-2.352713</td>\n",
       "      <td>2017</td>\n",
       "      <td>8</td>\n",
       "      <td>12</td>\n",
       "      <td>2017</td>\n",
       "      <td>2017</td>\n",
       "    </tr>\n",
       "  </tbody>\n",
       "</table>\n",
       "</div>"
      ],
      "text/plain": [
       "             card_id        purchase_date  purchase_amount first_active_month  \\\n",
       "401  C_ID_5037ff576e  2017-08-14 15:46:08         1.189469                 01   \n",
       "402  C_ID_5037ff576e  2017-03-05 14:57:51        -0.640069                 01   \n",
       "403  C_ID_5037ff576e  2017-08-15 10:45:28        -0.652256                 01   \n",
       "\n",
       "     month_lag    target  purchase_year  purchase_month  new_purchase_month  \\\n",
       "401         -4 -2.352713           2017               8                  12   \n",
       "402         -9 -2.352713           2017               3                  12   \n",
       "403         -4 -2.352713           2017               8                  12   \n",
       "\n",
       "     new_purchase_year first_active_year  \n",
       "401               2017              2017  \n",
       "402               2017              2017  \n",
       "403               2017              2017  "
      ]
     },
     "execution_count": 19,
     "metadata": {},
     "output_type": "execute_result"
    }
   ],
   "source": [
    "trans_df.head(3)"
   ]
  },
  {
   "cell_type": "code",
   "execution_count": 96,
   "metadata": {},
   "outputs": [],
   "source": [
    "month_lag_mean = trans_df.groupby(['card_id', 'month_lag']).purchase_amount.mean().unstack()"
   ]
  },
  {
   "cell_type": "code",
   "execution_count": 97,
   "metadata": {},
   "outputs": [],
   "source": [
    "month_mean_col_name = 'lag_{}_mean'"
   ]
  },
  {
   "cell_type": "code",
   "execution_count": 98,
   "metadata": {},
   "outputs": [],
   "source": [
    "month_lag_mean.columns = [month_mean_col_name.format(str(x)) for x in month_lag_mean.columns]"
   ]
  },
  {
   "cell_type": "code",
   "execution_count": 99,
   "metadata": {},
   "outputs": [],
   "source": [
    "month_lag_mean.fillna(0, inplace=True)"
   ]
  },
  {
   "cell_type": "code",
   "execution_count": 100,
   "metadata": {},
   "outputs": [],
   "source": [
    "month_lag_mean = pd.merge(month_lag_mean, trans_df[['card_id', 'target']], on=['card_id'], how='left')\n",
    "month_lag_mean = month_lag_mean.drop_duplicates()"
   ]
  },
  {
   "cell_type": "code",
   "execution_count": 101,
   "metadata": {},
   "outputs": [
    {
     "data": {
      "text/html": [
       "<div>\n",
       "<style scoped>\n",
       "    .dataframe tbody tr th:only-of-type {\n",
       "        vertical-align: middle;\n",
       "    }\n",
       "\n",
       "    .dataframe tbody tr th {\n",
       "        vertical-align: top;\n",
       "    }\n",
       "\n",
       "    .dataframe thead th {\n",
       "        text-align: right;\n",
       "    }\n",
       "</style>\n",
       "<table border=\"1\" class=\"dataframe\">\n",
       "  <thead>\n",
       "    <tr style=\"text-align: right;\">\n",
       "      <th></th>\n",
       "      <th>card_id</th>\n",
       "      <th>lag_-13_mean</th>\n",
       "      <th>lag_-12_mean</th>\n",
       "      <th>lag_-11_mean</th>\n",
       "      <th>lag_-10_mean</th>\n",
       "      <th>lag_-9_mean</th>\n",
       "      <th>lag_-8_mean</th>\n",
       "      <th>lag_-7_mean</th>\n",
       "      <th>lag_-6_mean</th>\n",
       "      <th>lag_-5_mean</th>\n",
       "      <th>lag_-4_mean</th>\n",
       "      <th>lag_-3_mean</th>\n",
       "      <th>lag_-2_mean</th>\n",
       "      <th>lag_-1_mean</th>\n",
       "      <th>lag_0_mean</th>\n",
       "      <th>target</th>\n",
       "    </tr>\n",
       "  </thead>\n",
       "  <tbody>\n",
       "    <tr>\n",
       "      <th>0</th>\n",
       "      <td>C_ID_00007093c1</td>\n",
       "      <td>0.000000</td>\n",
       "      <td>-0.333604</td>\n",
       "      <td>-0.560815</td>\n",
       "      <td>-0.546012</td>\n",
       "      <td>-0.574854</td>\n",
       "      <td>-0.577617</td>\n",
       "      <td>-0.617820</td>\n",
       "      <td>-0.471708</td>\n",
       "      <td>-0.556233</td>\n",
       "      <td>-0.627612</td>\n",
       "      <td>-0.499872</td>\n",
       "      <td>-0.530359</td>\n",
       "      <td>-0.570987</td>\n",
       "      <td>-0.502207</td>\n",
       "      <td>0.134077</td>\n",
       "    </tr>\n",
       "    <tr>\n",
       "      <th>114</th>\n",
       "      <td>C_ID_0001506ef0</td>\n",
       "      <td>-0.708590</td>\n",
       "      <td>-0.691466</td>\n",
       "      <td>-0.693088</td>\n",
       "      <td>0.000000</td>\n",
       "      <td>-0.701828</td>\n",
       "      <td>-0.731430</td>\n",
       "      <td>0.017190</td>\n",
       "      <td>-0.108657</td>\n",
       "      <td>-0.168011</td>\n",
       "      <td>-0.290733</td>\n",
       "      <td>-0.513078</td>\n",
       "      <td>-0.607728</td>\n",
       "      <td>-0.453826</td>\n",
       "      <td>-0.155333</td>\n",
       "      <td>0.884295</td>\n",
       "    </tr>\n",
       "    <tr>\n",
       "      <th>176</th>\n",
       "      <td>C_ID_000183fdda</td>\n",
       "      <td>0.000000</td>\n",
       "      <td>0.000000</td>\n",
       "      <td>0.000000</td>\n",
       "      <td>0.000000</td>\n",
       "      <td>0.000000</td>\n",
       "      <td>0.000000</td>\n",
       "      <td>0.000000</td>\n",
       "      <td>0.000000</td>\n",
       "      <td>-0.632501</td>\n",
       "      <td>-0.602618</td>\n",
       "      <td>-0.373307</td>\n",
       "      <td>-0.497646</td>\n",
       "      <td>-0.270757</td>\n",
       "      <td>-0.558534</td>\n",
       "      <td>-0.264433</td>\n",
       "    </tr>\n",
       "    <tr>\n",
       "      <th>313</th>\n",
       "      <td>C_ID_00027503e2</td>\n",
       "      <td>0.000000</td>\n",
       "      <td>0.000000</td>\n",
       "      <td>0.000000</td>\n",
       "      <td>0.000000</td>\n",
       "      <td>0.000000</td>\n",
       "      <td>-0.740897</td>\n",
       "      <td>-0.738801</td>\n",
       "      <td>-0.742058</td>\n",
       "      <td>-0.740211</td>\n",
       "      <td>-0.741667</td>\n",
       "      <td>-0.744038</td>\n",
       "      <td>-0.737141</td>\n",
       "      <td>-0.739492</td>\n",
       "      <td>-0.736389</td>\n",
       "      <td>0.812872</td>\n",
       "    </tr>\n",
       "    <tr>\n",
       "      <th>337</th>\n",
       "      <td>C_ID_0002c7c2c1</td>\n",
       "      <td>0.000000</td>\n",
       "      <td>0.000000</td>\n",
       "      <td>0.000000</td>\n",
       "      <td>0.000000</td>\n",
       "      <td>-0.593697</td>\n",
       "      <td>-0.656854</td>\n",
       "      <td>-0.637835</td>\n",
       "      <td>-0.683491</td>\n",
       "      <td>-0.618885</td>\n",
       "      <td>-0.649669</td>\n",
       "      <td>-0.668811</td>\n",
       "      <td>-0.666319</td>\n",
       "      <td>-0.667019</td>\n",
       "      <td>-0.677773</td>\n",
       "      <td>1.288514</td>\n",
       "    </tr>\n",
       "    <tr>\n",
       "      <th>395</th>\n",
       "      <td>C_ID_0003be3c83</td>\n",
       "      <td>0.000000</td>\n",
       "      <td>0.000000</td>\n",
       "      <td>0.000000</td>\n",
       "      <td>0.000000</td>\n",
       "      <td>0.000000</td>\n",
       "      <td>0.000000</td>\n",
       "      <td>0.000000</td>\n",
       "      <td>-0.587667</td>\n",
       "      <td>-0.672259</td>\n",
       "      <td>-0.631244</td>\n",
       "      <td>-0.601158</td>\n",
       "      <td>-0.678153</td>\n",
       "      <td>-0.678934</td>\n",
       "      <td>-0.691995</td>\n",
       "      <td>-0.083268</td>\n",
       "    </tr>\n",
       "    <tr>\n",
       "      <th>541</th>\n",
       "      <td>C_ID_00042d509c</td>\n",
       "      <td>0.000000</td>\n",
       "      <td>0.000000</td>\n",
       "      <td>0.000000</td>\n",
       "      <td>0.000000</td>\n",
       "      <td>0.000000</td>\n",
       "      <td>0.000000</td>\n",
       "      <td>0.000000</td>\n",
       "      <td>0.000000</td>\n",
       "      <td>-0.735187</td>\n",
       "      <td>-0.425806</td>\n",
       "      <td>-0.683421</td>\n",
       "      <td>-0.704191</td>\n",
       "      <td>-0.715683</td>\n",
       "      <td>-0.674071</td>\n",
       "      <td>-1.264398</td>\n",
       "    </tr>\n",
       "    <tr>\n",
       "      <th>559</th>\n",
       "      <td>C_ID_0004888ddd</td>\n",
       "      <td>0.000000</td>\n",
       "      <td>0.000000</td>\n",
       "      <td>0.000000</td>\n",
       "      <td>0.000000</td>\n",
       "      <td>0.000000</td>\n",
       "      <td>0.000000</td>\n",
       "      <td>0.000000</td>\n",
       "      <td>-0.713420</td>\n",
       "      <td>-0.693968</td>\n",
       "      <td>-0.688575</td>\n",
       "      <td>-0.736464</td>\n",
       "      <td>-0.720942</td>\n",
       "      <td>-0.714751</td>\n",
       "      <td>-0.684059</td>\n",
       "      <td>0.512450</td>\n",
       "    </tr>\n",
       "    <tr>\n",
       "      <th>595</th>\n",
       "      <td>C_ID_0004b68c49</td>\n",
       "      <td>0.000000</td>\n",
       "      <td>0.000000</td>\n",
       "      <td>0.000000</td>\n",
       "      <td>0.000000</td>\n",
       "      <td>0.000000</td>\n",
       "      <td>0.000000</td>\n",
       "      <td>0.000000</td>\n",
       "      <td>0.000000</td>\n",
       "      <td>0.000000</td>\n",
       "      <td>0.000000</td>\n",
       "      <td>0.277735</td>\n",
       "      <td>-0.706223</td>\n",
       "      <td>0.000000</td>\n",
       "      <td>-0.693736</td>\n",
       "      <td>2.070529</td>\n",
       "    </tr>\n",
       "    <tr>\n",
       "      <th>600</th>\n",
       "      <td>C_ID_0004c2a5ab</td>\n",
       "      <td>-0.668702</td>\n",
       "      <td>-0.651534</td>\n",
       "      <td>-0.589265</td>\n",
       "      <td>-0.591271</td>\n",
       "      <td>-0.581491</td>\n",
       "      <td>-0.652853</td>\n",
       "      <td>-0.654735</td>\n",
       "      <td>-0.638076</td>\n",
       "      <td>-0.697399</td>\n",
       "      <td>-0.646756</td>\n",
       "      <td>-0.626428</td>\n",
       "      <td>-0.612791</td>\n",
       "      <td>-0.580464</td>\n",
       "      <td>-0.554563</td>\n",
       "      <td>-0.537806</td>\n",
       "    </tr>\n",
       "  </tbody>\n",
       "</table>\n",
       "</div>"
      ],
      "text/plain": [
       "             card_id  lag_-13_mean  lag_-12_mean  lag_-11_mean  lag_-10_mean  \\\n",
       "0    C_ID_00007093c1      0.000000     -0.333604     -0.560815     -0.546012   \n",
       "114  C_ID_0001506ef0     -0.708590     -0.691466     -0.693088      0.000000   \n",
       "176  C_ID_000183fdda      0.000000      0.000000      0.000000      0.000000   \n",
       "313  C_ID_00027503e2      0.000000      0.000000      0.000000      0.000000   \n",
       "337  C_ID_0002c7c2c1      0.000000      0.000000      0.000000      0.000000   \n",
       "395  C_ID_0003be3c83      0.000000      0.000000      0.000000      0.000000   \n",
       "541  C_ID_00042d509c      0.000000      0.000000      0.000000      0.000000   \n",
       "559  C_ID_0004888ddd      0.000000      0.000000      0.000000      0.000000   \n",
       "595  C_ID_0004b68c49      0.000000      0.000000      0.000000      0.000000   \n",
       "600  C_ID_0004c2a5ab     -0.668702     -0.651534     -0.589265     -0.591271   \n",
       "\n",
       "     lag_-9_mean  lag_-8_mean  lag_-7_mean  lag_-6_mean  lag_-5_mean  \\\n",
       "0      -0.574854    -0.577617    -0.617820    -0.471708    -0.556233   \n",
       "114    -0.701828    -0.731430     0.017190    -0.108657    -0.168011   \n",
       "176     0.000000     0.000000     0.000000     0.000000    -0.632501   \n",
       "313     0.000000    -0.740897    -0.738801    -0.742058    -0.740211   \n",
       "337    -0.593697    -0.656854    -0.637835    -0.683491    -0.618885   \n",
       "395     0.000000     0.000000     0.000000    -0.587667    -0.672259   \n",
       "541     0.000000     0.000000     0.000000     0.000000    -0.735187   \n",
       "559     0.000000     0.000000     0.000000    -0.713420    -0.693968   \n",
       "595     0.000000     0.000000     0.000000     0.000000     0.000000   \n",
       "600    -0.581491    -0.652853    -0.654735    -0.638076    -0.697399   \n",
       "\n",
       "     lag_-4_mean  lag_-3_mean  lag_-2_mean  lag_-1_mean  lag_0_mean    target  \n",
       "0      -0.627612    -0.499872    -0.530359    -0.570987   -0.502207  0.134077  \n",
       "114    -0.290733    -0.513078    -0.607728    -0.453826   -0.155333  0.884295  \n",
       "176    -0.602618    -0.373307    -0.497646    -0.270757   -0.558534 -0.264433  \n",
       "313    -0.741667    -0.744038    -0.737141    -0.739492   -0.736389  0.812872  \n",
       "337    -0.649669    -0.668811    -0.666319    -0.667019   -0.677773  1.288514  \n",
       "395    -0.631244    -0.601158    -0.678153    -0.678934   -0.691995 -0.083268  \n",
       "541    -0.425806    -0.683421    -0.704191    -0.715683   -0.674071 -1.264398  \n",
       "559    -0.688575    -0.736464    -0.720942    -0.714751   -0.684059  0.512450  \n",
       "595     0.000000     0.277735    -0.706223     0.000000   -0.693736  2.070529  \n",
       "600    -0.646756    -0.626428    -0.612791    -0.580464   -0.554563 -0.537806  "
      ]
     },
     "execution_count": 101,
     "metadata": {},
     "output_type": "execute_result"
    }
   ],
   "source": [
    "month_lag_mean.head(10)"
   ]
  },
  {
   "cell_type": "code",
   "execution_count": 118,
   "metadata": {},
   "outputs": [],
   "source": [
    "rate_col_name = 'rate_{}_{}'"
   ]
  },
  {
   "cell_type": "code",
   "execution_count": 119,
   "metadata": {},
   "outputs": [],
   "source": [
    "for month in range(0, -13, -1):\n",
    "    before_col = month_mean_col_name.format(month)\n",
    "    after_col = month_mean_col_name.format(month - 1)\n",
    "    month_lag_mean[rate_col_name.format(month, month-1)] = month_lag_mean[after_col] / month_lag_mean[before_col]"
   ]
  },
  {
   "cell_type": "code",
   "execution_count": 120,
   "metadata": {},
   "outputs": [
    {
     "data": {
      "text/html": [
       "<div>\n",
       "<style scoped>\n",
       "    .dataframe tbody tr th:only-of-type {\n",
       "        vertical-align: middle;\n",
       "    }\n",
       "\n",
       "    .dataframe tbody tr th {\n",
       "        vertical-align: top;\n",
       "    }\n",
       "\n",
       "    .dataframe thead th {\n",
       "        text-align: right;\n",
       "    }\n",
       "</style>\n",
       "<table border=\"1\" class=\"dataframe\">\n",
       "  <thead>\n",
       "    <tr style=\"text-align: right;\">\n",
       "      <th></th>\n",
       "      <th>card_id</th>\n",
       "      <th>lag_-13_mean</th>\n",
       "      <th>lag_-12_mean</th>\n",
       "      <th>lag_-11_mean</th>\n",
       "      <th>lag_-10_mean</th>\n",
       "      <th>lag_-9_mean</th>\n",
       "      <th>lag_-8_mean</th>\n",
       "      <th>lag_-7_mean</th>\n",
       "      <th>lag_-6_mean</th>\n",
       "      <th>lag_-5_mean</th>\n",
       "      <th>lag_-4_mean</th>\n",
       "      <th>lag_-3_mean</th>\n",
       "      <th>lag_-2_mean</th>\n",
       "      <th>lag_-1_mean</th>\n",
       "      <th>lag_0_mean</th>\n",
       "      <th>target</th>\n",
       "      <th>rate_0_-1</th>\n",
       "      <th>rate_-1_-2</th>\n",
       "      <th>rate_-2_-3</th>\n",
       "      <th>rate_-3_-4</th>\n",
       "      <th>rate_-4_-5</th>\n",
       "      <th>rate_-5_-6</th>\n",
       "      <th>rate_-6_-7</th>\n",
       "      <th>rate_-7_-8</th>\n",
       "      <th>rate_-8_-9</th>\n",
       "      <th>rate_-9_-10</th>\n",
       "      <th>rate_-10_-11</th>\n",
       "      <th>rate_-11_-12</th>\n",
       "      <th>rate_-12_-13</th>\n",
       "      <th>rate_mean</th>\n",
       "    </tr>\n",
       "  </thead>\n",
       "  <tbody>\n",
       "    <tr>\n",
       "      <th>0</th>\n",
       "      <td>C_ID_00007093c1</td>\n",
       "      <td>0.00000</td>\n",
       "      <td>-0.333604</td>\n",
       "      <td>-0.560815</td>\n",
       "      <td>-0.546012</td>\n",
       "      <td>-0.574854</td>\n",
       "      <td>-0.577617</td>\n",
       "      <td>-0.61782</td>\n",
       "      <td>-0.471708</td>\n",
       "      <td>-0.556233</td>\n",
       "      <td>-0.627612</td>\n",
       "      <td>-0.499872</td>\n",
       "      <td>-0.530359</td>\n",
       "      <td>-0.570987</td>\n",
       "      <td>-0.502207</td>\n",
       "      <td>0.134077</td>\n",
       "      <td>1.136956</td>\n",
       "      <td>0.928847</td>\n",
       "      <td>0.942515</td>\n",
       "      <td>1.255546</td>\n",
       "      <td>0.886268</td>\n",
       "      <td>0.848041</td>\n",
       "      <td>1.309750</td>\n",
       "      <td>0.934928</td>\n",
       "      <td>0.995217</td>\n",
       "      <td>0.949826</td>\n",
       "      <td>1.027112</td>\n",
       "      <td>0.594855</td>\n",
       "      <td>-0.000000</td>\n",
       "      <td>0.984155</td>\n",
       "    </tr>\n",
       "    <tr>\n",
       "      <th>114</th>\n",
       "      <td>C_ID_0001506ef0</td>\n",
       "      <td>-0.70859</td>\n",
       "      <td>-0.691466</td>\n",
       "      <td>-0.693088</td>\n",
       "      <td>0.000000</td>\n",
       "      <td>-0.701828</td>\n",
       "      <td>-0.731430</td>\n",
       "      <td>0.01719</td>\n",
       "      <td>-0.108657</td>\n",
       "      <td>-0.168011</td>\n",
       "      <td>-0.290733</td>\n",
       "      <td>-0.513078</td>\n",
       "      <td>-0.607728</td>\n",
       "      <td>-0.453826</td>\n",
       "      <td>-0.155333</td>\n",
       "      <td>0.884295</td>\n",
       "      <td>2.921639</td>\n",
       "      <td>1.339120</td>\n",
       "      <td>0.844256</td>\n",
       "      <td>0.566645</td>\n",
       "      <td>0.577889</td>\n",
       "      <td>0.646722</td>\n",
       "      <td>-0.158208</td>\n",
       "      <td>-42.548931</td>\n",
       "      <td>0.959528</td>\n",
       "      <td>-0.000000</td>\n",
       "      <td>-inf</td>\n",
       "      <td>0.997659</td>\n",
       "      <td>1.024765</td>\n",
       "      <td>-2.735743</td>\n",
       "    </tr>\n",
       "    <tr>\n",
       "      <th>176</th>\n",
       "      <td>C_ID_000183fdda</td>\n",
       "      <td>0.00000</td>\n",
       "      <td>0.000000</td>\n",
       "      <td>0.000000</td>\n",
       "      <td>0.000000</td>\n",
       "      <td>0.000000</td>\n",
       "      <td>0.000000</td>\n",
       "      <td>0.00000</td>\n",
       "      <td>0.000000</td>\n",
       "      <td>-0.632501</td>\n",
       "      <td>-0.602618</td>\n",
       "      <td>-0.373307</td>\n",
       "      <td>-0.497646</td>\n",
       "      <td>-0.270757</td>\n",
       "      <td>-0.558534</td>\n",
       "      <td>-0.264433</td>\n",
       "      <td>0.484763</td>\n",
       "      <td>1.837982</td>\n",
       "      <td>0.750145</td>\n",
       "      <td>1.614268</td>\n",
       "      <td>1.049589</td>\n",
       "      <td>-0.000000</td>\n",
       "      <td>NaN</td>\n",
       "      <td>NaN</td>\n",
       "      <td>NaN</td>\n",
       "      <td>NaN</td>\n",
       "      <td>NaN</td>\n",
       "      <td>NaN</td>\n",
       "      <td>NaN</td>\n",
       "      <td>NaN</td>\n",
       "    </tr>\n",
       "  </tbody>\n",
       "</table>\n",
       "</div>"
      ],
      "text/plain": [
       "             card_id  lag_-13_mean  lag_-12_mean  lag_-11_mean  lag_-10_mean  \\\n",
       "0    C_ID_00007093c1       0.00000     -0.333604     -0.560815     -0.546012   \n",
       "114  C_ID_0001506ef0      -0.70859     -0.691466     -0.693088      0.000000   \n",
       "176  C_ID_000183fdda       0.00000      0.000000      0.000000      0.000000   \n",
       "\n",
       "     lag_-9_mean  lag_-8_mean  lag_-7_mean  lag_-6_mean  lag_-5_mean  \\\n",
       "0      -0.574854    -0.577617     -0.61782    -0.471708    -0.556233   \n",
       "114    -0.701828    -0.731430      0.01719    -0.108657    -0.168011   \n",
       "176     0.000000     0.000000      0.00000     0.000000    -0.632501   \n",
       "\n",
       "     lag_-4_mean  lag_-3_mean  lag_-2_mean  lag_-1_mean  lag_0_mean    target  \\\n",
       "0      -0.627612    -0.499872    -0.530359    -0.570987   -0.502207  0.134077   \n",
       "114    -0.290733    -0.513078    -0.607728    -0.453826   -0.155333  0.884295   \n",
       "176    -0.602618    -0.373307    -0.497646    -0.270757   -0.558534 -0.264433   \n",
       "\n",
       "     rate_0_-1  rate_-1_-2  rate_-2_-3  rate_-3_-4  rate_-4_-5  rate_-5_-6  \\\n",
       "0     1.136956    0.928847    0.942515    1.255546    0.886268    0.848041   \n",
       "114   2.921639    1.339120    0.844256    0.566645    0.577889    0.646722   \n",
       "176   0.484763    1.837982    0.750145    1.614268    1.049589   -0.000000   \n",
       "\n",
       "     rate_-6_-7  rate_-7_-8  rate_-8_-9  rate_-9_-10  rate_-10_-11  \\\n",
       "0      1.309750    0.934928    0.995217     0.949826      1.027112   \n",
       "114   -0.158208  -42.548931    0.959528    -0.000000          -inf   \n",
       "176         NaN         NaN         NaN          NaN           NaN   \n",
       "\n",
       "     rate_-11_-12  rate_-12_-13  rate_mean  \n",
       "0        0.594855     -0.000000   0.984155  \n",
       "114      0.997659      1.024765  -2.735743  \n",
       "176           NaN           NaN        NaN  "
      ]
     },
     "execution_count": 120,
     "metadata": {},
     "output_type": "execute_result"
    }
   ],
   "source": [
    "month_lag_mean.head(3)"
   ]
  },
  {
   "cell_type": "code",
   "execution_count": 121,
   "metadata": {},
   "outputs": [],
   "source": [
    "rate_cols = [x for x in month_lag_mean.columns if 'rate' in x]"
   ]
  },
  {
   "cell_type": "code",
   "execution_count": 127,
   "metadata": {},
   "outputs": [],
   "source": [
    "month_lag_mean['rate_mean'] = month_lag_mean[rate_cols].apply(lambda x: np.mean([rate for rate in x if -1<=rate<=1]), axis=1)"
   ]
  },
  {
   "cell_type": "code",
   "execution_count": 129,
   "metadata": {},
   "outputs": [],
   "source": [
    "month_lag_mean['rate_std'] = month_lag_mean[rate_cols].apply(lambda x: np.std([rate for rate in x if -1<=rate<=1]), axis=1)"
   ]
  },
  {
   "cell_type": "code",
   "execution_count": 135,
   "metadata": {},
   "outputs": [
    {
     "data": {
      "text/plain": [
       "<matplotlib.axes._subplots.AxesSubplot at 0x7fd56decb860>"
      ]
     },
     "execution_count": 135,
     "metadata": {},
     "output_type": "execute_result"
    },
    {
     "data": {
      "image/png": "[encoded data removed]",
      "text/plain": [
       "<Figure size 720x360 with 1 Axes>"
      ]
     },
     "metadata": {
      "needs_background": "light"
     },
     "output_type": "display_data"
    }
   ],
   "source": [
    "plt.figure(figsize=(10, 5))\n",
    "plt.title('X:rate_mean Y:target')\n",
    "sns.scatterplot(x='rate_mean', y='target', data=month_lag_mean)"
   ]
  },
  {
   "cell_type": "code",
   "execution_count": 133,
   "metadata": {},
   "outputs": [
    {
     "data": {
      "text/plain": [
       "<matplotlib.axes._subplots.AxesSubplot at 0x7fd56df06c88>"
      ]
     },
     "execution_count": 133,
     "metadata": {},
     "output_type": "execute_result"
    },
    {
     "data": {
      "image/png": "[encoded data removed]",
      "text/plain": [
       "<Figure size 720x360 with 1 Axes>"
      ]
     },
     "metadata": {
      "needs_background": "light"
     },
     "output_type": "display_data"
    }
   ],
   "source": [
    "plt.figure(figsize=(10, 5))\n",
    "plt.title('X:rate_std Y:target')\n",
    "sns.scatterplot(x='rate_std', y='target', data=month_lag_mean)"
   ]
  },
  {
   "cell_type": "code",
   "execution_count": null,
   "metadata": {},
   "outputs": [],
   "source": []
  }
 ],
 "metadata": {
  "kernelspec": {
   "display_name": "Python 3",
   "language": "python",
   "name": "python3"
  },
  "language_info": {
   "codemirror_mode": {
    "name": "ipython",
    "version": 3
   },
   "file_extension": ".py",
   "mimetype": "text/x-python",
   "name": "python",
   "nbconvert_exporter": "python",
   "pygments_lexer": "ipython3",
   "version": "3.5.2"
  }
 },
 "nbformat": 4,
 "nbformat_minor": 2
}
