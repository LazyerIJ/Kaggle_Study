{
 "cells": [
  {
   "cell_type": "markdown",
   "metadata": {},
   "source": [
    "# 1. 라이브러리 로드"
   ]
  },
  {
   "cell_type": "code",
   "execution_count": 1,
   "metadata": {},
   "outputs": [
    {
     "data": {
      "text/plain": [
       "'D:\\\\kaggle\\\\ELO'"
      ]
     },
     "execution_count": 1,
     "metadata": {},
     "output_type": "execute_result"
    }
   ],
   "source": [
    "import pandas as pd\n",
    "import numpy as np\n",
    "import re\n",
    "import os\n",
    "import datetime\n",
    "import seaborn as sns\n",
    "import matplotlib.pyplot as plt\n",
    "%matplotlib inline\n",
    "import matplotlib.font_manager as fm\n",
    "import matplotlib as mpl\n",
    "plt.rcParams['font.family'] = 'Malgun Gothic'\n",
    "rc={'axes.labelsize': 15, 'font.size': 15, 'legend.fontsize': 12.0, 'axes.titlesize': 20}\n",
    "plt.rcParams.update(**rc)\n",
    "mpl.rcParams['axes.unicode_minus'] = False\n",
    "os.getcwd()"
   ]
  },
  {
   "cell_type": "markdown",
   "metadata": {},
   "source": [
    "# 2. 데이터 로드\n",
    "* train.csv: 학습 데이터\n",
    "* test.csv: 테스트 데이터\n",
    "\n",
    "* sample_submission.csv: 제출 예시 데이터\n",
    "\n",
    "* historical_transactions.csv: 상인 거래 데이터(옛날)\n",
    "* new_merchant_transactions.csv: 상인 거래 데이터(최신) \n",
    "\n",
    "* merchants.csv: 상인관련 지표 데이터\n",
    "\n",
    "* Data_Dictionary.xlsx: 데이터 설명 엑셀"
   ]
  },
  {
   "cell_type": "code",
   "execution_count": 2,
   "metadata": {},
   "outputs": [
    {
     "name": "stdout",
     "output_type": "stream",
     "text": [
      "Wall time: 51.5 s\n"
     ]
    }
   ],
   "source": [
    "%%time\n",
    "train=pd.read_csv(\"D:/kaggle/ELO/data/train.csv\",encoding='utf-8')\n",
    "test=pd.read_csv(\"D:/kaggle/ELO/data/test.csv\",encoding='utf-8')\n",
    "\n",
    "sample_sub=pd.read_csv(\"D:/kaggle/ELO/data/sample_submission.csv\",encoding='utf-8')\n",
    "\n",
    "history_trans=pd.read_csv(\"D:/kaggle/ELO/data/historical_transactions.csv\",encoding='utf-8')\n",
    "new_merchant=pd.read_csv(\"D:/kaggle/ELO/data/new_merchant_transactions.csv\",encoding='utf-8')\n",
    "\n",
    "merchant=pd.read_csv(\"D:/kaggle/ELO/data/merchants.csv\",encoding='utf-8')"
   ]
  },
  {
   "cell_type": "code",
   "execution_count": 3,
   "metadata": {},
   "outputs": [],
   "source": [
    "train_dic=pd.read_excel(\"D:/kaggle/ELO/data/Data_Dictionary.xlsx\",sheet_name = 'train')\n",
    "his_dic=pd.read_excel(\"D:/kaggle/ELO/data/Data_Dictionary.xlsx\",sheet_name = 'history')\n",
    "new_merchant_dic=pd.read_excel(\"D:/kaggle/ELO/data/Data_Dictionary.xlsx\",sheet_name = 'new_merchant_period')\n",
    "merchant_dic=pd.read_excel(\"D:/kaggle/ELO/data/Data_Dictionary.xlsx\",sheet_name = 'merchant')"
   ]
  },
  {
   "cell_type": "markdown",
   "metadata": {},
   "source": [
    "# EDA \n",
    "## 1. train/test"
   ]
  },
  {
   "cell_type": "code",
   "execution_count": 5,
   "metadata": {},
   "outputs": [
    {
     "data": {
      "text/html": [
       "<div>\n",
       "<style scoped>\n",
       "    .dataframe tbody tr th:only-of-type {\n",
       "        vertical-align: middle;\n",
       "    }\n",
       "\n",
       "    .dataframe tbody tr th {\n",
       "        vertical-align: top;\n",
       "    }\n",
       "\n",
       "    .dataframe thead th {\n",
       "        text-align: right;\n",
       "    }\n",
       "</style>\n",
       "<table border=\"1\" class=\"dataframe\">\n",
       "  <thead>\n",
       "    <tr style=\"text-align: right;\">\n",
       "      <th></th>\n",
       "      <th>first_active_month</th>\n",
       "      <th>card_id</th>\n",
       "      <th>feature_1</th>\n",
       "      <th>feature_2</th>\n",
       "      <th>feature_3</th>\n",
       "      <th>target</th>\n",
       "    </tr>\n",
       "  </thead>\n",
       "  <tbody>\n",
       "    <tr>\n",
       "      <td>0</td>\n",
       "      <td>2017-06</td>\n",
       "      <td>C_ID_92a2005557</td>\n",
       "      <td>5</td>\n",
       "      <td>2</td>\n",
       "      <td>1</td>\n",
       "      <td>-0.820283</td>\n",
       "    </tr>\n",
       "    <tr>\n",
       "      <td>1</td>\n",
       "      <td>2017-01</td>\n",
       "      <td>C_ID_3d0044924f</td>\n",
       "      <td>4</td>\n",
       "      <td>1</td>\n",
       "      <td>0</td>\n",
       "      <td>0.392913</td>\n",
       "    </tr>\n",
       "    <tr>\n",
       "      <td>2</td>\n",
       "      <td>2016-08</td>\n",
       "      <td>C_ID_d639edf6cd</td>\n",
       "      <td>2</td>\n",
       "      <td>2</td>\n",
       "      <td>0</td>\n",
       "      <td>0.688056</td>\n",
       "    </tr>\n",
       "    <tr>\n",
       "      <td>3</td>\n",
       "      <td>2017-09</td>\n",
       "      <td>C_ID_186d6a6901</td>\n",
       "      <td>4</td>\n",
       "      <td>3</td>\n",
       "      <td>0</td>\n",
       "      <td>0.142495</td>\n",
       "    </tr>\n",
       "    <tr>\n",
       "      <td>4</td>\n",
       "      <td>2017-11</td>\n",
       "      <td>C_ID_cdbd2c0db2</td>\n",
       "      <td>1</td>\n",
       "      <td>3</td>\n",
       "      <td>0</td>\n",
       "      <td>-0.159749</td>\n",
       "    </tr>\n",
       "  </tbody>\n",
       "</table>\n",
       "</div>"
      ],
      "text/plain": [
       "  first_active_month          card_id  feature_1  feature_2  feature_3  \\\n",
       "0            2017-06  C_ID_92a2005557          5          2          1   \n",
       "1            2017-01  C_ID_3d0044924f          4          1          0   \n",
       "2            2016-08  C_ID_d639edf6cd          2          2          0   \n",
       "3            2017-09  C_ID_186d6a6901          4          3          0   \n",
       "4            2017-11  C_ID_cdbd2c0db2          1          3          0   \n",
       "\n",
       "     target  \n",
       "0 -0.820283  \n",
       "1  0.392913  \n",
       "2  0.688056  \n",
       "3  0.142495  \n",
       "4 -0.159749  "
      ]
     },
     "execution_count": 5,
     "metadata": {},
     "output_type": "execute_result"
    }
   ],
   "source": [
    "train.head()\n",
    "#train.info()\n",
    "\n",
    "#test.head()\n",
    "#test.info()"
   ]
  },
  {
   "cell_type": "markdown",
   "metadata": {},
   "source": [
    "### first_active_month "
   ]
  },
  {
   "cell_type": "code",
   "execution_count": 6,
   "metadata": {},
   "outputs": [
    {
     "data": {
      "text/plain": [
       "[Text(0, 0, '2011-11'),\n",
       " Text(0, 0, '2011-12'),\n",
       " Text(0, 0, '2012-02'),\n",
       " Text(0, 0, '2012-03'),\n",
       " Text(0, 0, '2012-04'),\n",
       " Text(0, 0, '2012-05'),\n",
       " Text(0, 0, '2012-06'),\n",
       " Text(0, 0, '2012-07'),\n",
       " Text(0, 0, '2012-08'),\n",
       " Text(0, 0, '2012-09'),\n",
       " Text(0, 0, '2012-10'),\n",
       " Text(0, 0, '2012-11'),\n",
       " Text(0, 0, '2012-12'),\n",
       " Text(0, 0, '2013-01'),\n",
       " Text(0, 0, '2013-02'),\n",
       " Text(0, 0, '2013-03'),\n",
       " Text(0, 0, '2013-04'),\n",
       " Text(0, 0, '2013-05'),\n",
       " Text(0, 0, '2013-06'),\n",
       " Text(0, 0, '2013-07'),\n",
       " Text(0, 0, '2013-08'),\n",
       " Text(0, 0, '2013-09'),\n",
       " Text(0, 0, '2013-10'),\n",
       " Text(0, 0, '2013-11'),\n",
       " Text(0, 0, '2013-12'),\n",
       " Text(0, 0, '2014-01'),\n",
       " Text(0, 0, '2014-02'),\n",
       " Text(0, 0, '2014-03'),\n",
       " Text(0, 0, '2014-04'),\n",
       " Text(0, 0, '2014-05'),\n",
       " Text(0, 0, '2014-06'),\n",
       " Text(0, 0, '2014-07'),\n",
       " Text(0, 0, '2014-08'),\n",
       " Text(0, 0, '2014-09'),\n",
       " Text(0, 0, '2014-10'),\n",
       " Text(0, 0, '2014-11'),\n",
       " Text(0, 0, '2014-12'),\n",
       " Text(0, 0, '2015-01'),\n",
       " Text(0, 0, '2015-02'),\n",
       " Text(0, 0, '2015-03'),\n",
       " Text(0, 0, '2015-04'),\n",
       " Text(0, 0, '2015-05'),\n",
       " Text(0, 0, '2015-06'),\n",
       " Text(0, 0, '2015-07'),\n",
       " Text(0, 0, '2015-08'),\n",
       " Text(0, 0, '2015-09'),\n",
       " Text(0, 0, '2015-10'),\n",
       " Text(0, 0, '2015-11'),\n",
       " Text(0, 0, '2015-12'),\n",
       " Text(0, 0, '2016-01'),\n",
       " Text(0, 0, '2016-02'),\n",
       " Text(0, 0, '2016-03'),\n",
       " Text(0, 0, '2016-04'),\n",
       " Text(0, 0, '2016-05'),\n",
       " Text(0, 0, '2016-06'),\n",
       " Text(0, 0, '2016-07'),\n",
       " Text(0, 0, '2016-08'),\n",
       " Text(0, 0, '2016-09'),\n",
       " Text(0, 0, '2016-10'),\n",
       " Text(0, 0, '2016-11'),\n",
       " Text(0, 0, '2016-12'),\n",
       " Text(0, 0, '2017-01'),\n",
       " Text(0, 0, '2017-02'),\n",
       " Text(0, 0, '2017-03'),\n",
       " Text(0, 0, '2017-04'),\n",
       " Text(0, 0, '2017-05'),\n",
       " Text(0, 0, '2017-06'),\n",
       " Text(0, 0, '2017-07'),\n",
       " Text(0, 0, '2017-08'),\n",
       " Text(0, 0, '2017-09'),\n",
       " Text(0, 0, '2017-10'),\n",
       " Text(0, 0, '2017-11'),\n",
       " Text(0, 0, '2017-12'),\n",
       " Text(0, 0, '2018-01'),\n",
       " Text(0, 0, '2018-02')]"
      ]
     },
     "execution_count": 6,
     "metadata": {},
     "output_type": "execute_result"
    },
    {
     "data": {
      "image/png": "[encoded data removed]",
      "text/plain": [
       "<Figure size 1440x720 with 1 Axes>"
      ]
     },
     "metadata": {
      "needs_background": "light"
     },
     "output_type": "display_data"
    }
   ],
   "source": [
    "### first_active_month \n",
    "plt.figure(figsize=(20,10))\n",
    "plt.title(\"[train] first_active_month 분포\",size=20)\n",
    "first_active_month=sns.countplot(x=train.first_active_month,palette='Spectral',\n",
    "            order = np.sort(train.first_active_month.value_counts().index))\n",
    "first_active_month.set_xticklabels(first_active_month.get_xticklabels(), rotation=90, size=15)"
   ]
  },
  {
   "cell_type": "code",
   "execution_count": 7,
   "metadata": {
    "scrolled": true
   },
   "outputs": [
    {
     "data": {
      "text/plain": [
       "[Text(0, 0, '2011-11'),\n",
       " Text(0, 0, '2011-12'),\n",
       " Text(0, 0, '2012-01'),\n",
       " Text(0, 0, '2012-02'),\n",
       " Text(0, 0, '2012-03'),\n",
       " Text(0, 0, '2012-04'),\n",
       " Text(0, 0, '2012-05'),\n",
       " Text(0, 0, '2012-06'),\n",
       " Text(0, 0, '2012-07'),\n",
       " Text(0, 0, '2012-08'),\n",
       " Text(0, 0, '2012-09'),\n",
       " Text(0, 0, '2012-10'),\n",
       " Text(0, 0, '2012-11'),\n",
       " Text(0, 0, '2012-12'),\n",
       " Text(0, 0, '2013-01'),\n",
       " Text(0, 0, '2013-02'),\n",
       " Text(0, 0, '2013-03'),\n",
       " Text(0, 0, '2013-04'),\n",
       " Text(0, 0, '2013-05'),\n",
       " Text(0, 0, '2013-06'),\n",
       " Text(0, 0, '2013-07'),\n",
       " Text(0, 0, '2013-08'),\n",
       " Text(0, 0, '2013-09'),\n",
       " Text(0, 0, '2013-10'),\n",
       " Text(0, 0, '2013-11'),\n",
       " Text(0, 0, '2013-12'),\n",
       " Text(0, 0, '2014-01'),\n",
       " Text(0, 0, '2014-02'),\n",
       " Text(0, 0, '2014-03'),\n",
       " Text(0, 0, '2014-04'),\n",
       " Text(0, 0, '2014-05'),\n",
       " Text(0, 0, '2014-06'),\n",
       " Text(0, 0, '2014-07'),\n",
       " Text(0, 0, '2014-08'),\n",
       " Text(0, 0, '2014-09'),\n",
       " Text(0, 0, '2014-10'),\n",
       " Text(0, 0, '2014-11'),\n",
       " Text(0, 0, '2014-12'),\n",
       " Text(0, 0, '2015-01'),\n",
       " Text(0, 0, '2015-02'),\n",
       " Text(0, 0, '2015-03'),\n",
       " Text(0, 0, '2015-04'),\n",
       " Text(0, 0, '2015-05'),\n",
       " Text(0, 0, '2015-06'),\n",
       " Text(0, 0, '2015-07'),\n",
       " Text(0, 0, '2015-08'),\n",
       " Text(0, 0, '2015-09'),\n",
       " Text(0, 0, '2015-10'),\n",
       " Text(0, 0, '2015-11'),\n",
       " Text(0, 0, '2015-12'),\n",
       " Text(0, 0, '2016-01'),\n",
       " Text(0, 0, '2016-02'),\n",
       " Text(0, 0, '2016-03'),\n",
       " Text(0, 0, '2016-04'),\n",
       " Text(0, 0, '2016-05'),\n",
       " Text(0, 0, '2016-06'),\n",
       " Text(0, 0, '2016-07'),\n",
       " Text(0, 0, '2016-08'),\n",
       " Text(0, 0, '2016-09'),\n",
       " Text(0, 0, '2016-10'),\n",
       " Text(0, 0, '2016-11'),\n",
       " Text(0, 0, '2016-12'),\n",
       " Text(0, 0, '2017-01'),\n",
       " Text(0, 0, '2017-02'),\n",
       " Text(0, 0, '2017-03'),\n",
       " Text(0, 0, '2017-04'),\n",
       " Text(0, 0, '2017-05'),\n",
       " Text(0, 0, '2017-06'),\n",
       " Text(0, 0, '2017-07'),\n",
       " Text(0, 0, '2017-08'),\n",
       " Text(0, 0, '2017-09'),\n",
       " Text(0, 0, '2017-10'),\n",
       " Text(0, 0, '2017-11'),\n",
       " Text(0, 0, '2017-12'),\n",
       " Text(0, 0, '2018-01')]"
      ]
     },
     "execution_count": 7,
     "metadata": {},
     "output_type": "execute_result"
    },
    {
     "data": {
      "image/png": "[encoded data removed]",
      "text/plain": [
       "<Figure size 1440x720 with 1 Axes>"
      ]
     },
     "metadata": {
      "needs_background": "light"
     },
     "output_type": "display_data"
    }
   ],
   "source": [
    "### first_active_month \n",
    "plt.figure(figsize=(20,10))\n",
    "plt.title(\"[test] first_active_month 분포\",size=20)\n",
    "first_active_month=sns.countplot(x=test.first_active_month,palette='Spectral',\n",
    "            order = np.sort(test.first_active_month.value_counts().index))\n",
    "first_active_month.set_xticklabels(first_active_month.get_xticklabels(), rotation=90, size=15)"
   ]
  },
  {
   "cell_type": "markdown",
   "metadata": {},
   "source": [
    "### feature 1/2/3"
   ]
  },
  {
   "cell_type": "code",
   "execution_count": 8,
   "metadata": {
    "scrolled": true
   },
   "outputs": [
    {
     "data": {
      "image/png": "[encoded data removed]",
      "text/plain": [
       "<Figure size 1152x432 with 3 Axes>"
      ]
     },
     "metadata": {
      "needs_background": "light"
     },
     "output_type": "display_data"
    }
   ],
   "source": [
    "fig, ax = plt.subplots(1, 3, figsize = (16, 6));\n",
    "train['feature_1'].value_counts().sort_index().plot(kind='bar', ax=ax[0], color='teal', title='feature_1');\n",
    "train['feature_2'].value_counts().sort_index().plot(kind='bar', ax=ax[1], color='brown', title='feature_2');\n",
    "train['feature_3'].value_counts().sort_index().plot(kind='bar', ax=ax[2], color='gold', title='feature_3');\n",
    "plt.suptitle('feature 1/2/3 분포',size=20);"
   ]
  },
  {
   "cell_type": "markdown",
   "metadata": {},
   "source": [
    "### target"
   ]
  },
  {
   "cell_type": "code",
   "execution_count": 9,
   "metadata": {},
   "outputs": [
    {
     "data": {
      "text/plain": [
       "<matplotlib.axes._subplots.AxesSubplot at 0x15b81050a88>"
      ]
     },
     "execution_count": 9,
     "metadata": {},
     "output_type": "execute_result"
    },
    {
     "data": {
      "image/png": "[encoded data removed]",
      "text/plain": [
       "<Figure size 720x360 with 1 Axes>"
      ]
     },
     "metadata": {
      "needs_background": "light"
     },
     "output_type": "display_data"
    }
   ],
   "source": [
    "plt.figure(figsize=(10,5))\n",
    "plt.title(\"Target(충성도, 종속변수) 분포\",size=20)\n",
    "sns.distplot(train.target)"
   ]
  },
  {
   "cell_type": "code",
   "execution_count": 10,
   "metadata": {},
   "outputs": [
    {
     "name": "stdout",
     "output_type": "stream",
     "text": [
      "-30 이하 target 값은 2207 개.\n"
     ]
    }
   ],
   "source": [
    "print('-30 이하 target 값은 {} 개.'.format(len(train.loc[train.target < -30])))"
   ]
  },
  {
   "cell_type": "markdown",
   "metadata": {},
   "source": [
    "## 2. transactions(historical / new)"
   ]
  },
  {
   "cell_type": "code",
   "execution_count": 11,
   "metadata": {
    "scrolled": true
   },
   "outputs": [
    {
     "name": "stdout",
     "output_type": "stream",
     "text": [
      "<class 'pandas.core.frame.DataFrame'>\n",
      "RangeIndex: 29112361 entries, 0 to 29112360\n",
      "Data columns (total 14 columns):\n",
      "authorized_flag         object\n",
      "card_id                 object\n",
      "city_id                 int64\n",
      "category_1              object\n",
      "installments            int64\n",
      "category_3              object\n",
      "merchant_category_id    int64\n",
      "merchant_id             object\n",
      "month_lag               int64\n",
      "purchase_amount         float64\n",
      "purchase_date           object\n",
      "category_2              float64\n",
      "state_id                int64\n",
      "subsector_id            int64\n",
      "dtypes: float64(2), int64(6), object(6)\n",
      "memory usage: 3.0+ GB\n"
     ]
    }
   ],
   "source": [
    "history_trans.head()\n",
    "history_trans.info()"
   ]
  },
  {
   "cell_type": "code",
   "execution_count": 12,
   "metadata": {},
   "outputs": [
    {
     "data": {
      "text/html": [
       "<div>\n",
       "<style scoped>\n",
       "    .dataframe tbody tr th:only-of-type {\n",
       "        vertical-align: middle;\n",
       "    }\n",
       "\n",
       "    .dataframe tbody tr th {\n",
       "        vertical-align: top;\n",
       "    }\n",
       "\n",
       "    .dataframe thead th {\n",
       "        text-align: right;\n",
       "    }\n",
       "</style>\n",
       "<table border=\"1\" class=\"dataframe\">\n",
       "  <thead>\n",
       "    <tr style=\"text-align: right;\">\n",
       "      <th></th>\n",
       "      <th>열이름</th>\n",
       "      <th>NA개수</th>\n",
       "      <th>NA비율(%)</th>\n",
       "    </tr>\n",
       "  </thead>\n",
       "  <tbody>\n",
       "    <tr>\n",
       "      <td>0</td>\n",
       "      <td>authorized_flag</td>\n",
       "      <td>0</td>\n",
       "      <td>0.000000</td>\n",
       "    </tr>\n",
       "    <tr>\n",
       "      <td>1</td>\n",
       "      <td>card_id</td>\n",
       "      <td>0</td>\n",
       "      <td>0.000000</td>\n",
       "    </tr>\n",
       "    <tr>\n",
       "      <td>2</td>\n",
       "      <td>city_id</td>\n",
       "      <td>0</td>\n",
       "      <td>0.000000</td>\n",
       "    </tr>\n",
       "    <tr>\n",
       "      <td>3</td>\n",
       "      <td>category_1</td>\n",
       "      <td>0</td>\n",
       "      <td>0.000000</td>\n",
       "    </tr>\n",
       "    <tr>\n",
       "      <td>4</td>\n",
       "      <td>installments</td>\n",
       "      <td>0</td>\n",
       "      <td>0.000000</td>\n",
       "    </tr>\n",
       "    <tr>\n",
       "      <td>5</td>\n",
       "      <td>category_3</td>\n",
       "      <td>178159</td>\n",
       "      <td>0.611970</td>\n",
       "    </tr>\n",
       "    <tr>\n",
       "      <td>6</td>\n",
       "      <td>merchant_category_id</td>\n",
       "      <td>0</td>\n",
       "      <td>0.000000</td>\n",
       "    </tr>\n",
       "    <tr>\n",
       "      <td>7</td>\n",
       "      <td>merchant_id</td>\n",
       "      <td>138481</td>\n",
       "      <td>0.475678</td>\n",
       "    </tr>\n",
       "    <tr>\n",
       "      <td>8</td>\n",
       "      <td>month_lag</td>\n",
       "      <td>0</td>\n",
       "      <td>0.000000</td>\n",
       "    </tr>\n",
       "    <tr>\n",
       "      <td>9</td>\n",
       "      <td>purchase_amount</td>\n",
       "      <td>0</td>\n",
       "      <td>0.000000</td>\n",
       "    </tr>\n",
       "    <tr>\n",
       "      <td>10</td>\n",
       "      <td>purchase_date</td>\n",
       "      <td>0</td>\n",
       "      <td>0.000000</td>\n",
       "    </tr>\n",
       "    <tr>\n",
       "      <td>11</td>\n",
       "      <td>category_2</td>\n",
       "      <td>2652864</td>\n",
       "      <td>9.112500</td>\n",
       "    </tr>\n",
       "    <tr>\n",
       "      <td>12</td>\n",
       "      <td>state_id</td>\n",
       "      <td>0</td>\n",
       "      <td>0.000000</td>\n",
       "    </tr>\n",
       "    <tr>\n",
       "      <td>13</td>\n",
       "      <td>subsector_id</td>\n",
       "      <td>0</td>\n",
       "      <td>0.000000</td>\n",
       "    </tr>\n",
       "  </tbody>\n",
       "</table>\n",
       "</div>"
      ],
      "text/plain": [
       "                     열이름     NA개수   NA비율(%)\n",
       "0        authorized_flag        0  0.000000\n",
       "1                card_id        0  0.000000\n",
       "2                city_id        0  0.000000\n",
       "3             category_1        0  0.000000\n",
       "4           installments        0  0.000000\n",
       "5             category_3   178159  0.611970\n",
       "6   merchant_category_id        0  0.000000\n",
       "7            merchant_id   138481  0.475678\n",
       "8              month_lag        0  0.000000\n",
       "9        purchase_amount        0  0.000000\n",
       "10         purchase_date        0  0.000000\n",
       "11            category_2  2652864  9.112500\n",
       "12              state_id        0  0.000000\n",
       "13          subsector_id        0  0.000000"
      ]
     },
     "execution_count": 12,
     "metadata": {},
     "output_type": "execute_result"
    }
   ],
   "source": [
    "colname=[]\n",
    "na_count=[]\n",
    "\n",
    "for column in history_trans.columns.values:\n",
    "    colname.append(column)\n",
    "    na_count.append(history_trans['{}'.format(column)].isna().sum())\n",
    "    \n",
    "                    \n",
    "col=pd.DataFrame(colname,columns=['열이름'])\n",
    "count=pd.DataFrame(na_count,columns=['NA개수'])\n",
    "\n",
    "\n",
    "na_df=pd.concat([col,count],axis=1)\n",
    "na_df['NA비율(%)']=na_df['NA개수']/len(history_trans.card_id)*100\n",
    "na_df"
   ]
  },
  {
   "cell_type": "code",
   "execution_count": 13,
   "metadata": {},
   "outputs": [
    {
     "name": "stdout",
     "output_type": "stream",
     "text": [
      "Purchase date 기간: 2017-01-01 00:00:08 ~ 2018-02-28 23:59:51\n"
     ]
    }
   ],
   "source": [
    "print('Purchase date 기간:',min(history_trans.purchase_date),'~',max(history_trans.purchase_date))"
   ]
  },
  {
   "cell_type": "markdown",
   "metadata": {},
   "source": [
    "### month_lag"
   ]
  },
  {
   "cell_type": "code",
   "execution_count": 14,
   "metadata": {},
   "outputs": [
    {
     "data": {
      "image/png": "[encoded data removed]",
      "text/plain": [
       "<Figure size 360x360 with 1 Axes>"
      ]
     },
     "metadata": {
      "needs_background": "light"
     },
     "output_type": "display_data"
    }
   ],
   "source": [
    "### first_active_month \n",
    "plt.figure(figsize=(5,5))\n",
    "plt.title(\"month_lag 분포\",size=20)\n",
    "month_lag=sns.countplot(x=history_trans.month_lag,palette='Spectral')\n",
    "#first_active_month.set_xticklabels(first_active_month.get_xticklabels(), rotation=90, size=15)"
   ]
  },
  {
   "cell_type": "markdown",
   "metadata": {},
   "source": [
    "### authorized_flag"
   ]
  },
  {
   "cell_type": "code",
   "execution_count": 15,
   "metadata": {},
   "outputs": [
    {
     "data": {
      "image/png": "[encoded data removed]",
      "text/plain": [
       "<Figure size 360x360 with 1 Axes>"
      ]
     },
     "metadata": {
      "needs_background": "light"
     },
     "output_type": "display_data"
    }
   ],
   "source": [
    "### authorized_flag\n",
    "plt.figure(figsize=(5,5))\n",
    "plt.title(\"authorized_flag 분포\",size=20)\n",
    "authorized_flag=sns.countplot(x=history_trans.authorized_flag,palette='Set1')\n",
    "#city_id.set_xticklabels(city_id.get_xticklabels(), rotation=90, size=15)"
   ]
  },
  {
   "cell_type": "code",
   "execution_count": 16,
   "metadata": {},
   "outputs": [
    {
     "name": "stdout",
     "output_type": "stream",
     "text": [
      "26595452\n",
      "2516909\n"
     ]
    }
   ],
   "source": [
    "print(len(history_trans.loc[history_trans.authorized_flag=='Y']))\n",
    "print(len(history_trans.loc[history_trans.authorized_flag!='Y']))"
   ]
  },
  {
   "cell_type": "markdown",
   "metadata": {},
   "source": [
    "### category_3"
   ]
  },
  {
   "cell_type": "code",
   "execution_count": 17,
   "metadata": {},
   "outputs": [
    {
     "data": {
      "image/png": "[encoded data removed]",
      "text/plain": [
       "<Figure size 360x360 with 1 Axes>"
      ]
     },
     "metadata": {
      "needs_background": "light"
     },
     "output_type": "display_data"
    }
   ],
   "source": [
    "### category_3\n",
    "plt.figure(figsize=(5,5))\n",
    "plt.title(\"category_3 분포\",size=20)\n",
    "category_3=sns.countplot(x=history_trans.category_3,palette='Set1')\n",
    "#city_id.set_xticklabels(city_id.get_xticklabels(), rotation=90, size=15)"
   ]
  },
  {
   "cell_type": "code",
   "execution_count": 18,
   "metadata": {},
   "outputs": [
    {
     "data": {
      "text/plain": [
       "178159"
      ]
     },
     "execution_count": 18,
     "metadata": {},
     "output_type": "execute_result"
    }
   ],
   "source": [
    "history_trans.category_3.isna().sum()"
   ]
  },
  {
   "cell_type": "markdown",
   "metadata": {},
   "source": [
    "### installments"
   ]
  },
  {
   "cell_type": "code",
   "execution_count": 19,
   "metadata": {},
   "outputs": [
    {
     "data": {
      "image/png": "[encoded data removed]",
      "text/plain": [
       "<Figure size 360x360 with 1 Axes>"
      ]
     },
     "metadata": {
      "needs_background": "light"
     },
     "output_type": "display_data"
    }
   ],
   "source": [
    "### installments\n",
    "plt.figure(figsize=(5,5))\n",
    "plt.title(\"installments 분포\",size=20)\n",
    "installments=sns.countplot(x=history_trans.installments,palette='Set1')\n",
    "#city_id.set_xticklabels(city_id.get_xticklabels(), rotation=90, size=15)"
   ]
  },
  {
   "cell_type": "markdown",
   "metadata": {},
   "source": [
    "### category_1"
   ]
  },
  {
   "cell_type": "code",
   "execution_count": 20,
   "metadata": {
    "scrolled": true
   },
   "outputs": [
    {
     "data": {
      "image/png": "[encoded data removed]",
      "text/plain": [
       "<Figure size 360x360 with 1 Axes>"
      ]
     },
     "metadata": {
      "needs_background": "light"
     },
     "output_type": "display_data"
    }
   ],
   "source": [
    "### category_1\n",
    "plt.figure(figsize=(5,5))\n",
    "plt.title(\"category_1 분포\",size=20)\n",
    "category_1=sns.countplot(x=history_trans.category_1,palette='Set1')\n",
    "#city_id.set_xticklabels(city_id.get_xticklabels(), rotation=90, size=15)"
   ]
  },
  {
   "cell_type": "markdown",
   "metadata": {},
   "source": [
    "### merchant_category_id"
   ]
  },
  {
   "cell_type": "code",
   "execution_count": 21,
   "metadata": {},
   "outputs": [
    {
     "data": {
      "image/png": "[encoded data removed]",
      "text/plain": [
       "<Figure size 360x10800 with 1 Axes>"
      ]
     },
     "metadata": {
      "needs_background": "light"
     },
     "output_type": "display_data"
    }
   ],
   "source": [
    "### merchant_category_id\n",
    "plt.figure(figsize=(5,150))\n",
    "plt.title(\"merchant_category_id 분포\",size=20)\n",
    "merchant_category_id=sns.countplot(y=history_trans.merchant_category_id,palette='Set1')\n",
    "#city_id.set_xticklabels(city_id.get_xticklabels(), rotation=90, size=15)"
   ]
  },
  {
   "cell_type": "code",
   "execution_count": 22,
   "metadata": {},
   "outputs": [
    {
     "data": {
      "text/html": [
       "<div>\n",
       "<style scoped>\n",
       "    .dataframe tbody tr th:only-of-type {\n",
       "        vertical-align: middle;\n",
       "    }\n",
       "\n",
       "    .dataframe tbody tr th {\n",
       "        vertical-align: top;\n",
       "    }\n",
       "\n",
       "    .dataframe thead th {\n",
       "        text-align: right;\n",
       "    }\n",
       "</style>\n",
       "<table border=\"1\" class=\"dataframe\">\n",
       "  <thead>\n",
       "    <tr style=\"text-align: right;\">\n",
       "      <th></th>\n",
       "      <th>merchant_category_id</th>\n",
       "    </tr>\n",
       "  </thead>\n",
       "  <tbody>\n",
       "    <tr>\n",
       "      <td>705</td>\n",
       "      <td>5554009</td>\n",
       "    </tr>\n",
       "    <tr>\n",
       "      <td>307</td>\n",
       "      <td>3057930</td>\n",
       "    </tr>\n",
       "    <tr>\n",
       "      <td>278</td>\n",
       "      <td>2254227</td>\n",
       "    </tr>\n",
       "    <tr>\n",
       "      <td>80</td>\n",
       "      <td>1929413</td>\n",
       "    </tr>\n",
       "    <tr>\n",
       "      <td>367</td>\n",
       "      <td>1608239</td>\n",
       "    </tr>\n",
       "    <tr>\n",
       "      <td>...</td>\n",
       "      <td>...</td>\n",
       "    </tr>\n",
       "    <tr>\n",
       "      <td>311</td>\n",
       "      <td>1</td>\n",
       "    </tr>\n",
       "    <tr>\n",
       "      <td>322</td>\n",
       "      <td>1</td>\n",
       "    </tr>\n",
       "    <tr>\n",
       "      <td>882</td>\n",
       "      <td>1</td>\n",
       "    </tr>\n",
       "    <tr>\n",
       "      <td>86</td>\n",
       "      <td>1</td>\n",
       "    </tr>\n",
       "    <tr>\n",
       "      <td>687</td>\n",
       "      <td>1</td>\n",
       "    </tr>\n",
       "  </tbody>\n",
       "</table>\n",
       "<p>327 rows × 1 columns</p>\n",
       "</div>"
      ],
      "text/plain": [
       "     merchant_category_id\n",
       "705               5554009\n",
       "307               3057930\n",
       "278               2254227\n",
       "80                1929413\n",
       "367               1608239\n",
       "..                    ...\n",
       "311                     1\n",
       "322                     1\n",
       "882                     1\n",
       "86                      1\n",
       "687                     1\n",
       "\n",
       "[327 rows x 1 columns]"
      ]
     },
     "execution_count": 22,
     "metadata": {},
     "output_type": "execute_result"
    }
   ],
   "source": [
    "pd.DataFrame(history_trans.merchant_category_id.value_counts())"
   ]
  },
  {
   "cell_type": "markdown",
   "metadata": {},
   "source": [
    "### subsector_id"
   ]
  },
  {
   "cell_type": "code",
   "execution_count": 23,
   "metadata": {},
   "outputs": [
    {
     "data": {
      "image/png": "[encoded data removed]",
      "text/plain": [
       "<Figure size 360x576 with 1 Axes>"
      ]
     },
     "metadata": {
      "needs_background": "light"
     },
     "output_type": "display_data"
    }
   ],
   "source": [
    "### subsector_id\n",
    "plt.figure(figsize=(5,8))\n",
    "plt.title(\"subsector_id 분포\",size=20)\n",
    "subsector_id=sns.countplot(y=history_trans.subsector_id,palette='Set1')\n",
    "#city_id.set_xticklabels(city_id.get_xticklabels(), rotation=90, size=15)"
   ]
  },
  {
   "cell_type": "code",
   "execution_count": 24,
   "metadata": {
    "scrolled": true
   },
   "outputs": [
    {
     "data": {
      "text/html": [
       "<div>\n",
       "<style scoped>\n",
       "    .dataframe tbody tr th:only-of-type {\n",
       "        vertical-align: middle;\n",
       "    }\n",
       "\n",
       "    .dataframe tbody tr th {\n",
       "        vertical-align: top;\n",
       "    }\n",
       "\n",
       "    .dataframe thead th {\n",
       "        text-align: right;\n",
       "    }\n",
       "</style>\n",
       "<table border=\"1\" class=\"dataframe\">\n",
       "  <thead>\n",
       "    <tr style=\"text-align: right;\">\n",
       "      <th></th>\n",
       "      <th>subsector_id</th>\n",
       "    </tr>\n",
       "  </thead>\n",
       "  <tbody>\n",
       "    <tr>\n",
       "      <td>33</td>\n",
       "      <td>5594146</td>\n",
       "    </tr>\n",
       "    <tr>\n",
       "      <td>37</td>\n",
       "      <td>4531755</td>\n",
       "    </tr>\n",
       "    <tr>\n",
       "      <td>19</td>\n",
       "      <td>3147440</td>\n",
       "    </tr>\n",
       "    <tr>\n",
       "      <td>29</td>\n",
       "      <td>2813095</td>\n",
       "    </tr>\n",
       "    <tr>\n",
       "      <td>34</td>\n",
       "      <td>2759431</td>\n",
       "    </tr>\n",
       "    <tr>\n",
       "      <td>27</td>\n",
       "      <td>1658301</td>\n",
       "    </tr>\n",
       "    <tr>\n",
       "      <td>16</td>\n",
       "      <td>1651384</td>\n",
       "    </tr>\n",
       "    <tr>\n",
       "      <td>21</td>\n",
       "      <td>837612</td>\n",
       "    </tr>\n",
       "    <tr>\n",
       "      <td>7</td>\n",
       "      <td>711977</td>\n",
       "    </tr>\n",
       "    <tr>\n",
       "      <td>1</td>\n",
       "      <td>695263</td>\n",
       "    </tr>\n",
       "    <tr>\n",
       "      <td>15</td>\n",
       "      <td>665634</td>\n",
       "    </tr>\n",
       "    <tr>\n",
       "      <td>8</td>\n",
       "      <td>541510</td>\n",
       "    </tr>\n",
       "    <tr>\n",
       "      <td>18</td>\n",
       "      <td>395679</td>\n",
       "    </tr>\n",
       "    <tr>\n",
       "      <td>36</td>\n",
       "      <td>331696</td>\n",
       "    </tr>\n",
       "    <tr>\n",
       "      <td>20</td>\n",
       "      <td>299301</td>\n",
       "    </tr>\n",
       "    <tr>\n",
       "      <td>30</td>\n",
       "      <td>292335</td>\n",
       "    </tr>\n",
       "    <tr>\n",
       "      <td>39</td>\n",
       "      <td>259206</td>\n",
       "    </tr>\n",
       "    <tr>\n",
       "      <td>25</td>\n",
       "      <td>259053</td>\n",
       "    </tr>\n",
       "    <tr>\n",
       "      <td>41</td>\n",
       "      <td>196118</td>\n",
       "    </tr>\n",
       "    <tr>\n",
       "      <td>12</td>\n",
       "      <td>192067</td>\n",
       "    </tr>\n",
       "    <tr>\n",
       "      <td>22</td>\n",
       "      <td>179252</td>\n",
       "    </tr>\n",
       "    <tr>\n",
       "      <td>31</td>\n",
       "      <td>142945</td>\n",
       "    </tr>\n",
       "    <tr>\n",
       "      <td>17</td>\n",
       "      <td>132915</td>\n",
       "    </tr>\n",
       "    <tr>\n",
       "      <td>32</td>\n",
       "      <td>129516</td>\n",
       "    </tr>\n",
       "    <tr>\n",
       "      <td>2</td>\n",
       "      <td>110596</td>\n",
       "    </tr>\n",
       "    <tr>\n",
       "      <td>38</td>\n",
       "      <td>89005</td>\n",
       "    </tr>\n",
       "    <tr>\n",
       "      <td>3</td>\n",
       "      <td>87853</td>\n",
       "    </tr>\n",
       "    <tr>\n",
       "      <td>10</td>\n",
       "      <td>81954</td>\n",
       "    </tr>\n",
       "    <tr>\n",
       "      <td>9</td>\n",
       "      <td>77760</td>\n",
       "    </tr>\n",
       "    <tr>\n",
       "      <td>4</td>\n",
       "      <td>59102</td>\n",
       "    </tr>\n",
       "    <tr>\n",
       "      <td>35</td>\n",
       "      <td>39269</td>\n",
       "    </tr>\n",
       "    <tr>\n",
       "      <td>26</td>\n",
       "      <td>25140</td>\n",
       "    </tr>\n",
       "    <tr>\n",
       "      <td>13</td>\n",
       "      <td>23388</td>\n",
       "    </tr>\n",
       "    <tr>\n",
       "      <td>5</td>\n",
       "      <td>23171</td>\n",
       "    </tr>\n",
       "    <tr>\n",
       "      <td>14</td>\n",
       "      <td>21825</td>\n",
       "    </tr>\n",
       "    <tr>\n",
       "      <td>23</td>\n",
       "      <td>19724</td>\n",
       "    </tr>\n",
       "    <tr>\n",
       "      <td>24</td>\n",
       "      <td>18134</td>\n",
       "    </tr>\n",
       "    <tr>\n",
       "      <td>40</td>\n",
       "      <td>13424</td>\n",
       "    </tr>\n",
       "    <tr>\n",
       "      <td>-1</td>\n",
       "      <td>2252</td>\n",
       "    </tr>\n",
       "    <tr>\n",
       "      <td>11</td>\n",
       "      <td>2009</td>\n",
       "    </tr>\n",
       "    <tr>\n",
       "      <td>28</td>\n",
       "      <td>124</td>\n",
       "    </tr>\n",
       "  </tbody>\n",
       "</table>\n",
       "</div>"
      ],
      "text/plain": [
       "     subsector_id\n",
       " 33       5594146\n",
       " 37       4531755\n",
       " 19       3147440\n",
       " 29       2813095\n",
       " 34       2759431\n",
       " 27       1658301\n",
       " 16       1651384\n",
       " 21        837612\n",
       " 7         711977\n",
       " 1         695263\n",
       " 15        665634\n",
       " 8         541510\n",
       " 18        395679\n",
       " 36        331696\n",
       " 20        299301\n",
       " 30        292335\n",
       " 39        259206\n",
       " 25        259053\n",
       " 41        196118\n",
       " 12        192067\n",
       " 22        179252\n",
       " 31        142945\n",
       " 17        132915\n",
       " 32        129516\n",
       " 2         110596\n",
       " 38         89005\n",
       " 3          87853\n",
       " 10         81954\n",
       " 9          77760\n",
       " 4          59102\n",
       " 35         39269\n",
       " 26         25140\n",
       " 13         23388\n",
       " 5          23171\n",
       " 14         21825\n",
       " 23         19724\n",
       " 24         18134\n",
       " 40         13424\n",
       "-1           2252\n",
       " 11          2009\n",
       " 28           124"
      ]
     },
     "execution_count": 24,
     "metadata": {},
     "output_type": "execute_result"
    }
   ],
   "source": [
    "pd.DataFrame(history_trans.subsector_id.value_counts())"
   ]
  },
  {
   "cell_type": "code",
   "execution_count": 25,
   "metadata": {},
   "outputs": [
    {
     "name": "stdout",
     "output_type": "stream",
     "text": [
      "41\n"
     ]
    }
   ],
   "source": [
    "print(len(history_trans.subsector_id.value_counts()))"
   ]
  },
  {
   "cell_type": "markdown",
   "metadata": {},
   "source": [
    "### merchant_id"
   ]
  },
  {
   "cell_type": "code",
   "execution_count": 26,
   "metadata": {},
   "outputs": [
    {
     "data": {
      "text/html": [
       "<div>\n",
       "<style scoped>\n",
       "    .dataframe tbody tr th:only-of-type {\n",
       "        vertical-align: middle;\n",
       "    }\n",
       "\n",
       "    .dataframe tbody tr th {\n",
       "        vertical-align: top;\n",
       "    }\n",
       "\n",
       "    .dataframe thead th {\n",
       "        text-align: right;\n",
       "    }\n",
       "</style>\n",
       "<table border=\"1\" class=\"dataframe\">\n",
       "  <thead>\n",
       "    <tr style=\"text-align: right;\">\n",
       "      <th></th>\n",
       "      <th>merchant_id</th>\n",
       "    </tr>\n",
       "  </thead>\n",
       "  <tbody>\n",
       "    <tr>\n",
       "      <td>M_ID_00a6ca8a8a</td>\n",
       "      <td>1115097</td>\n",
       "    </tr>\n",
       "    <tr>\n",
       "      <td>M_ID_e5374dabc0</td>\n",
       "      <td>428619</td>\n",
       "    </tr>\n",
       "    <tr>\n",
       "      <td>M_ID_9139332ccc</td>\n",
       "      <td>361385</td>\n",
       "    </tr>\n",
       "    <tr>\n",
       "      <td>M_ID_50f575c681</td>\n",
       "      <td>183894</td>\n",
       "    </tr>\n",
       "    <tr>\n",
       "      <td>M_ID_fc7d7969c3</td>\n",
       "      <td>177040</td>\n",
       "    </tr>\n",
       "    <tr>\n",
       "      <td>...</td>\n",
       "      <td>...</td>\n",
       "    </tr>\n",
       "    <tr>\n",
       "      <td>M_ID_40170e0bba</td>\n",
       "      <td>1</td>\n",
       "    </tr>\n",
       "    <tr>\n",
       "      <td>M_ID_158c3108b6</td>\n",
       "      <td>1</td>\n",
       "    </tr>\n",
       "    <tr>\n",
       "      <td>M_ID_81dfcd9578</td>\n",
       "      <td>1</td>\n",
       "    </tr>\n",
       "    <tr>\n",
       "      <td>M_ID_6143b8da6e</td>\n",
       "      <td>1</td>\n",
       "    </tr>\n",
       "    <tr>\n",
       "      <td>M_ID_464b034419</td>\n",
       "      <td>1</td>\n",
       "    </tr>\n",
       "  </tbody>\n",
       "</table>\n",
       "<p>326311 rows × 1 columns</p>\n",
       "</div>"
      ],
      "text/plain": [
       "                 merchant_id\n",
       "M_ID_00a6ca8a8a      1115097\n",
       "M_ID_e5374dabc0       428619\n",
       "M_ID_9139332ccc       361385\n",
       "M_ID_50f575c681       183894\n",
       "M_ID_fc7d7969c3       177040\n",
       "...                      ...\n",
       "M_ID_40170e0bba            1\n",
       "M_ID_158c3108b6            1\n",
       "M_ID_81dfcd9578            1\n",
       "M_ID_6143b8da6e            1\n",
       "M_ID_464b034419            1\n",
       "\n",
       "[326311 rows x 1 columns]"
      ]
     },
     "execution_count": 26,
     "metadata": {},
     "output_type": "execute_result"
    }
   ],
   "source": [
    "pd.DataFrame(history_trans.merchant_id.value_counts())"
   ]
  },
  {
   "cell_type": "code",
   "execution_count": 27,
   "metadata": {
    "scrolled": true
   },
   "outputs": [
    {
     "data": {
      "text/plain": [
       "138481"
      ]
     },
     "execution_count": 27,
     "metadata": {},
     "output_type": "execute_result"
    }
   ],
   "source": [
    "history_trans.merchant_id.isna().sum()"
   ]
  },
  {
   "cell_type": "markdown",
   "metadata": {},
   "source": [
    "### purchase_amount"
   ]
  },
  {
   "cell_type": "code",
   "execution_count": 28,
   "metadata": {
    "scrolled": true
   },
   "outputs": [
    {
     "data": {
      "text/html": [
       "<div>\n",
       "<style scoped>\n",
       "    .dataframe tbody tr th:only-of-type {\n",
       "        vertical-align: middle;\n",
       "    }\n",
       "\n",
       "    .dataframe tbody tr th {\n",
       "        vertical-align: top;\n",
       "    }\n",
       "\n",
       "    .dataframe thead th {\n",
       "        text-align: right;\n",
       "    }\n",
       "</style>\n",
       "<table border=\"1\" class=\"dataframe\">\n",
       "  <thead>\n",
       "    <tr style=\"text-align: right;\">\n",
       "      <th></th>\n",
       "      <th>purchase_amount</th>\n",
       "    </tr>\n",
       "  </thead>\n",
       "  <tbody>\n",
       "    <tr>\n",
       "      <td>-0.671775</td>\n",
       "      <td>687283</td>\n",
       "    </tr>\n",
       "    <tr>\n",
       "      <td>-0.716855</td>\n",
       "      <td>600414</td>\n",
       "    </tr>\n",
       "    <tr>\n",
       "      <td>-0.701828</td>\n",
       "      <td>510925</td>\n",
       "    </tr>\n",
       "    <tr>\n",
       "      <td>-0.731881</td>\n",
       "      <td>417335</td>\n",
       "    </tr>\n",
       "    <tr>\n",
       "      <td>-0.596643</td>\n",
       "      <td>389066</td>\n",
       "    </tr>\n",
       "    <tr>\n",
       "      <td>...</td>\n",
       "      <td>...</td>\n",
       "    </tr>\n",
       "    <tr>\n",
       "      <td>23.065906</td>\n",
       "      <td>1</td>\n",
       "    </tr>\n",
       "    <tr>\n",
       "      <td>2.941214</td>\n",
       "      <td>1</td>\n",
       "    </tr>\n",
       "    <tr>\n",
       "      <td>19.409655</td>\n",
       "      <td>1</td>\n",
       "    </tr>\n",
       "    <tr>\n",
       "      <td>9.262252</td>\n",
       "      <td>1</td>\n",
       "    </tr>\n",
       "    <tr>\n",
       "      <td>7.698503</td>\n",
       "      <td>1</td>\n",
       "    </tr>\n",
       "  </tbody>\n",
       "</table>\n",
       "<p>215014 rows × 1 columns</p>\n",
       "</div>"
      ],
      "text/plain": [
       "            purchase_amount\n",
       "-0.671775            687283\n",
       "-0.716855            600414\n",
       "-0.701828            510925\n",
       "-0.731881            417335\n",
       "-0.596643            389066\n",
       "...                     ...\n",
       " 23.065906                1\n",
       " 2.941214                 1\n",
       " 19.409655                1\n",
       " 9.262252                 1\n",
       " 7.698503                 1\n",
       "\n",
       "[215014 rows x 1 columns]"
      ]
     },
     "execution_count": 28,
     "metadata": {},
     "output_type": "execute_result"
    }
   ],
   "source": [
    "pd.DataFrame(history_trans.purchase_amount.value_counts())"
   ]
  },
  {
   "cell_type": "code",
   "execution_count": 29,
   "metadata": {},
   "outputs": [
    {
     "name": "stdout",
     "output_type": "stream",
     "text": [
      "표준화된 구매량 : 최소 -0.7469078회 ~ 최대 6010603.9717525회\n"
     ]
    }
   ],
   "source": [
    "print('표준화된 구매량 : 최소 {}회 ~ 최대 {}회'.\n",
    "      format(min(history_trans.purchase_amount),max(history_trans.purchase_amount)))"
   ]
  },
  {
   "cell_type": "code",
   "execution_count": 30,
   "metadata": {
    "scrolled": true
   },
   "outputs": [
    {
     "data": {
      "text/plain": [
       "0"
      ]
     },
     "execution_count": 30,
     "metadata": {},
     "output_type": "execute_result"
    }
   ],
   "source": [
    "history_trans.purchase_amount.isna().sum()"
   ]
  },
  {
   "cell_type": "markdown",
   "metadata": {},
   "source": [
    "### city_id"
   ]
  },
  {
   "cell_type": "code",
   "execution_count": 31,
   "metadata": {},
   "outputs": [
    {
     "data": {
      "text/html": [
       "<div>\n",
       "<style scoped>\n",
       "    .dataframe tbody tr th:only-of-type {\n",
       "        vertical-align: middle;\n",
       "    }\n",
       "\n",
       "    .dataframe tbody tr th {\n",
       "        vertical-align: top;\n",
       "    }\n",
       "\n",
       "    .dataframe thead th {\n",
       "        text-align: right;\n",
       "    }\n",
       "</style>\n",
       "<table border=\"1\" class=\"dataframe\">\n",
       "  <thead>\n",
       "    <tr style=\"text-align: right;\">\n",
       "      <th></th>\n",
       "      <th>city_id</th>\n",
       "    </tr>\n",
       "  </thead>\n",
       "  <tbody>\n",
       "    <tr>\n",
       "      <td>69</td>\n",
       "      <td>4835441</td>\n",
       "    </tr>\n",
       "    <tr>\n",
       "      <td>-1</td>\n",
       "      <td>2478624</td>\n",
       "    </tr>\n",
       "    <tr>\n",
       "      <td>19</td>\n",
       "      <td>1151077</td>\n",
       "    </tr>\n",
       "    <tr>\n",
       "      <td>158</td>\n",
       "      <td>1113013</td>\n",
       "    </tr>\n",
       "    <tr>\n",
       "      <td>17</td>\n",
       "      <td>971714</td>\n",
       "    </tr>\n",
       "    <tr>\n",
       "      <td>...</td>\n",
       "      <td>...</td>\n",
       "    </tr>\n",
       "    <tr>\n",
       "      <td>319</td>\n",
       "      <td>1645</td>\n",
       "    </tr>\n",
       "    <tr>\n",
       "      <td>92</td>\n",
       "      <td>758</td>\n",
       "    </tr>\n",
       "    <tr>\n",
       "      <td>273</td>\n",
       "      <td>620</td>\n",
       "    </tr>\n",
       "    <tr>\n",
       "      <td>316</td>\n",
       "      <td>149</td>\n",
       "    </tr>\n",
       "    <tr>\n",
       "      <td>185</td>\n",
       "      <td>45</td>\n",
       "    </tr>\n",
       "  </tbody>\n",
       "</table>\n",
       "<p>308 rows × 1 columns</p>\n",
       "</div>"
      ],
      "text/plain": [
       "      city_id\n",
       " 69   4835441\n",
       "-1    2478624\n",
       " 19   1151077\n",
       " 158  1113013\n",
       " 17    971714\n",
       "...       ...\n",
       " 319     1645\n",
       " 92       758\n",
       " 273      620\n",
       " 316      149\n",
       " 185       45\n",
       "\n",
       "[308 rows x 1 columns]"
      ]
     },
     "execution_count": 31,
     "metadata": {},
     "output_type": "execute_result"
    }
   ],
   "source": [
    "pd.DataFrame(history_trans.city_id.value_counts())"
   ]
  },
  {
   "cell_type": "code",
   "execution_count": 32,
   "metadata": {},
   "outputs": [
    {
     "data": {
      "text/plain": [
       "0"
      ]
     },
     "execution_count": 32,
     "metadata": {},
     "output_type": "execute_result"
    }
   ],
   "source": [
    "history_trans.city_id.isna().sum()"
   ]
  },
  {
   "cell_type": "code",
   "execution_count": 33,
   "metadata": {},
   "outputs": [
    {
     "data": {
      "image/png": "[encoded data removed]",
      "text/plain": [
       "<Figure size 360x360 with 1 Axes>"
      ]
     },
     "metadata": {
      "needs_background": "light"
     },
     "output_type": "display_data"
    }
   ],
   "source": [
    "### city_id\n",
    "plt.figure(figsize=(5,5))\n",
    "plt.title(\"city_id 분포(top10 만)\",size=20)\n",
    "city_id=sns.countplot(x=history_trans.city_id,palette='Set1',\n",
    "                     order=history_trans.city_id.value_counts().index[0:10])\n",
    "#city_id.set_xticklabels(city_id.get_xticklabels(), rotation=90, size=15)"
   ]
  },
  {
   "cell_type": "markdown",
   "metadata": {},
   "source": [
    "### state_id"
   ]
  },
  {
   "cell_type": "code",
   "execution_count": 34,
   "metadata": {},
   "outputs": [
    {
     "data": {
      "text/html": [
       "<div>\n",
       "<style scoped>\n",
       "    .dataframe tbody tr th:only-of-type {\n",
       "        vertical-align: middle;\n",
       "    }\n",
       "\n",
       "    .dataframe tbody tr th {\n",
       "        vertical-align: top;\n",
       "    }\n",
       "\n",
       "    .dataframe thead th {\n",
       "        text-align: right;\n",
       "    }\n",
       "</style>\n",
       "<table border=\"1\" class=\"dataframe\">\n",
       "  <thead>\n",
       "    <tr style=\"text-align: right;\">\n",
       "      <th></th>\n",
       "      <th>state_id</th>\n",
       "    </tr>\n",
       "  </thead>\n",
       "  <tbody>\n",
       "    <tr>\n",
       "      <td>9</td>\n",
       "      <td>10568881</td>\n",
       "    </tr>\n",
       "    <tr>\n",
       "      <td>-1</td>\n",
       "      <td>2652864</td>\n",
       "    </tr>\n",
       "    <tr>\n",
       "      <td>16</td>\n",
       "      <td>2143420</td>\n",
       "    </tr>\n",
       "    <tr>\n",
       "      <td>15</td>\n",
       "      <td>2079255</td>\n",
       "    </tr>\n",
       "    <tr>\n",
       "      <td>5</td>\n",
       "      <td>1655124</td>\n",
       "    </tr>\n",
       "    <tr>\n",
       "      <td>19</td>\n",
       "      <td>1204287</td>\n",
       "    </tr>\n",
       "    <tr>\n",
       "      <td>20</td>\n",
       "      <td>1141197</td>\n",
       "    </tr>\n",
       "    <tr>\n",
       "      <td>22</td>\n",
       "      <td>971714</td>\n",
       "    </tr>\n",
       "    <tr>\n",
       "      <td>21</td>\n",
       "      <td>929594</td>\n",
       "    </tr>\n",
       "    <tr>\n",
       "      <td>4</td>\n",
       "      <td>840820</td>\n",
       "    </tr>\n",
       "    <tr>\n",
       "      <td>7</td>\n",
       "      <td>640712</td>\n",
       "    </tr>\n",
       "    <tr>\n",
       "      <td>13</td>\n",
       "      <td>634006</td>\n",
       "    </tr>\n",
       "    <tr>\n",
       "      <td>11</td>\n",
       "      <td>631127</td>\n",
       "    </tr>\n",
       "    <tr>\n",
       "      <td>3</td>\n",
       "      <td>542220</td>\n",
       "    </tr>\n",
       "    <tr>\n",
       "      <td>12</td>\n",
       "      <td>385643</td>\n",
       "    </tr>\n",
       "    <tr>\n",
       "      <td>18</td>\n",
       "      <td>384876</td>\n",
       "    </tr>\n",
       "    <tr>\n",
       "      <td>2</td>\n",
       "      <td>371728</td>\n",
       "    </tr>\n",
       "    <tr>\n",
       "      <td>1</td>\n",
       "      <td>247753</td>\n",
       "    </tr>\n",
       "    <tr>\n",
       "      <td>10</td>\n",
       "      <td>222463</td>\n",
       "    </tr>\n",
       "    <tr>\n",
       "      <td>23</td>\n",
       "      <td>206011</td>\n",
       "    </tr>\n",
       "    <tr>\n",
       "      <td>24</td>\n",
       "      <td>205952</td>\n",
       "    </tr>\n",
       "    <tr>\n",
       "      <td>14</td>\n",
       "      <td>171513</td>\n",
       "    </tr>\n",
       "    <tr>\n",
       "      <td>8</td>\n",
       "      <td>157829</td>\n",
       "    </tr>\n",
       "    <tr>\n",
       "      <td>17</td>\n",
       "      <td>116139</td>\n",
       "    </tr>\n",
       "    <tr>\n",
       "      <td>6</td>\n",
       "      <td>7233</td>\n",
       "    </tr>\n",
       "  </tbody>\n",
       "</table>\n",
       "</div>"
      ],
      "text/plain": [
       "     state_id\n",
       " 9   10568881\n",
       "-1    2652864\n",
       " 16   2143420\n",
       " 15   2079255\n",
       " 5    1655124\n",
       " 19   1204287\n",
       " 20   1141197\n",
       " 22    971714\n",
       " 21    929594\n",
       " 4     840820\n",
       " 7     640712\n",
       " 13    634006\n",
       " 11    631127\n",
       " 3     542220\n",
       " 12    385643\n",
       " 18    384876\n",
       " 2     371728\n",
       " 1     247753\n",
       " 10    222463\n",
       " 23    206011\n",
       " 24    205952\n",
       " 14    171513\n",
       " 8     157829\n",
       " 17    116139\n",
       " 6       7233"
      ]
     },
     "execution_count": 34,
     "metadata": {},
     "output_type": "execute_result"
    }
   ],
   "source": [
    "pd.DataFrame(history_trans.state_id.value_counts())"
   ]
  },
  {
   "cell_type": "code",
   "execution_count": 35,
   "metadata": {
    "scrolled": true
   },
   "outputs": [
    {
     "data": {
      "text/plain": [
       "0"
      ]
     },
     "execution_count": 35,
     "metadata": {},
     "output_type": "execute_result"
    }
   ],
   "source": [
    "history_trans.city_id.isna().sum()"
   ]
  },
  {
   "cell_type": "code",
   "execution_count": 36,
   "metadata": {},
   "outputs": [
    {
     "data": {
      "text/plain": [
       "25"
      ]
     },
     "execution_count": 36,
     "metadata": {},
     "output_type": "execute_result"
    }
   ],
   "source": [
    "len(history_trans.state_id.value_counts())"
   ]
  },
  {
   "cell_type": "code",
   "execution_count": 37,
   "metadata": {},
   "outputs": [
    {
     "data": {
      "image/png": "[encoded data removed]",
      "text/plain": [
       "<Figure size 1080x360 with 1 Axes>"
      ]
     },
     "metadata": {
      "needs_background": "light"
     },
     "output_type": "display_data"
    }
   ],
   "source": [
    "### state_id\n",
    "plt.figure(figsize=(15,5))\n",
    "plt.title(\"state_id 분포\",size=20)\n",
    "state_id=sns.countplot(x=history_trans.state_id,palette='Set1',\n",
    "                     order=history_trans.state_id.value_counts().index)\n",
    "#city_id.set_xticklabels(city_id.get_xticklabels(), rotation=90, size=15)"
   ]
  },
  {
   "cell_type": "markdown",
   "metadata": {},
   "source": [
    "### category_2"
   ]
  },
  {
   "cell_type": "code",
   "execution_count": 38,
   "metadata": {},
   "outputs": [
    {
     "data": {
      "text/html": [
       "<div>\n",
       "<style scoped>\n",
       "    .dataframe tbody tr th:only-of-type {\n",
       "        vertical-align: middle;\n",
       "    }\n",
       "\n",
       "    .dataframe tbody tr th {\n",
       "        vertical-align: top;\n",
       "    }\n",
       "\n",
       "    .dataframe thead th {\n",
       "        text-align: right;\n",
       "    }\n",
       "</style>\n",
       "<table border=\"1\" class=\"dataframe\">\n",
       "  <thead>\n",
       "    <tr style=\"text-align: right;\">\n",
       "      <th></th>\n",
       "      <th>category_2</th>\n",
       "    </tr>\n",
       "  </thead>\n",
       "  <tbody>\n",
       "    <tr>\n",
       "      <td>1.0</td>\n",
       "      <td>15177199</td>\n",
       "    </tr>\n",
       "    <tr>\n",
       "      <td>3.0</td>\n",
       "      <td>3911795</td>\n",
       "    </tr>\n",
       "    <tr>\n",
       "      <td>5.0</td>\n",
       "      <td>3725915</td>\n",
       "    </tr>\n",
       "    <tr>\n",
       "      <td>4.0</td>\n",
       "      <td>2618053</td>\n",
       "    </tr>\n",
       "    <tr>\n",
       "      <td>2.0</td>\n",
       "      <td>1026535</td>\n",
       "    </tr>\n",
       "  </tbody>\n",
       "</table>\n",
       "</div>"
      ],
      "text/plain": [
       "     category_2\n",
       "1.0    15177199\n",
       "3.0     3911795\n",
       "5.0     3725915\n",
       "4.0     2618053\n",
       "2.0     1026535"
      ]
     },
     "execution_count": 38,
     "metadata": {},
     "output_type": "execute_result"
    }
   ],
   "source": [
    "pd.DataFrame(history_trans.category_2.value_counts())"
   ]
  },
  {
   "cell_type": "code",
   "execution_count": 39,
   "metadata": {},
   "outputs": [
    {
     "data": {
      "image/png": "[encoded data removed]",
      "text/plain": [
       "<Figure size 360x360 with 1 Axes>"
      ]
     },
     "metadata": {
      "needs_background": "light"
     },
     "output_type": "display_data"
    }
   ],
   "source": [
    "### category_2\n",
    "plt.figure(figsize=(5,5))\n",
    "plt.title(\"category_2 분포\",size=20)\n",
    "category_2=sns.countplot(x=history_trans.category_2,palette='Set1',\n",
    "                     order=history_trans.category_2.value_counts().index)\n",
    "#city_id.set_xticklabels(city_id.get_xticklabels(), rotation=90, size=15)"
   ]
  },
  {
   "cell_type": "markdown",
   "metadata": {},
   "source": [
    "## 3. merchants"
   ]
  },
  {
   "cell_type": "code",
   "execution_count": null,
   "metadata": {},
   "outputs": [],
   "source": []
  }
 ],
 "metadata": {
  "kernelspec": {
   "display_name": "Python 3",
   "language": "python",
   "name": "python3"
  },
  "language_info": {
   "codemirror_mode": {
    "name": "ipython",
    "version": 3
   },
   "file_extension": ".py",
   "mimetype": "text/x-python",
   "name": "python",
   "nbconvert_exporter": "python",
   "pygments_lexer": "ipython3",
   "version": "3.7.4"
  }
 },
 "nbformat": 4,
 "nbformat_minor": 2
}
