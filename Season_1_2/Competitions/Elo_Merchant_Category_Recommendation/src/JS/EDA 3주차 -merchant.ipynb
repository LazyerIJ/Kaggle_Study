{
 "cells": [
  {
   "cell_type": "code",
   "execution_count": 2,
   "metadata": {},
   "outputs": [
    {
     "name": "stdout",
     "output_type": "stream",
     "text": [
      "['Data_Dictionary.xlsx', 'historical_transactions.csv', 'merchants.csv', 'new_merchant_transactions.csv', 'sample_submission.csv', 'test.csv', 'train.csv']\n"
     ]
    }
   ],
   "source": [
    "import os\n",
    "import pandas as pd\n",
    "import glob\n",
    "import numpy as np\n",
    "import seaborn as sns\n",
    "import matplotlib.pyplot as plt\n",
    "\n",
    "print(os.listdir(\"C:/Users/오원석/user_name/elo-merchant-category-recommendation\"))"
   ]
  },
  {
   "cell_type": "code",
   "execution_count": 3,
   "metadata": {},
   "outputs": [],
   "source": [
    "merchant=pd.read_csv(\"C:/Users/오원석/user_name/elo-merchant-category-recommendation/merchants.csv\")"
   ]
  },
  {
   "cell_type": "code",
   "execution_count": 4,
   "metadata": {},
   "outputs": [
    {
     "data": {
      "text/plain": [
       "(334696, 22)"
      ]
     },
     "execution_count": 4,
     "metadata": {},
     "output_type": "execute_result"
    }
   ],
   "source": [
    "merchant.shape"
   ]
  },
  {
   "cell_type": "code",
   "execution_count": 5,
   "metadata": {},
   "outputs": [
    {
     "data": {
      "text/html": [
       "<div>\n",
       "<style scoped>\n",
       "    .dataframe tbody tr th:only-of-type {\n",
       "        vertical-align: middle;\n",
       "    }\n",
       "\n",
       "    .dataframe tbody tr th {\n",
       "        vertical-align: top;\n",
       "    }\n",
       "\n",
       "    .dataframe thead th {\n",
       "        text-align: right;\n",
       "    }\n",
       "</style>\n",
       "<table border=\"1\" class=\"dataframe\">\n",
       "  <thead>\n",
       "    <tr style=\"text-align: right;\">\n",
       "      <th></th>\n",
       "      <th>merchant_id</th>\n",
       "      <th>merchant_group_id</th>\n",
       "      <th>merchant_category_id</th>\n",
       "      <th>subsector_id</th>\n",
       "      <th>numerical_1</th>\n",
       "      <th>numerical_2</th>\n",
       "      <th>category_1</th>\n",
       "      <th>most_recent_sales_range</th>\n",
       "      <th>most_recent_purchases_range</th>\n",
       "      <th>avg_sales_lag3</th>\n",
       "      <th>...</th>\n",
       "      <th>avg_sales_lag6</th>\n",
       "      <th>avg_purchases_lag6</th>\n",
       "      <th>active_months_lag6</th>\n",
       "      <th>avg_sales_lag12</th>\n",
       "      <th>avg_purchases_lag12</th>\n",
       "      <th>active_months_lag12</th>\n",
       "      <th>category_4</th>\n",
       "      <th>city_id</th>\n",
       "      <th>state_id</th>\n",
       "      <th>category_2</th>\n",
       "    </tr>\n",
       "  </thead>\n",
       "  <tbody>\n",
       "    <tr>\n",
       "      <th>0</th>\n",
       "      <td>M_ID_838061e48c</td>\n",
       "      <td>8353</td>\n",
       "      <td>792</td>\n",
       "      <td>9</td>\n",
       "      <td>-0.057471</td>\n",
       "      <td>-0.057471</td>\n",
       "      <td>N</td>\n",
       "      <td>E</td>\n",
       "      <td>E</td>\n",
       "      <td>-0.40</td>\n",
       "      <td>...</td>\n",
       "      <td>-2.25</td>\n",
       "      <td>18.666667</td>\n",
       "      <td>6</td>\n",
       "      <td>-2.32</td>\n",
       "      <td>13.916667</td>\n",
       "      <td>12</td>\n",
       "      <td>N</td>\n",
       "      <td>242</td>\n",
       "      <td>9</td>\n",
       "      <td>1.0</td>\n",
       "    </tr>\n",
       "    <tr>\n",
       "      <th>1</th>\n",
       "      <td>M_ID_9339d880ad</td>\n",
       "      <td>3184</td>\n",
       "      <td>840</td>\n",
       "      <td>20</td>\n",
       "      <td>-0.057471</td>\n",
       "      <td>-0.057471</td>\n",
       "      <td>N</td>\n",
       "      <td>E</td>\n",
       "      <td>E</td>\n",
       "      <td>-0.72</td>\n",
       "      <td>...</td>\n",
       "      <td>-0.74</td>\n",
       "      <td>1.291667</td>\n",
       "      <td>6</td>\n",
       "      <td>-0.57</td>\n",
       "      <td>1.687500</td>\n",
       "      <td>12</td>\n",
       "      <td>N</td>\n",
       "      <td>22</td>\n",
       "      <td>16</td>\n",
       "      <td>1.0</td>\n",
       "    </tr>\n",
       "    <tr>\n",
       "      <th>2</th>\n",
       "      <td>M_ID_e726bbae1e</td>\n",
       "      <td>447</td>\n",
       "      <td>690</td>\n",
       "      <td>1</td>\n",
       "      <td>-0.057471</td>\n",
       "      <td>-0.057471</td>\n",
       "      <td>N</td>\n",
       "      <td>E</td>\n",
       "      <td>E</td>\n",
       "      <td>-82.13</td>\n",
       "      <td>...</td>\n",
       "      <td>-82.13</td>\n",
       "      <td>260.000000</td>\n",
       "      <td>2</td>\n",
       "      <td>-82.13</td>\n",
       "      <td>260.000000</td>\n",
       "      <td>2</td>\n",
       "      <td>N</td>\n",
       "      <td>-1</td>\n",
       "      <td>5</td>\n",
       "      <td>5.0</td>\n",
       "    </tr>\n",
       "    <tr>\n",
       "      <th>3</th>\n",
       "      <td>M_ID_a70e9c5f81</td>\n",
       "      <td>5026</td>\n",
       "      <td>792</td>\n",
       "      <td>9</td>\n",
       "      <td>-0.057471</td>\n",
       "      <td>-0.057471</td>\n",
       "      <td>Y</td>\n",
       "      <td>E</td>\n",
       "      <td>E</td>\n",
       "      <td>NaN</td>\n",
       "      <td>...</td>\n",
       "      <td>NaN</td>\n",
       "      <td>4.666667</td>\n",
       "      <td>6</td>\n",
       "      <td>NaN</td>\n",
       "      <td>3.833333</td>\n",
       "      <td>12</td>\n",
       "      <td>Y</td>\n",
       "      <td>-1</td>\n",
       "      <td>-1</td>\n",
       "      <td>NaN</td>\n",
       "    </tr>\n",
       "    <tr>\n",
       "      <th>4</th>\n",
       "      <td>M_ID_64456c37ce</td>\n",
       "      <td>2228</td>\n",
       "      <td>222</td>\n",
       "      <td>21</td>\n",
       "      <td>-0.057471</td>\n",
       "      <td>-0.057471</td>\n",
       "      <td>Y</td>\n",
       "      <td>E</td>\n",
       "      <td>E</td>\n",
       "      <td>NaN</td>\n",
       "      <td>...</td>\n",
       "      <td>NaN</td>\n",
       "      <td>0.361111</td>\n",
       "      <td>6</td>\n",
       "      <td>NaN</td>\n",
       "      <td>0.347222</td>\n",
       "      <td>12</td>\n",
       "      <td>Y</td>\n",
       "      <td>-1</td>\n",
       "      <td>-1</td>\n",
       "      <td>NaN</td>\n",
       "    </tr>\n",
       "  </tbody>\n",
       "</table>\n",
       "<p>5 rows × 22 columns</p>\n",
       "</div>"
      ],
      "text/plain": [
       "       merchant_id  merchant_group_id  merchant_category_id  subsector_id  \\\n",
       "0  M_ID_838061e48c               8353                   792             9   \n",
       "1  M_ID_9339d880ad               3184                   840            20   \n",
       "2  M_ID_e726bbae1e                447                   690             1   \n",
       "3  M_ID_a70e9c5f81               5026                   792             9   \n",
       "4  M_ID_64456c37ce               2228                   222            21   \n",
       "\n",
       "   numerical_1  numerical_2 category_1 most_recent_sales_range  \\\n",
       "0    -0.057471    -0.057471          N                       E   \n",
       "1    -0.057471    -0.057471          N                       E   \n",
       "2    -0.057471    -0.057471          N                       E   \n",
       "3    -0.057471    -0.057471          Y                       E   \n",
       "4    -0.057471    -0.057471          Y                       E   \n",
       "\n",
       "  most_recent_purchases_range  avg_sales_lag3  ...  avg_sales_lag6  \\\n",
       "0                           E           -0.40  ...           -2.25   \n",
       "1                           E           -0.72  ...           -0.74   \n",
       "2                           E          -82.13  ...          -82.13   \n",
       "3                           E             NaN  ...             NaN   \n",
       "4                           E             NaN  ...             NaN   \n",
       "\n",
       "   avg_purchases_lag6  active_months_lag6  avg_sales_lag12  \\\n",
       "0           18.666667                   6            -2.32   \n",
       "1            1.291667                   6            -0.57   \n",
       "2          260.000000                   2           -82.13   \n",
       "3            4.666667                   6              NaN   \n",
       "4            0.361111                   6              NaN   \n",
       "\n",
       "   avg_purchases_lag12  active_months_lag12  category_4  city_id state_id  \\\n",
       "0            13.916667                   12           N      242        9   \n",
       "1             1.687500                   12           N       22       16   \n",
       "2           260.000000                    2           N       -1        5   \n",
       "3             3.833333                   12           Y       -1       -1   \n",
       "4             0.347222                   12           Y       -1       -1   \n",
       "\n",
       "   category_2  \n",
       "0         1.0  \n",
       "1         1.0  \n",
       "2         5.0  \n",
       "3         NaN  \n",
       "4         NaN  \n",
       "\n",
       "[5 rows x 22 columns]"
      ]
     },
     "execution_count": 5,
     "metadata": {},
     "output_type": "execute_result"
    }
   ],
   "source": [
    "merchant.head()\n"
   ]
  },
  {
   "cell_type": "code",
   "execution_count": 6,
   "metadata": {},
   "outputs": [
    {
     "data": {
      "text/html": [
       "<div>\n",
       "<style scoped>\n",
       "    .dataframe tbody tr th:only-of-type {\n",
       "        vertical-align: middle;\n",
       "    }\n",
       "\n",
       "    .dataframe tbody tr th {\n",
       "        vertical-align: top;\n",
       "    }\n",
       "\n",
       "    .dataframe thead th {\n",
       "        text-align: right;\n",
       "    }\n",
       "</style>\n",
       "<table border=\"1\" class=\"dataframe\">\n",
       "  <thead>\n",
       "    <tr style=\"text-align: right;\">\n",
       "      <th></th>\n",
       "      <th>Total</th>\n",
       "      <th>Percent</th>\n",
       "    </tr>\n",
       "  </thead>\n",
       "  <tbody>\n",
       "    <tr>\n",
       "      <th>category_2</th>\n",
       "      <td>11887</td>\n",
       "      <td>3.551581</td>\n",
       "    </tr>\n",
       "    <tr>\n",
       "      <th>avg_sales_lag3</th>\n",
       "      <td>13</td>\n",
       "      <td>0.003884</td>\n",
       "    </tr>\n",
       "    <tr>\n",
       "      <th>avg_sales_lag12</th>\n",
       "      <td>13</td>\n",
       "      <td>0.003884</td>\n",
       "    </tr>\n",
       "    <tr>\n",
       "      <th>avg_sales_lag6</th>\n",
       "      <td>13</td>\n",
       "      <td>0.003884</td>\n",
       "    </tr>\n",
       "    <tr>\n",
       "      <th>merchant_group_id</th>\n",
       "      <td>0</td>\n",
       "      <td>0.000000</td>\n",
       "    </tr>\n",
       "    <tr>\n",
       "      <th>merchant_category_id</th>\n",
       "      <td>0</td>\n",
       "      <td>0.000000</td>\n",
       "    </tr>\n",
       "    <tr>\n",
       "      <th>subsector_id</th>\n",
       "      <td>0</td>\n",
       "      <td>0.000000</td>\n",
       "    </tr>\n",
       "    <tr>\n",
       "      <th>numerical_1</th>\n",
       "      <td>0</td>\n",
       "      <td>0.000000</td>\n",
       "    </tr>\n",
       "    <tr>\n",
       "      <th>numerical_2</th>\n",
       "      <td>0</td>\n",
       "      <td>0.000000</td>\n",
       "    </tr>\n",
       "    <tr>\n",
       "      <th>category_1</th>\n",
       "      <td>0</td>\n",
       "      <td>0.000000</td>\n",
       "    </tr>\n",
       "    <tr>\n",
       "      <th>most_recent_sales_range</th>\n",
       "      <td>0</td>\n",
       "      <td>0.000000</td>\n",
       "    </tr>\n",
       "    <tr>\n",
       "      <th>most_recent_purchases_range</th>\n",
       "      <td>0</td>\n",
       "      <td>0.000000</td>\n",
       "    </tr>\n",
       "    <tr>\n",
       "      <th>avg_purchases_lag3</th>\n",
       "      <td>0</td>\n",
       "      <td>0.000000</td>\n",
       "    </tr>\n",
       "    <tr>\n",
       "      <th>state_id</th>\n",
       "      <td>0</td>\n",
       "      <td>0.000000</td>\n",
       "    </tr>\n",
       "    <tr>\n",
       "      <th>active_months_lag3</th>\n",
       "      <td>0</td>\n",
       "      <td>0.000000</td>\n",
       "    </tr>\n",
       "    <tr>\n",
       "      <th>avg_purchases_lag6</th>\n",
       "      <td>0</td>\n",
       "      <td>0.000000</td>\n",
       "    </tr>\n",
       "    <tr>\n",
       "      <th>active_months_lag6</th>\n",
       "      <td>0</td>\n",
       "      <td>0.000000</td>\n",
       "    </tr>\n",
       "    <tr>\n",
       "      <th>avg_purchases_lag12</th>\n",
       "      <td>0</td>\n",
       "      <td>0.000000</td>\n",
       "    </tr>\n",
       "    <tr>\n",
       "      <th>active_months_lag12</th>\n",
       "      <td>0</td>\n",
       "      <td>0.000000</td>\n",
       "    </tr>\n",
       "    <tr>\n",
       "      <th>category_4</th>\n",
       "      <td>0</td>\n",
       "      <td>0.000000</td>\n",
       "    </tr>\n",
       "  </tbody>\n",
       "</table>\n",
       "</div>"
      ],
      "text/plain": [
       "                             Total   Percent\n",
       "category_2                   11887  3.551581\n",
       "avg_sales_lag3                  13  0.003884\n",
       "avg_sales_lag12                 13  0.003884\n",
       "avg_sales_lag6                  13  0.003884\n",
       "merchant_group_id                0  0.000000\n",
       "merchant_category_id             0  0.000000\n",
       "subsector_id                     0  0.000000\n",
       "numerical_1                      0  0.000000\n",
       "numerical_2                      0  0.000000\n",
       "category_1                       0  0.000000\n",
       "most_recent_sales_range          0  0.000000\n",
       "most_recent_purchases_range      0  0.000000\n",
       "avg_purchases_lag3               0  0.000000\n",
       "state_id                         0  0.000000\n",
       "active_months_lag3               0  0.000000\n",
       "avg_purchases_lag6               0  0.000000\n",
       "active_months_lag6               0  0.000000\n",
       "avg_purchases_lag12              0  0.000000\n",
       "active_months_lag12              0  0.000000\n",
       "category_4                       0  0.000000"
      ]
     },
     "execution_count": 6,
     "metadata": {},
     "output_type": "execute_result"
    }
   ],
   "source": [
    "total = merchant.isnull().sum().sort_values(ascending = False)\n",
    "percent = (merchant.isnull().sum()/merchant.isnull().count()*100).sort_values(ascending = False)\n",
    "missing_data  = pd.concat([total, percent], axis=1, keys=['Total', 'Percent'])\n",
    "missing_data.head(20)\n"
   ]
  },
  {
   "cell_type": "code",
   "execution_count": 7,
   "metadata": {},
   "outputs": [
    {
     "data": {
      "text/plain": [
       "<matplotlib.axes._subplots.AxesSubplot at 0x1ad32978c50>"
      ]
     },
     "execution_count": 7,
     "metadata": {},
     "output_type": "execute_result"
    },
    {
     "data": {
      "image/png": "[encoded data removed]",
      "text/plain": [
       "<Figure size 1008x432 with 1 Axes>"
      ]
     },
     "metadata": {
      "needs_background": "light"
     },
     "output_type": "display_data"
    }
   ],
   "source": [
    "f, ax = plt.subplots(figsize=(14, 6))\n",
    "sns.distplot(merchant['numerical_1'])"
   ]
  },
  {
   "cell_type": "code",
   "execution_count": 8,
   "metadata": {},
   "outputs": [
    {
     "data": {
      "text/plain": [
       "<matplotlib.axes._subplots.AxesSubplot at 0x1ad32cc7c18>"
      ]
     },
     "execution_count": 8,
     "metadata": {},
     "output_type": "execute_result"
    },
    {
     "data": {
      "image/png": "[encoded data removed]",
      "text/plain": [
       "<Figure size 1008x432 with 1 Axes>"
      ]
     },
     "metadata": {
      "needs_background": "light"
     },
     "output_type": "display_data"
    }
   ],
   "source": [
    "f, ax = plt.subplots(figsize=(14, 6))\n",
    "sns.distplot(merchant['numerical_2'])"
   ]
  },
  {
   "cell_type": "code",
   "execution_count": 12,
   "metadata": {},
   "outputs": [
    {
     "data": {
      "image/png": "[encoded data removed]",
      "text/plain": [
       "<Figure size 432x432 with 1 Axes>"
      ]
     },
     "metadata": {
      "needs_background": "light"
     },
     "output_type": "display_data"
    }
   ],
   "source": [
    "temp = merchant[\"category_1\"].value_counts()\n",
    "df = pd.DataFrame({'labels': temp.index,\n",
    "                   'values': temp.values\n",
    "                  })\n",
    "plt.figure(figsize = (6,6))\n",
    "plt.title('category_1 in merchant')\n",
    "sns.set_color_codes(\"pastel\")\n",
    "sns.barplot(x = 'labels', y=\"values\", data=df)\n",
    "locs, labels = plt.xticks()\n",
    "plt.show()"
   ]
  },
  {
   "cell_type": "code",
   "execution_count": null,
   "metadata": {},
   "outputs": [],
   "source": [
    "\n",
    "\n",
    "\n",
    "\n",
    "temp = merchant[\"category_2\"].value_counts()\n",
    "df = pd.DataFrame({'labels': temp.index,\n",
    "                   'values': temp.values\n",
    "                  })\n",
    "plt.figure(figsize = (6,6))\n",
    "plt.title('category_2 in merchant')\n",
    "sns.set_color_codes(\"pastel\")\n",
    "sns.barplot(x = 'labels', y=\"values\", data=df)\n",
    "locs, labels = plt.xticks()\n",
    "plt.show()\n",
    "\n",
    " \n",
    "\n",
    "\n",
    "import os\n",
    "import pandas as pd\n",
    "import glob\n",
    "import numpy as np\n",
    "import seaborn as sns\n",
    "import matplotlib.pyplot as plt\n",
    "\n",
    "print(os.listdir(\"D:/kaggle/elo-merchant-category-recommendation\"))\n",
    "\n",
    "new_merchant=pd.read_csv(\"D:/kaggle/elo-merchant-category-recommendation/new_merchant_transactions.csv\")\n",
    "\n",
    "\n",
    "new_merchant.head()\n",
    "\n",
    " \n",
    "\n",
    "total = new_merchant.isnull().sum().sort_values(ascending = False)\n",
    "percent = (new_merchant.isnull().sum()/new_merchant.isnull().count()*100).sort_values(ascending = False)\n",
    "missing_data  = pd.concat([total, percent], axis=1, keys=['Total', 'Percent'])\n",
    "missing_data.head(20)\n",
    "\n",
    " \n",
    "\n",
    "temp = new_merchant[\"authorized_flag\"].value_counts()\n",
    "df = pd.DataFrame({'labels':temp.index,\n",
    "                'values':temp.values})\n",
    "plt.figure(figsize=(6,6))\n",
    "plt.title('Y Or N')\n",
    "sns.barplot(x='labels', y='values', data=df)\n",
    "plt.show()\n",
    "\n",
    " \n",
    "\n",
    "temp = new_merchant[\"category_1\"].value_counts()\n",
    "df = pd.DataFrame({'labels':temp.index,\n",
    "                'values':temp.values})\n",
    "plt.figure(figsize=(6,6))\n",
    "plt.title('Y Or N')\n",
    "sns.barplot(x='labels', y='values', data=df)\n",
    "plt.show()\n",
    "\n",
    " \n",
    "\n",
    "temp = new_merchant[\"category_3\"].value_counts()\n",
    "df = pd.DataFrame({'labels':temp.index,\n",
    "                'values':temp.values})\n",
    "plt.figure(figsize=(6,6))\n",
    "plt.title('A Or B Or C')\n",
    "sns.barplot(x='labels', y='values', data=df)\n",
    "plt.show()\n",
    "\n",
    " \n",
    "\n",
    "temp = new_merchant[\"category_2\"].value_counts()\n",
    "df = pd.DataFrame({'labels':temp.index,\n",
    "                'values':temp.values})\n",
    "plt.figure(figsize=(6,6))\n",
    "plt.title('1~ 5')\n",
    "sns.barplot(x='labels', y='values', data=df)\n",
    "plt.show()\n",
    "\n",
    "temp = new_merchant[\"month_lag\"].value_counts()\n",
    "df = pd.DataFrame({'labels':temp.index,\n",
    "                'values':temp.values})\n",
    "plt.figure(figsize=(6,6))\n",
    "plt.title('month_lag')\n",
    "sns.barplot(x='labels', y='values', data=df)\n",
    "plt.show()\n",
    "\n",
    "fg, ax = plt.subplots(figsize=(14,6))\n",
    "sns.distplot(hist_trans['purchase_amount'])\n",
    "\n",
    "new_merchant['authorized_flag']=new_merchant['authorized_flag'].map({'Y':1, 'N':0})\n",
    "new_merchant['category_1']=new_merchant['category_1'].map({'Y':1, 'N':0})\n",
    "\n",
    "\n",
    "new_merchant.head()\n",
    "\n",
    "def aggregate_new_transactions(new_trans):   \n",
    "    agg_func = {\n",
    "        'authorized_flag': ['sum', 'mean'],\n",
    "        'merchant_id': ['nunique'],\n",
    "        'city_id': ['nunique'],\n",
    "        'purchase_amount': ['sum', 'median', 'max', 'min', 'std'],\n",
    "        'installments': ['sum', 'median', 'max', 'min', 'std'],\n",
    "        'month_lag': ['min', 'max']\n",
    "        }\n",
    "    agg_new_trans = new_trans.groupby(['card_id']).agg(agg_func)\n",
    "    agg_new_trans.columns = ['new_' + '_'.join(col).strip()\n",
    "                           for col in agg_new_trans.columns.values]\n",
    "    agg_new_trans.reset_index(inplace=True)\n",
    "   \n",
    "    df = (new_trans.groupby('card_id')\n",
    "          .size()\n",
    "          .reset_index(name='new_transactions_count'))\n",
    "   \n",
    "    agg_new_trans = pd.merge(df, agg_new_trans, on='card_id', how='left')\n",
    "   \n",
    "    return agg_new_trans\n",
    "\n",
    "new_trans = aggregate_new_transactions(new_merchant)"
   ]
  },
  {
   "cell_type": "code",
   "execution_count": 13,
   "metadata": {},
   "outputs": [
    {
     "data": {
      "image/png": "[encoded data removed]",
      "text/plain": [
       "<Figure size 432x432 with 1 Axes>"
      ]
     },
     "metadata": {
      "needs_background": "light"
     },
     "output_type": "display_data"
    }
   ],
   "source": [
    "temp = merchant[\"category_2\"].value_counts()\n",
    "df = pd.DataFrame({'labels': temp.index,\n",
    "                   'values': temp.values\n",
    "                  })\n",
    "plt.figure(figsize = (6,6))\n",
    "plt.title('category_2 in merchant')\n",
    "sns.set_color_codes(\"pastel\")\n",
    "sns.barplot(x = 'labels', y=\"values\", data=df)\n",
    "locs, labels = plt.xticks()\n",
    "plt.show()"
   ]
  },
  {
   "cell_type": "code",
   "execution_count": 14,
   "metadata": {},
   "outputs": [
    {
     "data": {
      "image/png": "[encoded data removed]",
      "text/plain": [
       "<Figure size 432x432 with 1 Axes>"
      ]
     },
     "metadata": {
      "needs_background": "light"
     },
     "output_type": "display_data"
    }
   ],
   "source": [
    "temp = merchant[\"most_recent_sales_range\"].value_counts()\n",
    "df = pd.DataFrame({'labels': temp.index,\n",
    "                   'values': temp.values\n",
    "                  })\n",
    "plt.figure(figsize = (6,6))\n",
    "plt.title('most_recent_sales_range in merchant')\n",
    "sns.set_color_codes(\"pastel\")\n",
    "sns.barplot(x = 'labels', y=\"values\", data=df)\n",
    "locs, labels = plt.xticks()\n",
    "plt.show()"
   ]
  },
  {
   "cell_type": "code",
   "execution_count": 15,
   "metadata": {},
   "outputs": [
    {
     "data": {
      "image/png": "[encoded data removed]",
      "text/plain": [
       "<Figure size 432x432 with 1 Axes>"
      ]
     },
     "metadata": {
      "needs_background": "light"
     },
     "output_type": "display_data"
    }
   ],
   "source": [
    "temp = merchant[\"most_recent_purchases_range\"].value_counts()\n",
    "df = pd.DataFrame({'labels': temp.index,\n",
    "                   'values': temp.values\n",
    "                  })\n",
    "plt.figure(figsize = (6,6))\n",
    "plt.title('most_recent_purchases_range in merchant')\n",
    "sns.set_color_codes(\"pastel\")\n",
    "sns.barplot(x = 'labels', y=\"values\", data=df)\n",
    "locs, labels = plt.xticks()\n",
    "plt.show()"
   ]
  },
  {
   "cell_type": "code",
   "execution_count": 16,
   "metadata": {},
   "outputs": [
    {
     "data": {
      "image/png": "[encoded data removed]",
      "text/plain": [
       "<Figure size 432x432 with 1 Axes>"
      ]
     },
     "metadata": {
      "needs_background": "light"
     },
     "output_type": "display_data"
    }
   ],
   "source": [
    "temp = merchant[\"category_4\"].value_counts()\n",
    "df = pd.DataFrame({'labels': temp.index,\n",
    "                   'values': temp.values\n",
    "                  })\n",
    "plt.figure(figsize = (6,6))\n",
    "plt.title('category_4 in merchant')\n",
    "sns.set_color_codes(\"pastel\")\n",
    "sns.barplot(x = 'labels', y=\"values\", data=df)\n",
    "locs, labels = plt.xticks()\n",
    "plt.show()"
   ]
  },
  {
   "cell_type": "code",
   "execution_count": null,
   "metadata": {},
   "outputs": [],
   "source": []
  }
 ],
 "metadata": {
  "kernelspec": {
   "display_name": "Python 3",
   "language": "python",
   "name": "python3"
  },
  "language_info": {
   "codemirror_mode": {
    "name": "ipython",
    "version": 3
   },
   "file_extension": ".py",
   "mimetype": "text/x-python",
   "name": "python",
   "nbconvert_exporter": "python",
   "pygments_lexer": "ipython3",
   "version": "3.7.3"
  }
 },
 "nbformat": 4,
 "nbformat_minor": 2
}
