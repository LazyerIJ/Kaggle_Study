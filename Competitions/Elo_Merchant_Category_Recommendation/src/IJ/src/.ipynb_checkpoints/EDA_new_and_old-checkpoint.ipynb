{
 "cells": [
  {
   "cell_type": "code",
   "execution_count": 88,
   "metadata": {},
   "outputs": [],
   "source": [
    "import os\n",
    "import pandas as pd\n",
    "import glob\n",
    "import numpy as np\n",
    "import seaborn as sns\n",
    "import matplotlib.pyplot as plt\n",
    "import gc\n",
    "import tqdm\n",
    "pd.set_option('max_columns', None)"
   ]
  },
  {
   "cell_type": "code",
   "execution_count": 2,
   "metadata": {},
   "outputs": [
    {
     "name": "stdout",
     "output_type": "stream",
     "text": [
      "['historical_transactions.csv', 'merchants.csv', 'new_merchant_transactions.csv', 'sample_submission.csv', 'train.csv', 'test.csv']\n"
     ]
    }
   ],
   "source": [
    "input_dir = os.path.join('..', 'input')\n",
    "file_csv = [file for file in os.listdir(input_dir)\\\n",
    "            if file.endswith('.csv')]\n",
    "print(file_csv)"
   ]
  },
  {
   "cell_type": "code",
   "execution_count": 3,
   "metadata": {},
   "outputs": [],
   "source": [
    "## Pandas@reduce dataframe memory\n",
    "def reduce_mem_usage(props, fillna=False, fillval=None):\n",
    "    start_mem_usg = props.memory_usage().sum() / 1024**2\n",
    "    print(\"Memory usage of properties dataframe is :\",start_mem_usg,\" MB\")\n",
    "    NAlist = [] # Keeps track of columns that have missing values filled in. \n",
    "    for col in props.columns:\n",
    "        if props[col].dtype != object:  # Exclude strings\n",
    "            \n",
    "            # Print current column type\n",
    "            print(\"******************************\")\n",
    "            print(\"Column: \", col)\n",
    "            print(\"dtype before: \", props[col].dtype)\n",
    "            \n",
    "            # make variables for Int, max and min\n",
    "            IsInt = False\n",
    "            mx = props[col].max()\n",
    "            mn = props[col].min()\n",
    "            \n",
    "            # Integer does not support NA, therefore, NA needs to be filled\n",
    "            if not np.isfinite(props[col]).all(): \n",
    "                if not fillna:\n",
    "                    print('[*]skip {} cause of NA value'.format(col))\n",
    "                    continue\n",
    "                NAlist.append(col)\n",
    "                props[col].fillna(fillval,inplace=True)  \n",
    "            \n",
    "            # test if column can be converted to an integer\n",
    "            asint = props[col].fillna(0).astype(np.int64)\n",
    "            result = (props[col] - asint)\n",
    "            result = result.sum()\n",
    "            if result > -0.01 and result < 0.01:\n",
    "                IsInt = True\n",
    "\n",
    "            # Make Integer/unsigned Integer datatypes\n",
    "            if IsInt:\n",
    "                if mn >= 0:\n",
    "                    if mx < pow(2, 8)-1:\n",
    "                        props[col] = props[col].astype(np.uint8)\n",
    "                    elif mx < pow(2, 16)-1:\n",
    "                        props[col] = props[col].astype(np.uint16)\n",
    "                    elif mx < pow(2, 32)-1:\n",
    "                        props[col] = props[col].astype(np.uint32)\n",
    "                    else:\n",
    "                        props[col] = props[col].astype(np.uint64)\n",
    "                else:\n",
    "                    if mn > np.iinfo(np.int8).min and mx < np.iinfo(np.int8).max:\n",
    "                        props[col] = props[col].astype(np.int8)\n",
    "                    elif mn > np.iinfo(np.int16).min and mx < np.iinfo(np.int16).max:\n",
    "                        props[col] = props[col].astype(np.int16)\n",
    "                    elif mn > np.iinfo(np.int32).min and mx < np.iinfo(np.int32).max:\n",
    "                        props[col] = props[col].astype(np.int32)\n",
    "                    elif mn > np.iinfo(np.int64).min and mx < np.iinfo(np.int64).max:\n",
    "                        props[col] = props[col].astype(np.int64)    \n",
    "            \n",
    "            # Make float datatypes 32 bit\n",
    "            else:\n",
    "                props[col] = props[col].astype(np.float32)\n",
    "            \n",
    "            # Print new column type\n",
    "            print(\"dtype after: \",props[col].dtype)\n",
    "            print(\"******************************\")\n",
    "    \n",
    "    # Print final result\n",
    "    print(\"___MEMORY USAGE AFTER COMPLETION:___\")\n",
    "    mem_usg = props.memory_usage().sum() / 1024**2 \n",
    "    print(\"Memory usage is: \",mem_usg,\" MB\")\n",
    "    print(\"This is \",100*mem_usg/start_mem_usg,\"% of the initial size\")\n",
    "    return props, NAlist"
   ]
  },
  {
   "cell_type": "code",
   "execution_count": 4,
   "metadata": {
    "scrolled": true
   },
   "outputs": [
    {
     "name": "stdout",
     "output_type": "stream",
     "text": [
      "Memory usage of properties dataframe is : 3109.5357055664062  MB\n",
      "******************************\n",
      "Column:  city_id\n",
      "dtype before:  int64\n",
      "dtype after:  int16\n",
      "******************************\n",
      "******************************\n",
      "Column:  installments\n",
      "dtype before:  int64\n",
      "dtype after:  int16\n",
      "******************************\n",
      "******************************\n",
      "Column:  merchant_category_id\n",
      "dtype before:  int64\n",
      "dtype after:  int16\n",
      "******************************\n",
      "******************************\n",
      "Column:  month_lag\n",
      "dtype before:  int64\n",
      "dtype after:  int8\n",
      "******************************\n",
      "******************************\n",
      "Column:  purchase_amount\n",
      "dtype before:  float64\n",
      "dtype after:  float32\n",
      "******************************\n",
      "******************************\n",
      "Column:  category_2\n",
      "dtype before:  float64\n",
      "[*]skip category_2 cause of NA value\n",
      "******************************\n",
      "Column:  state_id\n",
      "dtype before:  int64\n",
      "dtype after:  int8\n",
      "******************************\n",
      "******************************\n",
      "Column:  subsector_id\n",
      "dtype before:  int64\n",
      "dtype after:  int8\n",
      "******************************\n",
      "___MEMORY USAGE AFTER COMPLETION:___\n",
      "Memory usage is:  1915.6961336135864  MB\n",
      "This is  61.607143799129965 % of the initial size\n",
      "Memory usage of properties dataframe is : 209.67440795898438  MB\n",
      "******************************\n",
      "Column:  city_id\n",
      "dtype before:  int64\n",
      "dtype after:  int16\n",
      "******************************\n",
      "******************************\n",
      "Column:  installments\n",
      "dtype before:  int64\n",
      "dtype after:  int16\n",
      "******************************\n",
      "******************************\n",
      "Column:  merchant_category_id\n",
      "dtype before:  int64\n",
      "dtype after:  int16\n",
      "******************************\n",
      "******************************\n",
      "Column:  month_lag\n",
      "dtype before:  int64\n",
      "dtype after:  uint8\n",
      "******************************\n",
      "******************************\n",
      "Column:  purchase_amount\n",
      "dtype before:  float64\n",
      "dtype after:  float32\n",
      "******************************\n",
      "******************************\n",
      "Column:  category_2\n",
      "dtype before:  float64\n",
      "[*]skip category_2 cause of NA value\n",
      "******************************\n",
      "Column:  state_id\n",
      "dtype before:  int64\n",
      "dtype after:  int8\n",
      "******************************\n",
      "******************************\n",
      "Column:  subsector_id\n",
      "dtype before:  int64\n",
      "dtype after:  int8\n",
      "******************************\n",
      "___MEMORY USAGE AFTER COMPLETION:___\n",
      "Memory usage is:  129.17444133758545  MB\n",
      "This is  61.60715682710024 % of the initial size\n"
     ]
    }
   ],
   "source": [
    "trans_df = pd.read_csv(os.path.join(input_dir, 'historical_transactions.csv'))\n",
    "new_trans_df = pd.read_csv(os.path.join(input_dir, 'new_merchant_transactions.csv'))\n",
    "\n",
    "trans_df, _ = reduce_mem_usage(trans_df, fillna=False, fillval=-999)\n",
    "new_trans_df, _ = reduce_mem_usage(new_trans_df, fillna=False, fillval=-999)"
   ]
  },
  {
   "cell_type": "markdown",
   "metadata": {},
   "source": [
    "## Subject\n",
    "<br/>\n",
    "Let's calculate 'basement purchasement date' used for month_lag and purchase_date features<br/>\n",
    "basement_date = purchase_date - month_lag<br/>\n",
    "<br/>"
   ]
  },
  {
   "cell_type": "code",
   "execution_count": 5,
   "metadata": {},
   "outputs": [],
   "source": [
    "def add_year_month(df):\n",
    "    df['purchase_year'] = df['purchase_date'].apply(lambda x: x[0:4]).astype(int)\n",
    "    df['purchase_month'] = df['purchase_date'].apply(lambda x: x[5:7]).astype(int)"
   ]
  },
  {
   "cell_type": "code",
   "execution_count": 6,
   "metadata": {},
   "outputs": [],
   "source": [
    "def change_lag_type(df):\n",
    "    df['month_lag'] = df['month_lag'].astype(int)"
   ]
  },
  {
   "cell_type": "code",
   "execution_count": 7,
   "metadata": {},
   "outputs": [
    {
     "name": "stdout",
     "output_type": "stream",
     "text": [
      "done\n"
     ]
    }
   ],
   "source": [
    "add_year_month(trans_df)\n",
    "add_year_month(new_trans_df)\n",
    "print('done')"
   ]
  },
  {
   "cell_type": "code",
   "execution_count": 8,
   "metadata": {},
   "outputs": [
    {
     "name": "stdout",
     "output_type": "stream",
     "text": [
      "done\n"
     ]
    }
   ],
   "source": [
    "change_lag_type(trans_df)\n",
    "change_lag_type(new_trans_df)\n",
    "print('done')"
   ]
  },
  {
   "cell_type": "code",
   "execution_count": 36,
   "metadata": {},
   "outputs": [],
   "source": [
    "def get_basement_date(df):\n",
    "    df['base_purchase_month'] = df['purchase_month'] - df['month_lag']\n",
    "    df['base_purchase_year'] = df['purchase_year']\n",
    "    over_month_idx = df[df['base_purchase_month'] > 12].index.values\n",
    "    df.loc[over_month_idx,'base_purchase_month'] = df.loc[over_month_idx, 'base_purchase_month'] - 12\n",
    "    df.loc[over_month_idx,'base_purchase_year'] = df.loc[over_month_idx, 'purchase_year'] + 1\n",
    "    under_month_idx = df[df['base_purchase_month'] < 1].index.values\n",
    "    df.loc[under_month_idx,'base_purchase_month'] = df.loc[under_month_idx, 'base_purchase_month'] + 12\n",
    "    df.loc[under_month_idx,'base_purchase_year'] = df.loc[under_month_idx, 'purchase_year'] - 1"
   ]
  },
  {
   "cell_type": "code",
   "execution_count": 37,
   "metadata": {},
   "outputs": [
    {
     "name": "stdout",
     "output_type": "stream",
     "text": [
      "done\n"
     ]
    }
   ],
   "source": [
    "get_basement_date(trans_df)\n",
    "get_basement_date(new_trans_df)\n",
    "print('done')"
   ]
  },
  {
   "cell_type": "code",
   "execution_count": 94,
   "metadata": {},
   "outputs": [
    {
     "name": "stdout",
     "output_type": "stream",
     "text": [
      "[*]len(common_id) :  290001\n"
     ]
    }
   ],
   "source": [
    "common_id = list(set.intersection(set(trans_df.card_id), set(new_trans_df.card_id)))\n",
    "print('[*]len(common_id) : ', len(common_id))"
   ]
  },
  {
   "cell_type": "code",
   "execution_count": 92,
   "metadata": {},
   "outputs": [
    {
     "data": {
      "text/html": [
       "<div>\n",
       "<style scoped>\n",
       "    .dataframe tbody tr th:only-of-type {\n",
       "        vertical-align: middle;\n",
       "    }\n",
       "\n",
       "    .dataframe tbody tr th {\n",
       "        vertical-align: top;\n",
       "    }\n",
       "\n",
       "    .dataframe thead th {\n",
       "        text-align: right;\n",
       "    }\n",
       "</style>\n",
       "<table border=\"1\" class=\"dataframe\">\n",
       "  <thead>\n",
       "    <tr style=\"text-align: right;\">\n",
       "      <th></th>\n",
       "      <th>base_purchase_year</th>\n",
       "      <th>base_purchase_month</th>\n",
       "    </tr>\n",
       "  </thead>\n",
       "  <tbody>\n",
       "    <tr>\n",
       "      <th>25317594</th>\n",
       "      <td>2017</td>\n",
       "      <td>10</td>\n",
       "    </tr>\n",
       "  </tbody>\n",
       "</table>\n",
       "</div>"
      ],
      "text/plain": [
       "          base_purchase_year  base_purchase_month\n",
       "25317594                2017                   10"
      ]
     },
     "execution_count": 92,
     "metadata": {},
     "output_type": "execute_result"
    }
   ],
   "source": [
    "trans_df[trans_df.card_id == common_id[0]][['base_purchase_year', 'base_purchase_month']].drop_duplicates()"
   ]
  },
  {
   "cell_type": "code",
   "execution_count": 93,
   "metadata": {},
   "outputs": [
    {
     "data": {
      "text/html": [
       "<div>\n",
       "<style scoped>\n",
       "    .dataframe tbody tr th:only-of-type {\n",
       "        vertical-align: middle;\n",
       "    }\n",
       "\n",
       "    .dataframe tbody tr th {\n",
       "        vertical-align: top;\n",
       "    }\n",
       "\n",
       "    .dataframe thead th {\n",
       "        text-align: right;\n",
       "    }\n",
       "</style>\n",
       "<table border=\"1\" class=\"dataframe\">\n",
       "  <thead>\n",
       "    <tr style=\"text-align: right;\">\n",
       "      <th></th>\n",
       "      <th>base_purchase_year</th>\n",
       "      <th>base_purchase_month</th>\n",
       "    </tr>\n",
       "  </thead>\n",
       "  <tbody>\n",
       "    <tr>\n",
       "      <th>160969</th>\n",
       "      <td>2017</td>\n",
       "      <td>10</td>\n",
       "    </tr>\n",
       "  </tbody>\n",
       "</table>\n",
       "</div>"
      ],
      "text/plain": [
       "        base_purchase_year  base_purchase_month\n",
       "160969                2017                   10"
      ]
     },
     "execution_count": 93,
     "metadata": {},
     "output_type": "execute_result"
    }
   ],
   "source": [
    "new_trans_df[new_trans_df.card_id == common_id[0]][['base_purchase_year', 'base_purchase_month']].drop_duplicates()"
   ]
  },
  {
   "cell_type": "markdown",
   "metadata": {},
   "source": [
    "<br/>\n",
    "I think base date is same between historical_transactions and new_merchant_transactions<br/>\n",
    "<br/>"
   ]
  },
  {
   "cell_type": "code",
   "execution_count": null,
   "metadata": {},
   "outputs": [],
   "source": []
  }
 ],
 "metadata": {
  "kernelspec": {
   "display_name": "Python 3",
   "language": "python",
   "name": "python3"
  },
  "language_info": {
   "codemirror_mode": {
    "name": "ipython",
    "version": 3
   },
   "file_extension": ".py",
   "mimetype": "text/x-python",
   "name": "python",
   "nbconvert_exporter": "python",
   "pygments_lexer": "ipython3",
   "version": "3.5.2"
  }
 },
 "nbformat": 4,
 "nbformat_minor": 2
}
