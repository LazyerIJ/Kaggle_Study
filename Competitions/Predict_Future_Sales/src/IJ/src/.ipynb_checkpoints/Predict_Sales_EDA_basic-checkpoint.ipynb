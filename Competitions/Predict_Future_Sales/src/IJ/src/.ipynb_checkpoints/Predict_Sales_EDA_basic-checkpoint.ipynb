{
 "cells": [
  {
   "cell_type": "markdown",
   "metadata": {},
   "source": [
    "# Kaggle - Predict Future Sales"
   ]
  },
  {
   "cell_type": "markdown",
   "metadata": {},
   "source": [
    "<br/>\n",
    "\n",
    "**File descriptions**<br/>\n",
    "sales_train.csv - the training set. Daily historical data from January 2013 to October 2015.<br/>\n",
    "test.csv - the test set. You need to forecast the sales for these shops and products for November 2015.<br/>\n",
    "sample_submission.csv - a sample submission file in the correct format.<br/>\n",
    "items.csv - supplemental information about the items/products.<br/>\n",
    "item_categories.csv  - supplemental information about the items categories.<br/>\n",
    "shops.csv- supplemental information about the shops.<br/>\n",
    "<br/>\n",
    "**Data fields**<br/>\n",
    "ID - an Id that represents a (Shop, Item) tuple within the test set<br/>\n",
    "shop_id - unique identifier of a shop<br/>\n",
    "item_id - unique identifier of a product<br/>\n",
    "item_category_id - unique identifier of item category<br/>\n",
    "item_cnt_day - number of products sold. You are predicting a monthly amount of this measure<br/>\n",
    "item_price - current price of an item<br/>\n",
    "date - date in format dd/mm/yyyy<br/>\n",
    "date_block_num - a consecutive month number, used for convenience. January 2013 is 0, February 2013 is 1,..., October 2015 is 33<br/>\n",
    "item_name - name of item<br/>\n",
    "shop_name - name of shop<br/>\n",
    "item_category_name - name of item category<br/>\n",
    "<br/>"
   ]
  },
  {
   "cell_type": "code",
   "execution_count": 158,
   "metadata": {},
   "outputs": [],
   "source": [
    "import os\n",
    "import pandas as pd\n",
    "import seaborn as sns\n",
    "import matplotlib.pyplot as plt\n",
    "import warnings\n",
    "import numpy as np\n",
    "warnings.filterwarnings(action='ignore')"
   ]
  },
  {
   "cell_type": "code",
   "execution_count": 159,
   "metadata": {},
   "outputs": [
    {
     "data": {
      "text/plain": [
       "['item_categories.csv',\n",
       " 'shops.csv',\n",
       " 'sales_train.csv',\n",
       " 'sample_submission.csv',\n",
       " '.ipynb_checkpoints',\n",
       " 'items.csv',\n",
       " 'test.csv']"
      ]
     },
     "execution_count": 159,
     "metadata": {},
     "output_type": "execute_result"
    }
   ],
   "source": [
    "os.listdir('../input')"
   ]
  },
  {
   "cell_type": "code",
   "execution_count": 160,
   "metadata": {},
   "outputs": [
    {
     "data": {
      "text/html": [
       "<div>\n",
       "<style scoped>\n",
       "    .dataframe tbody tr th:only-of-type {\n",
       "        vertical-align: middle;\n",
       "    }\n",
       "\n",
       "    .dataframe tbody tr th {\n",
       "        vertical-align: top;\n",
       "    }\n",
       "\n",
       "    .dataframe thead th {\n",
       "        text-align: right;\n",
       "    }\n",
       "</style>\n",
       "<table border=\"1\" class=\"dataframe\">\n",
       "  <thead>\n",
       "    <tr style=\"text-align: right;\">\n",
       "      <th></th>\n",
       "      <th>ID</th>\n",
       "      <th>shop_id</th>\n",
       "      <th>item_id</th>\n",
       "    </tr>\n",
       "  </thead>\n",
       "  <tbody>\n",
       "    <tr>\n",
       "      <th>0</th>\n",
       "      <td>0</td>\n",
       "      <td>5</td>\n",
       "      <td>5037</td>\n",
       "    </tr>\n",
       "    <tr>\n",
       "      <th>1</th>\n",
       "      <td>1</td>\n",
       "      <td>5</td>\n",
       "      <td>5320</td>\n",
       "    </tr>\n",
       "    <tr>\n",
       "      <th>2</th>\n",
       "      <td>2</td>\n",
       "      <td>5</td>\n",
       "      <td>5233</td>\n",
       "    </tr>\n",
       "  </tbody>\n",
       "</table>\n",
       "</div>"
      ],
      "text/plain": [
       "   ID  shop_id  item_id\n",
       "0   0        5     5037\n",
       "1   1        5     5320\n",
       "2   2        5     5233"
      ]
     },
     "execution_count": 160,
     "metadata": {},
     "output_type": "execute_result"
    }
   ],
   "source": [
    "test = pd.read_csv('../input/test.csv')\n",
    "test.head(3)"
   ]
  },
  {
   "cell_type": "code",
   "execution_count": 161,
   "metadata": {},
   "outputs": [
    {
     "name": "stdout",
     "output_type": "stream",
     "text": [
      "[*]size of test : (214200, 3)\n",
      "[*]nunique of shop_id : 42\n",
      "[*]nunique of shop_id count : [5100]\n"
     ]
    }
   ],
   "source": [
    "print('[*]size of test : {}'.format(test.shape))\n",
    "print('[*]nunique of shop_id : {}'.format(test.shop_id.nunique()))\n",
    "print('[*]nunique of shop_id count : {}'\\\n",
    "      .format(test.groupby('shop_id').size().unique()))"
   ]
  },
  {
   "cell_type": "markdown",
   "metadata": {},
   "source": [
    "### test.csv summary\n",
    "<br/>\n",
    "\n",
    "- test data size is 214200\n",
    "- all shop_id has 5100 rows\n",
    "- predict count with (shop_id, item_id)\n",
    "\n",
    "<br/>"
   ]
  },
  {
   "cell_type": "code",
   "execution_count": null,
   "metadata": {},
   "outputs": [],
   "source": []
  },
  {
   "cell_type": "markdown",
   "metadata": {},
   "source": [
    "# 1. item_categories.csv"
   ]
  },
  {
   "cell_type": "code",
   "execution_count": 162,
   "metadata": {},
   "outputs": [],
   "source": [
    "item_cats = pd.read_csv('../input/item_categories.csv')"
   ]
  },
  {
   "cell_type": "code",
   "execution_count": 163,
   "metadata": {},
   "outputs": [
    {
     "data": {
      "text/html": [
       "<div>\n",
       "<style scoped>\n",
       "    .dataframe tbody tr th:only-of-type {\n",
       "        vertical-align: middle;\n",
       "    }\n",
       "\n",
       "    .dataframe tbody tr th {\n",
       "        vertical-align: top;\n",
       "    }\n",
       "\n",
       "    .dataframe thead th {\n",
       "        text-align: right;\n",
       "    }\n",
       "</style>\n",
       "<table border=\"1\" class=\"dataframe\">\n",
       "  <thead>\n",
       "    <tr style=\"text-align: right;\">\n",
       "      <th></th>\n",
       "      <th>item_category_name</th>\n",
       "      <th>item_category_id</th>\n",
       "    </tr>\n",
       "  </thead>\n",
       "  <tbody>\n",
       "    <tr>\n",
       "      <th>0</th>\n",
       "      <td>PC - Гарнитуры/Наушники</td>\n",
       "      <td>0</td>\n",
       "    </tr>\n",
       "    <tr>\n",
       "      <th>1</th>\n",
       "      <td>Аксессуары - PS2</td>\n",
       "      <td>1</td>\n",
       "    </tr>\n",
       "    <tr>\n",
       "      <th>2</th>\n",
       "      <td>Аксессуары - PS3</td>\n",
       "      <td>2</td>\n",
       "    </tr>\n",
       "    <tr>\n",
       "      <th>3</th>\n",
       "      <td>Аксессуары - PS4</td>\n",
       "      <td>3</td>\n",
       "    </tr>\n",
       "    <tr>\n",
       "      <th>4</th>\n",
       "      <td>Аксессуары - PSP</td>\n",
       "      <td>4</td>\n",
       "    </tr>\n",
       "    <tr>\n",
       "      <th>5</th>\n",
       "      <td>Аксессуары - PSVita</td>\n",
       "      <td>5</td>\n",
       "    </tr>\n",
       "    <tr>\n",
       "      <th>6</th>\n",
       "      <td>Аксессуары - XBOX 360</td>\n",
       "      <td>6</td>\n",
       "    </tr>\n",
       "    <tr>\n",
       "      <th>7</th>\n",
       "      <td>Аксессуары - XBOX ONE</td>\n",
       "      <td>7</td>\n",
       "    </tr>\n",
       "    <tr>\n",
       "      <th>8</th>\n",
       "      <td>Билеты (Цифра)</td>\n",
       "      <td>8</td>\n",
       "    </tr>\n",
       "    <tr>\n",
       "      <th>9</th>\n",
       "      <td>Доставка товара</td>\n",
       "      <td>9</td>\n",
       "    </tr>\n",
       "    <tr>\n",
       "      <th>10</th>\n",
       "      <td>Игровые консоли - PS2</td>\n",
       "      <td>10</td>\n",
       "    </tr>\n",
       "    <tr>\n",
       "      <th>11</th>\n",
       "      <td>Игровые консоли - PS3</td>\n",
       "      <td>11</td>\n",
       "    </tr>\n",
       "    <tr>\n",
       "      <th>12</th>\n",
       "      <td>Игровые консоли - PS4</td>\n",
       "      <td>12</td>\n",
       "    </tr>\n",
       "    <tr>\n",
       "      <th>13</th>\n",
       "      <td>Игровые консоли - PSP</td>\n",
       "      <td>13</td>\n",
       "    </tr>\n",
       "    <tr>\n",
       "      <th>14</th>\n",
       "      <td>Игровые консоли - PSVita</td>\n",
       "      <td>14</td>\n",
       "    </tr>\n",
       "    <tr>\n",
       "      <th>15</th>\n",
       "      <td>Игровые консоли - XBOX 360</td>\n",
       "      <td>15</td>\n",
       "    </tr>\n",
       "    <tr>\n",
       "      <th>16</th>\n",
       "      <td>Игровые консоли - XBOX ONE</td>\n",
       "      <td>16</td>\n",
       "    </tr>\n",
       "    <tr>\n",
       "      <th>17</th>\n",
       "      <td>Игровые консоли - Прочие</td>\n",
       "      <td>17</td>\n",
       "    </tr>\n",
       "    <tr>\n",
       "      <th>18</th>\n",
       "      <td>Игры - PS2</td>\n",
       "      <td>18</td>\n",
       "    </tr>\n",
       "    <tr>\n",
       "      <th>19</th>\n",
       "      <td>Игры - PS3</td>\n",
       "      <td>19</td>\n",
       "    </tr>\n",
       "  </tbody>\n",
       "</table>\n",
       "</div>"
      ],
      "text/plain": [
       "            item_category_name  item_category_id\n",
       "0      PC - Гарнитуры/Наушники                 0\n",
       "1             Аксессуары - PS2                 1\n",
       "2             Аксессуары - PS3                 2\n",
       "3             Аксессуары - PS4                 3\n",
       "4             Аксессуары - PSP                 4\n",
       "5          Аксессуары - PSVita                 5\n",
       "6        Аксессуары - XBOX 360                 6\n",
       "7        Аксессуары - XBOX ONE                 7\n",
       "8               Билеты (Цифра)                 8\n",
       "9              Доставка товара                 9\n",
       "10       Игровые консоли - PS2                10\n",
       "11       Игровые консоли - PS3                11\n",
       "12       Игровые консоли - PS4                12\n",
       "13       Игровые консоли - PSP                13\n",
       "14    Игровые консоли - PSVita                14\n",
       "15  Игровые консоли - XBOX 360                15\n",
       "16  Игровые консоли - XBOX ONE                16\n",
       "17    Игровые консоли - Прочие                17\n",
       "18                  Игры - PS2                18\n",
       "19                  Игры - PS3                19"
      ]
     },
     "execution_count": 163,
     "metadata": {},
     "output_type": "execute_result"
    }
   ],
   "source": [
    "item_cats.head(20)"
   ]
  },
  {
   "cell_type": "code",
   "execution_count": 164,
   "metadata": {},
   "outputs": [
    {
     "name": "stdout",
     "output_type": "stream",
     "text": [
      ">>nunique of item_categories\n"
     ]
    },
    {
     "data": {
      "text/html": [
       "<div>\n",
       "<style scoped>\n",
       "    .dataframe tbody tr th:only-of-type {\n",
       "        vertical-align: middle;\n",
       "    }\n",
       "\n",
       "    .dataframe tbody tr th {\n",
       "        vertical-align: top;\n",
       "    }\n",
       "\n",
       "    .dataframe thead th {\n",
       "        text-align: right;\n",
       "    }\n",
       "</style>\n",
       "<table border=\"1\" class=\"dataframe\">\n",
       "  <thead>\n",
       "    <tr style=\"text-align: right;\">\n",
       "      <th></th>\n",
       "      <th>nunique</th>\n",
       "    </tr>\n",
       "  </thead>\n",
       "  <tbody>\n",
       "    <tr>\n",
       "      <th>item_category_id</th>\n",
       "      <td>84</td>\n",
       "    </tr>\n",
       "    <tr>\n",
       "      <th>item_category_name</th>\n",
       "      <td>84</td>\n",
       "    </tr>\n",
       "  </tbody>\n",
       "</table>\n",
       "</div>"
      ],
      "text/plain": [
       "                    nunique\n",
       "item_category_id         84\n",
       "item_category_name       84"
      ]
     },
     "execution_count": 164,
     "metadata": {},
     "output_type": "execute_result"
    }
   ],
   "source": [
    "agg_col = dict([(x, 'nunique') for x in item_cats.columns])\n",
    "print('>>nunique of item_categories')\n",
    "pd.DataFrame(item_cats.aggregate(agg_col), columns=['nunique'])"
   ]
  },
  {
   "cell_type": "code",
   "execution_count": 165,
   "metadata": {},
   "outputs": [
    {
     "name": "stdout",
     "output_type": "stream",
     "text": [
      ">>nunique of item_categories\n"
     ]
    },
    {
     "data": {
      "text/html": [
       "<div>\n",
       "<style scoped>\n",
       "    .dataframe tbody tr th:only-of-type {\n",
       "        vertical-align: middle;\n",
       "    }\n",
       "\n",
       "    .dataframe tbody tr th {\n",
       "        vertical-align: top;\n",
       "    }\n",
       "\n",
       "    .dataframe thead th {\n",
       "        text-align: right;\n",
       "    }\n",
       "</style>\n",
       "<table border=\"1\" class=\"dataframe\">\n",
       "  <thead>\n",
       "    <tr style=\"text-align: right;\">\n",
       "      <th></th>\n",
       "      <th>nunique</th>\n",
       "    </tr>\n",
       "  </thead>\n",
       "  <tbody>\n",
       "    <tr>\n",
       "      <th>item_category_name</th>\n",
       "      <td>84</td>\n",
       "    </tr>\n",
       "    <tr>\n",
       "      <th>item_category_id</th>\n",
       "      <td>84</td>\n",
       "    </tr>\n",
       "  </tbody>\n",
       "</table>\n",
       "</div>"
      ],
      "text/plain": [
       "                    nunique\n",
       "item_category_name       84\n",
       "item_category_id         84"
      ]
     },
     "execution_count": 165,
     "metadata": {},
     "output_type": "execute_result"
    }
   ],
   "source": [
    "print('>>nunique of item_categories')\n",
    "pd.DataFrame(item_cats.nunique(), columns=['nunique'])\n",
    "#? The code aboce is trash :)"
   ]
  },
  {
   "cell_type": "code",
   "execution_count": 166,
   "metadata": {},
   "outputs": [
    {
     "data": {
      "text/html": [
       "<div>\n",
       "<style scoped>\n",
       "    .dataframe tbody tr th:only-of-type {\n",
       "        vertical-align: middle;\n",
       "    }\n",
       "\n",
       "    .dataframe tbody tr th {\n",
       "        vertical-align: top;\n",
       "    }\n",
       "\n",
       "    .dataframe thead th {\n",
       "        text-align: right;\n",
       "    }\n",
       "</style>\n",
       "<table border=\"1\" class=\"dataframe\">\n",
       "  <thead>\n",
       "    <tr style=\"text-align: right;\">\n",
       "      <th></th>\n",
       "      <th>item_category_name</th>\n",
       "      <th>item_category_id</th>\n",
       "      <th>type</th>\n",
       "      <th>subtype</th>\n",
       "    </tr>\n",
       "  </thead>\n",
       "  <tbody>\n",
       "    <tr>\n",
       "      <th>0</th>\n",
       "      <td>PC - Гарнитуры/Наушники</td>\n",
       "      <td>0</td>\n",
       "      <td>Гарнитуры/Наушники</td>\n",
       "      <td>PC</td>\n",
       "    </tr>\n",
       "    <tr>\n",
       "      <th>1</th>\n",
       "      <td>Аксессуары - PS2</td>\n",
       "      <td>1</td>\n",
       "      <td>PS2</td>\n",
       "      <td>Аксессуары</td>\n",
       "    </tr>\n",
       "    <tr>\n",
       "      <th>2</th>\n",
       "      <td>Аксессуары - PS3</td>\n",
       "      <td>2</td>\n",
       "      <td>PS3</td>\n",
       "      <td>Аксессуары</td>\n",
       "    </tr>\n",
       "    <tr>\n",
       "      <th>3</th>\n",
       "      <td>Аксессуары - PS4</td>\n",
       "      <td>3</td>\n",
       "      <td>PS4</td>\n",
       "      <td>Аксессуары</td>\n",
       "    </tr>\n",
       "    <tr>\n",
       "      <th>4</th>\n",
       "      <td>Аксессуары - PSP</td>\n",
       "      <td>4</td>\n",
       "      <td>PSP</td>\n",
       "      <td>Аксессуары</td>\n",
       "    </tr>\n",
       "  </tbody>\n",
       "</table>\n",
       "</div>"
      ],
      "text/plain": [
       "        item_category_name  item_category_id                type     subtype\n",
       "0  PC - Гарнитуры/Наушники                 0  Гарнитуры/Наушники          PC\n",
       "1         Аксессуары - PS2                 1                 PS2  Аксессуары\n",
       "2         Аксессуары - PS3                 2                 PS3  Аксессуары\n",
       "3         Аксессуары - PS4                 3                 PS4  Аксессуары\n",
       "4         Аксессуары - PSP                 4                 PSP  Аксессуары"
      ]
     },
     "execution_count": 166,
     "metadata": {},
     "output_type": "execute_result"
    }
   ],
   "source": [
    "item_cats['split'] = item_cats['item_category_name'].str.split('-')\n",
    "item_cats['type'] = item_cats['split']\\\n",
    "                    .map(lambda x: x[1].strip()\n",
    "                         if len(x) > 1\n",
    "                         else x[0].strip())\n",
    "item_cats['subtype'] = item_cats['split'].map(lambda x: x[0].strip())\n",
    "item_cats.drop(['split'], axis=1, inplace=True)\n",
    "item_cats.head(5)"
   ]
  },
  {
   "cell_type": "code",
   "execution_count": 167,
   "metadata": {},
   "outputs": [
    {
     "data": {
      "text/html": [
       "<div>\n",
       "<style scoped>\n",
       "    .dataframe tbody tr th:only-of-type {\n",
       "        vertical-align: middle;\n",
       "    }\n",
       "\n",
       "    .dataframe tbody tr th {\n",
       "        vertical-align: top;\n",
       "    }\n",
       "\n",
       "    .dataframe thead th {\n",
       "        text-align: right;\n",
       "    }\n",
       "</style>\n",
       "<table border=\"1\" class=\"dataframe\">\n",
       "  <thead>\n",
       "    <tr style=\"text-align: right;\">\n",
       "      <th></th>\n",
       "      <th>item_category_name</th>\n",
       "      <th>item_category_id</th>\n",
       "      <th>type</th>\n",
       "      <th>subtype</th>\n",
       "    </tr>\n",
       "  </thead>\n",
       "  <tbody>\n",
       "    <tr>\n",
       "      <th>8</th>\n",
       "      <td>Билеты (Цифра)</td>\n",
       "      <td>8</td>\n",
       "      <td>Билеты (Цифра)</td>\n",
       "      <td>Билеты (Цифра)</td>\n",
       "    </tr>\n",
       "    <tr>\n",
       "      <th>9</th>\n",
       "      <td>Доставка товара</td>\n",
       "      <td>9</td>\n",
       "      <td>Доставка товара</td>\n",
       "      <td>Доставка товара</td>\n",
       "    </tr>\n",
       "    <tr>\n",
       "      <th>32</th>\n",
       "      <td>Карты оплаты (Кино, Музыка, Игры)</td>\n",
       "      <td>32</td>\n",
       "      <td>Карты оплаты (Кино, Музыка, Игры)</td>\n",
       "      <td>Карты оплаты (Кино, Музыка, Игры)</td>\n",
       "    </tr>\n",
       "    <tr>\n",
       "      <th>79</th>\n",
       "      <td>Служебные</td>\n",
       "      <td>79</td>\n",
       "      <td>Служебные</td>\n",
       "      <td>Служебные</td>\n",
       "    </tr>\n",
       "    <tr>\n",
       "      <th>81</th>\n",
       "      <td>Чистые носители (шпиль)</td>\n",
       "      <td>81</td>\n",
       "      <td>Чистые носители (шпиль)</td>\n",
       "      <td>Чистые носители (шпиль)</td>\n",
       "    </tr>\n",
       "    <tr>\n",
       "      <th>82</th>\n",
       "      <td>Чистые носители (штучные)</td>\n",
       "      <td>82</td>\n",
       "      <td>Чистые носители (штучные)</td>\n",
       "      <td>Чистые носители (штучные)</td>\n",
       "    </tr>\n",
       "    <tr>\n",
       "      <th>83</th>\n",
       "      <td>Элементы питания</td>\n",
       "      <td>83</td>\n",
       "      <td>Элементы питания</td>\n",
       "      <td>Элементы питания</td>\n",
       "    </tr>\n",
       "  </tbody>\n",
       "</table>\n",
       "</div>"
      ],
      "text/plain": [
       "                   item_category_name  item_category_id  \\\n",
       "8                      Билеты (Цифра)                 8   \n",
       "9                     Доставка товара                 9   \n",
       "32  Карты оплаты (Кино, Музыка, Игры)                32   \n",
       "79                          Служебные                79   \n",
       "81            Чистые носители (шпиль)                81   \n",
       "82          Чистые носители (штучные)                82   \n",
       "83                   Элементы питания                83   \n",
       "\n",
       "                                 type                            subtype  \n",
       "8                      Билеты (Цифра)                     Билеты (Цифра)  \n",
       "9                     Доставка товара                    Доставка товара  \n",
       "32  Карты оплаты (Кино, Музыка, Игры)  Карты оплаты (Кино, Музыка, Игры)  \n",
       "79                          Служебные                          Служебные  \n",
       "81            Чистые носители (шпиль)            Чистые носители (шпиль)  \n",
       "82          Чистые носители (штучные)          Чистые носители (штучные)  \n",
       "83                   Элементы питания                   Элементы питания  "
      ]
     },
     "execution_count": 167,
     "metadata": {},
     "output_type": "execute_result"
    }
   ],
   "source": [
    "item_cats[item_cats['type'] == item_cats['subtype']]"
   ]
  },
  {
   "cell_type": "code",
   "execution_count": 198,
   "metadata": {},
   "outputs": [],
   "source": [
    "import re\n",
    "pt = r'\\([^)]*\\)'\n",
    "type_chk = item_cats['type'] == item_cats['subtype']\n",
    "fix_index = item_cats[type_chk].index\n",
    "item_cats.loc[fix_index, 'type'] = item_cats.loc[fix_index, 'type']\\\n",
    "                                   .apply(lambda x: re.sub(pattern=pt,\n",
    "                                                           repl='',\n",
    "                                                           string=x))\n",
    "\n",
    "item_cats.loc[fix_index, 'subtype'] = item_cats.loc[fix_index, 'type']\\\n",
    "                                  .apply(lambda x: x.split()[-1])\n",
    "item_cats.loc[fix_index, 'type'] = item_cats.loc[fix_index, 'type']\\\n",
    "                                  .apply(lambda x: x.split()[0])"
   ]
  },
  {
   "cell_type": "code",
   "execution_count": 199,
   "metadata": {},
   "outputs": [
    {
     "data": {
      "text/html": [
       "<div>\n",
       "<style scoped>\n",
       "    .dataframe tbody tr th:only-of-type {\n",
       "        vertical-align: middle;\n",
       "    }\n",
       "\n",
       "    .dataframe tbody tr th {\n",
       "        vertical-align: top;\n",
       "    }\n",
       "\n",
       "    .dataframe thead th {\n",
       "        text-align: right;\n",
       "    }\n",
       "</style>\n",
       "<table border=\"1\" class=\"dataframe\">\n",
       "  <thead>\n",
       "    <tr style=\"text-align: right;\">\n",
       "      <th></th>\n",
       "      <th>item_category_name</th>\n",
       "      <th>item_category_id</th>\n",
       "      <th>type</th>\n",
       "      <th>subtype</th>\n",
       "    </tr>\n",
       "  </thead>\n",
       "  <tbody>\n",
       "    <tr>\n",
       "      <th>8</th>\n",
       "      <td>Билеты (Цифра)</td>\n",
       "      <td>8</td>\n",
       "      <td>Билеты</td>\n",
       "      <td>Билеты</td>\n",
       "    </tr>\n",
       "    <tr>\n",
       "      <th>9</th>\n",
       "      <td>Доставка товара</td>\n",
       "      <td>9</td>\n",
       "      <td>Доставка товара</td>\n",
       "      <td>товара</td>\n",
       "    </tr>\n",
       "    <tr>\n",
       "      <th>32</th>\n",
       "      <td>Карты оплаты (Кино, Музыка, Игры)</td>\n",
       "      <td>32</td>\n",
       "      <td>Карты оплаты</td>\n",
       "      <td>оплаты</td>\n",
       "    </tr>\n",
       "    <tr>\n",
       "      <th>79</th>\n",
       "      <td>Служебные</td>\n",
       "      <td>79</td>\n",
       "      <td>Служебные</td>\n",
       "      <td>Служебные</td>\n",
       "    </tr>\n",
       "    <tr>\n",
       "      <th>81</th>\n",
       "      <td>Чистые носители (шпиль)</td>\n",
       "      <td>81</td>\n",
       "      <td>Чистые носители</td>\n",
       "      <td>носители</td>\n",
       "    </tr>\n",
       "    <tr>\n",
       "      <th>82</th>\n",
       "      <td>Чистые носители (штучные)</td>\n",
       "      <td>82</td>\n",
       "      <td>Чистые носители</td>\n",
       "      <td>носители</td>\n",
       "    </tr>\n",
       "    <tr>\n",
       "      <th>83</th>\n",
       "      <td>Элементы питания</td>\n",
       "      <td>83</td>\n",
       "      <td>Элементы питания</td>\n",
       "      <td>питания</td>\n",
       "    </tr>\n",
       "  </tbody>\n",
       "</table>\n",
       "</div>"
      ],
      "text/plain": [
       "                   item_category_name  item_category_id              type  \\\n",
       "8                      Билеты (Цифра)                 8           Билеты    \n",
       "9                     Доставка товара                 9   Доставка товара   \n",
       "32  Карты оплаты (Кино, Музыка, Игры)                32     Карты оплаты    \n",
       "79                          Служебные                79         Служебные   \n",
       "81            Чистые носители (шпиль)                81  Чистые носители    \n",
       "82          Чистые носители (штучные)                82  Чистые носители    \n",
       "83                   Элементы питания                83  Элементы питания   \n",
       "\n",
       "      subtype  \n",
       "8      Билеты  \n",
       "9      товара  \n",
       "32     оплаты  \n",
       "79  Служебные  \n",
       "81   носители  \n",
       "82   носители  \n",
       "83    питания  "
      ]
     },
     "execution_count": 199,
     "metadata": {},
     "output_type": "execute_result"
    }
   ],
   "source": [
    "item_cats.loc[fix_cat_index, :] "
   ]
  },
  {
   "cell_type": "markdown",
   "metadata": {},
   "source": [
    "### item_categories.csv summary\n",
    "<br/>\n",
    "\n",
    "- item_category_name : item_category_id = 1 : 1\n",
    "- 84 unique data\n",
    "- Even the same item has a different category. (ex : PS2, PS3 .. )\n",
    "\n",
    "<br/>"
   ]
  },
  {
   "cell_type": "code",
   "execution_count": null,
   "metadata": {},
   "outputs": [],
   "source": []
  },
  {
   "cell_type": "markdown",
   "metadata": {},
   "source": [
    "# 2. shops.csv"
   ]
  },
  {
   "cell_type": "code",
   "execution_count": 200,
   "metadata": {},
   "outputs": [],
   "source": [
    "shops = pd.read_csv('../input/shops.csv')"
   ]
  },
  {
   "cell_type": "code",
   "execution_count": 201,
   "metadata": {},
   "outputs": [
    {
     "data": {
      "text/html": [
       "<div>\n",
       "<style scoped>\n",
       "    .dataframe tbody tr th:only-of-type {\n",
       "        vertical-align: middle;\n",
       "    }\n",
       "\n",
       "    .dataframe tbody tr th {\n",
       "        vertical-align: top;\n",
       "    }\n",
       "\n",
       "    .dataframe thead th {\n",
       "        text-align: right;\n",
       "    }\n",
       "</style>\n",
       "<table border=\"1\" class=\"dataframe\">\n",
       "  <thead>\n",
       "    <tr style=\"text-align: right;\">\n",
       "      <th></th>\n",
       "      <th>shop_name</th>\n",
       "      <th>shop_id</th>\n",
       "    </tr>\n",
       "  </thead>\n",
       "  <tbody>\n",
       "    <tr>\n",
       "      <th>0</th>\n",
       "      <td>!Якутск Орджоникидзе, 56 фран</td>\n",
       "      <td>0</td>\n",
       "    </tr>\n",
       "    <tr>\n",
       "      <th>1</th>\n",
       "      <td>!Якутск ТЦ \"Центральный\" фран</td>\n",
       "      <td>1</td>\n",
       "    </tr>\n",
       "    <tr>\n",
       "      <th>2</th>\n",
       "      <td>Адыгея ТЦ \"Мега\"</td>\n",
       "      <td>2</td>\n",
       "    </tr>\n",
       "    <tr>\n",
       "      <th>3</th>\n",
       "      <td>Балашиха ТРК \"Октябрь-Киномир\"</td>\n",
       "      <td>3</td>\n",
       "    </tr>\n",
       "    <tr>\n",
       "      <th>4</th>\n",
       "      <td>Волжский ТЦ \"Волга Молл\"</td>\n",
       "      <td>4</td>\n",
       "    </tr>\n",
       "    <tr>\n",
       "      <th>5</th>\n",
       "      <td>Вологда ТРЦ \"Мармелад\"</td>\n",
       "      <td>5</td>\n",
       "    </tr>\n",
       "    <tr>\n",
       "      <th>6</th>\n",
       "      <td>Воронеж (Плехановская, 13)</td>\n",
       "      <td>6</td>\n",
       "    </tr>\n",
       "    <tr>\n",
       "      <th>7</th>\n",
       "      <td>Воронеж ТРЦ \"Максимир\"</td>\n",
       "      <td>7</td>\n",
       "    </tr>\n",
       "    <tr>\n",
       "      <th>8</th>\n",
       "      <td>Воронеж ТРЦ Сити-Парк \"Град\"</td>\n",
       "      <td>8</td>\n",
       "    </tr>\n",
       "    <tr>\n",
       "      <th>9</th>\n",
       "      <td>Выездная Торговля</td>\n",
       "      <td>9</td>\n",
       "    </tr>\n",
       "  </tbody>\n",
       "</table>\n",
       "</div>"
      ],
      "text/plain": [
       "                        shop_name  shop_id\n",
       "0   !Якутск Орджоникидзе, 56 фран        0\n",
       "1   !Якутск ТЦ \"Центральный\" фран        1\n",
       "2                Адыгея ТЦ \"Мега\"        2\n",
       "3  Балашиха ТРК \"Октябрь-Киномир\"        3\n",
       "4        Волжский ТЦ \"Волга Молл\"        4\n",
       "5          Вологда ТРЦ \"Мармелад\"        5\n",
       "6      Воронеж (Плехановская, 13)        6\n",
       "7          Воронеж ТРЦ \"Максимир\"        7\n",
       "8    Воронеж ТРЦ Сити-Парк \"Град\"        8\n",
       "9               Выездная Торговля        9"
      ]
     },
     "execution_count": 201,
     "metadata": {},
     "output_type": "execute_result"
    }
   ],
   "source": [
    "shops.head(10)"
   ]
  },
  {
   "cell_type": "code",
   "execution_count": 11,
   "metadata": {},
   "outputs": [
    {
     "name": "stdout",
     "output_type": "stream",
     "text": [
      ">>nunique of shops\n"
     ]
    },
    {
     "data": {
      "text/html": [
       "<div>\n",
       "<style scoped>\n",
       "    .dataframe tbody tr th:only-of-type {\n",
       "        vertical-align: middle;\n",
       "    }\n",
       "\n",
       "    .dataframe tbody tr th {\n",
       "        vertical-align: top;\n",
       "    }\n",
       "\n",
       "    .dataframe thead th {\n",
       "        text-align: right;\n",
       "    }\n",
       "</style>\n",
       "<table border=\"1\" class=\"dataframe\">\n",
       "  <thead>\n",
       "    <tr style=\"text-align: right;\">\n",
       "      <th></th>\n",
       "      <th>nunique</th>\n",
       "    </tr>\n",
       "  </thead>\n",
       "  <tbody>\n",
       "    <tr>\n",
       "      <th>shop_name</th>\n",
       "      <td>60</td>\n",
       "    </tr>\n",
       "    <tr>\n",
       "      <th>shop_id</th>\n",
       "      <td>60</td>\n",
       "    </tr>\n",
       "  </tbody>\n",
       "</table>\n",
       "</div>"
      ],
      "text/plain": [
       "           nunique\n",
       "shop_name       60\n",
       "shop_id         60"
      ]
     },
     "execution_count": 11,
     "metadata": {},
     "output_type": "execute_result"
    }
   ],
   "source": [
    "agg_col = dict([(x, 'nunique') for x in shops.columns])\n",
    "print('>>nunique of shops')\n",
    "pd.DataFrame(shops.aggregate(agg_col), columns=['nunique'])"
   ]
  },
  {
   "cell_type": "markdown",
   "metadata": {},
   "source": [
    "### shops.csv summary\n",
    "<br/>\n",
    "\n",
    "- shop_name : shop_id = 1 : 1\n",
    "- 60 unique data\n",
    "\n",
    "<br/>"
   ]
  },
  {
   "cell_type": "code",
   "execution_count": null,
   "metadata": {},
   "outputs": [],
   "source": []
  },
  {
   "cell_type": "markdown",
   "metadata": {},
   "source": [
    "# 3. sales_train.csv"
   ]
  },
  {
   "cell_type": "code",
   "execution_count": 203,
   "metadata": {},
   "outputs": [],
   "source": [
    "sales_train = pd.read_csv('../input/sales_train.csv')"
   ]
  },
  {
   "cell_type": "code",
   "execution_count": 204,
   "metadata": {},
   "outputs": [
    {
     "name": "stdout",
     "output_type": "stream",
     "text": [
      "[*]shape of sales_train : (2935849, 6)\n"
     ]
    }
   ],
   "source": [
    "print('[*]shape of sales_train : {}'.format(sales_train.shape))"
   ]
  },
  {
   "cell_type": "code",
   "execution_count": 205,
   "metadata": {},
   "outputs": [
    {
     "data": {
      "text/html": [
       "<div>\n",
       "<style scoped>\n",
       "    .dataframe tbody tr th:only-of-type {\n",
       "        vertical-align: middle;\n",
       "    }\n",
       "\n",
       "    .dataframe tbody tr th {\n",
       "        vertical-align: top;\n",
       "    }\n",
       "\n",
       "    .dataframe thead th {\n",
       "        text-align: right;\n",
       "    }\n",
       "</style>\n",
       "<table border=\"1\" class=\"dataframe\">\n",
       "  <thead>\n",
       "    <tr style=\"text-align: right;\">\n",
       "      <th></th>\n",
       "      <th>date</th>\n",
       "      <th>date_block_num</th>\n",
       "      <th>shop_id</th>\n",
       "      <th>item_id</th>\n",
       "      <th>item_price</th>\n",
       "      <th>item_cnt_day</th>\n",
       "    </tr>\n",
       "  </thead>\n",
       "  <tbody>\n",
       "    <tr>\n",
       "      <th>0</th>\n",
       "      <td>02.01.2013</td>\n",
       "      <td>0</td>\n",
       "      <td>59</td>\n",
       "      <td>22154</td>\n",
       "      <td>999.00</td>\n",
       "      <td>1.0</td>\n",
       "    </tr>\n",
       "    <tr>\n",
       "      <th>1</th>\n",
       "      <td>03.01.2013</td>\n",
       "      <td>0</td>\n",
       "      <td>25</td>\n",
       "      <td>2552</td>\n",
       "      <td>899.00</td>\n",
       "      <td>1.0</td>\n",
       "    </tr>\n",
       "    <tr>\n",
       "      <th>2</th>\n",
       "      <td>05.01.2013</td>\n",
       "      <td>0</td>\n",
       "      <td>25</td>\n",
       "      <td>2552</td>\n",
       "      <td>899.00</td>\n",
       "      <td>-1.0</td>\n",
       "    </tr>\n",
       "    <tr>\n",
       "      <th>3</th>\n",
       "      <td>06.01.2013</td>\n",
       "      <td>0</td>\n",
       "      <td>25</td>\n",
       "      <td>2554</td>\n",
       "      <td>1709.05</td>\n",
       "      <td>1.0</td>\n",
       "    </tr>\n",
       "    <tr>\n",
       "      <th>4</th>\n",
       "      <td>15.01.2013</td>\n",
       "      <td>0</td>\n",
       "      <td>25</td>\n",
       "      <td>2555</td>\n",
       "      <td>1099.00</td>\n",
       "      <td>1.0</td>\n",
       "    </tr>\n",
       "    <tr>\n",
       "      <th>5</th>\n",
       "      <td>10.01.2013</td>\n",
       "      <td>0</td>\n",
       "      <td>25</td>\n",
       "      <td>2564</td>\n",
       "      <td>349.00</td>\n",
       "      <td>1.0</td>\n",
       "    </tr>\n",
       "    <tr>\n",
       "      <th>6</th>\n",
       "      <td>02.01.2013</td>\n",
       "      <td>0</td>\n",
       "      <td>25</td>\n",
       "      <td>2565</td>\n",
       "      <td>549.00</td>\n",
       "      <td>1.0</td>\n",
       "    </tr>\n",
       "    <tr>\n",
       "      <th>7</th>\n",
       "      <td>04.01.2013</td>\n",
       "      <td>0</td>\n",
       "      <td>25</td>\n",
       "      <td>2572</td>\n",
       "      <td>239.00</td>\n",
       "      <td>1.0</td>\n",
       "    </tr>\n",
       "    <tr>\n",
       "      <th>8</th>\n",
       "      <td>11.01.2013</td>\n",
       "      <td>0</td>\n",
       "      <td>25</td>\n",
       "      <td>2572</td>\n",
       "      <td>299.00</td>\n",
       "      <td>1.0</td>\n",
       "    </tr>\n",
       "    <tr>\n",
       "      <th>9</th>\n",
       "      <td>03.01.2013</td>\n",
       "      <td>0</td>\n",
       "      <td>25</td>\n",
       "      <td>2573</td>\n",
       "      <td>299.00</td>\n",
       "      <td>3.0</td>\n",
       "    </tr>\n",
       "  </tbody>\n",
       "</table>\n",
       "</div>"
      ],
      "text/plain": [
       "         date  date_block_num  shop_id  item_id  item_price  item_cnt_day\n",
       "0  02.01.2013               0       59    22154      999.00           1.0\n",
       "1  03.01.2013               0       25     2552      899.00           1.0\n",
       "2  05.01.2013               0       25     2552      899.00          -1.0\n",
       "3  06.01.2013               0       25     2554     1709.05           1.0\n",
       "4  15.01.2013               0       25     2555     1099.00           1.0\n",
       "5  10.01.2013               0       25     2564      349.00           1.0\n",
       "6  02.01.2013               0       25     2565      549.00           1.0\n",
       "7  04.01.2013               0       25     2572      239.00           1.0\n",
       "8  11.01.2013               0       25     2572      299.00           1.0\n",
       "9  03.01.2013               0       25     2573      299.00           3.0"
      ]
     },
     "execution_count": 205,
     "metadata": {},
     "output_type": "execute_result"
    }
   ],
   "source": [
    "sales_train.head(10)"
   ]
  },
  {
   "cell_type": "code",
   "execution_count": 15,
   "metadata": {},
   "outputs": [],
   "source": [
    "sales_train.date = pd.to_datetime(sales_train.date, format='%d.%m.%Y')"
   ]
  },
  {
   "cell_type": "code",
   "execution_count": 16,
   "metadata": {},
   "outputs": [
    {
     "name": "stdout",
     "output_type": "stream",
     "text": [
      "[*]date\n",
      ">>date nunique : 1034\n",
      ">>min date : 2013-01-01 00:00:00\n",
      ">>max date : 2015-10-31 00:00:00\n",
      ">>total period days : 1033 days\n"
     ]
    }
   ],
   "source": [
    "print('[*]date')\n",
    "min_date = sales_train.date.min()\n",
    "max_date = sales_train.date.max()\n",
    "period_days = (max_date - min_date).days\n",
    "print('>>date nunique : {}'.format(sales_train.date.nunique()))\n",
    "print('>>min date : {}'.format(min_date))\n",
    "print('>>max date : {}'.format(max_date))\n",
    "print('>>total period days : {} days'.format(period_days))"
   ]
  },
  {
   "cell_type": "markdown",
   "metadata": {},
   "source": [
    "### date summary\n",
    "<br/>\n",
    "\n",
    "- total 1033 days (about 34 months)\n",
    "- date format : Year, Month, Day\n",
    "\n",
    "<br/>"
   ]
  },
  {
   "cell_type": "code",
   "execution_count": null,
   "metadata": {},
   "outputs": [],
   "source": []
  },
  {
   "cell_type": "code",
   "execution_count": 17,
   "metadata": {},
   "outputs": [
    {
     "name": "stdout",
     "output_type": "stream",
     "text": [
      "[*]date_block_num\n",
      ">>date_block_num nunique : 34\n"
     ]
    }
   ],
   "source": [
    "print('[*]date_block_num')\n",
    "print('>>date_block_num nunique : {}'\\\n",
    "      .format(sales_train.date_block_num.nunique()))"
   ]
  },
  {
   "cell_type": "code",
   "execution_count": 18,
   "metadata": {},
   "outputs": [
    {
     "name": "stdout",
     "output_type": "stream",
     "text": [
      "[*]nunique (simple_date & date_block_num) : 34\n"
     ]
    }
   ],
   "source": [
    "sales_train['simple_date'] = sales_train\\\n",
    "                          .date.apply(lambda x: x.strftime('%Y-%m'))\n",
    "simple_date = [(a, b) for a, b\\\n",
    "               in zip(sales_train.simple_date,\n",
    "                      sales_train.date_block_num)]\n",
    "print('[*]nunique (simple_date & date_block_num) : {}'\\\n",
    "      .format(len(set(simple_date))))"
   ]
  },
  {
   "cell_type": "code",
   "execution_count": 19,
   "metadata": {},
   "outputs": [
    {
     "data": {
      "text/plain": [
       "<matplotlib.axes._subplots.AxesSubplot at 0x7fcbc3c87b38>"
      ]
     },
     "execution_count": 19,
     "metadata": {},
     "output_type": "execute_result"
    },
    {
     "data": {
      "image/png": "[encoded data removed]",
      "text/plain": [
       "<Figure size 720x360 with 1 Axes>"
      ]
     },
     "metadata": {
      "needs_background": "light"
     },
     "output_type": "display_data"
    }
   ],
   "source": [
    "fig, ax = plt.subplots(1, 1, figsize=(10, 5))\n",
    "fig.suptitle('date_block_num countplot', fontsize= 15)\n",
    "plt.xticks(rotation=90)\n",
    "sns.countplot(sales_train.simple_date, ax=ax)"
   ]
  },
  {
   "cell_type": "markdown",
   "metadata": {},
   "source": [
    "### date_block_num summary\n",
    "<br/>\n",
    "\n",
    "- date_block_num is defined by each year and month\n",
    "- total count of size by simple_date is decrease\n",
    "- in last of the year, item_total_cnt is higher\n",
    "- it has kind of some pattern\n",
    "\n",
    "<br/>"
   ]
  },
  {
   "cell_type": "code",
   "execution_count": 20,
   "metadata": {},
   "outputs": [
    {
     "name": "stdout",
     "output_type": "stream",
     "text": [
      "[*]item_id\n",
      ">>nunique : 21807\n",
      ">>min : 0\n",
      ">>max : 22169\n"
     ]
    }
   ],
   "source": [
    "print('[*]item_id')\n",
    "print('>>nunique : {}'.format(sales_train.item_id.nunique()))\n",
    "print('>>min : {}'.format(sales_train.item_id.min()))\n",
    "print('>>max : {}'.format(sales_train.item_id.max()))"
   ]
  },
  {
   "cell_type": "code",
   "execution_count": 21,
   "metadata": {
    "scrolled": false
   },
   "outputs": [
    {
     "name": "stdout",
     "output_type": "stream",
     "text": [
      ">>max item_id count : 31340\n",
      ">>max item_id count : 1\n"
     ]
    },
    {
     "data": {
      "image/png": "[encoded data removed]",
      "text/plain": [
       "<Figure size 720x576 with 3 Axes>"
      ]
     },
     "metadata": {
      "needs_background": "light"
     },
     "output_type": "display_data"
    }
   ],
   "source": [
    "fig, ax = plt.subplots(1, 1, figsize = (10, 8))\n",
    "fig.suptitle('item_id count plot', fontsize= 15)\n",
    "sorted_item_id_cnt = sales_train.item_id.value_counts()\n",
    "print('>>max item_id count : {}'.format(sorted_item_id_cnt.max()))\n",
    "print('>>max item_id count : {}'.format(sorted_item_id_cnt.min()))\n",
    "ax = plt.subplot(2, 2, (1, 2))\n",
    "sns.countplot(x='item_id',\n",
    "              data=sales_train,\n",
    "              order=list(sorted_item_id_cnt.index[:1000]))\n",
    "ax.set_xticks([])\n",
    "ax.set_title('count plot[:1000]')\n",
    "ax = plt.subplot(2, 2, 3)\n",
    "plt.scatter(x=sorted_item_id_cnt.index,\n",
    "           y=sorted_item_id_cnt.values,\n",
    "           marker='x')\n",
    "ax.set_title('scatter plot')\n",
    "ax = plt.subplot(2, 2, 4)\n",
    "plt.boxplot(sorted_item_id_cnt.values)\n",
    "ax.set_title('box plot')\n",
    "plt.show()"
   ]
  },
  {
   "cell_type": "code",
   "execution_count": 22,
   "metadata": {},
   "outputs": [
    {
     "name": "stdout",
     "output_type": "stream",
     "text": [
      ">>max item_id value_counts\n"
     ]
    },
    {
     "data": {
      "text/html": [
       "<div>\n",
       "<style scoped>\n",
       "    .dataframe tbody tr th:only-of-type {\n",
       "        vertical-align: middle;\n",
       "    }\n",
       "\n",
       "    .dataframe tbody tr th {\n",
       "        vertical-align: top;\n",
       "    }\n",
       "\n",
       "    .dataframe thead th {\n",
       "        text-align: right;\n",
       "    }\n",
       "</style>\n",
       "<table border=\"1\" class=\"dataframe\">\n",
       "  <thead>\n",
       "    <tr style=\"text-align: right;\">\n",
       "      <th></th>\n",
       "      <th>item_id</th>\n",
       "    </tr>\n",
       "  </thead>\n",
       "  <tbody>\n",
       "    <tr>\n",
       "      <th>20949</th>\n",
       "      <td>31340</td>\n",
       "    </tr>\n",
       "  </tbody>\n",
       "</table>\n",
       "</div>"
      ],
      "text/plain": [
       "       item_id\n",
       "20949    31340"
      ]
     },
     "execution_count": 22,
     "metadata": {},
     "output_type": "execute_result"
    }
   ],
   "source": [
    "print('>>max item_id value_counts')\n",
    "pd.DataFrame(sales_train.item_id.value_counts().head(1))"
   ]
  },
  {
   "cell_type": "code",
   "execution_count": 23,
   "metadata": {},
   "outputs": [
    {
     "data": {
      "text/html": [
       "<div>\n",
       "<style scoped>\n",
       "    .dataframe tbody tr th:only-of-type {\n",
       "        vertical-align: middle;\n",
       "    }\n",
       "\n",
       "    .dataframe tbody tr th {\n",
       "        vertical-align: top;\n",
       "    }\n",
       "\n",
       "    .dataframe thead th {\n",
       "        text-align: right;\n",
       "    }\n",
       "</style>\n",
       "<table border=\"1\" class=\"dataframe\">\n",
       "  <thead>\n",
       "    <tr style=\"text-align: right;\">\n",
       "      <th></th>\n",
       "      <th>date</th>\n",
       "      <th>date_block_num</th>\n",
       "      <th>shop_id</th>\n",
       "      <th>item_id</th>\n",
       "      <th>item_price</th>\n",
       "      <th>item_cnt_day</th>\n",
       "      <th>simple_date</th>\n",
       "    </tr>\n",
       "  </thead>\n",
       "  <tbody>\n",
       "    <tr>\n",
       "      <th>352379</th>\n",
       "      <td>2013-04-30</td>\n",
       "      <td>3</td>\n",
       "      <td>22</td>\n",
       "      <td>20949</td>\n",
       "      <td>5.000000</td>\n",
       "      <td>12.0</td>\n",
       "      <td>2013-04</td>\n",
       "    </tr>\n",
       "    <tr>\n",
       "      <th>352399</th>\n",
       "      <td>2013-04-29</td>\n",
       "      <td>3</td>\n",
       "      <td>22</td>\n",
       "      <td>20949</td>\n",
       "      <td>4.923077</td>\n",
       "      <td>13.0</td>\n",
       "      <td>2013-04</td>\n",
       "    </tr>\n",
       "    <tr>\n",
       "      <th>352400</th>\n",
       "      <td>2013-04-28</td>\n",
       "      <td>3</td>\n",
       "      <td>22</td>\n",
       "      <td>20949</td>\n",
       "      <td>5.000000</td>\n",
       "      <td>4.0</td>\n",
       "      <td>2013-04</td>\n",
       "    </tr>\n",
       "    <tr>\n",
       "      <th>352401</th>\n",
       "      <td>2013-04-27</td>\n",
       "      <td>3</td>\n",
       "      <td>22</td>\n",
       "      <td>20949</td>\n",
       "      <td>5.000000</td>\n",
       "      <td>4.0</td>\n",
       "      <td>2013-04</td>\n",
       "    </tr>\n",
       "    <tr>\n",
       "      <th>352455</th>\n",
       "      <td>2013-04-24</td>\n",
       "      <td>3</td>\n",
       "      <td>22</td>\n",
       "      <td>20949</td>\n",
       "      <td>5.000000</td>\n",
       "      <td>2.0</td>\n",
       "      <td>2013-04</td>\n",
       "    </tr>\n",
       "    <tr>\n",
       "      <th>352456</th>\n",
       "      <td>2013-04-25</td>\n",
       "      <td>3</td>\n",
       "      <td>22</td>\n",
       "      <td>20949</td>\n",
       "      <td>4.875000</td>\n",
       "      <td>16.0</td>\n",
       "      <td>2013-04</td>\n",
       "    </tr>\n",
       "    <tr>\n",
       "      <th>352457</th>\n",
       "      <td>2013-04-26</td>\n",
       "      <td>3</td>\n",
       "      <td>22</td>\n",
       "      <td>20949</td>\n",
       "      <td>5.000000</td>\n",
       "      <td>15.0</td>\n",
       "      <td>2013-04</td>\n",
       "    </tr>\n",
       "    <tr>\n",
       "      <th>359513</th>\n",
       "      <td>2013-04-29</td>\n",
       "      <td>3</td>\n",
       "      <td>28</td>\n",
       "      <td>20949</td>\n",
       "      <td>5.000000</td>\n",
       "      <td>2.0</td>\n",
       "      <td>2013-04</td>\n",
       "    </tr>\n",
       "    <tr>\n",
       "      <th>359534</th>\n",
       "      <td>2013-04-30</td>\n",
       "      <td>3</td>\n",
       "      <td>28</td>\n",
       "      <td>20949</td>\n",
       "      <td>5.000000</td>\n",
       "      <td>5.0</td>\n",
       "      <td>2013-04</td>\n",
       "    </tr>\n",
       "    <tr>\n",
       "      <th>362755</th>\n",
       "      <td>2013-04-24</td>\n",
       "      <td>3</td>\n",
       "      <td>25</td>\n",
       "      <td>20949</td>\n",
       "      <td>5.000000</td>\n",
       "      <td>1.0</td>\n",
       "      <td>2013-04</td>\n",
       "    </tr>\n",
       "  </tbody>\n",
       "</table>\n",
       "</div>"
      ],
      "text/plain": [
       "             date  date_block_num  shop_id  item_id  item_price  item_cnt_day  \\\n",
       "352379 2013-04-30               3       22    20949    5.000000          12.0   \n",
       "352399 2013-04-29               3       22    20949    4.923077          13.0   \n",
       "352400 2013-04-28               3       22    20949    5.000000           4.0   \n",
       "352401 2013-04-27               3       22    20949    5.000000           4.0   \n",
       "352455 2013-04-24               3       22    20949    5.000000           2.0   \n",
       "352456 2013-04-25               3       22    20949    4.875000          16.0   \n",
       "352457 2013-04-26               3       22    20949    5.000000          15.0   \n",
       "359513 2013-04-29               3       28    20949    5.000000           2.0   \n",
       "359534 2013-04-30               3       28    20949    5.000000           5.0   \n",
       "362755 2013-04-24               3       25    20949    5.000000           1.0   \n",
       "\n",
       "       simple_date  \n",
       "352379     2013-04  \n",
       "352399     2013-04  \n",
       "352400     2013-04  \n",
       "352401     2013-04  \n",
       "352455     2013-04  \n",
       "352456     2013-04  \n",
       "352457     2013-04  \n",
       "359513     2013-04  \n",
       "359534     2013-04  \n",
       "362755     2013-04  "
      ]
     },
     "execution_count": 23,
     "metadata": {},
     "output_type": "execute_result"
    }
   ],
   "source": [
    "sales_train.query('item_id==20949').drop_duplicates().head(10)"
   ]
  },
  {
   "cell_type": "markdown",
   "metadata": {},
   "source": [
    "### item_id summary\n",
    "<br/>\n",
    "\n",
    "- item price is different though it's same value\n",
    "- most frequency value (item_id==20949) : high item_cnt_day\n",
    "\n",
    "<br/>"
   ]
  },
  {
   "cell_type": "code",
   "execution_count": 24,
   "metadata": {},
   "outputs": [
    {
     "name": "stdout",
     "output_type": "stream",
     "text": [
      "[*]item_price\n",
      ">>nunique : 19993\n",
      ">>max : 307980.0\n",
      ">>min : -1.0\n"
     ]
    }
   ],
   "source": [
    "print('[*]item_price')\n",
    "print('>>nunique : {}'.format(sales_train.item_price.nunique()))\n",
    "print('>>max : {}'.format(sales_train.item_price.max()))\n",
    "print('>>min : {}'.format(sales_train.item_price.min()))"
   ]
  },
  {
   "cell_type": "code",
   "execution_count": 25,
   "metadata": {},
   "outputs": [
    {
     "name": "stdout",
     "output_type": "stream",
     "text": [
      "[*]item_price : item_price\n",
      "299.0    291352\n",
      "dtype: int64\n",
      ">>max size of item_price : 291352 (percentage : 9.92%)\n"
     ]
    }
   ],
   "source": [
    "max_size_item_price = sales_train.groupby('item_price').size()\n",
    "max_size_item_price = max_size_item_price.sort_values().tail(1)\n",
    "print('[*]item_price : {}'.format(max_size_item_price))\n",
    "max_size_item_price = max_size_item_price.values[0]\n",
    "print('>>max size of item_price : {}'.format(max_size_item_price)\n",
    "      , end=' ')\n",
    "print('(percentage : {:.2f}%)'.format(max_size_item_price\\\n",
    "                                      /len(sales_train)\\\n",
    "                                      *100))"
   ]
  },
  {
   "cell_type": "code",
   "execution_count": 26,
   "metadata": {},
   "outputs": [
    {
     "name": "stdout",
     "output_type": "stream",
     "text": [
      ">>299.9 price item_id nunique : 2749\n"
     ]
    }
   ],
   "source": [
    "price_299_num = sales_train.query('item_price==299.0').item_id.nunique()\n",
    "print('>>299.9 price item_id nunique : {}'.format(price_299_num))"
   ]
  },
  {
   "cell_type": "code",
   "execution_count": 27,
   "metadata": {},
   "outputs": [
    {
     "name": "stdout",
     "output_type": "stream",
     "text": [
      "max item_price count : 291352\n",
      "max item_price count : 1\n"
     ]
    },
    {
     "data": {
      "image/png": "[encoded data removed]",
      "text/plain": [
       "<Figure size 720x576 with 3 Axes>"
      ]
     },
     "metadata": {
      "needs_background": "light"
     },
     "output_type": "display_data"
    }
   ],
   "source": [
    "fig, ax = plt.subplots(1, 1, figsize = (10, 8))\n",
    "fig.suptitle('item_price count plot', fontsize= 15)\n",
    "sorted_item_price_cnt = sales_train.item_price.value_counts()\n",
    "print('max item_price count : {}'.format(sorted_item_price_cnt.max()))\n",
    "print('max item_price count : {}'.format(sorted_item_price_cnt.min()))\n",
    "ax = plt.subplot(2, 2, (1, 2))\n",
    "sns.countplot(x='item_price',\n",
    "              data=sales_train,\n",
    "              order=list(sorted_item_price_cnt.index[:1000]))\n",
    "ax.set_xticks([])\n",
    "ax.set_title('count plot[:1000]')\n",
    "ax = plt.subplot(2, 2, 3)\n",
    "plt.scatter(x=sorted_item_price_cnt.index,\n",
    "           y=sorted_item_price_cnt.values,\n",
    "           marker='x')\n",
    "ax.set_title('scatter plot')\n",
    "ax = plt.subplot(2, 2, 4)\n",
    "plt.boxplot(sorted_item_price_cnt.values)\n",
    "ax.set_title('box plot')\n",
    "plt.show()"
   ]
  },
  {
   "cell_type": "code",
   "execution_count": 51,
   "metadata": {},
   "outputs": [
    {
     "name": "stdout",
     "output_type": "stream",
     "text": [
      "[*]max item_price value_counts\n"
     ]
    },
    {
     "data": {
      "text/html": [
       "<div>\n",
       "<style scoped>\n",
       "    .dataframe tbody tr th:only-of-type {\n",
       "        vertical-align: middle;\n",
       "    }\n",
       "\n",
       "    .dataframe tbody tr th {\n",
       "        vertical-align: top;\n",
       "    }\n",
       "\n",
       "    .dataframe thead th {\n",
       "        text-align: right;\n",
       "    }\n",
       "</style>\n",
       "<table border=\"1\" class=\"dataframe\">\n",
       "  <thead>\n",
       "    <tr style=\"text-align: right;\">\n",
       "      <th></th>\n",
       "      <th>item_price</th>\n",
       "    </tr>\n",
       "  </thead>\n",
       "  <tbody>\n",
       "    <tr>\n",
       "      <th>299.0</th>\n",
       "      <td>291352</td>\n",
       "    </tr>\n",
       "    <tr>\n",
       "      <th>399.0</th>\n",
       "      <td>242603</td>\n",
       "    </tr>\n",
       "    <tr>\n",
       "      <th>149.0</th>\n",
       "      <td>218432</td>\n",
       "    </tr>\n",
       "    <tr>\n",
       "      <th>199.0</th>\n",
       "      <td>184044</td>\n",
       "    </tr>\n",
       "    <tr>\n",
       "      <th>349.0</th>\n",
       "      <td>101461</td>\n",
       "    </tr>\n",
       "  </tbody>\n",
       "</table>\n",
       "</div>"
      ],
      "text/plain": [
       "       item_price\n",
       "299.0      291352\n",
       "399.0      242603\n",
       "149.0      218432\n",
       "199.0      184044\n",
       "349.0      101461"
      ]
     },
     "execution_count": 51,
     "metadata": {},
     "output_type": "execute_result"
    }
   ],
   "source": [
    "print('[*]max item_price value_counts')\n",
    "pd.DataFrame(sales_train.item_price.value_counts().head(5))"
   ]
  },
  {
   "cell_type": "code",
   "execution_count": 75,
   "metadata": {},
   "outputs": [
    {
     "data": {
      "image/png": "[encoded data removed]",
      "text/plain": [
       "<Figure size 720x360 with 2 Axes>"
      ]
     },
     "metadata": {
      "needs_background": "light"
     },
     "output_type": "display_data"
    }
   ],
   "source": [
    "fig, ax = plt.subplots(1, 2, figsize=(10, 5))\n",
    "ax[0].set_title('np.log1p(item_price_cnt)')\n",
    "sns.boxplot(np.log1p(sorted_item_price_cnt.values), ax=ax[0], orient='v')\n",
    "ax[1].set_title('item_price_cnt')\n",
    "sns.boxplot(sorted_item_price_cnt.values, ax=ax[1], orient='v')\n",
    "fig.suptitle('box plot', fontsize=15)\n",
    "plt.show()"
   ]
  },
  {
   "cell_type": "markdown",
   "metadata": {},
   "source": [
    "### item_price summary\n",
    "<br/>\n",
    "\n",
    "- there is a wide difference in price.\n",
    "- Almost 10% values have same price.\n",
    "- min value is -1.0\n",
    "- some outliers are observed.\n",
    "- item_price_count might need some pre-processing (log1p)\n",
    "\n",
    "<br/>"
   ]
  },
  {
   "cell_type": "code",
   "execution_count": 29,
   "metadata": {},
   "outputs": [
    {
     "name": "stdout",
     "output_type": "stream",
     "text": [
      "[*]item_cnt_day\n",
      ">>nunique : 198\n",
      ">>max : 2169.0\n",
      ">>min : -22.0\n"
     ]
    }
   ],
   "source": [
    "print('[*]item_cnt_day')\n",
    "print('>>nunique : {}'.format(sales_train.item_cnt_day.nunique()))\n",
    "print('>>max : {}'.format(sales_train.item_cnt_day.max()))\n",
    "print('>>min : {}'.format(sales_train.item_cnt_day.min()))"
   ]
  },
  {
   "cell_type": "code",
   "execution_count": 30,
   "metadata": {},
   "outputs": [
    {
     "data": {
      "text/html": [
       "<div>\n",
       "<style scoped>\n",
       "    .dataframe tbody tr th:only-of-type {\n",
       "        vertical-align: middle;\n",
       "    }\n",
       "\n",
       "    .dataframe tbody tr th {\n",
       "        vertical-align: top;\n",
       "    }\n",
       "\n",
       "    .dataframe thead th {\n",
       "        text-align: right;\n",
       "    }\n",
       "</style>\n",
       "<table border=\"1\" class=\"dataframe\">\n",
       "  <thead>\n",
       "    <tr style=\"text-align: right;\">\n",
       "      <th></th>\n",
       "      <th>date</th>\n",
       "      <th>date_block_num</th>\n",
       "      <th>shop_id</th>\n",
       "      <th>item_id</th>\n",
       "      <th>item_price</th>\n",
       "      <th>item_cnt_day</th>\n",
       "      <th>simple_date</th>\n",
       "    </tr>\n",
       "  </thead>\n",
       "  <tbody>\n",
       "    <tr>\n",
       "      <th>1057907</th>\n",
       "      <td>2013-11-02</td>\n",
       "      <td>10</td>\n",
       "      <td>12</td>\n",
       "      <td>8023</td>\n",
       "      <td>15.0</td>\n",
       "      <td>-22.0</td>\n",
       "      <td>2013-11</td>\n",
       "    </tr>\n",
       "  </tbody>\n",
       "</table>\n",
       "</div>"
      ],
      "text/plain": [
       "              date  date_block_num  shop_id  item_id  item_price  \\\n",
       "1057907 2013-11-02              10       12     8023        15.0   \n",
       "\n",
       "         item_cnt_day simple_date  \n",
       "1057907         -22.0     2013-11  "
      ]
     },
     "execution_count": 30,
     "metadata": {},
     "output_type": "execute_result"
    }
   ],
   "source": [
    "sales_train.query('item_cnt_day==-22')  #s Only 1"
   ]
  },
  {
   "cell_type": "code",
   "execution_count": 31,
   "metadata": {},
   "outputs": [
    {
     "data": {
      "text/html": [
       "<div>\n",
       "<style scoped>\n",
       "    .dataframe tbody tr th:only-of-type {\n",
       "        vertical-align: middle;\n",
       "    }\n",
       "\n",
       "    .dataframe tbody tr th {\n",
       "        vertical-align: top;\n",
       "    }\n",
       "\n",
       "    .dataframe thead th {\n",
       "        text-align: right;\n",
       "    }\n",
       "</style>\n",
       "<table border=\"1\" class=\"dataframe\">\n",
       "  <thead>\n",
       "    <tr style=\"text-align: right;\">\n",
       "      <th></th>\n",
       "      <th>date</th>\n",
       "      <th>date_block_num</th>\n",
       "      <th>shop_id</th>\n",
       "      <th>item_id</th>\n",
       "      <th>item_price</th>\n",
       "      <th>item_cnt_day</th>\n",
       "      <th>simple_date</th>\n",
       "    </tr>\n",
       "  </thead>\n",
       "  <tbody>\n",
       "    <tr>\n",
       "      <th>1057907</th>\n",
       "      <td>2013-11-02</td>\n",
       "      <td>10</td>\n",
       "      <td>12</td>\n",
       "      <td>8023</td>\n",
       "      <td>15.0</td>\n",
       "      <td>-22.0</td>\n",
       "      <td>2013-11</td>\n",
       "    </tr>\n",
       "  </tbody>\n",
       "</table>\n",
       "</div>"
      ],
      "text/plain": [
       "              date  date_block_num  shop_id  item_id  item_price  \\\n",
       "1057907 2013-11-02              10       12     8023        15.0   \n",
       "\n",
       "         item_cnt_day simple_date  \n",
       "1057907         -22.0     2013-11  "
      ]
     },
     "execution_count": 31,
     "metadata": {},
     "output_type": "execute_result"
    }
   ],
   "source": [
    "sales_train.query('item_id==8023 and item_cnt_day < 0')"
   ]
  },
  {
   "cell_type": "code",
   "execution_count": 32,
   "metadata": {},
   "outputs": [
    {
     "data": {
      "text/plain": [
       "item_cnt_day\n",
       "-22.0       1\n",
       "-16.0       1\n",
       "-9.0        1\n",
       "-6.0        2\n",
       "-5.0        4\n",
       "-4.0        3\n",
       "-3.0       14\n",
       "-2.0       78\n",
       "-1.0     7252\n",
       "dtype: int64"
      ]
     },
     "execution_count": 32,
     "metadata": {},
     "output_type": "execute_result"
    }
   ],
   "source": [
    "sales_train.query('item_cnt_day < 0').groupby('item_cnt_day').size()"
   ]
  },
  {
   "cell_type": "code",
   "execution_count": 89,
   "metadata": {},
   "outputs": [
    {
     "name": "stdout",
     "output_type": "stream",
     "text": [
      ">>percentage of -1 : 98.59%\n"
     ]
    }
   ],
   "source": [
    "minus_one = sales_train.query('item_cnt_day == -1')\n",
    "minus_one = minus_one.groupby('item_cnt_day')\n",
    "minus_one = minus_one.size().sum()\n",
    "minus_value = sales_train.query('item_cnt_day < 0')\n",
    "minus_value = minus_value.groupby('item_cnt_day').size().sum()\n",
    "print('>>percentage of -1 : {:.2f}%'\n",
    "      .format(minus_one/minus_value*100))"
   ]
  },
  {
   "cell_type": "code",
   "execution_count": 90,
   "metadata": {},
   "outputs": [
    {
     "data": {
      "text/html": [
       "<div>\n",
       "<style scoped>\n",
       "    .dataframe tbody tr th:only-of-type {\n",
       "        vertical-align: middle;\n",
       "    }\n",
       "\n",
       "    .dataframe tbody tr th {\n",
       "        vertical-align: top;\n",
       "    }\n",
       "\n",
       "    .dataframe thead th {\n",
       "        text-align: right;\n",
       "    }\n",
       "</style>\n",
       "<table border=\"1\" class=\"dataframe\">\n",
       "  <thead>\n",
       "    <tr style=\"text-align: right;\">\n",
       "      <th></th>\n",
       "      <th>date</th>\n",
       "      <th>date_block_num</th>\n",
       "      <th>shop_id</th>\n",
       "      <th>item_id</th>\n",
       "      <th>item_price</th>\n",
       "      <th>item_cnt_day</th>\n",
       "      <th>simple_date</th>\n",
       "    </tr>\n",
       "  </thead>\n",
       "  <tbody>\n",
       "  </tbody>\n",
       "</table>\n",
       "</div>"
      ],
      "text/plain": [
       "Empty DataFrame\n",
       "Columns: [date, date_block_num, shop_id, item_id, item_price, item_cnt_day, simple_date]\n",
       "Index: []"
      ]
     },
     "execution_count": 90,
     "metadata": {},
     "output_type": "execute_result"
    }
   ],
   "source": [
    "sales_train.query('item_cnt_day == 0')"
   ]
  },
  {
   "cell_type": "code",
   "execution_count": 97,
   "metadata": {},
   "outputs": [
    {
     "name": "stdout",
     "output_type": "stream",
     "text": [
      ">>The day the goods were not sold was not recorded.\n"
     ]
    },
    {
     "data": {
      "text/html": [
       "<div>\n",
       "<style scoped>\n",
       "    .dataframe tbody tr th:only-of-type {\n",
       "        vertical-align: middle;\n",
       "    }\n",
       "\n",
       "    .dataframe tbody tr th {\n",
       "        vertical-align: top;\n",
       "    }\n",
       "\n",
       "    .dataframe thead th {\n",
       "        text-align: right;\n",
       "    }\n",
       "</style>\n",
       "<table border=\"1\" class=\"dataframe\">\n",
       "  <thead>\n",
       "    <tr style=\"text-align: right;\">\n",
       "      <th></th>\n",
       "      <th></th>\n",
       "      <th>date</th>\n",
       "      <th>shop_id</th>\n",
       "      <th>item_price</th>\n",
       "      <th>item_cnt_day</th>\n",
       "      <th>simple_date</th>\n",
       "    </tr>\n",
       "    <tr>\n",
       "      <th>item_id</th>\n",
       "      <th>date_block_num</th>\n",
       "      <th></th>\n",
       "      <th></th>\n",
       "      <th></th>\n",
       "      <th></th>\n",
       "      <th></th>\n",
       "    </tr>\n",
       "  </thead>\n",
       "  <tbody>\n",
       "    <tr>\n",
       "      <th>0</th>\n",
       "      <th>20</th>\n",
       "      <td>1</td>\n",
       "      <td>1</td>\n",
       "      <td>1</td>\n",
       "      <td>1</td>\n",
       "      <td>1</td>\n",
       "    </tr>\n",
       "    <tr>\n",
       "      <th rowspan=\"4\" valign=\"top\">1</th>\n",
       "      <th>15</th>\n",
       "      <td>2</td>\n",
       "      <td>2</td>\n",
       "      <td>2</td>\n",
       "      <td>2</td>\n",
       "      <td>2</td>\n",
       "    </tr>\n",
       "    <tr>\n",
       "      <th>18</th>\n",
       "      <td>1</td>\n",
       "      <td>1</td>\n",
       "      <td>1</td>\n",
       "      <td>1</td>\n",
       "      <td>1</td>\n",
       "    </tr>\n",
       "    <tr>\n",
       "      <th>19</th>\n",
       "      <td>1</td>\n",
       "      <td>1</td>\n",
       "      <td>1</td>\n",
       "      <td>1</td>\n",
       "      <td>1</td>\n",
       "    </tr>\n",
       "    <tr>\n",
       "      <th>20</th>\n",
       "      <td>1</td>\n",
       "      <td>1</td>\n",
       "      <td>1</td>\n",
       "      <td>1</td>\n",
       "      <td>1</td>\n",
       "    </tr>\n",
       "  </tbody>\n",
       "</table>\n",
       "</div>"
      ],
      "text/plain": [
       "                        date  shop_id  item_price  item_cnt_day  simple_date\n",
       "item_id date_block_num                                                      \n",
       "0       20                 1        1           1             1            1\n",
       "1       15                 2        2           2             2            2\n",
       "        18                 1        1           1             1            1\n",
       "        19                 1        1           1             1            1\n",
       "        20                 1        1           1             1            1"
      ]
     },
     "execution_count": 97,
     "metadata": {},
     "output_type": "execute_result"
    }
   ],
   "source": [
    "print('>>The day the goods were not sold was not recorded.')\n",
    "sales_train.groupby(['item_id', 'date_block_num']).count().head(5)"
   ]
  },
  {
   "cell_type": "code",
   "execution_count": 48,
   "metadata": {},
   "outputs": [
    {
     "data": {
      "image/png": "[encoded data removed]",
      "text/plain": [
       "<Figure size 720x360 with 1 Axes>"
      ]
     },
     "metadata": {
      "needs_background": "light"
     },
     "output_type": "display_data"
    }
   ],
   "source": [
    "fig, ax = plt.subplots(1, 1, figsize=(10, 5))\n",
    "fig.suptitle('minus item_cnt_day countplot', fontsize= 15)\n",
    "plt.xticks(rotation=90)\n",
    "#only count minus cnt per simple date\n",
    "minus_cnt_day = sales_train.query('item_cnt_day < 0')\\\n",
    "                .groupby('simple_date')\\\n",
    "                .size().reset_index()\n",
    "minus_cnt_day.columns = ['simple_date', 'size']\n",
    "minus_cnt_day['size'] = minus_cnt_day['size']\n",
    "sns.lineplot(x='simple_date',\n",
    "             y='size',\n",
    "             data=minus_cnt_day,\n",
    "             color='r',\n",
    "             label='minus_cnt * 300')\n",
    "plt.legend()\n",
    "plt.show()"
   ]
  },
  {
   "cell_type": "code",
   "execution_count": 47,
   "metadata": {
    "scrolled": true
   },
   "outputs": [
    {
     "data": {
      "image/png": "[encoded data removed]",
      "text/plain": [
       "<Figure size 720x360 with 1 Axes>"
      ]
     },
     "metadata": {
      "needs_background": "light"
     },
     "output_type": "display_data"
    }
   ],
   "source": [
    "fig, ax = plt.subplots(1, 1, figsize=(10, 5))\n",
    "fig.suptitle('minus item_cnt_day countplot', fontsize= 15)\n",
    "plt.xticks(rotation=90)\n",
    "#only count minus cnt per simple date\n",
    "minus_cnt_day = sales_train.query('item_cnt_day < 0')\\\n",
    "                .groupby('simple_date')\\\n",
    "                .size().reset_index()\n",
    "minus_cnt_day.columns = ['simple_date', 'size']\n",
    "minus_cnt_day['size'] = minus_cnt_day['size'] * 300\n",
    "sns.lineplot(x='simple_date',\n",
    "             y='size',\n",
    "             data=minus_cnt_day,\n",
    "             color='r',\n",
    "             label='minus_cnt * 300')\n",
    "#count total cnt per simple date\n",
    "sns.countplot(sales_train.simple_date, ax=ax, label='total_cnt')\n",
    "plt.legend()\n",
    "plt.show()"
   ]
  },
  {
   "cell_type": "code",
   "execution_count": 34,
   "metadata": {},
   "outputs": [
    {
     "name": "stdout",
     "output_type": "stream",
     "text": [
      "[*]minus item_cny_day size in special date\n",
      ">>01/01 is : 9\n",
      ">>01/02 is : 51\n",
      ">>01/03 is : 33\n",
      ">>01/04 is : 34\n",
      ">>01/05 is : 29\n"
     ]
    }
   ],
   "source": [
    "date_format = '[\"2013-01-{}\", \"2014-01-{}\"]'\n",
    "test_format = 'date in {} and item_cnt_day<0'\n",
    "print('[*]minus item_cny_day size in special date')\n",
    "for date in ['01', '02', '03', '04', '05']:\n",
    "    query_date = date_format.format(date, date)\n",
    "    query = test_format.format(query_date)\n",
    "    rs = sales_train.query(query).shape[0]\n",
    "    print('>>01/{} is : {}'.format(date, rs))"
   ]
  },
  {
   "cell_type": "code",
   "execution_count": 35,
   "metadata": {},
   "outputs": [
    {
     "name": "stdout",
     "output_type": "stream",
     "text": [
      "[*]minus item_cny_day size in special date\n",
      ">>05/01 is : 14\n",
      ">>05/02 is : 16\n",
      ">>05/03 is : 10\n",
      ">>05/04 is : 9\n",
      ">>05/05 is : 7\n"
     ]
    }
   ],
   "source": [
    "date_format = '[\"2013-05-{}\", \"2014-05-{}\"]'\n",
    "test_format = 'date in {} and item_cnt_day<0'\n",
    "print('[*]minus item_cny_day size in special date')\n",
    "for date in ['01', '02', '03', '04', '05']:\n",
    "    query_date = date_format.format(date, date)\n",
    "    query = test_format.format(query_date)\n",
    "    rs = sales_train.query(query).shape[0]\n",
    "    print('>>05/{} is : {}'.format(date, rs))"
   ]
  },
  {
   "cell_type": "code",
   "execution_count": 36,
   "metadata": {},
   "outputs": [
    {
     "name": "stdout",
     "output_type": "stream",
     "text": [
      "[*]minus item_cnt_day percentage : 0.25%\n"
     ]
    }
   ],
   "source": [
    "minus_item_cnt_day = sales_train.query('item_cnt_day < 0').shape[0]\n",
    "print('[*]minus item_cnt_day percentage : {:.2f}%'\\\n",
    "      .format(minus_item_cnt_day / sales_train.shape[0] * 100))"
   ]
  },
  {
   "cell_type": "code",
   "execution_count": 37,
   "metadata": {},
   "outputs": [
    {
     "name": "stdout",
     "output_type": "stream",
     "text": [
      "[*]max_size_item_cnt_day : item_cnt_day\n",
      "1.0    2629372\n",
      "dtype: int64\n",
      "[*]max size of item_cnt_day : 2629372 (percentage : 89.56%)\n"
     ]
    }
   ],
   "source": [
    "max_size_item_cnt_day = sales_train.groupby('item_cnt_day').size()\n",
    "max_size_item_cnt_day = max_size_item_cnt_day.sort_values().tail(1)\n",
    "print('[*]max_size_item_cnt_day : {}'.format(max_size_item_cnt_day))\n",
    "max_size_item_cnt_day = max_size_item_cnt_day.values[0]\n",
    "print('[*]max size of item_cnt_day : {}'.format(max_size_item_cnt_day)\n",
    "      , end=' ')\n",
    "print('(percentage : {:.2f}%)'.format(max_size_item_cnt_day\\\n",
    "                                      /len(sales_train)\\\n",
    "                                      *100))"
   ]
  },
  {
   "cell_type": "code",
   "execution_count": 140,
   "metadata": {},
   "outputs": [
    {
     "data": {
      "image/png": "[encoded data removed]",
      "text/plain": [
       "<Figure size 720x360 with 1 Axes>"
      ]
     },
     "metadata": {
      "needs_background": "light"
     },
     "output_type": "display_data"
    }
   ],
   "source": [
    "rolling_mean = sales_train.groupby([\"date_block_num\"])\n",
    "rolling_mean = rolling_mean[\"item_cnt_day\"].sum()\n",
    "plt.figure(figsize=(10, 5))\n",
    "plt.suptitle('item_cnt_day rolling', fontsize=15)\n",
    "plt.plot(rolling_mean.rolling(window=12,center=False).mean(),\n",
    "         label='Rolling Mean')\n",
    "plt.plot(rolling_mean.rolling(window=12,center=False).std(),\n",
    "         label='Rolling std')\n",
    "plt.legend()\n",
    "plt.show()\n"
   ]
  },
  {
   "cell_type": "markdown",
   "metadata": {},
   "source": [
    "### item_cnt_day summary\n",
    "<br/>\n",
    "\n",
    "- some of values are less then 0 (0.25%)\n",
    "- -1 is alomost 98% of total minus values\n",
    "- there is no 0 value in item_cnt_day\n",
    "- minus value has relevant with total item_cnt_day.\n",
    "- it has relevant with date (specially last of the year)\n",
    "- 1.0 value accounts for 90%\n",
    "\n",
    "<br/>\n"
   ]
  },
  {
   "cell_type": "markdown",
   "metadata": {},
   "source": [
    "# 4. items.csv"
   ]
  },
  {
   "cell_type": "code",
   "execution_count": 98,
   "metadata": {},
   "outputs": [],
   "source": [
    "items = pd.read_csv('../input/items.csv')"
   ]
  },
  {
   "cell_type": "code",
   "execution_count": 104,
   "metadata": {},
   "outputs": [
    {
     "data": {
      "text/html": [
       "<div>\n",
       "<style scoped>\n",
       "    .dataframe tbody tr th:only-of-type {\n",
       "        vertical-align: middle;\n",
       "    }\n",
       "\n",
       "    .dataframe tbody tr th {\n",
       "        vertical-align: top;\n",
       "    }\n",
       "\n",
       "    .dataframe thead th {\n",
       "        text-align: right;\n",
       "    }\n",
       "</style>\n",
       "<table border=\"1\" class=\"dataframe\">\n",
       "  <thead>\n",
       "    <tr style=\"text-align: right;\">\n",
       "      <th></th>\n",
       "      <th>item_name</th>\n",
       "      <th>item_id</th>\n",
       "      <th>item_category_id</th>\n",
       "    </tr>\n",
       "  </thead>\n",
       "  <tbody>\n",
       "    <tr>\n",
       "      <th>0</th>\n",
       "      <td>! ВО ВЛАСТИ НАВАЖДЕНИЯ (ПЛАСТ.)         D</td>\n",
       "      <td>0</td>\n",
       "      <td>40</td>\n",
       "    </tr>\n",
       "    <tr>\n",
       "      <th>1</th>\n",
       "      <td>!ABBYY FineReader 12 Professional Edition Full...</td>\n",
       "      <td>1</td>\n",
       "      <td>76</td>\n",
       "    </tr>\n",
       "    <tr>\n",
       "      <th>2</th>\n",
       "      <td>***В ЛУЧАХ СЛАВЫ   (UNV)                    D</td>\n",
       "      <td>2</td>\n",
       "      <td>40</td>\n",
       "    </tr>\n",
       "    <tr>\n",
       "      <th>3</th>\n",
       "      <td>***ГОЛУБАЯ ВОЛНА  (Univ)                      D</td>\n",
       "      <td>3</td>\n",
       "      <td>40</td>\n",
       "    </tr>\n",
       "    <tr>\n",
       "      <th>4</th>\n",
       "      <td>***КОРОБКА (СТЕКЛО)                       D</td>\n",
       "      <td>4</td>\n",
       "      <td>40</td>\n",
       "    </tr>\n",
       "    <tr>\n",
       "      <th>5</th>\n",
       "      <td>***НОВЫЕ АМЕРИКАНСКИЕ ГРАФФИТИ  (UNI)         ...</td>\n",
       "      <td>5</td>\n",
       "      <td>40</td>\n",
       "    </tr>\n",
       "    <tr>\n",
       "      <th>6</th>\n",
       "      <td>***УДАР ПО ВОРОТАМ (UNI)               D</td>\n",
       "      <td>6</td>\n",
       "      <td>40</td>\n",
       "    </tr>\n",
       "    <tr>\n",
       "      <th>7</th>\n",
       "      <td>***УДАР ПО ВОРОТАМ-2 (UNI)               D</td>\n",
       "      <td>7</td>\n",
       "      <td>40</td>\n",
       "    </tr>\n",
       "    <tr>\n",
       "      <th>8</th>\n",
       "      <td>***ЧАЙ С МУССОЛИНИ                     D</td>\n",
       "      <td>8</td>\n",
       "      <td>40</td>\n",
       "    </tr>\n",
       "    <tr>\n",
       "      <th>9</th>\n",
       "      <td>***ШУГАРЛЭНДСКИЙ ЭКСПРЕСС (UNI)             D</td>\n",
       "      <td>9</td>\n",
       "      <td>40</td>\n",
       "    </tr>\n",
       "  </tbody>\n",
       "</table>\n",
       "</div>"
      ],
      "text/plain": [
       "                                           item_name  item_id  \\\n",
       "0          ! ВО ВЛАСТИ НАВАЖДЕНИЯ (ПЛАСТ.)         D        0   \n",
       "1  !ABBYY FineReader 12 Professional Edition Full...        1   \n",
       "2      ***В ЛУЧАХ СЛАВЫ   (UNV)                    D        2   \n",
       "3    ***ГОЛУБАЯ ВОЛНА  (Univ)                      D        3   \n",
       "4        ***КОРОБКА (СТЕКЛО)                       D        4   \n",
       "5  ***НОВЫЕ АМЕРИКАНСКИЕ ГРАФФИТИ  (UNI)         ...        5   \n",
       "6           ***УДАР ПО ВОРОТАМ (UNI)               D        6   \n",
       "7         ***УДАР ПО ВОРОТАМ-2 (UNI)               D        7   \n",
       "8           ***ЧАЙ С МУССОЛИНИ                     D        8   \n",
       "9      ***ШУГАРЛЭНДСКИЙ ЭКСПРЕСС (UNI)             D        9   \n",
       "\n",
       "   item_category_id  \n",
       "0                40  \n",
       "1                76  \n",
       "2                40  \n",
       "3                40  \n",
       "4                40  \n",
       "5                40  \n",
       "6                40  \n",
       "7                40  \n",
       "8                40  \n",
       "9                40  "
      ]
     },
     "execution_count": 104,
     "metadata": {},
     "output_type": "execute_result"
    }
   ],
   "source": [
    "items.head(10)"
   ]
  },
  {
   "cell_type": "code",
   "execution_count": 103,
   "metadata": {},
   "outputs": [
    {
     "name": "stdout",
     "output_type": "stream",
     "text": [
      "[*]items.shape : (22170, 3)\n"
     ]
    }
   ],
   "source": [
    "print('[*]items.shape : {}'.format(items.shape))"
   ]
  },
  {
   "cell_type": "code",
   "execution_count": 112,
   "metadata": {},
   "outputs": [
    {
     "data": {
      "text/plain": [
       "<matplotlib.legend.Legend at 0x7fcbd2dea3c8>"
      ]
     },
     "execution_count": 112,
     "metadata": {},
     "output_type": "execute_result"
    },
    {
     "data": {
      "image/png": "[encoded data removed]",
      "text/plain": [
       "<Figure size 720x360 with 1 Axes>"
      ]
     },
     "metadata": {
      "needs_background": "light"
     },
     "output_type": "display_data"
    }
   ],
   "source": [
    "fig = plt.figure(figsize=(10, 5))\n",
    "plt.xticks(fontsize=5)\n",
    "fig.suptitle('item_category_id count plot', fontsize=15)\n",
    "sns.countplot('item_category_id', data=items, label='count')\n",
    "plt.legend()"
   ]
  },
  {
   "cell_type": "code",
   "execution_count": 138,
   "metadata": {},
   "outputs": [
    {
     "data": {
      "image/png": "[encoded data removed]",
      "text/plain": [
       "<Figure size 720x360 with 2 Axes>"
      ]
     },
     "metadata": {
      "needs_background": "light"
     },
     "output_type": "display_data"
    }
   ],
   "source": [
    "fig, ax = plt.subplots(1, 2, figsize=(10, 5))\n",
    "fig.suptitle('item_category_id count plot', fontsize=15)\n",
    "ax[0].set_title('np.log1p(item_category_id)')\n",
    "sns.boxplot(np.log1p(items.groupby('item_category_id').size()),\n",
    "            ax=ax[0], orient='v')\n",
    "ax[1].set_title('item_category_id')\n",
    "sns.boxplot(items.groupby('item_category_id').size(),\n",
    "            ax=ax[1], orient='v')\n",
    "plt.show()"
   ]
  },
  {
   "cell_type": "markdown",
   "metadata": {},
   "source": [
    "### items.csv\n",
    "<br/>\n",
    "\n",
    "- there is a wide difference in items count at each category.\n",
    "\n",
    "<br/>"
   ]
  },
  {
   "cell_type": "code",
   "execution_count": null,
   "metadata": {},
   "outputs": [],
   "source": []
  }
 ],
 "metadata": {
  "kernelspec": {
   "display_name": "Python 3",
   "language": "python",
   "name": "python3"
  },
  "language_info": {
   "codemirror_mode": {
    "name": "ipython",
    "version": 3
   },
   "file_extension": ".py",
   "mimetype": "text/x-python",
   "name": "python",
   "nbconvert_exporter": "python",
   "pygments_lexer": "ipython3",
   "version": "3.5.2"
  }
 },
 "nbformat": 4,
 "nbformat_minor": 2
}
