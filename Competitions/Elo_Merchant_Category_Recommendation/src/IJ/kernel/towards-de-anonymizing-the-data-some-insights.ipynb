{
 "cells": [
  {
   "cell_type": "markdown",
   "metadata": {},
   "source": [
    "**Reference : [Towards_de_anonymizing_the_data](https://www.kaggle.com/raddar/towards-de-anonymizing-the-data-some-insights)**<br/>\n",
    "<br/>\n",
    "**Fixed by LazyrIJ**\n"
   ]
  },
  {
   "cell_type": "markdown",
   "metadata": {
    "_uuid": "e51a3e4d732473a3de0ecdb4db85de65f3c18f5e"
   },
   "source": [
    "# Digging deeper into anonymization\n",
    "<br/>\n",
    "몇몇 속성들과 target은 난독화 되어있다.<br/>\n",
    "<br/>\n",
    "난독화는 몇몇 Kaggle Competition에서 동일한 동일한 방법으로 처리되는데, 내가 발견한 것들을 공유하려고 한다<br/>\n",
    "<br/>"
   ]
  },
  {
   "cell_type": "code",
   "execution_count": 2,
   "metadata": {
    "_uuid": "071f8e240ae3ca2faadc34a4e80893333301746e"
   },
   "outputs": [],
   "source": [
    "import numpy as np\n",
    "import pandas as pd\n",
    "\n",
    "train = pd.read_csv('../input/train.csv')\n",
    "merchants = pd.read_csv('../input/merchants.csv')\n",
    "new_merchant_transactions = pd.read_csv('../input/new_merchant_transactions.csv')"
   ]
  },
  {
   "cell_type": "markdown",
   "metadata": {
    "_uuid": "9483a8b40e8914d6c9fb70dd47eada579892abda"
   },
   "source": [
    "## ~~ purchase_amount ~~"
   ]
  },
  {
   "cell_type": "markdown",
   "metadata": {
    "_cell_guid": "79c7e3d0-c299-4dcb-8224-4455121ee9b0",
    "_uuid": "d629ff2d2480ee46fbb7e2d37f6b5fab8052498a",
    "collapsed": true
   },
   "source": [
    "<br/>\n",
    "간단히 하기 위해서 historical_transactions를 무시하지만, 결과는 동일하다<br/>\n",
    "<br/>\n",
    "가장 흥미로운 특성은 **purchase_amount**이며, 이 값은 양수를 가지는 것이 당연하지만 현재는 그렇지 않다<br/>\n",
    "<br/>"
   ]
  },
  {
   "cell_type": "code",
   "execution_count": 3,
   "metadata": {
    "_uuid": "29f58de559cf3723e19d92bcb37950d780504a1a",
    "scrolled": false
   },
   "outputs": [
    {
     "data": {
      "text/html": [
       "<div>\n",
       "<style scoped>\n",
       "    .dataframe tbody tr th:only-of-type {\n",
       "        vertical-align: middle;\n",
       "    }\n",
       "\n",
       "    .dataframe tbody tr th {\n",
       "        vertical-align: top;\n",
       "    }\n",
       "\n",
       "    .dataframe thead th {\n",
       "        text-align: right;\n",
       "    }\n",
       "</style>\n",
       "<table border=\"1\" class=\"dataframe\">\n",
       "  <thead>\n",
       "    <tr style=\"text-align: right;\">\n",
       "      <th></th>\n",
       "      <th>authorized_flag</th>\n",
       "      <th>card_id</th>\n",
       "      <th>city_id</th>\n",
       "      <th>category_1</th>\n",
       "      <th>installments</th>\n",
       "      <th>category_3</th>\n",
       "      <th>merchant_category_id</th>\n",
       "      <th>merchant_id</th>\n",
       "      <th>month_lag</th>\n",
       "      <th>purchase_amount</th>\n",
       "      <th>purchase_date</th>\n",
       "      <th>category_2</th>\n",
       "      <th>state_id</th>\n",
       "      <th>subsector_id</th>\n",
       "    </tr>\n",
       "  </thead>\n",
       "  <tbody>\n",
       "    <tr>\n",
       "      <th>0</th>\n",
       "      <td>Y</td>\n",
       "      <td>C_ID_415bb3a509</td>\n",
       "      <td>107</td>\n",
       "      <td>N</td>\n",
       "      <td>1</td>\n",
       "      <td>B</td>\n",
       "      <td>307</td>\n",
       "      <td>M_ID_b0c793002c</td>\n",
       "      <td>1</td>\n",
       "      <td>-0.557574</td>\n",
       "      <td>2018-03-11 14:57:36</td>\n",
       "      <td>1.0</td>\n",
       "      <td>9</td>\n",
       "      <td>19</td>\n",
       "    </tr>\n",
       "    <tr>\n",
       "      <th>1</th>\n",
       "      <td>Y</td>\n",
       "      <td>C_ID_415bb3a509</td>\n",
       "      <td>140</td>\n",
       "      <td>N</td>\n",
       "      <td>1</td>\n",
       "      <td>B</td>\n",
       "      <td>307</td>\n",
       "      <td>M_ID_88920c89e8</td>\n",
       "      <td>1</td>\n",
       "      <td>-0.569580</td>\n",
       "      <td>2018-03-19 18:53:37</td>\n",
       "      <td>1.0</td>\n",
       "      <td>9</td>\n",
       "      <td>19</td>\n",
       "    </tr>\n",
       "    <tr>\n",
       "      <th>2</th>\n",
       "      <td>Y</td>\n",
       "      <td>C_ID_415bb3a509</td>\n",
       "      <td>330</td>\n",
       "      <td>N</td>\n",
       "      <td>1</td>\n",
       "      <td>B</td>\n",
       "      <td>507</td>\n",
       "      <td>M_ID_ad5237ef6b</td>\n",
       "      <td>2</td>\n",
       "      <td>-0.551037</td>\n",
       "      <td>2018-04-26 14:08:44</td>\n",
       "      <td>1.0</td>\n",
       "      <td>9</td>\n",
       "      <td>14</td>\n",
       "    </tr>\n",
       "    <tr>\n",
       "      <th>3</th>\n",
       "      <td>Y</td>\n",
       "      <td>C_ID_415bb3a509</td>\n",
       "      <td>-1</td>\n",
       "      <td>Y</td>\n",
       "      <td>1</td>\n",
       "      <td>B</td>\n",
       "      <td>661</td>\n",
       "      <td>M_ID_9e84cda3b1</td>\n",
       "      <td>1</td>\n",
       "      <td>-0.671925</td>\n",
       "      <td>2018-03-07 09:43:21</td>\n",
       "      <td>NaN</td>\n",
       "      <td>-1</td>\n",
       "      <td>8</td>\n",
       "    </tr>\n",
       "    <tr>\n",
       "      <th>4</th>\n",
       "      <td>Y</td>\n",
       "      <td>C_ID_ef55cf8d4b</td>\n",
       "      <td>-1</td>\n",
       "      <td>Y</td>\n",
       "      <td>1</td>\n",
       "      <td>B</td>\n",
       "      <td>166</td>\n",
       "      <td>M_ID_3c86fa3831</td>\n",
       "      <td>1</td>\n",
       "      <td>-0.659904</td>\n",
       "      <td>2018-03-22 21:07:53</td>\n",
       "      <td>NaN</td>\n",
       "      <td>-1</td>\n",
       "      <td>29</td>\n",
       "    </tr>\n",
       "  </tbody>\n",
       "</table>\n",
       "</div>"
      ],
      "text/plain": [
       "  authorized_flag          card_id  city_id category_1  installments  \\\n",
       "0               Y  C_ID_415bb3a509      107          N             1   \n",
       "1               Y  C_ID_415bb3a509      140          N             1   \n",
       "2               Y  C_ID_415bb3a509      330          N             1   \n",
       "3               Y  C_ID_415bb3a509       -1          Y             1   \n",
       "4               Y  C_ID_ef55cf8d4b       -1          Y             1   \n",
       "\n",
       "  category_3  merchant_category_id      merchant_id  month_lag  \\\n",
       "0          B                   307  M_ID_b0c793002c          1   \n",
       "1          B                   307  M_ID_88920c89e8          1   \n",
       "2          B                   507  M_ID_ad5237ef6b          2   \n",
       "3          B                   661  M_ID_9e84cda3b1          1   \n",
       "4          B                   166  M_ID_3c86fa3831          1   \n",
       "\n",
       "   purchase_amount        purchase_date  category_2  state_id  subsector_id  \n",
       "0        -0.557574  2018-03-11 14:57:36         1.0         9            19  \n",
       "1        -0.569580  2018-03-19 18:53:37         1.0         9            19  \n",
       "2        -0.551037  2018-04-26 14:08:44         1.0         9            14  \n",
       "3        -0.671925  2018-03-07 09:43:21         NaN        -1             8  \n",
       "4        -0.659904  2018-03-22 21:07:53         NaN        -1            29  "
      ]
     },
     "execution_count": 3,
     "metadata": {},
     "output_type": "execute_result"
    }
   ],
   "source": [
    "new_merchant_transactions.head()"
   ]
  },
  {
   "cell_type": "code",
   "execution_count": 28,
   "metadata": {},
   "outputs": [
    {
     "name": "stdout",
     "output_type": "stream",
     "text": [
      "[*]All unique card_id : 290001\n"
     ]
    }
   ],
   "source": [
    "#IJ\n",
    "#print unique card_id\n",
    "print('[*]All unique card_id : {}'.format(\n",
    "    len(new_merchant_transactions.card_id.unique())))"
   ]
  },
  {
   "cell_type": "code",
   "execution_count": 29,
   "metadata": {
    "_uuid": "ed30c8c3500a436ae1f6cac0715a00b84b3e2973"
   },
   "outputs": [
    {
     "name": "stdout",
     "output_type": "stream",
     "text": [
      "purchase_amount_integer\n",
      "False    1963031\n",
      "Name: card_id, dtype: int64\n"
     ]
    }
   ],
   "source": [
    "new_merchant_transactions['purchase_amount_integer'] = \\\n",
    "new_merchant_transactions.purchase_amount.\\\n",
    "apply(lambda x: x == np.round(x))\n",
    "\n",
    "print(new_merchant_transactions\\\n",
    "      .groupby('purchase_amount_integer')['card_id'].count())"
   ]
  },
  {
   "cell_type": "markdown",
   "metadata": {},
   "source": [
    "<br/>\n",
    "해당 파일의 card_id의 unique 수는 290001개이다. <br/>\n",
    "<br/>\n",
    "new_merchant_transactions.purchase_amount가 정수인 경우는 없다<br/>\n",
    "<br/>"
   ]
  },
  {
   "cell_type": "markdown",
   "metadata": {
    "_uuid": "663a27b7e3d99f31bca478c601cda90dfefe43c6"
   },
   "source": [
    "<br/>\n",
    "특성들을 난독화하는 과정에서보면, 가장 간단한 방법은 Scaling을 적용하는 것이다.<br/>\n",
    "<br/>\n",
    "따라서 평균 및 어떠한 기준을 찾으면 복구가 가능할 수 있다.<br/>\n",
    "<br/>"
   ]
  },
  {
   "cell_type": "code",
   "execution_count": 36,
   "metadata": {
    "_uuid": "a33b772df6bcb1b408bdb44d916fe8709a6a5d22"
   },
   "outputs": [],
   "source": [
    "new_merchant_transactions['purchase_amount_new'] = \\\n",
    "np.round(new_merchant_transactions['purchase_amount'] / 0.00150265118 + 497.06,8)"
   ]
  },
  {
   "cell_type": "code",
   "execution_count": 37,
   "metadata": {
    "scrolled": true
   },
   "outputs": [
    {
     "data": {
      "text/html": [
       "<div>\n",
       "<style scoped>\n",
       "    .dataframe tbody tr th:only-of-type {\n",
       "        vertical-align: middle;\n",
       "    }\n",
       "\n",
       "    .dataframe tbody tr th {\n",
       "        vertical-align: top;\n",
       "    }\n",
       "\n",
       "    .dataframe thead th {\n",
       "        text-align: right;\n",
       "    }\n",
       "</style>\n",
       "<table border=\"1\" class=\"dataframe\">\n",
       "  <thead>\n",
       "    <tr style=\"text-align: right;\">\n",
       "      <th></th>\n",
       "      <th>purchase_amount</th>\n",
       "      <th>purchase_amount_new</th>\n",
       "    </tr>\n",
       "  </thead>\n",
       "  <tbody>\n",
       "    <tr>\n",
       "      <th>count</th>\n",
       "      <td>1.963031e+06</td>\n",
       "      <td>1.963031e+06</td>\n",
       "    </tr>\n",
       "    <tr>\n",
       "      <th>mean</th>\n",
       "      <td>-5.509690e-01</td>\n",
       "      <td>1.303954e+02</td>\n",
       "    </tr>\n",
       "    <tr>\n",
       "      <th>std</th>\n",
       "      <td>6.940043e-01</td>\n",
       "      <td>4.618532e+02</td>\n",
       "    </tr>\n",
       "    <tr>\n",
       "      <th>min</th>\n",
       "      <td>-7.468928e-01</td>\n",
       "      <td>9.999350e-03</td>\n",
       "    </tr>\n",
       "    <tr>\n",
       "      <th>25%</th>\n",
       "      <td>-7.166294e-01</td>\n",
       "      <td>2.015000e+01</td>\n",
       "    </tr>\n",
       "    <tr>\n",
       "      <th>50%</th>\n",
       "      <td>-6.748406e-01</td>\n",
       "      <td>4.796000e+01</td>\n",
       "    </tr>\n",
       "    <tr>\n",
       "      <th>75%</th>\n",
       "      <td>-5.816162e-01</td>\n",
       "      <td>1.100000e+02</td>\n",
       "    </tr>\n",
       "    <tr>\n",
       "      <th>max</th>\n",
       "      <td>2.631575e+02</td>\n",
       "      <td>1.756259e+05</td>\n",
       "    </tr>\n",
       "  </tbody>\n",
       "</table>\n",
       "</div>"
      ],
      "text/plain": [
       "       purchase_amount  purchase_amount_new\n",
       "count     1.963031e+06         1.963031e+06\n",
       "mean     -5.509690e-01         1.303954e+02\n",
       "std       6.940043e-01         4.618532e+02\n",
       "min      -7.468928e-01         9.999350e-03\n",
       "25%      -7.166294e-01         2.015000e+01\n",
       "50%      -6.748406e-01         4.796000e+01\n",
       "75%      -5.816162e-01         1.100000e+02\n",
       "max       2.631575e+02         1.756259e+05"
      ]
     },
     "execution_count": 37,
     "metadata": {},
     "output_type": "execute_result"
    }
   ],
   "source": [
    "new_merchant_transactions[['purchase_amount', 'purchase_amount_new']].describe()"
   ]
  },
  {
   "cell_type": "code",
   "execution_count": 39,
   "metadata": {
    "_uuid": "27442bf7c01e45a2780326f13a80bffa46747344"
   },
   "outputs": [
    {
     "data": {
      "text/plain": [
       "0    125.999998\n",
       "1    118.010000\n",
       "2    130.350003\n",
       "3     49.900001\n",
       "4     57.900001\n",
       "Name: purchase_amount_new, dtype: float64"
      ]
     },
     "execution_count": 39,
     "metadata": {},
     "output_type": "execute_result"
    }
   ],
   "source": [
    "new_merchant_transactions.purchase_amount_new.head(5)"
   ]
  },
  {
   "cell_type": "markdown",
   "metadata": {
    "_uuid": "382c35bc2ba7b214ddd4347d699fe591454c3aea"
   },
   "source": [
    "<br/>\n",
    "이 상태에서 소수점 3째 자리에서 반올림하여 2째자리까지만 표시해본다<br/>\n",
    "<br/>"
   ]
  },
  {
   "cell_type": "code",
   "execution_count": 18,
   "metadata": {
    "_uuid": "482e28bf83cff64c73c99955c756d513a17620b7"
   },
   "outputs": [],
   "source": [
    "new_merchant_transactions['purchase_amount_new'] = np.round(new_merchant_transactions['purchase_amount'] / 0.00150265118 + 497.06,2)"
   ]
  },
  {
   "cell_type": "code",
   "execution_count": 19,
   "metadata": {
    "_uuid": "04860cf68c1d865e003061c8daf056ca69d341f5"
   },
   "outputs": [
    {
     "name": "stdout",
     "output_type": "stream",
     "text": [
      "purchase_amount_integer\n",
      "False    1122934\n",
      "True      840097\n",
      "Name: card_id, dtype: int64\n"
     ]
    }
   ],
   "source": [
    "new_merchant_transactions['purchase_amount_integer'] = new_merchant_transactions.purchase_amount_new.apply(lambda x: x == np.round(x))\n",
    "print(new_merchant_transactions.groupby('purchase_amount_integer')['card_id'].count())"
   ]
  },
  {
   "cell_type": "code",
   "execution_count": 42,
   "metadata": {},
   "outputs": [
    {
     "data": {
      "text/html": [
       "<div>\n",
       "<style scoped>\n",
       "    .dataframe tbody tr th:only-of-type {\n",
       "        vertical-align: middle;\n",
       "    }\n",
       "\n",
       "    .dataframe tbody tr th {\n",
       "        vertical-align: top;\n",
       "    }\n",
       "\n",
       "    .dataframe thead th {\n",
       "        text-align: right;\n",
       "    }\n",
       "</style>\n",
       "<table border=\"1\" class=\"dataframe\">\n",
       "  <thead>\n",
       "    <tr style=\"text-align: right;\">\n",
       "      <th></th>\n",
       "      <th>purchase_amount</th>\n",
       "      <th>purchase_amount_new</th>\n",
       "    </tr>\n",
       "  </thead>\n",
       "  <tbody>\n",
       "    <tr>\n",
       "      <th>0</th>\n",
       "      <td>-0.557574</td>\n",
       "      <td>125.999998</td>\n",
       "    </tr>\n",
       "    <tr>\n",
       "      <th>1</th>\n",
       "      <td>-0.569580</td>\n",
       "      <td>118.010000</td>\n",
       "    </tr>\n",
       "    <tr>\n",
       "      <th>2</th>\n",
       "      <td>-0.551037</td>\n",
       "      <td>130.350003</td>\n",
       "    </tr>\n",
       "  </tbody>\n",
       "</table>\n",
       "</div>"
      ],
      "text/plain": [
       "   purchase_amount  purchase_amount_new\n",
       "0        -0.557574           125.999998\n",
       "1        -0.569580           118.010000\n",
       "2        -0.551037           130.350003"
      ]
     },
     "execution_count": 42,
     "metadata": {},
     "output_type": "execute_result"
    }
   ],
   "source": [
    "new_merchant_transactions[['purchase_amount',\n",
    "                           'purchase_amount_new']].head(3)"
   ]
  },
  {
   "cell_type": "markdown",
   "metadata": {
    "_uuid": "9f8959092e4c6f5c130ce6550db7103a4299c076"
   },
   "source": [
    "<br/>\n",
    "대략 40%정도가 정수 형태로 나타나는데, 우연이라고 하기에는 높은 수치이다.<br/>\n",
    "<br/>"
   ]
  },
  {
   "cell_type": "code",
   "execution_count": 43,
   "metadata": {
    "_uuid": "723734e0e1ee7b1045763e214dec6eda0956c370"
   },
   "outputs": [
    {
     "data": {
      "text/html": [
       "<div>\n",
       "<style scoped>\n",
       "    .dataframe tbody tr th:only-of-type {\n",
       "        vertical-align: middle;\n",
       "    }\n",
       "\n",
       "    .dataframe tbody tr th {\n",
       "        vertical-align: top;\n",
       "    }\n",
       "\n",
       "    .dataframe thead th {\n",
       "        text-align: right;\n",
       "    }\n",
       "</style>\n",
       "<table border=\"1\" class=\"dataframe\">\n",
       "  <thead>\n",
       "    <tr style=\"text-align: right;\">\n",
       "      <th></th>\n",
       "      <th>purchase_amount_new</th>\n",
       "      <th>count</th>\n",
       "    </tr>\n",
       "  </thead>\n",
       "  <tbody>\n",
       "    <tr>\n",
       "      <th>4984</th>\n",
       "      <td>49.999998</td>\n",
       "      <td>48336</td>\n",
       "    </tr>\n",
       "    <tr>\n",
       "      <th>1984</th>\n",
       "      <td>20.000001</td>\n",
       "      <td>40550</td>\n",
       "    </tr>\n",
       "    <tr>\n",
       "      <th>2984</th>\n",
       "      <td>30.000000</td>\n",
       "      <td>36755</td>\n",
       "    </tr>\n",
       "    <tr>\n",
       "      <th>9984</th>\n",
       "      <td>99.999998</td>\n",
       "      <td>29707</td>\n",
       "    </tr>\n",
       "    <tr>\n",
       "      <th>984</th>\n",
       "      <td>10.000002</td>\n",
       "      <td>26914</td>\n",
       "    </tr>\n",
       "    <tr>\n",
       "      <th>1484</th>\n",
       "      <td>14.999999</td>\n",
       "      <td>22458</td>\n",
       "    </tr>\n",
       "    <tr>\n",
       "      <th>3984</th>\n",
       "      <td>39.999999</td>\n",
       "      <td>20260</td>\n",
       "    </tr>\n",
       "    <tr>\n",
       "      <th>2484</th>\n",
       "      <td>24.999997</td>\n",
       "      <td>16799</td>\n",
       "    </tr>\n",
       "    <tr>\n",
       "      <th>5984</th>\n",
       "      <td>60.000003</td>\n",
       "      <td>15736</td>\n",
       "    </tr>\n",
       "    <tr>\n",
       "      <th>1184</th>\n",
       "      <td>12.000001</td>\n",
       "      <td>14280</td>\n",
       "    </tr>\n",
       "  </tbody>\n",
       "</table>\n",
       "</div>"
      ],
      "text/plain": [
       "      purchase_amount_new  count\n",
       "4984            49.999998  48336\n",
       "1984            20.000001  40550\n",
       "2984            30.000000  36755\n",
       "9984            99.999998  29707\n",
       "984             10.000002  26914\n",
       "1484            14.999999  22458\n",
       "3984            39.999999  20260\n",
       "2484            24.999997  16799\n",
       "5984            60.000003  15736\n",
       "1184            12.000001  14280"
      ]
     },
     "execution_count": 43,
     "metadata": {},
     "output_type": "execute_result"
    }
   ],
   "source": [
    "new_merchant_transactions.groupby('purchase_amount_new')['card_id'].count().reset_index(name='count').sort_values('count',ascending=False).head(10)"
   ]
  },
  {
   "cell_type": "markdown",
   "metadata": {
    "_uuid": "9190f54d6d183e7fb72f2e1c0763e2f9cbcd0dab"
   },
   "source": [
    "<br/>\n",
    "amount_purchase_new를 보면 정수값과 함께 X.9999의 형태의 값들을 볼 수 있다.<br/>\n",
    "따라서 amount_purchase는 실제로 각 거래에서 얼마나 돈을 썼는지를 의미한다<br/>\n",
    "<br/>"
   ]
  },
  {
   "cell_type": "markdown",
   "metadata": {
    "_uuid": "e7a1395a85ba63a271c3d1419334efa9ebb9f354"
   },
   "source": [
    "## ~~ numerical_1 & numerical_2 ~~"
   ]
  },
  {
   "cell_type": "code",
   "execution_count": 44,
   "metadata": {
    "_uuid": "d70b8286a99fb736d505fc0a5071d6d919822cb9"
   },
   "outputs": [
    {
     "data": {
      "text/html": [
       "<div>\n",
       "<style scoped>\n",
       "    .dataframe tbody tr th:only-of-type {\n",
       "        vertical-align: middle;\n",
       "    }\n",
       "\n",
       "    .dataframe tbody tr th {\n",
       "        vertical-align: top;\n",
       "    }\n",
       "\n",
       "    .dataframe thead th {\n",
       "        text-align: right;\n",
       "    }\n",
       "</style>\n",
       "<table border=\"1\" class=\"dataframe\">\n",
       "  <thead>\n",
       "    <tr style=\"text-align: right;\">\n",
       "      <th></th>\n",
       "      <th>numerical_1</th>\n",
       "      <th>numerical_2</th>\n",
       "    </tr>\n",
       "  </thead>\n",
       "  <tbody>\n",
       "    <tr>\n",
       "      <th>0</th>\n",
       "      <td>-0.057471</td>\n",
       "      <td>-0.057471</td>\n",
       "    </tr>\n",
       "    <tr>\n",
       "      <th>1</th>\n",
       "      <td>-0.057471</td>\n",
       "      <td>-0.057471</td>\n",
       "    </tr>\n",
       "    <tr>\n",
       "      <th>2</th>\n",
       "      <td>-0.057471</td>\n",
       "      <td>-0.057471</td>\n",
       "    </tr>\n",
       "    <tr>\n",
       "      <th>3</th>\n",
       "      <td>-0.057471</td>\n",
       "      <td>-0.057471</td>\n",
       "    </tr>\n",
       "    <tr>\n",
       "      <th>4</th>\n",
       "      <td>-0.057471</td>\n",
       "      <td>-0.057471</td>\n",
       "    </tr>\n",
       "    <tr>\n",
       "      <th>5</th>\n",
       "      <td>-0.057471</td>\n",
       "      <td>-0.057471</td>\n",
       "    </tr>\n",
       "    <tr>\n",
       "      <th>6</th>\n",
       "      <td>-0.057471</td>\n",
       "      <td>-0.057471</td>\n",
       "    </tr>\n",
       "    <tr>\n",
       "      <th>7</th>\n",
       "      <td>-0.057471</td>\n",
       "      <td>-0.057471</td>\n",
       "    </tr>\n",
       "    <tr>\n",
       "      <th>8</th>\n",
       "      <td>-0.057471</td>\n",
       "      <td>-0.057471</td>\n",
       "    </tr>\n",
       "    <tr>\n",
       "      <th>9</th>\n",
       "      <td>-0.057471</td>\n",
       "      <td>-0.057471</td>\n",
       "    </tr>\n",
       "  </tbody>\n",
       "</table>\n",
       "</div>"
      ],
      "text/plain": [
       "   numerical_1  numerical_2\n",
       "0    -0.057471    -0.057471\n",
       "1    -0.057471    -0.057471\n",
       "2    -0.057471    -0.057471\n",
       "3    -0.057471    -0.057471\n",
       "4    -0.057471    -0.057471\n",
       "5    -0.057471    -0.057471\n",
       "6    -0.057471    -0.057471\n",
       "7    -0.057471    -0.057471\n",
       "8    -0.057471    -0.057471\n",
       "9    -0.057471    -0.057471"
      ]
     },
     "execution_count": 44,
     "metadata": {},
     "output_type": "execute_result"
    }
   ],
   "source": [
    "merchants[['numerical_1', 'numerical_2']].head(10)"
   ]
  },
  {
   "cell_type": "markdown",
   "metadata": {
    "_uuid": "022b450a497dd0ae53a89f20f6be0b57b1de0b40"
   },
   "source": [
    "<br/>\n",
    "purchase_amount가 비교적 간단한 방법으로 난독화되었으므로,<br/>\n",
    "numerical_1과 numerical_2도 비슷할 것이라 생각할 수 있다.<br/>\n",
    "<br/>"
   ]
  },
  {
   "cell_type": "code",
   "execution_count": 46,
   "metadata": {
    "_uuid": "0ba2bba68f64f00b845925b0449e0fc02a69086d"
   },
   "outputs": [],
   "source": [
    "merchants['numerical_1'] = np.round(merchants['numerical_1'] / 0.009914905 + 5.79639, 0)\n",
    "merchants['numerical_2'] = np.round(merchants['numerical_2'] / 0.009914905 + 5.79639, 0)"
   ]
  },
  {
   "cell_type": "code",
   "execution_count": 48,
   "metadata": {
    "_uuid": "c5c1d1858f27de703b1964d715737971f3516cda"
   },
   "outputs": [
    {
     "data": {
      "text/plain": [
       "numerical_1\n",
       "0.0    228788\n",
       "1.0     41528\n",
       "2.0     15689\n",
       "3.0      8297\n",
       "4.0      5249\n",
       "5.0      3739\n",
       "6.0      2874\n",
       "7.0      2249\n",
       "8.0      1869\n",
       "9.0      1642\n",
       "Name: merchant_id, dtype: int64"
      ]
     },
     "execution_count": 48,
     "metadata": {},
     "output_type": "execute_result"
    }
   ],
   "source": [
    "merchants.groupby('numerical_1')['merchant_id'].count().head(10)"
   ]
  },
  {
   "cell_type": "code",
   "execution_count": 12,
   "metadata": {
    "_uuid": "c51ea5f8669b1facb19f5623ee2e50bef1771fa3"
   },
   "outputs": [
    {
     "data": {
      "text/plain": [
       "numerical_2\n",
       "0.0    248714\n",
       "1.0     33280\n",
       "2.0     11644\n",
       "3.0      6130\n",
       "4.0      3953\n",
       "5.0      2844\n",
       "6.0      2271\n",
       "7.0      1844\n",
       "8.0      1567\n",
       "9.0      1376\n",
       "Name: merchant_id, dtype: int64"
      ]
     },
     "execution_count": 12,
     "metadata": {},
     "output_type": "execute_result"
    }
   ],
   "source": [
    "merchants.groupby('numerical_2')['merchant_id'].count().head(10)"
   ]
  },
  {
   "cell_type": "markdown",
   "metadata": {
    "_uuid": "f9c609556e36e77a1fd0fadc99d92c953a3bd443"
   },
   "source": [
    "<br/>\n",
    "자세히 확인을 해보면, 모든 값들은 정수이지만, 이 칼럼의 의미를 알기에는 무리다.<br/>\n",
    "내 가설 중 하나는 이것은 지난 3/6/12개월 동안 얼마나 많은 '충성'제품을 구입했는지를 나타낼 수 있다는 것이다.<br/>\n",
    "<br/>\n",
    "다른 특성들은 아직 확실히 알 수 없지만, 중요하지 않을 수 있다. 나는 매우 낮은 자리까지의 소수를 사용했고, 반올림까지 하였기 때문에 데이터를 복원하는 것은 사실상 불가능하다<br/>\n",
    "<br/>"
   ]
  },
  {
   "cell_type": "markdown",
   "metadata": {
    "_uuid": "bfc32e4dbdce69c7652941dbecaf71bc73ee4f95"
   },
   "source": [
    "## ~~ target ~~"
   ]
  },
  {
   "cell_type": "markdown",
   "metadata": {
    "_uuid": "1d9dc633e552e0425310258bd71ab5aa388f00f8"
   },
   "source": [
    "<br/>\n",
    "이 부분이 가장 흥미롭다. 포럼에서 -33.xxxxx의 특이값에 log10(2)가 사용되었다는 힌트를 얻을 수 있었다.<br/>\n",
    "많은 사람들이 놓친 한 가지는 log10(2)는 모든 target 값에 사용되었다는 것이다.<br/>\n",
    "<br/>"
   ]
  },
  {
   "cell_type": "code",
   "execution_count": 21,
   "metadata": {
    "_uuid": "363a73f22130b3e695e27fbff9bfa0a40c1c8522"
   },
   "outputs": [],
   "source": [
    "train['target_new'] = 10**(train['target']*np.log10(2))"
   ]
  },
  {
   "cell_type": "code",
   "execution_count": 52,
   "metadata": {},
   "outputs": [
    {
     "data": {
      "text/plain": [
       "<matplotlib.axes._subplots.AxesSubplot at 0x7ff09c50c1d0>"
      ]
     },
     "execution_count": 52,
     "metadata": {},
     "output_type": "execute_result"
    },
    {
     "data": {
      "image/png": "[encoded data removed]",
      "text/plain": [
       "<Figure size 1440x360 with 2 Axes>"
      ]
     },
     "metadata": {
      "needs_background": "light"
     },
     "output_type": "display_data"
    }
   ],
   "source": [
    "import matplotlib.pyplot as plt\n",
    "fig, axes = plt.subplots(1, 2, figsize=(20, 5))\n",
    "axes[0].set_title('train.target', fontsize=16)\n",
    "axes[1].set_title('train.target_new', fontsize=16)\n",
    "sns.distplot(train.target, ax=axes[0])\n",
    "sns.distplot(train.target_new, ax=axes[1])"
   ]
  },
  {
   "cell_type": "code",
   "execution_count": 54,
   "metadata": {
    "_uuid": "e82b53f7f310002e19b2278e60d5a69afc631f3a"
   },
   "outputs": [
    {
     "data": {
      "text/html": [
       "<div>\n",
       "<style scoped>\n",
       "    .dataframe tbody tr th:only-of-type {\n",
       "        vertical-align: middle;\n",
       "    }\n",
       "\n",
       "    .dataframe tbody tr th {\n",
       "        vertical-align: top;\n",
       "    }\n",
       "\n",
       "    .dataframe thead th {\n",
       "        text-align: right;\n",
       "    }\n",
       "</style>\n",
       "<table border=\"1\" class=\"dataframe\">\n",
       "  <thead>\n",
       "    <tr style=\"text-align: right;\">\n",
       "      <th></th>\n",
       "      <th>target</th>\n",
       "      <th>target_new</th>\n",
       "    </tr>\n",
       "  </thead>\n",
       "  <tbody>\n",
       "    <tr>\n",
       "      <th>0</th>\n",
       "      <td>-0.820283</td>\n",
       "      <td>0.566331</td>\n",
       "    </tr>\n",
       "    <tr>\n",
       "      <th>1</th>\n",
       "      <td>0.392913</td>\n",
       "      <td>1.313042</td>\n",
       "    </tr>\n",
       "    <tr>\n",
       "      <th>2</th>\n",
       "      <td>0.688056</td>\n",
       "      <td>1.611111</td>\n",
       "    </tr>\n",
       "    <tr>\n",
       "      <th>3</th>\n",
       "      <td>0.142495</td>\n",
       "      <td>1.103813</td>\n",
       "    </tr>\n",
       "    <tr>\n",
       "      <th>4</th>\n",
       "      <td>-0.159749</td>\n",
       "      <td>0.895181</td>\n",
       "    </tr>\n",
       "  </tbody>\n",
       "</table>\n",
       "</div>"
      ],
      "text/plain": [
       "     target  target_new\n",
       "0 -0.820283    0.566331\n",
       "1  0.392913    1.313042\n",
       "2  0.688056    1.611111\n",
       "3  0.142495    1.103813\n",
       "4 -0.159749    0.895181"
      ]
     },
     "execution_count": 54,
     "metadata": {},
     "output_type": "execute_result"
    }
   ],
   "source": [
    "train[['target', 'target_new']].head(5)"
   ]
  },
  {
   "cell_type": "code",
   "execution_count": 55,
   "metadata": {
    "_uuid": "bfdc40d009db2b4deb989fe044b04c226963c5b2"
   },
   "outputs": [
    {
     "data": {
      "text/html": [
       "<div>\n",
       "<style scoped>\n",
       "    .dataframe tbody tr th:only-of-type {\n",
       "        vertical-align: middle;\n",
       "    }\n",
       "\n",
       "    .dataframe tbody tr th {\n",
       "        vertical-align: top;\n",
       "    }\n",
       "\n",
       "    .dataframe thead th {\n",
       "        text-align: right;\n",
       "    }\n",
       "</style>\n",
       "<table border=\"1\" class=\"dataframe\">\n",
       "  <thead>\n",
       "    <tr style=\"text-align: right;\">\n",
       "      <th></th>\n",
       "      <th>target</th>\n",
       "      <th>target_new</th>\n",
       "    </tr>\n",
       "  </thead>\n",
       "  <tbody>\n",
       "    <tr>\n",
       "      <th>count</th>\n",
       "      <td>201917.000000</td>\n",
       "      <td>2.019170e+05</td>\n",
       "    </tr>\n",
       "    <tr>\n",
       "      <th>mean</th>\n",
       "      <td>-0.393636</td>\n",
       "      <td>6.820184e+00</td>\n",
       "    </tr>\n",
       "    <tr>\n",
       "      <th>std</th>\n",
       "      <td>3.850500</td>\n",
       "      <td>7.775483e+02</td>\n",
       "    </tr>\n",
       "    <tr>\n",
       "      <th>min</th>\n",
       "      <td>-33.219281</td>\n",
       "      <td>1.000000e-10</td>\n",
       "    </tr>\n",
       "    <tr>\n",
       "      <th>25%</th>\n",
       "      <td>-0.883110</td>\n",
       "      <td>5.421973e-01</td>\n",
       "    </tr>\n",
       "    <tr>\n",
       "      <th>50%</th>\n",
       "      <td>-0.023437</td>\n",
       "      <td>9.838860e-01</td>\n",
       "    </tr>\n",
       "    <tr>\n",
       "      <th>75%</th>\n",
       "      <td>0.765453</td>\n",
       "      <td>1.699904e+00</td>\n",
       "    </tr>\n",
       "    <tr>\n",
       "      <th>max</th>\n",
       "      <td>17.965068</td>\n",
       "      <td>2.558730e+05</td>\n",
       "    </tr>\n",
       "  </tbody>\n",
       "</table>\n",
       "</div>"
      ],
      "text/plain": [
       "              target    target_new\n",
       "count  201917.000000  2.019170e+05\n",
       "mean       -0.393636  6.820184e+00\n",
       "std         3.850500  7.775483e+02\n",
       "min       -33.219281  1.000000e-10\n",
       "25%        -0.883110  5.421973e-01\n",
       "50%        -0.023437  9.838860e-01\n",
       "75%         0.765453  1.699904e+00\n",
       "max        17.965068  2.558730e+05"
      ]
     },
     "execution_count": 55,
     "metadata": {},
     "output_type": "execute_result"
    }
   ],
   "source": [
    "train[['target', 'target_new']].describe()"
   ]
  },
  {
   "cell_type": "markdown",
   "metadata": {},
   "source": [
    "<br/>\n",
    "정수 값이 없기 때문에 난해할 수 있다. 하지만 음수 값이 없으며, 자세히 보면 이것은 우리가 다루고자하는 것의 비율일 수 있다.<br/>\n",
    "\n",
    "[wolframealpha](https://www.wolframalpha.com)\n",
    "에 target_new값을 입력해보면, 이런 소수값을 어떻게 풀이 가능한지 알아볼 수 있다.<br/>\n",
    "<br/>"
   ]
  },
  {
   "cell_type": "code",
   "execution_count": 16,
   "metadata": {
    "_uuid": "5b7447f286909a44eac42016a3ece904649f8967"
   },
   "outputs": [
    {
     "name": "stdout",
     "output_type": "stream",
     "text": [
      "1.6111111069956447 1.6111111111111112\n",
      "3.243333323699675 3.243333333333333\n"
     ]
    }
   ],
   "source": [
    "print(train['target_new'][2], 29/18)\n",
    "print(train['target_new'][29823], 973/300)"
   ]
  },
  {
   "cell_type": "markdown",
   "metadata": {},
   "source": [
    "<br/>\n",
    "값을 찾아보면 target_new는 위와 같은 두 수의 비율로 변환할 수 있다.<br/>\n",
    "<br/>"
   ]
  },
  {
   "cell_type": "markdown",
   "metadata": {
    "_uuid": "1d7a6940567a1c0978ce1a72cca66d05c37dad51"
   },
   "source": [
    "<br/>\n",
    "값들이 매우 깔끔해 보이기 때문에(비슷하기 때문에), 실제로 어떤 비율에 의한 값이라고 결론내릴 수 있다. 나는 이 비율이 미래에 어떤 purchase_amount의 총 합에 대한 비율이라고 생각한다. 확실하지 않다.<br/>\n",
    "<br/>"
   ]
  },
  {
   "cell_type": "markdown",
   "metadata": {
    "_uuid": "4c83d096d671b460e46b5d664d3529d0e3d69596"
   },
   "source": [
    "## tl;dr "
   ]
  },
  {
   "cell_type": "markdown",
   "metadata": {
    "_uuid": "eeeef8f1fd94416974f0763d0bac070e179a39e5"
   },
   "source": [
    "<br/>\n",
    "난독화된 값은 기준의 변화나 스케일링이 아닌 log변환된 값이다. 다시 원래의 값으로 뒤집는 것은 제법 쉽다.<br/>\n",
    "target 값은 아마 이전과 비교한 거래의 합에 대한.. 일종의 비율이다.<br/>\n",
    "<br/>"
   ]
  }
 ],
 "metadata": {
  "kernelspec": {
   "display_name": "Python 3",
   "language": "python",
   "name": "python3"
  },
  "language_info": {
   "codemirror_mode": {
    "name": "ipython",
    "version": 3
   },
   "file_extension": ".py",
   "mimetype": "text/x-python",
   "name": "python",
   "nbconvert_exporter": "python",
   "pygments_lexer": "ipython3",
   "version": "3.5.2"
  }
 },
 "nbformat": 4,
 "nbformat_minor": 1
}
