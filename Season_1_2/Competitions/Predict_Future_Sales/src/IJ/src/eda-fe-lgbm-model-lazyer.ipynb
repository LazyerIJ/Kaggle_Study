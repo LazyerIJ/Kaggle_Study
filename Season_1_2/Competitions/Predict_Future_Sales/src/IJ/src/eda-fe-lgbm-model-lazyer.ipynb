{
 "cells": [
  {
   "cell_type": "code",
   "execution_count": 250,
   "metadata": {},
   "outputs": [],
   "source": [
    "#reference\n",
    "#https://www.kaggle.com/kernels/scriptcontent/27391487/download\n",
    "#https://www.kaggle.com/noeasywayout/eda-fe-lgbm-model"
   ]
  },
  {
   "cell_type": "markdown",
   "metadata": {},
   "source": [
    "# 1C Sales prediction"
   ]
  },
  {
   "cell_type": "code",
   "execution_count": 251,
   "metadata": {},
   "outputs": [],
   "source": [
    "#!pip3 install lofo-importance"
   ]
  },
  {
   "cell_type": "code",
   "execution_count": 252,
   "metadata": {},
   "outputs": [],
   "source": [
    "#!pip3 install pandarallel"
   ]
  },
  {
   "cell_type": "code",
   "execution_count": 1,
   "metadata": {},
   "outputs": [
    {
     "name": "stdout",
     "output_type": "stream",
     "text": [
      "1\n"
     ]
    }
   ],
   "source": [
    "import numpy as np\n",
    "import pandas as pd\n",
    "import dateutil\n",
    "import datetime as dt\n",
    "from datetime import date\n",
    "import matplotlib.pyplot as plt\n",
    "from pandarallel import pandarallel\n",
    "\n",
    "import seaborn as sns\n",
    "import re\n",
    "import gc\n",
    "from tqdm import tqdm\n",
    "import pickle\n",
    "import statsmodels.api as sm\n",
    "from pylab import rcParams\n",
    "from itertools import permutations, product\n",
    "import lightgbm as lgb\n",
    "from lightgbm import LGBMRegressor\n",
    "#from lofo import LOFOImportance, FLOFOImportance, Dataset, plot_importance\n",
    "from sklearn.metrics import (mean_squared_log_error, mean_squared_error,\n",
    "                             mean_absolute_error)\n",
    "from sklearn.preprocessing import LabelEncoder, OneHotEncoder\n",
    "from sklearn.model_selection import train_test_split, KFold\n",
    "import warnings\n",
    "print(1)"
   ]
  },
  {
   "cell_type": "markdown",
   "metadata": {},
   "source": [
    "Reduce RAM usage. From https://www.kaggle.com/caesarlupum/ashrae-start-here-a-gentle-introduction:"
   ]
  },
  {
   "cell_type": "code",
   "execution_count": 2,
   "metadata": {},
   "outputs": [],
   "source": [
    "## Function to reduce the DF size\n",
    "def reduce_mem_usage(df, verbose=True):\n",
    "    numerics = ['int16', 'int32', 'int64', 'float16', 'float32', 'float64']\n",
    "    start_mem = df.memory_usage().sum() / 1024**2    \n",
    "    for col in df.columns:\n",
    "        col_type = df[col].dtypes\n",
    "        if col_type in numerics:\n",
    "            c_min = df[col].min()\n",
    "            c_max = df[col].max()\n",
    "            if str(col_type)[:3] == 'int':\n",
    "                if c_min > np.iinfo(np.int8).min and c_max < np.iinfo(np.int8).max:\n",
    "                    df[col] = df[col].astype(np.int8)\n",
    "                elif c_min > np.iinfo(np.int16).min and c_max < np.iinfo(np.int16).max:\n",
    "                    df[col] = df[col].astype(np.int16)\n",
    "                elif c_min > np.iinfo(np.int32).min and c_max < np.iinfo(np.int32).max:\n",
    "                    df[col] = df[col].astype(np.int32)\n",
    "                elif c_min > np.iinfo(np.int64).min and c_max < np.iinfo(np.int64).max:\n",
    "                    df[col] = df[col].astype(np.int64)  \n",
    "            else:\n",
    "                if c_min > np.finfo(np.float16).min and c_max < np.finfo(np.float16).max:\n",
    "                    df[col] = df[col].astype(np.float16)\n",
    "                elif c_min > np.finfo(np.float32).min and c_max < np.finfo(np.float32).max:\n",
    "                    df[col] = df[col].astype(np.float32)\n",
    "                else:\n",
    "                    df[col] = df[col].astype(np.float64)    \n",
    "    end_mem = df.memory_usage().sum() / 1024**2\n",
    "    if verbose: print('Mem. usage decreased to {:5.2f} Mb ({:.1f}% reduction)'.format(end_mem, 100 * (start_mem - end_mem) / start_mem))\n",
    "    return df"
   ]
  },
  {
   "cell_type": "markdown",
   "metadata": {},
   "source": [
    "## Import and prepare data"
   ]
  },
  {
   "cell_type": "code",
   "execution_count": 6,
   "metadata": {},
   "outputs": [],
   "source": [
    "train_df = pd.read_csv('../input/sales_train.csv')\n",
    "test_df = pd.read_csv('../input/test.csv')\n",
    "item_df = pd.read_csv('../input/items.csv')\n",
    "item_cat_df = pd.read_csv('../input/item_categories.csv')\n",
    "shop_df = pd.read_csv('../input/shops.csv')"
   ]
  },
  {
   "cell_type": "markdown",
   "metadata": {},
   "source": [
    "USD/RUB exchange rate taken from https://www.finam.ru/profile/forex/usd-rub/export/ :"
   ]
  },
  {
   "cell_type": "code",
   "execution_count": 7,
   "metadata": {},
   "outputs": [],
   "source": [
    "exch_rate = pd.read_csv('../input/USDRUB_130101_160701.csv',\n",
    "                        sep=',', parse_dates=['<DATE>'])\n",
    "exch_rate = exch_rate.drop(['<TICKER>', '<PER>', '<TIME>',\n",
    "                           '<OPEN>', '<HIGH>', '<LOW>', '<VOL>'], axis=1)\n",
    "exch_rate = exch_rate.rename(columns={'<DATE>':'date', '<CLOSE>':'rate'})"
   ]
  },
  {
   "cell_type": "code",
   "execution_count": 8,
   "metadata": {},
   "outputs": [
    {
     "data": {
      "text/html": [
       "<div>\n",
       "<style scoped>\n",
       "    .dataframe tbody tr th:only-of-type {\n",
       "        vertical-align: middle;\n",
       "    }\n",
       "\n",
       "    .dataframe tbody tr th {\n",
       "        vertical-align: top;\n",
       "    }\n",
       "\n",
       "    .dataframe thead th {\n",
       "        text-align: right;\n",
       "    }\n",
       "</style>\n",
       "<table border=\"1\" class=\"dataframe\">\n",
       "  <thead>\n",
       "    <tr style=\"text-align: right;\">\n",
       "      <th></th>\n",
       "      <th>date</th>\n",
       "      <th>rate</th>\n",
       "    </tr>\n",
       "  </thead>\n",
       "  <tbody>\n",
       "    <tr>\n",
       "      <th>0</th>\n",
       "      <td>2013-01-01</td>\n",
       "      <td>30.57</td>\n",
       "    </tr>\n",
       "    <tr>\n",
       "      <th>1</th>\n",
       "      <td>2013-01-02</td>\n",
       "      <td>30.18</td>\n",
       "    </tr>\n",
       "    <tr>\n",
       "      <th>2</th>\n",
       "      <td>2013-01-03</td>\n",
       "      <td>30.25</td>\n",
       "    </tr>\n",
       "  </tbody>\n",
       "</table>\n",
       "</div>"
      ],
      "text/plain": [
       "        date   rate\n",
       "0 2013-01-01  30.57\n",
       "1 2013-01-02  30.18\n",
       "2 2013-01-03  30.25"
      ]
     },
     "execution_count": 8,
     "metadata": {},
     "output_type": "execute_result"
    }
   ],
   "source": [
    "exch_rate.head(3)"
   ]
  },
  {
   "cell_type": "code",
   "execution_count": 9,
   "metadata": {},
   "outputs": [
    {
     "data": {
      "text/plain": [
       "<matplotlib.legend.Legend at 0x7f64e5e56f10>"
      ]
     },
     "execution_count": 9,
     "metadata": {},
     "output_type": "execute_result"
    },
    {
     "data": {
      "image/png": "[encoded data removed]",
      "text/plain": [
       "<Figure size 720x360 with 1 Axes>"
      ]
     },
     "metadata": {
      "needs_background": "light"
     },
     "output_type": "display_data"
    }
   ],
   "source": [
    "fig = plt.figure(figsize=(10, 5))\n",
    "fig.suptitle('USD_RUB_rate_2013-2016')\n",
    "exch_rate.rate.plot()\n",
    "plt.legend()"
   ]
  },
  {
   "cell_type": "markdown",
   "metadata": {},
   "source": [
    "Parsing dates (pandarallel function parallel_apply):"
   ]
  },
  {
   "cell_type": "code",
   "execution_count": 10,
   "metadata": {},
   "outputs": [
    {
     "data": {
      "text/html": [
       "<div>\n",
       "<style scoped>\n",
       "    .dataframe tbody tr th:only-of-type {\n",
       "        vertical-align: middle;\n",
       "    }\n",
       "\n",
       "    .dataframe tbody tr th {\n",
       "        vertical-align: top;\n",
       "    }\n",
       "\n",
       "    .dataframe thead th {\n",
       "        text-align: right;\n",
       "    }\n",
       "</style>\n",
       "<table border=\"1\" class=\"dataframe\">\n",
       "  <thead>\n",
       "    <tr style=\"text-align: right;\">\n",
       "      <th></th>\n",
       "      <th>date</th>\n",
       "      <th>date_block_num</th>\n",
       "      <th>shop_id</th>\n",
       "      <th>item_id</th>\n",
       "      <th>item_price</th>\n",
       "      <th>item_cnt_day</th>\n",
       "    </tr>\n",
       "  </thead>\n",
       "  <tbody>\n",
       "    <tr>\n",
       "      <th>0</th>\n",
       "      <td>02.01.2013</td>\n",
       "      <td>0</td>\n",
       "      <td>59</td>\n",
       "      <td>22154</td>\n",
       "      <td>999.0</td>\n",
       "      <td>1.0</td>\n",
       "    </tr>\n",
       "    <tr>\n",
       "      <th>1</th>\n",
       "      <td>03.01.2013</td>\n",
       "      <td>0</td>\n",
       "      <td>25</td>\n",
       "      <td>2552</td>\n",
       "      <td>899.0</td>\n",
       "      <td>1.0</td>\n",
       "    </tr>\n",
       "    <tr>\n",
       "      <th>2</th>\n",
       "      <td>05.01.2013</td>\n",
       "      <td>0</td>\n",
       "      <td>25</td>\n",
       "      <td>2552</td>\n",
       "      <td>899.0</td>\n",
       "      <td>-1.0</td>\n",
       "    </tr>\n",
       "  </tbody>\n",
       "</table>\n",
       "</div>"
      ],
      "text/plain": [
       "         date  date_block_num  shop_id  item_id  item_price  item_cnt_day\n",
       "0  02.01.2013               0       59    22154       999.0           1.0\n",
       "1  03.01.2013               0       25     2552       899.0           1.0\n",
       "2  05.01.2013               0       25     2552       899.0          -1.0"
      ]
     },
     "execution_count": 10,
     "metadata": {},
     "output_type": "execute_result"
    }
   ],
   "source": [
    "train_df.head(3)"
   ]
  },
  {
   "cell_type": "code",
   "execution_count": 11,
   "metadata": {},
   "outputs": [],
   "source": [
    "import time"
   ]
  },
  {
   "cell_type": "code",
   "execution_count": 12,
   "metadata": {},
   "outputs": [
    {
     "name": "stdout",
     "output_type": "stream",
     "text": [
      "0.17281007766723633\n"
     ]
    }
   ],
   "source": [
    "start = time.time()\n",
    "train_df['date_test'] = pd.to_datetime(train_df.date, format='%d.%m.%Y')\n",
    "print(time.time() - start)"
   ]
  },
  {
   "cell_type": "code",
   "execution_count": 13,
   "metadata": {},
   "outputs": [
    {
     "name": "stdout",
     "output_type": "stream",
     "text": [
      "95.49717092514038\n"
     ]
    }
   ],
   "source": [
    "start = time.time()\n",
    "train_df['date'] = train_df['date']\\\n",
    "                   .apply(dateutil.parser.parse, dayfirst=True)\n",
    "print(time.time() - start)"
   ]
  },
  {
   "cell_type": "code",
   "execution_count": 14,
   "metadata": {},
   "outputs": [
    {
     "data": {
      "text/html": [
       "<div>\n",
       "<style scoped>\n",
       "    .dataframe tbody tr th:only-of-type {\n",
       "        vertical-align: middle;\n",
       "    }\n",
       "\n",
       "    .dataframe tbody tr th {\n",
       "        vertical-align: top;\n",
       "    }\n",
       "\n",
       "    .dataframe thead th {\n",
       "        text-align: right;\n",
       "    }\n",
       "</style>\n",
       "<table border=\"1\" class=\"dataframe\">\n",
       "  <thead>\n",
       "    <tr style=\"text-align: right;\">\n",
       "      <th></th>\n",
       "      <th>date</th>\n",
       "      <th>date_block_num</th>\n",
       "      <th>shop_id</th>\n",
       "      <th>item_id</th>\n",
       "      <th>item_price</th>\n",
       "      <th>item_cnt_day</th>\n",
       "      <th>date_test</th>\n",
       "    </tr>\n",
       "  </thead>\n",
       "  <tbody>\n",
       "    <tr>\n",
       "      <th>0</th>\n",
       "      <td>2013-01-02</td>\n",
       "      <td>0</td>\n",
       "      <td>59</td>\n",
       "      <td>22154</td>\n",
       "      <td>999.0</td>\n",
       "      <td>1.0</td>\n",
       "      <td>2013-01-02</td>\n",
       "    </tr>\n",
       "    <tr>\n",
       "      <th>1</th>\n",
       "      <td>2013-01-03</td>\n",
       "      <td>0</td>\n",
       "      <td>25</td>\n",
       "      <td>2552</td>\n",
       "      <td>899.0</td>\n",
       "      <td>1.0</td>\n",
       "      <td>2013-01-03</td>\n",
       "    </tr>\n",
       "    <tr>\n",
       "      <th>2</th>\n",
       "      <td>2013-01-05</td>\n",
       "      <td>0</td>\n",
       "      <td>25</td>\n",
       "      <td>2552</td>\n",
       "      <td>899.0</td>\n",
       "      <td>-1.0</td>\n",
       "      <td>2013-01-05</td>\n",
       "    </tr>\n",
       "  </tbody>\n",
       "</table>\n",
       "</div>"
      ],
      "text/plain": [
       "        date  date_block_num  shop_id  item_id  item_price  item_cnt_day  \\\n",
       "0 2013-01-02               0       59    22154       999.0           1.0   \n",
       "1 2013-01-03               0       25     2552       899.0           1.0   \n",
       "2 2013-01-05               0       25     2552       899.0          -1.0   \n",
       "\n",
       "   date_test  \n",
       "0 2013-01-02  \n",
       "1 2013-01-03  \n",
       "2 2013-01-05  "
      ]
     },
     "execution_count": 14,
     "metadata": {},
     "output_type": "execute_result"
    }
   ],
   "source": [
    "train_df.head(3)"
   ]
  },
  {
   "cell_type": "markdown",
   "metadata": {},
   "source": [
    "### Items data"
   ]
  },
  {
   "cell_type": "markdown",
   "metadata": {},
   "source": [
    "    Borrowed from https://www.kaggle.com/kyakovlev/1st-place-solution-part-1-hands-on-data :"
   ]
  },
  {
   "cell_type": "code",
   "execution_count": 15,
   "metadata": {},
   "outputs": [],
   "source": [
    "def name_correction(x):\n",
    "    x = x.lower()\n",
    "    x = x.partition('[')[0]\n",
    "    x = x.partition('(')[0]\n",
    "    x = re.sub('[^A-Za-z0-9А-Яа-я]+', ' ', x)\n",
    "    x = x.replace('  ', ' ')\n",
    "    x = x.strip()\n",
    "    return x"
   ]
  },
  {
   "cell_type": "code",
   "execution_count": 16,
   "metadata": {},
   "outputs": [
    {
     "data": {
      "text/html": [
       "<div>\n",
       "<style scoped>\n",
       "    .dataframe tbody tr th:only-of-type {\n",
       "        vertical-align: middle;\n",
       "    }\n",
       "\n",
       "    .dataframe tbody tr th {\n",
       "        vertical-align: top;\n",
       "    }\n",
       "\n",
       "    .dataframe thead th {\n",
       "        text-align: right;\n",
       "    }\n",
       "</style>\n",
       "<table border=\"1\" class=\"dataframe\">\n",
       "  <thead>\n",
       "    <tr style=\"text-align: right;\">\n",
       "      <th></th>\n",
       "      <th>item_name</th>\n",
       "      <th>item_id</th>\n",
       "      <th>item_category_id</th>\n",
       "    </tr>\n",
       "  </thead>\n",
       "  <tbody>\n",
       "    <tr>\n",
       "      <th>0</th>\n",
       "      <td>! ВО ВЛАСТИ НАВАЖДЕНИЯ (ПЛАСТ.)         D</td>\n",
       "      <td>0</td>\n",
       "      <td>40</td>\n",
       "    </tr>\n",
       "    <tr>\n",
       "      <th>1</th>\n",
       "      <td>!ABBYY FineReader 12 Professional Edition Full...</td>\n",
       "      <td>1</td>\n",
       "      <td>76</td>\n",
       "    </tr>\n",
       "    <tr>\n",
       "      <th>2</th>\n",
       "      <td>***В ЛУЧАХ СЛАВЫ   (UNV)                    D</td>\n",
       "      <td>2</td>\n",
       "      <td>40</td>\n",
       "    </tr>\n",
       "    <tr>\n",
       "      <th>3</th>\n",
       "      <td>***ГОЛУБАЯ ВОЛНА  (Univ)                      D</td>\n",
       "      <td>3</td>\n",
       "      <td>40</td>\n",
       "    </tr>\n",
       "    <tr>\n",
       "      <th>4</th>\n",
       "      <td>***КОРОБКА (СТЕКЛО)                       D</td>\n",
       "      <td>4</td>\n",
       "      <td>40</td>\n",
       "    </tr>\n",
       "  </tbody>\n",
       "</table>\n",
       "</div>"
      ],
      "text/plain": [
       "                                           item_name  item_id  \\\n",
       "0          ! ВО ВЛАСТИ НАВАЖДЕНИЯ (ПЛАСТ.)         D        0   \n",
       "1  !ABBYY FineReader 12 Professional Edition Full...        1   \n",
       "2      ***В ЛУЧАХ СЛАВЫ   (UNV)                    D        2   \n",
       "3    ***ГОЛУБАЯ ВОЛНА  (Univ)                      D        3   \n",
       "4        ***КОРОБКА (СТЕКЛО)                       D        4   \n",
       "\n",
       "   item_category_id  \n",
       "0                40  \n",
       "1                76  \n",
       "2                40  \n",
       "3                40  \n",
       "4                40  "
      ]
     },
     "execution_count": 16,
     "metadata": {},
     "output_type": "execute_result"
    }
   ],
   "source": [
    "item_df.head(5)"
   ]
  },
  {
   "cell_type": "code",
   "execution_count": 17,
   "metadata": {},
   "outputs": [
    {
     "data": {
      "text/plain": [
       "(22170,)"
      ]
     },
     "execution_count": 17,
     "metadata": {},
     "output_type": "execute_result"
    }
   ],
   "source": [
    "item_df.item_name.unique().shape"
   ]
  },
  {
   "cell_type": "code",
   "execution_count": 18,
   "metadata": {},
   "outputs": [],
   "source": [
    "item_df['item_name'] = item_df['item_name'].apply(name_correction)"
   ]
  },
  {
   "cell_type": "code",
   "execution_count": 19,
   "metadata": {},
   "outputs": [
    {
     "data": {
      "text/html": [
       "<div>\n",
       "<style scoped>\n",
       "    .dataframe tbody tr th:only-of-type {\n",
       "        vertical-align: middle;\n",
       "    }\n",
       "\n",
       "    .dataframe tbody tr th {\n",
       "        vertical-align: top;\n",
       "    }\n",
       "\n",
       "    .dataframe thead th {\n",
       "        text-align: right;\n",
       "    }\n",
       "</style>\n",
       "<table border=\"1\" class=\"dataframe\">\n",
       "  <thead>\n",
       "    <tr style=\"text-align: right;\">\n",
       "      <th></th>\n",
       "      <th>item_name</th>\n",
       "      <th>item_id</th>\n",
       "      <th>item_category_id</th>\n",
       "    </tr>\n",
       "  </thead>\n",
       "  <tbody>\n",
       "    <tr>\n",
       "      <th>0</th>\n",
       "      <td>во власти наваждения</td>\n",
       "      <td>0</td>\n",
       "      <td>40</td>\n",
       "    </tr>\n",
       "    <tr>\n",
       "      <th>1</th>\n",
       "      <td>abbyy finereader 12 professional edition full</td>\n",
       "      <td>1</td>\n",
       "      <td>76</td>\n",
       "    </tr>\n",
       "    <tr>\n",
       "      <th>2</th>\n",
       "      <td>в лучах славы</td>\n",
       "      <td>2</td>\n",
       "      <td>40</td>\n",
       "    </tr>\n",
       "    <tr>\n",
       "      <th>3</th>\n",
       "      <td>голубая волна</td>\n",
       "      <td>3</td>\n",
       "      <td>40</td>\n",
       "    </tr>\n",
       "    <tr>\n",
       "      <th>4</th>\n",
       "      <td>коробка</td>\n",
       "      <td>4</td>\n",
       "      <td>40</td>\n",
       "    </tr>\n",
       "  </tbody>\n",
       "</table>\n",
       "</div>"
      ],
      "text/plain": [
       "                                       item_name  item_id  item_category_id\n",
       "0                           во власти наваждения        0                40\n",
       "1  abbyy finereader 12 professional edition full        1                76\n",
       "2                                  в лучах славы        2                40\n",
       "3                                  голубая волна        3                40\n",
       "4                                        коробка        4                40"
      ]
     },
     "execution_count": 19,
     "metadata": {},
     "output_type": "execute_result"
    }
   ],
   "source": [
    "item_df.head(5)"
   ]
  },
  {
   "cell_type": "code",
   "execution_count": 20,
   "metadata": {},
   "outputs": [
    {
     "data": {
      "text/plain": [
       "(18121,)"
      ]
     },
     "execution_count": 20,
     "metadata": {},
     "output_type": "execute_result"
    }
   ],
   "source": [
    "item_df.item_name.unique().shape"
   ]
  },
  {
   "cell_type": "markdown",
   "metadata": {},
   "source": [
    "There are some repeating items in the dataset"
   ]
  },
  {
   "cell_type": "markdown",
   "metadata": {},
   "source": [
    "### Item categories data"
   ]
  },
  {
   "cell_type": "code",
   "execution_count": 21,
   "metadata": {},
   "outputs": [],
   "source": [
    "item_cat_df['new_cats'] = (item_cat_df['item_category_name']\n",
    "                           .str.split(' - ').apply(lambda x: x[0]))"
   ]
  },
  {
   "cell_type": "code",
   "execution_count": 22,
   "metadata": {
    "scrolled": true
   },
   "outputs": [
    {
     "data": {
      "text/plain": [
       "array(['PC', 'Аксессуары', 'Билеты (Цифра)', 'Доставка товара',\n",
       "       'Игровые консоли', 'Игры', 'Игры Android', 'Игры MAC', 'Игры PC',\n",
       "       'Карты оплаты (Кино, Музыка, Игры)', 'Карты оплаты', 'Кино',\n",
       "       'Книги', 'Музыка', 'Подарки', 'Программы', 'Служебные',\n",
       "       'Чистые носители (шпиль)', 'Чистые носители (штучные)',\n",
       "       'Элементы питания'], dtype=object)"
      ]
     },
     "execution_count": 22,
     "metadata": {},
     "output_type": "execute_result"
    }
   ],
   "source": [
    "item_cat_df['new_cats'].unique()"
   ]
  },
  {
   "cell_type": "code",
   "execution_count": 23,
   "metadata": {},
   "outputs": [],
   "source": [
    "item_cat_df['new_subcats'] = (item_cat_df['item_category_name']\n",
    "                           .str.split(' - ').apply(lambda x: x[-1]))"
   ]
  },
  {
   "cell_type": "code",
   "execution_count": 24,
   "metadata": {},
   "outputs": [
    {
     "data": {
      "text/plain": [
       "array(['Гарнитуры/Наушники', 'PS2', 'PS3', 'PS4', 'PSP', 'PSVita',\n",
       "       'XBOX 360', 'XBOX ONE', 'Билеты (Цифра)', 'Доставка товара',\n",
       "       'Прочие', 'Аксессуары для игр', 'Цифра', 'Дополнительные издания',\n",
       "       'Коллекционные издания', 'Стандартные издания',\n",
       "       'Карты оплаты (Кино, Музыка, Игры)', 'Live!', 'Live! (Цифра)',\n",
       "       'PSN', 'Windows (Цифра)', 'Blu-Ray', 'Blu-Ray 3D', 'Blu-Ray 4K',\n",
       "       'DVD', 'Коллекционное', 'Артбуки, энциклопедии', 'Аудиокниги',\n",
       "       'Аудиокниги (Цифра)', 'Аудиокниги 1С', 'Бизнес литература',\n",
       "       'Комиксы, манга', 'Компьютерная литература',\n",
       "       'Методические материалы 1С', 'Открытки',\n",
       "       'Познавательная литература', 'Путеводители',\n",
       "       'Художественная литература', 'CD локального производства',\n",
       "       'CD фирменного производства', 'MP3', 'Винил', 'Музыкальное видео',\n",
       "       'Подарочные издания', 'Атрибутика', 'Гаджеты, роботы, спорт',\n",
       "       'Мягкие игрушки', 'Настольные игры',\n",
       "       'Настольные игры (компактные)', 'Открытки, наклейки', 'Развитие',\n",
       "       'Сертификаты, услуги', 'Сувениры', 'Сувениры (в навеску)',\n",
       "       'Сумки, Альбомы, Коврики д/мыши', 'Фигурки', '1С:Предприятие 8',\n",
       "       'MAC (Цифра)', 'Для дома и офиса', 'Для дома и офиса (Цифра)',\n",
       "       'Обучающие', 'Обучающие (Цифра)', 'Служебные', 'Билеты',\n",
       "       'Чистые носители (шпиль)', 'Чистые носители (штучные)',\n",
       "       'Элементы питания'], dtype=object)"
      ]
     },
     "execution_count": 24,
     "metadata": {},
     "output_type": "execute_result"
    }
   ],
   "source": [
    "item_cat_df['new_subcats'].unique()"
   ]
  },
  {
   "cell_type": "markdown",
   "metadata": {},
   "source": [
    "### Shops data"
   ]
  },
  {
   "cell_type": "markdown",
   "metadata": {},
   "source": [
    "Retrieving cities from the shop names:"
   ]
  },
  {
   "cell_type": "code",
   "execution_count": 25,
   "metadata": {},
   "outputs": [
    {
     "data": {
      "text/html": [
       "<div>\n",
       "<style scoped>\n",
       "    .dataframe tbody tr th:only-of-type {\n",
       "        vertical-align: middle;\n",
       "    }\n",
       "\n",
       "    .dataframe tbody tr th {\n",
       "        vertical-align: top;\n",
       "    }\n",
       "\n",
       "    .dataframe thead th {\n",
       "        text-align: right;\n",
       "    }\n",
       "</style>\n",
       "<table border=\"1\" class=\"dataframe\">\n",
       "  <thead>\n",
       "    <tr style=\"text-align: right;\">\n",
       "      <th></th>\n",
       "      <th>shop_name</th>\n",
       "      <th>shop_id</th>\n",
       "    </tr>\n",
       "  </thead>\n",
       "  <tbody>\n",
       "    <tr>\n",
       "      <th>0</th>\n",
       "      <td>!Якутск Орджоникидзе, 56 фран</td>\n",
       "      <td>0</td>\n",
       "    </tr>\n",
       "    <tr>\n",
       "      <th>1</th>\n",
       "      <td>!Якутск ТЦ \"Центральный\" фран</td>\n",
       "      <td>1</td>\n",
       "    </tr>\n",
       "    <tr>\n",
       "      <th>2</th>\n",
       "      <td>Адыгея ТЦ \"Мега\"</td>\n",
       "      <td>2</td>\n",
       "    </tr>\n",
       "    <tr>\n",
       "      <th>3</th>\n",
       "      <td>Балашиха ТРК \"Октябрь-Киномир\"</td>\n",
       "      <td>3</td>\n",
       "    </tr>\n",
       "    <tr>\n",
       "      <th>4</th>\n",
       "      <td>Волжский ТЦ \"Волга Молл\"</td>\n",
       "      <td>4</td>\n",
       "    </tr>\n",
       "    <tr>\n",
       "      <th>5</th>\n",
       "      <td>Вологда ТРЦ \"Мармелад\"</td>\n",
       "      <td>5</td>\n",
       "    </tr>\n",
       "    <tr>\n",
       "      <th>6</th>\n",
       "      <td>Воронеж (Плехановская, 13)</td>\n",
       "      <td>6</td>\n",
       "    </tr>\n",
       "    <tr>\n",
       "      <th>7</th>\n",
       "      <td>Воронеж ТРЦ \"Максимир\"</td>\n",
       "      <td>7</td>\n",
       "    </tr>\n",
       "    <tr>\n",
       "      <th>8</th>\n",
       "      <td>Воронеж ТРЦ Сити-Парк \"Град\"</td>\n",
       "      <td>8</td>\n",
       "    </tr>\n",
       "    <tr>\n",
       "      <th>9</th>\n",
       "      <td>Выездная Торговля</td>\n",
       "      <td>9</td>\n",
       "    </tr>\n",
       "  </tbody>\n",
       "</table>\n",
       "</div>"
      ],
      "text/plain": [
       "                        shop_name  shop_id\n",
       "0   !Якутск Орджоникидзе, 56 фран        0\n",
       "1   !Якутск ТЦ \"Центральный\" фран        1\n",
       "2                Адыгея ТЦ \"Мега\"        2\n",
       "3  Балашиха ТРК \"Октябрь-Киномир\"        3\n",
       "4        Волжский ТЦ \"Волга Молл\"        4\n",
       "5          Вологда ТРЦ \"Мармелад\"        5\n",
       "6      Воронеж (Плехановская, 13)        6\n",
       "7          Воронеж ТРЦ \"Максимир\"        7\n",
       "8    Воронеж ТРЦ Сити-Парк \"Град\"        8\n",
       "9               Выездная Торговля        9"
      ]
     },
     "execution_count": 25,
     "metadata": {},
     "output_type": "execute_result"
    }
   ],
   "source": [
    "shop_df.head(10)"
   ]
  },
  {
   "cell_type": "code",
   "execution_count": 26,
   "metadata": {},
   "outputs": [],
   "source": [
    "shop_df['city'] = (shop_df['shop_name'].apply(name_correction)\n",
    "                   .str.split(' ').apply(lambda x: x[0]))"
   ]
  },
  {
   "cell_type": "code",
   "execution_count": 27,
   "metadata": {},
   "outputs": [
    {
     "data": {
      "text/plain": [
       "москва          13\n",
       "якутск           4\n",
       "тюмень           3\n",
       "воронеж          3\n",
       "ростовнадону     3\n",
       "новосибирск      2\n",
       "спб              2\n",
       "казань           2\n",
       "жуковский        2\n",
       "н                2\n",
       "самара           2\n",
       "красноярск       2\n",
       "уфа              2\n",
       "волжский         1\n",
       "вологда          1\n",
       "омск             1\n",
       "калуга           1\n",
       "чехов            1\n",
       "цифровой         1\n",
       "сергиев          1\n",
       "томск            1\n",
       "химки            1\n",
       "мытищи           1\n",
       "выездная         1\n",
       "адыгея           1\n",
       "балашиха         1\n",
       "коломна          1\n",
       "сургут           1\n",
       "ярославль        1\n",
       "курск            1\n",
       "интернет         1\n",
       "Name: city, dtype: int64"
      ]
     },
     "execution_count": 27,
     "metadata": {},
     "output_type": "execute_result"
    }
   ],
   "source": [
    "shop_df['city'].value_counts()"
   ]
  },
  {
   "cell_type": "code",
   "execution_count": 28,
   "metadata": {},
   "outputs": [
    {
     "data": {
      "text/plain": [
       "34    н\n",
       "35    н\n",
       "Name: city, dtype: object"
      ]
     },
     "execution_count": 28,
     "metadata": {},
     "output_type": "execute_result"
    }
   ],
   "source": [
    "shop_df.loc[shop_df['city']=='н', 'city']"
   ]
  },
  {
   "cell_type": "code",
   "execution_count": 29,
   "metadata": {},
   "outputs": [],
   "source": [
    "shop_df.loc[shop_df['city']=='н', 'city'] = 'нижний_новгород'"
   ]
  },
  {
   "cell_type": "markdown",
   "metadata": {},
   "source": [
    "Retrieving shop types:"
   ]
  },
  {
   "cell_type": "code",
   "execution_count": 30,
   "metadata": {},
   "outputs": [],
   "source": [
    "shop_df['shop_type'] = (shop_df['shop_name'].apply(name_correction)\n",
    "                       .str.split(' ')\\\n",
    "                       .apply(lambda x: x[1] if (len(x)>1) else 'other'))"
   ]
  },
  {
   "cell_type": "code",
   "execution_count": 31,
   "metadata": {},
   "outputs": [
    {
     "data": {
      "text/plain": [
       "тц              27\n",
       "трц              9\n",
       "трк              5\n",
       "тк               5\n",
       "ул               2\n",
       "новгород         2\n",
       "магазин          2\n",
       "орджоникидзе     2\n",
       "распродажа       1\n",
       "мтрц             1\n",
       "склад            1\n",
       "other            1\n",
       "посад            1\n",
       "торговля         1\n",
       "Name: shop_type, dtype: int64"
      ]
     },
     "execution_count": 31,
     "metadata": {},
     "output_type": "execute_result"
    }
   ],
   "source": [
    "shop_df['shop_type'].value_counts()"
   ]
  },
  {
   "cell_type": "markdown",
   "metadata": {},
   "source": [
    "Renaming and merging some of the types:"
   ]
  },
  {
   "cell_type": "code",
   "execution_count": 32,
   "metadata": {},
   "outputs": [
    {
     "data": {
      "text/html": [
       "<div>\n",
       "<style scoped>\n",
       "    .dataframe tbody tr th:only-of-type {\n",
       "        vertical-align: middle;\n",
       "    }\n",
       "\n",
       "    .dataframe tbody tr th {\n",
       "        vertical-align: top;\n",
       "    }\n",
       "\n",
       "    .dataframe thead th {\n",
       "        text-align: right;\n",
       "    }\n",
       "</style>\n",
       "<table border=\"1\" class=\"dataframe\">\n",
       "  <thead>\n",
       "    <tr style=\"text-align: right;\">\n",
       "      <th></th>\n",
       "      <th>shop_name</th>\n",
       "      <th>shop_id</th>\n",
       "      <th>city</th>\n",
       "      <th>shop_type</th>\n",
       "    </tr>\n",
       "  </thead>\n",
       "  <tbody>\n",
       "    <tr>\n",
       "      <th>0</th>\n",
       "      <td>!Якутск Орджоникидзе, 56 фран</td>\n",
       "      <td>0</td>\n",
       "      <td>якутск</td>\n",
       "      <td>орджоникидзе</td>\n",
       "    </tr>\n",
       "    <tr>\n",
       "      <th>9</th>\n",
       "      <td>Выездная Торговля</td>\n",
       "      <td>9</td>\n",
       "      <td>выездная</td>\n",
       "      <td>торговля</td>\n",
       "    </tr>\n",
       "    <tr>\n",
       "      <th>10</th>\n",
       "      <td>Жуковский ул. Чкалова 39м?</td>\n",
       "      <td>10</td>\n",
       "      <td>жуковский</td>\n",
       "      <td>ул</td>\n",
       "    </tr>\n",
       "    <tr>\n",
       "      <th>11</th>\n",
       "      <td>Жуковский ул. Чкалова 39м²</td>\n",
       "      <td>11</td>\n",
       "      <td>жуковский</td>\n",
       "      <td>ул</td>\n",
       "    </tr>\n",
       "    <tr>\n",
       "      <th>12</th>\n",
       "      <td>Интернет-магазин ЧС</td>\n",
       "      <td>12</td>\n",
       "      <td>интернет</td>\n",
       "      <td>магазин</td>\n",
       "    </tr>\n",
       "    <tr>\n",
       "      <th>20</th>\n",
       "      <td>Москва \"Распродажа\"</td>\n",
       "      <td>20</td>\n",
       "      <td>москва</td>\n",
       "      <td>распродажа</td>\n",
       "    </tr>\n",
       "    <tr>\n",
       "      <th>22</th>\n",
       "      <td>Москва Магазин С21</td>\n",
       "      <td>22</td>\n",
       "      <td>москва</td>\n",
       "      <td>магазин</td>\n",
       "    </tr>\n",
       "    <tr>\n",
       "      <th>57</th>\n",
       "      <td>Якутск Орджоникидзе, 56</td>\n",
       "      <td>57</td>\n",
       "      <td>якутск</td>\n",
       "      <td>орджоникидзе</td>\n",
       "    </tr>\n",
       "  </tbody>\n",
       "</table>\n",
       "</div>"
      ],
      "text/plain": [
       "                        shop_name  shop_id       city     shop_type\n",
       "0   !Якутск Орджоникидзе, 56 фран        0     якутск  орджоникидзе\n",
       "9               Выездная Торговля        9   выездная      торговля\n",
       "10     Жуковский ул. Чкалова 39м?       10  жуковский            ул\n",
       "11     Жуковский ул. Чкалова 39м²       11  жуковский            ул\n",
       "12            Интернет-магазин ЧС       12   интернет       магазин\n",
       "20            Москва \"Распродажа\"       20     москва    распродажа\n",
       "22             Москва Магазин С21       22     москва       магазин\n",
       "57        Якутск Орджоникидзе, 56       57     якутск  орджоникидзе"
      ]
     },
     "execution_count": 32,
     "metadata": {},
     "output_type": "execute_result"
    }
   ],
   "source": [
    "shop_type_other = ((shop_df['shop_type']=='орджоникидзе')|\n",
    "                  (shop_df['shop_type']=='ул')|\n",
    "                  (shop_df['shop_type']=='распродажа')|\n",
    "                  (shop_df['shop_type']=='торговля')|\n",
    "                  (shop_df['shop_type']=='магазин'))\n",
    "shop_df.loc[shop_type_other]"
   ]
  },
  {
   "cell_type": "code",
   "execution_count": 33,
   "metadata": {},
   "outputs": [],
   "source": [
    "shop_df.loc[shop_type_other, 'shop_type'] = 'other'"
   ]
  },
  {
   "cell_type": "code",
   "execution_count": 34,
   "metadata": {},
   "outputs": [
    {
     "data": {
      "text/html": [
       "<div>\n",
       "<style scoped>\n",
       "    .dataframe tbody tr th:only-of-type {\n",
       "        vertical-align: middle;\n",
       "    }\n",
       "\n",
       "    .dataframe tbody tr th {\n",
       "        vertical-align: top;\n",
       "    }\n",
       "\n",
       "    .dataframe thead th {\n",
       "        text-align: right;\n",
       "    }\n",
       "</style>\n",
       "<table border=\"1\" class=\"dataframe\">\n",
       "  <thead>\n",
       "    <tr style=\"text-align: right;\">\n",
       "      <th></th>\n",
       "      <th>shop_name</th>\n",
       "      <th>shop_id</th>\n",
       "      <th>city</th>\n",
       "      <th>shop_type</th>\n",
       "    </tr>\n",
       "  </thead>\n",
       "  <tbody>\n",
       "    <tr>\n",
       "      <th>5</th>\n",
       "      <td>Вологда ТРЦ \"Мармелад\"</td>\n",
       "      <td>5</td>\n",
       "      <td>вологда</td>\n",
       "      <td>трц</td>\n",
       "    </tr>\n",
       "    <tr>\n",
       "      <th>7</th>\n",
       "      <td>Воронеж ТРЦ \"Максимир\"</td>\n",
       "      <td>7</td>\n",
       "      <td>воронеж</td>\n",
       "      <td>трц</td>\n",
       "    </tr>\n",
       "    <tr>\n",
       "      <th>8</th>\n",
       "      <td>Воронеж ТРЦ Сити-Парк \"Град\"</td>\n",
       "      <td>8</td>\n",
       "      <td>воронеж</td>\n",
       "      <td>трц</td>\n",
       "    </tr>\n",
       "    <tr>\n",
       "      <th>15</th>\n",
       "      <td>Калуга ТРЦ \"XXI век\"</td>\n",
       "      <td>15</td>\n",
       "      <td>калуга</td>\n",
       "      <td>трц</td>\n",
       "    </tr>\n",
       "    <tr>\n",
       "      <th>36</th>\n",
       "      <td>Новосибирск ТРЦ \"Галерея Новосибирск\"</td>\n",
       "      <td>36</td>\n",
       "      <td>новосибирск</td>\n",
       "      <td>трц</td>\n",
       "    </tr>\n",
       "    <tr>\n",
       "      <th>47</th>\n",
       "      <td>Сургут ТРЦ \"Сити Молл\"</td>\n",
       "      <td>47</td>\n",
       "      <td>сургут</td>\n",
       "      <td>трц</td>\n",
       "    </tr>\n",
       "    <tr>\n",
       "      <th>48</th>\n",
       "      <td>Томск ТРЦ \"Изумрудный Город\"</td>\n",
       "      <td>48</td>\n",
       "      <td>томск</td>\n",
       "      <td>трц</td>\n",
       "    </tr>\n",
       "    <tr>\n",
       "      <th>49</th>\n",
       "      <td>Тюмень ТРЦ \"Кристалл\"</td>\n",
       "      <td>49</td>\n",
       "      <td>тюмень</td>\n",
       "      <td>трц</td>\n",
       "    </tr>\n",
       "    <tr>\n",
       "      <th>56</th>\n",
       "      <td>Чехов ТРЦ \"Карнавал\"</td>\n",
       "      <td>56</td>\n",
       "      <td>чехов</td>\n",
       "      <td>трц</td>\n",
       "    </tr>\n",
       "  </tbody>\n",
       "</table>\n",
       "</div>"
      ],
      "text/plain": [
       "                                shop_name  shop_id         city shop_type\n",
       "5                  Вологда ТРЦ \"Мармелад\"        5      вологда       трц\n",
       "7                  Воронеж ТРЦ \"Максимир\"        7      воронеж       трц\n",
       "8            Воронеж ТРЦ Сити-Парк \"Град\"        8      воронеж       трц\n",
       "15                   Калуга ТРЦ \"XXI век\"       15       калуга       трц\n",
       "36  Новосибирск ТРЦ \"Галерея Новосибирск\"       36  новосибирск       трц\n",
       "47                 Сургут ТРЦ \"Сити Молл\"       47       сургут       трц\n",
       "48           Томск ТРЦ \"Изумрудный Город\"       48        томск       трц\n",
       "49                  Тюмень ТРЦ \"Кристалл\"       49       тюмень       трц\n",
       "56                   Чехов ТРЦ \"Карнавал\"       56        чехов       трц"
      ]
     },
     "execution_count": 34,
     "metadata": {},
     "output_type": "execute_result"
    }
   ],
   "source": [
    "shop_df.loc[(shop_df['shop_type']=='трц'),:]"
   ]
  },
  {
   "cell_type": "code",
   "execution_count": 35,
   "metadata": {},
   "outputs": [
    {
     "data": {
      "text/html": [
       "<div>\n",
       "<style scoped>\n",
       "    .dataframe tbody tr th:only-of-type {\n",
       "        vertical-align: middle;\n",
       "    }\n",
       "\n",
       "    .dataframe tbody tr th {\n",
       "        vertical-align: top;\n",
       "    }\n",
       "\n",
       "    .dataframe thead th {\n",
       "        text-align: right;\n",
       "    }\n",
       "</style>\n",
       "<table border=\"1\" class=\"dataframe\">\n",
       "  <thead>\n",
       "    <tr style=\"text-align: right;\">\n",
       "      <th></th>\n",
       "      <th>shop_name</th>\n",
       "      <th>shop_id</th>\n",
       "      <th>city</th>\n",
       "      <th>shop_type</th>\n",
       "    </tr>\n",
       "  </thead>\n",
       "  <tbody>\n",
       "    <tr>\n",
       "      <th>21</th>\n",
       "      <td>Москва МТРЦ \"Афи Молл\"</td>\n",
       "      <td>21</td>\n",
       "      <td>москва</td>\n",
       "      <td>мтрц</td>\n",
       "    </tr>\n",
       "    <tr>\n",
       "      <th>34</th>\n",
       "      <td>Н.Новгород ТРЦ \"РИО\"</td>\n",
       "      <td>34</td>\n",
       "      <td>нижний_новгород</td>\n",
       "      <td>новгород</td>\n",
       "    </tr>\n",
       "    <tr>\n",
       "      <th>35</th>\n",
       "      <td>Н.Новгород ТРЦ \"Фантастика\"</td>\n",
       "      <td>35</td>\n",
       "      <td>нижний_новгород</td>\n",
       "      <td>новгород</td>\n",
       "    </tr>\n",
       "  </tbody>\n",
       "</table>\n",
       "</div>"
      ],
      "text/plain": [
       "                      shop_name  shop_id             city shop_type\n",
       "21       Москва МТРЦ \"Афи Молл\"       21           москва      мтрц\n",
       "34         Н.Новгород ТРЦ \"РИО\"       34  нижний_новгород  новгород\n",
       "35  Н.Новгород ТРЦ \"Фантастика\"       35  нижний_новгород  новгород"
      ]
     },
     "execution_count": 35,
     "metadata": {},
     "output_type": "execute_result"
    }
   ],
   "source": [
    "shop_df.loc[(shop_df['shop_type']=='новгород')|\n",
    "           (shop_df['shop_type']=='мтрц'),:]"
   ]
  },
  {
   "cell_type": "code",
   "execution_count": 36,
   "metadata": {},
   "outputs": [],
   "source": [
    "shop_df.loc[(shop_df['shop_type']=='новгород')|\n",
    "           (shop_df['shop_type']=='мтрц'), 'shop_type'] = 'трц'"
   ]
  },
  {
   "cell_type": "code",
   "execution_count": 37,
   "metadata": {},
   "outputs": [
    {
     "data": {
      "text/html": [
       "<div>\n",
       "<style scoped>\n",
       "    .dataframe tbody tr th:only-of-type {\n",
       "        vertical-align: middle;\n",
       "    }\n",
       "\n",
       "    .dataframe tbody tr th {\n",
       "        vertical-align: top;\n",
       "    }\n",
       "\n",
       "    .dataframe thead th {\n",
       "        text-align: right;\n",
       "    }\n",
       "</style>\n",
       "<table border=\"1\" class=\"dataframe\">\n",
       "  <thead>\n",
       "    <tr style=\"text-align: right;\">\n",
       "      <th></th>\n",
       "      <th>shop_name</th>\n",
       "      <th>shop_id</th>\n",
       "      <th>city</th>\n",
       "      <th>shop_type</th>\n",
       "    </tr>\n",
       "  </thead>\n",
       "  <tbody>\n",
       "    <tr>\n",
       "      <th>46</th>\n",
       "      <td>Сергиев Посад ТЦ \"7Я\"</td>\n",
       "      <td>46</td>\n",
       "      <td>сергиев</td>\n",
       "      <td>посад</td>\n",
       "    </tr>\n",
       "  </tbody>\n",
       "</table>\n",
       "</div>"
      ],
      "text/plain": [
       "                shop_name  shop_id     city shop_type\n",
       "46  Сергиев Посад ТЦ \"7Я\"       46  сергиев     посад"
      ]
     },
     "execution_count": 37,
     "metadata": {},
     "output_type": "execute_result"
    }
   ],
   "source": [
    "shop_df.loc[(shop_df['shop_type']=='посад'), :]"
   ]
  },
  {
   "cell_type": "code",
   "execution_count": 38,
   "metadata": {},
   "outputs": [
    {
     "data": {
      "text/html": [
       "<div>\n",
       "<style scoped>\n",
       "    .dataframe tbody tr th:only-of-type {\n",
       "        vertical-align: middle;\n",
       "    }\n",
       "\n",
       "    .dataframe tbody tr th {\n",
       "        vertical-align: top;\n",
       "    }\n",
       "\n",
       "    .dataframe thead th {\n",
       "        text-align: right;\n",
       "    }\n",
       "</style>\n",
       "<table border=\"1\" class=\"dataframe\">\n",
       "  <thead>\n",
       "    <tr style=\"text-align: right;\">\n",
       "      <th></th>\n",
       "      <th>shop_name</th>\n",
       "      <th>shop_id</th>\n",
       "      <th>city</th>\n",
       "      <th>shop_type</th>\n",
       "    </tr>\n",
       "  </thead>\n",
       "  <tbody>\n",
       "    <tr>\n",
       "      <th>1</th>\n",
       "      <td>!Якутск ТЦ \"Центральный\" фран</td>\n",
       "      <td>1</td>\n",
       "      <td>якутск</td>\n",
       "      <td>тц</td>\n",
       "    </tr>\n",
       "    <tr>\n",
       "      <th>2</th>\n",
       "      <td>Адыгея ТЦ \"Мега\"</td>\n",
       "      <td>2</td>\n",
       "      <td>адыгея</td>\n",
       "      <td>тц</td>\n",
       "    </tr>\n",
       "    <tr>\n",
       "      <th>4</th>\n",
       "      <td>Волжский ТЦ \"Волга Молл\"</td>\n",
       "      <td>4</td>\n",
       "      <td>волжский</td>\n",
       "      <td>тц</td>\n",
       "    </tr>\n",
       "    <tr>\n",
       "      <th>13</th>\n",
       "      <td>Казань ТЦ \"Бехетле\"</td>\n",
       "      <td>13</td>\n",
       "      <td>казань</td>\n",
       "      <td>тц</td>\n",
       "    </tr>\n",
       "    <tr>\n",
       "      <th>14</th>\n",
       "      <td>Казань ТЦ \"ПаркХаус\" II</td>\n",
       "      <td>14</td>\n",
       "      <td>казань</td>\n",
       "      <td>тц</td>\n",
       "    </tr>\n",
       "  </tbody>\n",
       "</table>\n",
       "</div>"
      ],
      "text/plain": [
       "                        shop_name  shop_id      city shop_type\n",
       "1   !Якутск ТЦ \"Центральный\" фран        1    якутск        тц\n",
       "2                Адыгея ТЦ \"Мега\"        2    адыгея        тц\n",
       "4        Волжский ТЦ \"Волга Молл\"        4  волжский        тц\n",
       "13            Казань ТЦ \"Бехетле\"       13    казань        тц\n",
       "14        Казань ТЦ \"ПаркХаус\" II       14    казань        тц"
      ]
     },
     "execution_count": 38,
     "metadata": {},
     "output_type": "execute_result"
    }
   ],
   "source": [
    "shop_df.loc[(shop_df['shop_type']=='тц'), :].head(5)"
   ]
  },
  {
   "cell_type": "code",
   "execution_count": 39,
   "metadata": {},
   "outputs": [],
   "source": [
    "shop_df.loc[(shop_df['shop_type']=='посад'),\n",
    "            'shop_type'] = 'тц'"
   ]
  },
  {
   "cell_type": "code",
   "execution_count": 40,
   "metadata": {},
   "outputs": [
    {
     "data": {
      "text/plain": [
       "тц       28\n",
       "трц      12\n",
       "other     9\n",
       "тк        5\n",
       "трк       5\n",
       "склад     1\n",
       "Name: shop_type, dtype: int64"
      ]
     },
     "execution_count": 40,
     "metadata": {},
     "output_type": "execute_result"
    }
   ],
   "source": [
    "shop_df['shop_type'].value_counts()"
   ]
  },
  {
   "cell_type": "markdown",
   "metadata": {},
   "source": [
    "### Merging everything together"
   ]
  },
  {
   "cell_type": "code",
   "execution_count": 41,
   "metadata": {},
   "outputs": [],
   "source": [
    "item_df = pd.merge(item_df, item_cat_df[['item_category_id', 'new_cats', 'new_subcats']])"
   ]
  },
  {
   "cell_type": "code",
   "execution_count": 42,
   "metadata": {},
   "outputs": [],
   "source": [
    "item_df = item_df.rename(columns={'new_cats': 'item_category',\n",
    "                                  'new_subcats': 'item_subcategory'})"
   ]
  },
  {
   "cell_type": "code",
   "execution_count": 43,
   "metadata": {},
   "outputs": [],
   "source": [
    "train_df = pd.merge(train_df, item_df[['item_name', 'item_id',\n",
    "                                      'item_category', 'item_subcategory']])"
   ]
  },
  {
   "cell_type": "code",
   "execution_count": 44,
   "metadata": {},
   "outputs": [],
   "source": [
    "train_df = pd.merge(train_df, shop_df[['city', 'shop_type', 'shop_id']])"
   ]
  },
  {
   "cell_type": "code",
   "execution_count": 45,
   "metadata": {},
   "outputs": [],
   "source": [
    "train_df = pd.merge(train_df, exch_rate)"
   ]
  },
  {
   "cell_type": "code",
   "execution_count": 46,
   "metadata": {},
   "outputs": [],
   "source": [
    "train_df['price_usd'] = train_df['item_price'] / train_df['rate']\n",
    "train_df['revenue'] = train_df['item_price'] * train_df['item_cnt_day']\n",
    "train_df['revenue_usd'] = train_df['price_usd']*train_df['item_cnt_day']"
   ]
  },
  {
   "cell_type": "code",
   "execution_count": 47,
   "metadata": {},
   "outputs": [
    {
     "data": {
      "text/html": [
       "<div>\n",
       "<style scoped>\n",
       "    .dataframe tbody tr th:only-of-type {\n",
       "        vertical-align: middle;\n",
       "    }\n",
       "\n",
       "    .dataframe tbody tr th {\n",
       "        vertical-align: top;\n",
       "    }\n",
       "\n",
       "    .dataframe thead th {\n",
       "        text-align: right;\n",
       "    }\n",
       "</style>\n",
       "<table border=\"1\" class=\"dataframe\">\n",
       "  <thead>\n",
       "    <tr style=\"text-align: right;\">\n",
       "      <th></th>\n",
       "      <th>date</th>\n",
       "      <th>date_block_num</th>\n",
       "      <th>shop_id</th>\n",
       "      <th>item_id</th>\n",
       "      <th>item_price</th>\n",
       "      <th>item_cnt_day</th>\n",
       "      <th>date_test</th>\n",
       "      <th>item_name</th>\n",
       "      <th>item_category</th>\n",
       "      <th>item_subcategory</th>\n",
       "      <th>city</th>\n",
       "      <th>shop_type</th>\n",
       "      <th>rate</th>\n",
       "      <th>price_usd</th>\n",
       "      <th>revenue</th>\n",
       "      <th>revenue_usd</th>\n",
       "    </tr>\n",
       "  </thead>\n",
       "  <tbody>\n",
       "    <tr>\n",
       "      <th>0</th>\n",
       "      <td>2013-01-02</td>\n",
       "      <td>0</td>\n",
       "      <td>59</td>\n",
       "      <td>22154</td>\n",
       "      <td>999.0</td>\n",
       "      <td>1.0</td>\n",
       "      <td>2013-01-02</td>\n",
       "      <td>явление 2012</td>\n",
       "      <td>Кино</td>\n",
       "      <td>Blu-Ray</td>\n",
       "      <td>ярославль</td>\n",
       "      <td>тц</td>\n",
       "      <td>30.18</td>\n",
       "      <td>33.101392</td>\n",
       "      <td>999.0</td>\n",
       "      <td>33.101392</td>\n",
       "    </tr>\n",
       "    <tr>\n",
       "      <th>1</th>\n",
       "      <td>2013-01-02</td>\n",
       "      <td>0</td>\n",
       "      <td>59</td>\n",
       "      <td>2746</td>\n",
       "      <td>299.0</td>\n",
       "      <td>2.0</td>\n",
       "      <td>2013-01-02</td>\n",
       "      <td>dead space 2</td>\n",
       "      <td>Игры PC</td>\n",
       "      <td>Стандартные издания</td>\n",
       "      <td>ярославль</td>\n",
       "      <td>тц</td>\n",
       "      <td>30.18</td>\n",
       "      <td>9.907223</td>\n",
       "      <td>598.0</td>\n",
       "      <td>19.814447</td>\n",
       "    </tr>\n",
       "    <tr>\n",
       "      <th>2</th>\n",
       "      <td>2013-01-02</td>\n",
       "      <td>0</td>\n",
       "      <td>59</td>\n",
       "      <td>2847</td>\n",
       "      <td>1699.0</td>\n",
       "      <td>1.0</td>\n",
       "      <td>2013-01-02</td>\n",
       "      <td>disney история игрушек парк развлечений</td>\n",
       "      <td>Игры</td>\n",
       "      <td>XBOX 360</td>\n",
       "      <td>ярославль</td>\n",
       "      <td>тц</td>\n",
       "      <td>30.18</td>\n",
       "      <td>56.295560</td>\n",
       "      <td>1699.0</td>\n",
       "      <td>56.295560</td>\n",
       "    </tr>\n",
       "    <tr>\n",
       "      <th>3</th>\n",
       "      <td>2013-01-02</td>\n",
       "      <td>0</td>\n",
       "      <td>59</td>\n",
       "      <td>2848</td>\n",
       "      <td>99.0</td>\n",
       "      <td>1.0</td>\n",
       "      <td>2013-01-02</td>\n",
       "      <td>disney мир героев</td>\n",
       "      <td>Игры PC</td>\n",
       "      <td>Стандартные издания</td>\n",
       "      <td>ярославль</td>\n",
       "      <td>тц</td>\n",
       "      <td>30.18</td>\n",
       "      <td>3.280318</td>\n",
       "      <td>99.0</td>\n",
       "      <td>3.280318</td>\n",
       "    </tr>\n",
       "    <tr>\n",
       "      <th>4</th>\n",
       "      <td>2013-01-02</td>\n",
       "      <td>0</td>\n",
       "      <td>59</td>\n",
       "      <td>2854</td>\n",
       "      <td>449.0</td>\n",
       "      <td>1.0</td>\n",
       "      <td>2013-01-02</td>\n",
       "      <td>disney храбрая сердцем</td>\n",
       "      <td>Игры PC</td>\n",
       "      <td>Стандартные издания</td>\n",
       "      <td>ярославль</td>\n",
       "      <td>тц</td>\n",
       "      <td>30.18</td>\n",
       "      <td>14.877402</td>\n",
       "      <td>449.0</td>\n",
       "      <td>14.877402</td>\n",
       "    </tr>\n",
       "  </tbody>\n",
       "</table>\n",
       "</div>"
      ],
      "text/plain": [
       "        date  date_block_num  shop_id  item_id  item_price  item_cnt_day  \\\n",
       "0 2013-01-02               0       59    22154       999.0           1.0   \n",
       "1 2013-01-02               0       59     2746       299.0           2.0   \n",
       "2 2013-01-02               0       59     2847      1699.0           1.0   \n",
       "3 2013-01-02               0       59     2848        99.0           1.0   \n",
       "4 2013-01-02               0       59     2854       449.0           1.0   \n",
       "\n",
       "   date_test                                item_name item_category  \\\n",
       "0 2013-01-02                             явление 2012          Кино   \n",
       "1 2013-01-02                             dead space 2       Игры PC   \n",
       "2 2013-01-02  disney история игрушек парк развлечений          Игры   \n",
       "3 2013-01-02                        disney мир героев       Игры PC   \n",
       "4 2013-01-02                   disney храбрая сердцем       Игры PC   \n",
       "\n",
       "      item_subcategory       city shop_type   rate  price_usd  revenue  \\\n",
       "0              Blu-Ray  ярославль        тц  30.18  33.101392    999.0   \n",
       "1  Стандартные издания  ярославль        тц  30.18   9.907223    598.0   \n",
       "2             XBOX 360  ярославль        тц  30.18  56.295560   1699.0   \n",
       "3  Стандартные издания  ярославль        тц  30.18   3.280318     99.0   \n",
       "4  Стандартные издания  ярославль        тц  30.18  14.877402    449.0   \n",
       "\n",
       "   revenue_usd  \n",
       "0    33.101392  \n",
       "1    19.814447  \n",
       "2    56.295560  \n",
       "3     3.280318  \n",
       "4    14.877402  "
      ]
     },
     "execution_count": 47,
     "metadata": {},
     "output_type": "execute_result"
    }
   ],
   "source": [
    "train_df.head()"
   ]
  },
  {
   "cell_type": "markdown",
   "metadata": {},
   "source": [
    "## EDA:"
   ]
  },
  {
   "cell_type": "markdown",
   "metadata": {},
   "source": [
    "### __Price distribution:__"
   ]
  },
  {
   "cell_type": "code",
   "execution_count": 48,
   "metadata": {},
   "outputs": [
    {
     "data": {
      "text/plain": [
       "Text(0.5, 1.0, 'item_price distplot')"
      ]
     },
     "execution_count": 48,
     "metadata": {},
     "output_type": "execute_result"
    },
    {
     "data": {
      "image/png": "[encoded data removed]",
      "text/plain": [
       "<Figure size 360x360 with 1 Axes>"
      ]
     },
     "metadata": {
      "needs_background": "light"
     },
     "output_type": "display_data"
    }
   ],
   "source": [
    "plt.figure(figsize=(5, 5))\n",
    "sns.distplot(train_df.loc[train_df['item_price']<5000, 'item_price'], \n",
    "             kde=False)\n",
    "plt.title('item_price distplot')"
   ]
  },
  {
   "cell_type": "markdown",
   "metadata": {},
   "source": [
    "There is an entry with negative price:"
   ]
  },
  {
   "cell_type": "code",
   "execution_count": 49,
   "metadata": {},
   "outputs": [
    {
     "data": {
      "text/html": [
       "<div>\n",
       "<style scoped>\n",
       "    .dataframe tbody tr th:only-of-type {\n",
       "        vertical-align: middle;\n",
       "    }\n",
       "\n",
       "    .dataframe tbody tr th {\n",
       "        vertical-align: top;\n",
       "    }\n",
       "\n",
       "    .dataframe thead th {\n",
       "        text-align: right;\n",
       "    }\n",
       "</style>\n",
       "<table border=\"1\" class=\"dataframe\">\n",
       "  <thead>\n",
       "    <tr style=\"text-align: right;\">\n",
       "      <th></th>\n",
       "      <th>date</th>\n",
       "      <th>date_block_num</th>\n",
       "      <th>shop_id</th>\n",
       "      <th>item_id</th>\n",
       "      <th>item_price</th>\n",
       "      <th>item_cnt_day</th>\n",
       "      <th>date_test</th>\n",
       "      <th>item_name</th>\n",
       "      <th>item_category</th>\n",
       "      <th>item_subcategory</th>\n",
       "      <th>city</th>\n",
       "      <th>shop_type</th>\n",
       "      <th>rate</th>\n",
       "      <th>price_usd</th>\n",
       "      <th>revenue</th>\n",
       "      <th>revenue_usd</th>\n",
       "    </tr>\n",
       "  </thead>\n",
       "  <tbody>\n",
       "    <tr>\n",
       "      <th>1267109</th>\n",
       "      <td>2013-05-15</td>\n",
       "      <td>4</td>\n",
       "      <td>32</td>\n",
       "      <td>2973</td>\n",
       "      <td>-1.0</td>\n",
       "      <td>1.0</td>\n",
       "      <td>2013-05-15</td>\n",
       "      <td>dmc devil may cry</td>\n",
       "      <td>Игры</td>\n",
       "      <td>PS3</td>\n",
       "      <td>москва</td>\n",
       "      <td>тц</td>\n",
       "      <td>31.45</td>\n",
       "      <td>-0.031797</td>\n",
       "      <td>-1.0</td>\n",
       "      <td>-0.031797</td>\n",
       "    </tr>\n",
       "  </tbody>\n",
       "</table>\n",
       "</div>"
      ],
      "text/plain": [
       "              date  date_block_num  shop_id  item_id  item_price  \\\n",
       "1267109 2013-05-15               4       32     2973        -1.0   \n",
       "\n",
       "         item_cnt_day  date_test          item_name item_category  \\\n",
       "1267109           1.0 2013-05-15  dmc devil may cry          Игры   \n",
       "\n",
       "        item_subcategory    city shop_type   rate  price_usd  revenue  \\\n",
       "1267109              PS3  москва        тц  31.45  -0.031797     -1.0   \n",
       "\n",
       "         revenue_usd  \n",
       "1267109    -0.031797  "
      ]
     },
     "execution_count": 49,
     "metadata": {},
     "output_type": "execute_result"
    }
   ],
   "source": [
    "train_df.loc[train_df['item_price']<0, :]"
   ]
  },
  {
   "cell_type": "markdown",
   "metadata": {},
   "source": [
    "Filling it with the mean price of this particular item:"
   ]
  },
  {
   "cell_type": "code",
   "execution_count": 50,
   "metadata": {},
   "outputs": [],
   "source": [
    "train_df.loc[train_df['item_price']<0, 'item_price'] = \\\n",
    "train_df.loc[train_df['item_id']\\\n",
    "             ==train_df.loc[train_df['item_price']<0,'item_id']\\\n",
    "                            .values[0],\n",
    "                            'item_price'].mean()"
   ]
  },
  {
   "cell_type": "markdown",
   "metadata": {},
   "source": [
    "Replotting in log10 scale:"
   ]
  },
  {
   "cell_type": "code",
   "execution_count": 51,
   "metadata": {},
   "outputs": [
    {
     "data": {
      "text/plain": [
       "Text(0.5, 1.0, 'log10(item_price) distplot')"
      ]
     },
     "execution_count": 51,
     "metadata": {},
     "output_type": "execute_result"
    },
    {
     "data": {
      "image/png": "[encoded data removed]",
      "text/plain": [
       "<Figure size 360x360 with 1 Axes>"
      ]
     },
     "metadata": {
      "needs_background": "light"
     },
     "output_type": "display_data"
    }
   ],
   "source": [
    "plt.figure(figsize=(5, 5))\n",
    "sns.distplot(np.log10(train_df['item_price']), kde=False)\n",
    "plt.yscale('log')\n",
    "plt.title('log10(item_price) distplot')"
   ]
  },
  {
   "cell_type": "code",
   "execution_count": 52,
   "metadata": {},
   "outputs": [],
   "source": [
    "\n",
    "train_df = train_df.loc[(train_df['item_price']<10**5), :]"
   ]
  },
  {
   "cell_type": "markdown",
   "metadata": {},
   "source": [
    "### __Item count per day__ distribution:"
   ]
  },
  {
   "cell_type": "code",
   "execution_count": 53,
   "metadata": {},
   "outputs": [
    {
     "data": {
      "text/plain": [
       "Text(0.5, 1.0, 'item_cnt_day distplot')"
      ]
     },
     "execution_count": 53,
     "metadata": {},
     "output_type": "execute_result"
    },
    {
     "data": {
      "image/png": "[encoded data removed]",
      "text/plain": [
       "<Figure size 360x360 with 1 Axes>"
      ]
     },
     "metadata": {
      "needs_background": "light"
     },
     "output_type": "display_data"
    }
   ],
   "source": [
    "plt.figure(figsize=(5, 5))\n",
    "sns.distplot(train_df.loc[(train_df['item_cnt_day']<10000)&(train_df['item_cnt_day']>-5),\n",
    "                          'item_cnt_day'], kde=False)\n",
    "\n",
    "plt.yscale('log')\n",
    "plt.title('item_cnt_day distplot')"
   ]
  },
  {
   "cell_type": "code",
   "execution_count": 54,
   "metadata": {},
   "outputs": [
    {
     "data": {
      "text/plain": [
       "(2770693, 16)"
      ]
     },
     "execution_count": 54,
     "metadata": {},
     "output_type": "execute_result"
    }
   ],
   "source": [
    "train_df.shape"
   ]
  },
  {
   "cell_type": "code",
   "execution_count": 55,
   "metadata": {},
   "outputs": [],
   "source": [
    "train_df = train_df.loc[(train_df['item_cnt_day']<750), :]"
   ]
  },
  {
   "cell_type": "code",
   "execution_count": 56,
   "metadata": {},
   "outputs": [
    {
     "data": {
      "text/plain": [
       "(2770691, 16)"
      ]
     },
     "execution_count": 56,
     "metadata": {},
     "output_type": "execute_result"
    }
   ],
   "source": [
    "train_df.shape"
   ]
  },
  {
   "cell_type": "markdown",
   "metadata": {},
   "source": [
    "### __Item counts versus item prices__"
   ]
  },
  {
   "cell_type": "code",
   "execution_count": 57,
   "metadata": {},
   "outputs": [
    {
     "data": {
      "image/png": "[encoded data removed]",
      "text/plain": [
       "<Figure size 864x576 with 1 Axes>"
      ]
     },
     "metadata": {
      "needs_background": "light"
     },
     "output_type": "display_data"
    }
   ],
   "source": [
    "plt.figure(figsize=(12, 8))\n",
    "plt.scatter(train_df['item_price'], train_df['item_cnt_day'], alpha=0.025)\n",
    "plt.xscale('log')\n",
    "plt.yscale('log')\n",
    "plt.xlabel('item_price')\n",
    "plt.ylabel('item_cnt_day')\n",
    "plt.ylim((1e-1, 1e6))\n",
    "plt.show()"
   ]
  },
  {
   "cell_type": "markdown",
   "metadata": {},
   "source": [
    "Around 90% of all daily sales include only one item:"
   ]
  },
  {
   "cell_type": "code",
   "execution_count": 58,
   "metadata": {},
   "outputs": [
    {
     "data": {
      "text/plain": [
       "0.8962063976098381"
      ]
     },
     "execution_count": 58,
     "metadata": {},
     "output_type": "execute_result"
    }
   ],
   "source": [
    "train_df.loc[train_df['item_cnt_day']==1, :].shape[0] / train_df.shape[0]"
   ]
  },
  {
   "cell_type": "code",
   "execution_count": 59,
   "metadata": {},
   "outputs": [],
   "source": [
    "t_df = train_df.groupby(['date_block_num', 'item_id', 'shop_id'])[['item_cnt_day']].sum()\n",
    "t_df = t_df.reset_index().rename(columns={'item_cnt_day': 'item_cnt_month'})"
   ]
  },
  {
   "cell_type": "markdown",
   "metadata": {},
   "source": [
    "In case of monthly sales, this value is of around 70%:"
   ]
  },
  {
   "cell_type": "code",
   "execution_count": 60,
   "metadata": {},
   "outputs": [
    {
     "data": {
      "text/plain": [
       "0.6644081798614315"
      ]
     },
     "execution_count": 60,
     "metadata": {},
     "output_type": "execute_result"
    }
   ],
   "source": [
    "t_df.loc[t_df['item_cnt_month']==1, :].shape[0] / t_df.shape[0]"
   ]
  },
  {
   "cell_type": "markdown",
   "metadata": {},
   "source": [
    "However, in 95% of all cases, the monthly sales volume is not greater than 5:"
   ]
  },
  {
   "cell_type": "code",
   "execution_count": 61,
   "metadata": {},
   "outputs": [
    {
     "data": {
      "text/plain": [
       "0.9448611250052439"
      ]
     },
     "execution_count": 61,
     "metadata": {},
     "output_type": "execute_result"
    }
   ],
   "source": [
    "t_df.loc[t_df['item_cnt_month']<=5, :].shape[0] / t_df.shape[0]"
   ]
  },
  {
   "cell_type": "code",
   "execution_count": 62,
   "metadata": {},
   "outputs": [
    {
     "data": {
      "text/plain": [
       "17777"
      ]
     },
     "execution_count": 62,
     "metadata": {},
     "output_type": "execute_result"
    }
   ],
   "source": [
    "del t_df\n",
    "gc.collect()"
   ]
  },
  {
   "cell_type": "markdown",
   "metadata": {},
   "source": [
    "### __Total sales behaviour depending on month/year__"
   ]
  },
  {
   "cell_type": "code",
   "execution_count": 63,
   "metadata": {},
   "outputs": [],
   "source": [
    "t_df = train_df[['item_cnt_day', 'date']].copy()"
   ]
  },
  {
   "cell_type": "code",
   "execution_count": 64,
   "metadata": {},
   "outputs": [],
   "source": [
    "t_df['month'] = t_df['date'].dt.month\n",
    "t_df['year'] = t_df['date'].dt.year"
   ]
  },
  {
   "cell_type": "code",
   "execution_count": 65,
   "metadata": {},
   "outputs": [
    {
     "data": {
      "text/html": [
       "<div>\n",
       "<style scoped>\n",
       "    .dataframe tbody tr th:only-of-type {\n",
       "        vertical-align: middle;\n",
       "    }\n",
       "\n",
       "    .dataframe tbody tr th {\n",
       "        vertical-align: top;\n",
       "    }\n",
       "\n",
       "    .dataframe thead th {\n",
       "        text-align: right;\n",
       "    }\n",
       "</style>\n",
       "<table border=\"1\" class=\"dataframe\">\n",
       "  <thead>\n",
       "    <tr style=\"text-align: right;\">\n",
       "      <th></th>\n",
       "      <th>year</th>\n",
       "      <th>month</th>\n",
       "      <th>item_cnt_day</th>\n",
       "    </tr>\n",
       "  </thead>\n",
       "  <tbody>\n",
       "    <tr>\n",
       "      <th>0</th>\n",
       "      <td>2013</td>\n",
       "      <td>1</td>\n",
       "      <td>131479.0</td>\n",
       "    </tr>\n",
       "    <tr>\n",
       "      <th>1</th>\n",
       "      <td>2013</td>\n",
       "      <td>2</td>\n",
       "      <td>128090.0</td>\n",
       "    </tr>\n",
       "    <tr>\n",
       "      <th>2</th>\n",
       "      <td>2013</td>\n",
       "      <td>3</td>\n",
       "      <td>141773.0</td>\n",
       "    </tr>\n",
       "    <tr>\n",
       "      <th>3</th>\n",
       "      <td>2013</td>\n",
       "      <td>4</td>\n",
       "      <td>107190.0</td>\n",
       "    </tr>\n",
       "    <tr>\n",
       "      <th>4</th>\n",
       "      <td>2013</td>\n",
       "      <td>5</td>\n",
       "      <td>95315.0</td>\n",
       "    </tr>\n",
       "  </tbody>\n",
       "</table>\n",
       "</div>"
      ],
      "text/plain": [
       "   year  month  item_cnt_day\n",
       "0  2013      1      131479.0\n",
       "1  2013      2      128090.0\n",
       "2  2013      3      141773.0\n",
       "3  2013      4      107190.0\n",
       "4  2013      5       95315.0"
      ]
     },
     "execution_count": 65,
     "metadata": {},
     "output_type": "execute_result"
    }
   ],
   "source": [
    "t_df.groupby(\n",
    "    ['year','month']).agg({'item_cnt_day': np.sum}).reset_index().head(5)"
   ]
  },
  {
   "cell_type": "code",
   "execution_count": 66,
   "metadata": {},
   "outputs": [
    {
     "data": {
      "text/plain": [
       "<matplotlib.axes._subplots.AxesSubplot at 0x7f64e2fc66d0>"
      ]
     },
     "execution_count": 66,
     "metadata": {},
     "output_type": "execute_result"
    },
    {
     "data": {
      "image/png": "[encoded data removed]",
      "text/plain": [
       "<Figure size 864x576 with 1 Axes>"
      ]
     },
     "metadata": {
      "needs_background": "light"
     },
     "output_type": "display_data"
    }
   ],
   "source": [
    "data = t_df.groupby(\n",
    "    ['year','month']).agg({'item_cnt_day': np.sum}).reset_index()\\\n",
    "    .pivot(index='month', columns='year', values='item_cnt_day')\n",
    "data.plot(figsize=(12, 8))"
   ]
  },
  {
   "cell_type": "code",
   "execution_count": 67,
   "metadata": {},
   "outputs": [
    {
     "data": {
      "text/plain": [
       "32"
      ]
     },
     "execution_count": 67,
     "metadata": {},
     "output_type": "execute_result"
    }
   ],
   "source": [
    "del t_df, data\n",
    "gc.collect()"
   ]
  },
  {
   "cell_type": "markdown",
   "metadata": {},
   "source": [
    "### __Seasonal decomposition:__"
   ]
  },
  {
   "cell_type": "code",
   "execution_count": 68,
   "metadata": {},
   "outputs": [],
   "source": [
    "temp_sum = train_df.groupby(['date_block_num'])[['item_cnt_day', 'revenue', 'revenue_usd']].sum()\n",
    "temp_sum = temp_sum.reset_index().rename(columns={'item_cnt_day': 'item_cnt_month'})"
   ]
  },
  {
   "cell_type": "markdown",
   "metadata": {},
   "source": [
    "Cumulative __sales volume__:"
   ]
  },
  {
   "cell_type": "code",
   "execution_count": 69,
   "metadata": {},
   "outputs": [
    {
     "name": "stderr",
     "output_type": "stream",
     "text": [
      "/usr/local/lib/python3.7/site-packages/ipykernel_launcher.py:2: FutureWarning: the 'freq'' keyword is deprecated, use 'period' instead\n",
      "  \n"
     ]
    },
    {
     "data": {
      "image/png": "[encoded data removed]",
      "text/plain": [
       "<Figure size 360x540 with 4 Axes>"
      ]
     },
     "metadata": {
      "needs_background": "light"
     },
     "output_type": "display_data"
    }
   ],
   "source": [
    "rcParams['figure.figsize'] = 5, 7.5\n",
    "decomposition = sm.tsa.seasonal_decompose(temp_sum['item_cnt_month'], freq=12, model='multiplicative')\n",
    "fig = decomposition.plot()\n",
    "plt.show()"
   ]
  },
  {
   "cell_type": "markdown",
   "metadata": {},
   "source": [
    "Cumulative __revenue__:"
   ]
  },
  {
   "cell_type": "code",
   "execution_count": 70,
   "metadata": {},
   "outputs": [
    {
     "name": "stderr",
     "output_type": "stream",
     "text": [
      "/usr/local/lib/python3.7/site-packages/ipykernel_launcher.py:1: FutureWarning: the 'freq'' keyword is deprecated, use 'period' instead\n",
      "  \"\"\"Entry point for launching an IPython kernel.\n"
     ]
    },
    {
     "data": {
      "image/png": "[encoded data removed]",
      "text/plain": [
       "<Figure size 360x540 with 4 Axes>"
      ]
     },
     "metadata": {
      "needs_background": "light"
     },
     "output_type": "display_data"
    }
   ],
   "source": [
    "decomposition = sm.tsa.seasonal_decompose(temp_sum['revenue'], freq=12, model='multiplicative')\n",
    "fig = decomposition.plot()\n",
    "plt.show()"
   ]
  },
  {
   "cell_type": "code",
   "execution_count": 71,
   "metadata": {},
   "outputs": [],
   "source": [
    "temp_mean = train_df.groupby(['date_block_num'])[['item_cnt_day', 'revenue', 'revenue_usd']].mean()\n",
    "temp_mean = temp_mean.reset_index().rename(columns={'item_cnt_day': 'item_cnt_mean',\n",
    "                                                    'revenue': 'av_revenue'})"
   ]
  },
  {
   "cell_type": "markdown",
   "metadata": {},
   "source": [
    "Average __sales volume__:"
   ]
  },
  {
   "cell_type": "code",
   "execution_count": 72,
   "metadata": {},
   "outputs": [
    {
     "name": "stderr",
     "output_type": "stream",
     "text": [
      "/usr/local/lib/python3.7/site-packages/ipykernel_launcher.py:1: FutureWarning: the 'freq'' keyword is deprecated, use 'period' instead\n",
      "  \"\"\"Entry point for launching an IPython kernel.\n"
     ]
    },
    {
     "data": {
      "image/png": "[encoded data removed]",
      "text/plain": [
       "<Figure size 360x540 with 4 Axes>"
      ]
     },
     "metadata": {
      "needs_background": "light"
     },
     "output_type": "display_data"
    }
   ],
   "source": [
    "decomposition = sm.tsa.seasonal_decompose(temp_mean['item_cnt_mean'], freq=12, model='multiplicative')\n",
    "fig = decomposition.plot()\n",
    "plt.show()"
   ]
  },
  {
   "cell_type": "markdown",
   "metadata": {},
   "source": [
    "Average __revenue__:"
   ]
  },
  {
   "cell_type": "code",
   "execution_count": 73,
   "metadata": {},
   "outputs": [
    {
     "name": "stderr",
     "output_type": "stream",
     "text": [
      "/usr/local/lib/python3.7/site-packages/ipykernel_launcher.py:1: FutureWarning: the 'freq'' keyword is deprecated, use 'period' instead\n",
      "  \"\"\"Entry point for launching an IPython kernel.\n"
     ]
    },
    {
     "data": {
      "image/png": "[encoded data removed]",
      "text/plain": [
       "<Figure size 360x540 with 4 Axes>"
      ]
     },
     "metadata": {
      "needs_background": "light"
     },
     "output_type": "display_data"
    }
   ],
   "source": [
    "decomposition = sm.tsa.seasonal_decompose(temp_mean['av_revenue'], freq=12, model='multiplicative')\n",
    "fig = decomposition.plot()\n",
    "plt.show()"
   ]
  },
  {
   "cell_type": "markdown",
   "metadata": {},
   "source": [
    "There is a __clear seasonality__ in both overall amount of sales and average sales per day. Moreover, there seems to be a __negative trend__ for the former and a __positive one__ for the latter.  \n",
    "If one looks at the __revenues__, it can be seen that even though the __seasonality__ persists here, there is __no clear trend__ in case of cumulative value. The __average revenues__ follow the behaviour of the average number of sales."
   ]
  },
  {
   "cell_type": "code",
   "execution_count": 74,
   "metadata": {},
   "outputs": [
    {
     "data": {
      "text/plain": [
       "25543"
      ]
     },
     "execution_count": 74,
     "metadata": {},
     "output_type": "execute_result"
    }
   ],
   "source": [
    "del temp_mean, temp_sum\n",
    "gc.collect()"
   ]
  },
  {
   "cell_type": "markdown",
   "metadata": {},
   "source": [
    "### Sales distributions by __shop_id__:"
   ]
  },
  {
   "cell_type": "code",
   "execution_count": 75,
   "metadata": {},
   "outputs": [],
   "source": [
    "shop_sum = train_df.groupby(['shop_id'], as_index=False)[['item_cnt_day', 'revenue']].sum()\n",
    "shop_mean = train_df.groupby(['shop_id'], as_index=False)[['item_cnt_day', 'revenue']].mean()"
   ]
  },
  {
   "cell_type": "code",
   "execution_count": 76,
   "metadata": {},
   "outputs": [],
   "source": [
    "shop_sum = shop_sum.rename(columns={'item_cnt_day': 'item_cnt_sum'}).sort_values(by='item_cnt_sum')\n",
    "shop_mean = shop_mean.rename(columns={'item_cnt_day': 'item_cnt_mean'})"
   ]
  },
  {
   "cell_type": "code",
   "execution_count": 77,
   "metadata": {},
   "outputs": [
    {
     "data": {
      "image/png": "[encoded data removed]",
      "text/plain": [
       "<Figure size 1080x720 with 2 Axes>"
      ]
     },
     "metadata": {
      "needs_background": "light"
     },
     "output_type": "display_data"
    }
   ],
   "source": [
    "f, axes = plt.subplots(2, 1, figsize=(15, 10))\n",
    "sns.barplot(x=shop_sum['shop_id'], y=shop_sum['item_cnt_sum'], ax=axes[0], order=shop_sum['shop_id'])\n",
    "sns.barplot(x=shop_mean['shop_id'], y=shop_mean['item_cnt_mean'], ax=axes[1], order=shop_sum['shop_id'])\n",
    "plt.show()"
   ]
  },
  {
   "cell_type": "markdown",
   "metadata": {},
   "source": [
    "Whereas the average number daily sales is around 1 for all the shops, there are several shops having larger cumulative amount of sales."
   ]
  },
  {
   "cell_type": "markdown",
   "metadata": {},
   "source": [
    "As one can see, these are mostly located in Moscow and its outskirts:"
   ]
  },
  {
   "cell_type": "code",
   "execution_count": 78,
   "metadata": {},
   "outputs": [
    {
     "data": {
      "text/html": [
       "<div>\n",
       "<style scoped>\n",
       "    .dataframe tbody tr th:only-of-type {\n",
       "        vertical-align: middle;\n",
       "    }\n",
       "\n",
       "    .dataframe tbody tr th {\n",
       "        vertical-align: top;\n",
       "    }\n",
       "\n",
       "    .dataframe thead th {\n",
       "        text-align: right;\n",
       "    }\n",
       "</style>\n",
       "<table border=\"1\" class=\"dataframe\">\n",
       "  <thead>\n",
       "    <tr style=\"text-align: right;\">\n",
       "      <th></th>\n",
       "      <th>shop_id</th>\n",
       "      <th>item_cnt_sum</th>\n",
       "      <th>revenue</th>\n",
       "      <th>shop_name</th>\n",
       "      <th>city</th>\n",
       "      <th>shop_type</th>\n",
       "    </tr>\n",
       "  </thead>\n",
       "  <tbody>\n",
       "    <tr>\n",
       "      <th>55</th>\n",
       "      <td>42</td>\n",
       "      <td>137989.0</td>\n",
       "      <td>1.454613e+08</td>\n",
       "      <td>СПб ТК \"Невский Центр\"</td>\n",
       "      <td>спб</td>\n",
       "      <td>тк</td>\n",
       "    </tr>\n",
       "    <tr>\n",
       "      <th>56</th>\n",
       "      <td>54</td>\n",
       "      <td>170551.0</td>\n",
       "      <td>1.315888e+08</td>\n",
       "      <td>Химки ТЦ \"Мега\"</td>\n",
       "      <td>химки</td>\n",
       "      <td>тц</td>\n",
       "    </tr>\n",
       "    <tr>\n",
       "      <th>57</th>\n",
       "      <td>28</td>\n",
       "      <td>170961.0</td>\n",
       "      <td>1.491373e+08</td>\n",
       "      <td>Москва ТЦ \"МЕГА Теплый Стан\" II</td>\n",
       "      <td>москва</td>\n",
       "      <td>тц</td>\n",
       "    </tr>\n",
       "    <tr>\n",
       "      <th>58</th>\n",
       "      <td>25</td>\n",
       "      <td>229700.0</td>\n",
       "      <td>2.076013e+08</td>\n",
       "      <td>Москва ТРК \"Атриум\"</td>\n",
       "      <td>москва</td>\n",
       "      <td>трк</td>\n",
       "    </tr>\n",
       "    <tr>\n",
       "      <th>59</th>\n",
       "      <td>31</td>\n",
       "      <td>295745.0</td>\n",
       "      <td>2.254598e+08</td>\n",
       "      <td>Москва ТЦ \"Семеновский\"</td>\n",
       "      <td>москва</td>\n",
       "      <td>тц</td>\n",
       "    </tr>\n",
       "  </tbody>\n",
       "</table>\n",
       "</div>"
      ],
      "text/plain": [
       "    shop_id  item_cnt_sum       revenue                        shop_name  \\\n",
       "55       42      137989.0  1.454613e+08           СПб ТК \"Невский Центр\"   \n",
       "56       54      170551.0  1.315888e+08                  Химки ТЦ \"Мега\"   \n",
       "57       28      170961.0  1.491373e+08  Москва ТЦ \"МЕГА Теплый Стан\" II   \n",
       "58       25      229700.0  2.076013e+08              Москва ТРК \"Атриум\"   \n",
       "59       31      295745.0  2.254598e+08          Москва ТЦ \"Семеновский\"   \n",
       "\n",
       "      city shop_type  \n",
       "55     спб        тк  \n",
       "56   химки        тц  \n",
       "57  москва        тц  \n",
       "58  москва       трк  \n",
       "59  москва        тц  "
      ]
     },
     "execution_count": 78,
     "metadata": {},
     "output_type": "execute_result"
    }
   ],
   "source": [
    "pd.merge(shop_sum, shop_df).tail()"
   ]
  },
  {
   "cell_type": "code",
   "execution_count": 79,
   "metadata": {},
   "outputs": [
    {
     "data": {
      "text/plain": [
       "55"
      ]
     },
     "execution_count": 79,
     "metadata": {},
     "output_type": "execute_result"
    }
   ],
   "source": [
    "del shop_sum, shop_mean\n",
    "gc.collect()"
   ]
  },
  {
   "cell_type": "markdown",
   "metadata": {},
   "source": [
    "### Sales distribution by __item_category__:"
   ]
  },
  {
   "cell_type": "code",
   "execution_count": 80,
   "metadata": {},
   "outputs": [],
   "source": [
    "item_sum = train_df.groupby(['item_category'], as_index=False)[['item_cnt_day', 'revenue']].sum()\n",
    "item_mean = train_df.groupby(['item_category'], as_index=False)[['item_cnt_day', 'revenue']].mean()"
   ]
  },
  {
   "cell_type": "code",
   "execution_count": 81,
   "metadata": {},
   "outputs": [],
   "source": [
    "item_sum = item_sum.rename(columns={'item_cnt_day': 'item_cnt_sum',\n",
    "                                   'revenue': 'revenue_sum'}).sort_values(by='item_cnt_sum')\n",
    "item_mean = item_mean.rename(columns={'item_cnt_day': 'item_cnt_mean',\n",
    "                                     'revenue': 'av_revenue'})"
   ]
  },
  {
   "cell_type": "code",
   "execution_count": 82,
   "metadata": {},
   "outputs": [
    {
     "data": {
      "image/png": "[encoded data removed]",
      "text/plain": [
       "<Figure size 1080x720 with 2 Axes>"
      ]
     },
     "metadata": {
      "needs_background": "light"
     },
     "output_type": "display_data"
    }
   ],
   "source": [
    "f, axes = plt.subplots(2, 1, figsize=(15, 10), sharex=False)\n",
    "sns.barplot(x=item_sum['item_category'], y=item_sum['item_cnt_sum'], ax=axes[0],\n",
    "            order=item_sum['item_category'])\n",
    "sns.barplot(x=item_mean['item_category'], y=item_mean['item_cnt_mean'], ax=axes[1],\n",
    "            order=item_sum['item_category'])\n",
    "plt.subplots_adjust(hspace=1)\n",
    "for ax in axes:\n",
    "    plt.sca(ax)\n",
    "    plt.xticks(rotation=45)\n",
    "plt.show()"
   ]
  },
  {
   "cell_type": "markdown",
   "metadata": {},
   "source": [
    "There are top 5 product categories dominating the overall sales volume."
   ]
  },
  {
   "cell_type": "markdown",
   "metadata": {},
   "source": [
    "Taking a look at what's happening inside the top category (__'Movies'__):"
   ]
  },
  {
   "cell_type": "code",
   "execution_count": 83,
   "metadata": {},
   "outputs": [],
   "source": [
    "movies_df = train_df.loc[train_df['item_category']=='Кино',\n",
    "             :].groupby('item_id', as_index=False).sum()[['item_id', 'item_cnt_day']]"
   ]
  },
  {
   "cell_type": "code",
   "execution_count": 84,
   "metadata": {},
   "outputs": [],
   "source": [
    "top20_movies = pd.merge(movies_df, item_df).sort_values(by='item_cnt_day', ascending=False).head(20)"
   ]
  },
  {
   "cell_type": "code",
   "execution_count": 85,
   "metadata": {},
   "outputs": [],
   "source": [
    "top20_movies = top20_movies.rename(columns={'item_cnt_day': 'item_cnt_sum'})"
   ]
  },
  {
   "cell_type": "code",
   "execution_count": 86,
   "metadata": {},
   "outputs": [
    {
     "data": {
      "image/png": "[encoded data removed]",
      "text/plain": [
       "<Figure size 1080x360 with 1 Axes>"
      ]
     },
     "metadata": {
      "needs_background": "light"
     },
     "output_type": "display_data"
    }
   ],
   "source": [
    "plt.figure(figsize=(15, 5))\n",
    "sns.barplot(x=top20_movies['item_name'], y=top20_movies['item_cnt_sum'],\n",
    "            order=top20_movies['item_name'])\n",
    "plt.xticks(rotation=90)\n",
    "plt.show()"
   ]
  },
  {
   "cell_type": "markdown",
   "metadata": {},
   "source": [
    "The distribution of the sales in the top category ('Movies') is monotonous, no peculiarities are observed"
   ]
  },
  {
   "cell_type": "code",
   "execution_count": 87,
   "metadata": {},
   "outputs": [
    {
     "data": {
      "text/plain": [
       "33558"
      ]
     },
     "execution_count": 87,
     "metadata": {},
     "output_type": "execute_result"
    }
   ],
   "source": [
    "del top20_movies\n",
    "gc.collect()"
   ]
  },
  {
   "cell_type": "markdown",
   "metadata": {},
   "source": [
    "### __Revenues__ distribution by category:"
   ]
  },
  {
   "cell_type": "code",
   "execution_count": 88,
   "metadata": {},
   "outputs": [],
   "source": [
    "item_sum = item_sum.sort_values(by='revenue_sum')"
   ]
  },
  {
   "cell_type": "code",
   "execution_count": 89,
   "metadata": {},
   "outputs": [
    {
     "data": {
      "image/png": "[encoded data removed]",
      "text/plain": [
       "<Figure size 1080x720 with 2 Axes>"
      ]
     },
     "metadata": {
      "needs_background": "light"
     },
     "output_type": "display_data"
    }
   ],
   "source": [
    "f, axes = plt.subplots(2, 1, figsize=(15, 10), sharex=False)\n",
    "sns.barplot(x=item_sum['item_category'], y=item_sum['revenue_sum'], ax=axes[0],\n",
    "            order=item_sum['item_category'])\n",
    "sns.barplot(x=item_mean['item_category'], y=item_mean['av_revenue'], ax=axes[1],\n",
    "            order=item_sum['item_category'])\n",
    "plt.subplots_adjust(hspace=1)\n",
    "for ax in axes:\n",
    "    plt.sca(ax)\n",
    "    plt.xticks(rotation=45)\n",
    "plt.show()"
   ]
  },
  {
   "cell_type": "markdown",
   "metadata": {},
   "source": [
    "Even though the volume is mostly determined by one set of categories, the situation in case of revenue is slightly different. One can see, for instance that __'Games'__ becomes the top category instead of __'Movies'__. The __'Game consoles'__, despite having relatively low volume, gets the second place due to its high price."
   ]
  },
  {
   "cell_type": "code",
   "execution_count": 90,
   "metadata": {},
   "outputs": [
    {
     "data": {
      "text/plain": [
       "11515"
      ]
     },
     "execution_count": 90,
     "metadata": {},
     "output_type": "execute_result"
    }
   ],
   "source": [
    "del item_sum, item_mean\n",
    "gc.collect()"
   ]
  },
  {
   "cell_type": "markdown",
   "metadata": {},
   "source": [
    "Taking a look at what's happening __inside the top categories__:"
   ]
  },
  {
   "cell_type": "code",
   "execution_count": 91,
   "metadata": {},
   "outputs": [],
   "source": [
    "games_df = train_df.loc[train_df['item_category']=='Игры',\n",
    "             :].groupby('item_id', as_index=False).sum()[['item_id', 'revenue', 'item_cnt_day']]"
   ]
  },
  {
   "cell_type": "code",
   "execution_count": 92,
   "metadata": {},
   "outputs": [],
   "source": [
    "top20_games = pd.merge(games_df, item_df).sort_values(by='revenue', ascending=False).head(20)"
   ]
  },
  {
   "cell_type": "code",
   "execution_count": 93,
   "metadata": {},
   "outputs": [
    {
     "data": {
      "image/png": "[encoded data removed]",
      "text/plain": [
       "<Figure size 1080x360 with 1 Axes>"
      ]
     },
     "metadata": {
      "needs_background": "light"
     },
     "output_type": "display_data"
    }
   ],
   "source": [
    "plt.figure(figsize=(15, 5))\n",
    "sns.barplot(x=top20_games['item_name'], y=top20_games['revenue'],\n",
    "            order=top20_games['item_name'])\n",
    "plt.xticks(rotation=90)\n",
    "plt.show()"
   ]
  },
  {
   "cell_type": "code",
   "execution_count": 94,
   "metadata": {},
   "outputs": [],
   "source": [
    "consoles_df = train_df.loc[train_df['item_category']=='Игровые консоли',\n",
    "             :].groupby('item_id', as_index=False).sum()[['item_id', 'revenue', 'item_cnt_day']]"
   ]
  },
  {
   "cell_type": "code",
   "execution_count": 95,
   "metadata": {},
   "outputs": [],
   "source": [
    "top20_consoles = pd.merge(consoles_df, item_df).sort_values(by='revenue', ascending=False).head(20)"
   ]
  },
  {
   "cell_type": "code",
   "execution_count": 96,
   "metadata": {},
   "outputs": [
    {
     "data": {
      "image/png": "[encoded data removed]",
      "text/plain": [
       "<Figure size 1080x360 with 1 Axes>"
      ]
     },
     "metadata": {
      "needs_background": "light"
     },
     "output_type": "display_data"
    }
   ],
   "source": [
    "plt.figure(figsize=(15, 5))\n",
    "sns.barplot(x=top20_consoles['item_name'], y=top20_consoles['revenue'],\n",
    "            order=top20_consoles['item_name'])\n",
    "plt.xticks(rotation=90)\n",
    "plt.show()"
   ]
  },
  {
   "cell_type": "markdown",
   "metadata": {},
   "source": [
    "## Preparing target variable:"
   ]
  },
  {
   "cell_type": "markdown",
   "metadata": {},
   "source": [
    "Looking at the test set:"
   ]
  },
  {
   "cell_type": "code",
   "execution_count": 97,
   "metadata": {},
   "outputs": [
    {
     "data": {
      "text/html": [
       "<div>\n",
       "<style scoped>\n",
       "    .dataframe tbody tr th:only-of-type {\n",
       "        vertical-align: middle;\n",
       "    }\n",
       "\n",
       "    .dataframe tbody tr th {\n",
       "        vertical-align: top;\n",
       "    }\n",
       "\n",
       "    .dataframe thead th {\n",
       "        text-align: right;\n",
       "    }\n",
       "</style>\n",
       "<table border=\"1\" class=\"dataframe\">\n",
       "  <thead>\n",
       "    <tr style=\"text-align: right;\">\n",
       "      <th></th>\n",
       "      <th>ID</th>\n",
       "      <th>shop_id</th>\n",
       "      <th>item_id</th>\n",
       "    </tr>\n",
       "  </thead>\n",
       "  <tbody>\n",
       "    <tr>\n",
       "      <th>0</th>\n",
       "      <td>0</td>\n",
       "      <td>5</td>\n",
       "      <td>5037</td>\n",
       "    </tr>\n",
       "    <tr>\n",
       "      <th>1</th>\n",
       "      <td>1</td>\n",
       "      <td>5</td>\n",
       "      <td>5320</td>\n",
       "    </tr>\n",
       "    <tr>\n",
       "      <th>2</th>\n",
       "      <td>2</td>\n",
       "      <td>5</td>\n",
       "      <td>5233</td>\n",
       "    </tr>\n",
       "    <tr>\n",
       "      <th>3</th>\n",
       "      <td>3</td>\n",
       "      <td>5</td>\n",
       "      <td>5232</td>\n",
       "    </tr>\n",
       "    <tr>\n",
       "      <th>4</th>\n",
       "      <td>4</td>\n",
       "      <td>5</td>\n",
       "      <td>5268</td>\n",
       "    </tr>\n",
       "  </tbody>\n",
       "</table>\n",
       "</div>"
      ],
      "text/plain": [
       "   ID  shop_id  item_id\n",
       "0   0        5     5037\n",
       "1   1        5     5320\n",
       "2   2        5     5233\n",
       "3   3        5     5232\n",
       "4   4        5     5268"
      ]
     },
     "execution_count": 97,
     "metadata": {},
     "output_type": "execute_result"
    }
   ],
   "source": [
    "test_df.head()"
   ]
  },
  {
   "cell_type": "code",
   "execution_count": 98,
   "metadata": {},
   "outputs": [
    {
     "data": {
      "text/plain": [
       "(214200, 3)"
      ]
     },
     "execution_count": 98,
     "metadata": {},
     "output_type": "execute_result"
    }
   ],
   "source": [
    "test_df.shape"
   ]
  },
  {
   "cell_type": "code",
   "execution_count": 99,
   "metadata": {},
   "outputs": [
    {
     "data": {
      "text/plain": [
       "(214200, 2)"
      ]
     },
     "execution_count": 99,
     "metadata": {},
     "output_type": "execute_result"
    }
   ],
   "source": [
    "pd.DataFrame(product(*[test_df['shop_id'].unique(),\n",
    "                       test_df['item_id'].unique()])).shape"
   ]
  },
  {
   "cell_type": "markdown",
   "metadata": {},
   "source": [
    "Strangely enough, the test set contains a product (i.e. all possible combinations) of all the unique shops and items in it. Seems logical to do something similar with the train set..."
   ]
  },
  {
   "cell_type": "markdown",
   "metadata": {},
   "source": [
    "### Including all possible combinations of unique shops/items for each month in the train set:"
   ]
  },
  {
   "cell_type": "code",
   "execution_count": 100,
   "metadata": {},
   "outputs": [],
   "source": [
    "gr_date = train_df.groupby('date_block_num')"
   ]
  },
  {
   "cell_type": "code",
   "execution_count": 101,
   "metadata": {},
   "outputs": [],
   "source": [
    "t_d = gr_date.apply(lambda x: product(*[[x.name],\n",
    "                                        x['shop_id'].unique(),\n",
    "                                        x['item_id'].unique()]))"
   ]
  },
  {
   "cell_type": "code",
   "execution_count": 102,
   "metadata": {},
   "outputs": [
    {
     "name": "stderr",
     "output_type": "stream",
     "text": [
      "100%|██████████| 34/34 [00:06<00:00,  5.22it/s]\n"
     ]
    }
   ],
   "source": [
    "all_vals = pd.DataFrame()\n",
    "for t in tqdm(t_d.values):\n",
    "    all_vals = pd.concat([all_vals, pd.DataFrame(t)], axis=0)"
   ]
  },
  {
   "cell_type": "code",
   "execution_count": 103,
   "metadata": {},
   "outputs": [
    {
     "data": {
      "text/html": [
       "<div>\n",
       "<style scoped>\n",
       "    .dataframe tbody tr th:only-of-type {\n",
       "        vertical-align: middle;\n",
       "    }\n",
       "\n",
       "    .dataframe tbody tr th {\n",
       "        vertical-align: top;\n",
       "    }\n",
       "\n",
       "    .dataframe thead th {\n",
       "        text-align: right;\n",
       "    }\n",
       "</style>\n",
       "<table border=\"1\" class=\"dataframe\">\n",
       "  <thead>\n",
       "    <tr style=\"text-align: right;\">\n",
       "      <th></th>\n",
       "      <th>date_block_num</th>\n",
       "      <th>shop_id</th>\n",
       "      <th>item_id</th>\n",
       "    </tr>\n",
       "  </thead>\n",
       "  <tbody>\n",
       "    <tr>\n",
       "      <th>0</th>\n",
       "      <td>0</td>\n",
       "      <td>59</td>\n",
       "      <td>22154</td>\n",
       "    </tr>\n",
       "    <tr>\n",
       "      <th>1</th>\n",
       "      <td>0</td>\n",
       "      <td>59</td>\n",
       "      <td>2746</td>\n",
       "    </tr>\n",
       "    <tr>\n",
       "      <th>2</th>\n",
       "      <td>0</td>\n",
       "      <td>59</td>\n",
       "      <td>2847</td>\n",
       "    </tr>\n",
       "    <tr>\n",
       "      <th>3</th>\n",
       "      <td>0</td>\n",
       "      <td>59</td>\n",
       "      <td>2848</td>\n",
       "    </tr>\n",
       "    <tr>\n",
       "      <th>4</th>\n",
       "      <td>0</td>\n",
       "      <td>59</td>\n",
       "      <td>2854</td>\n",
       "    </tr>\n",
       "  </tbody>\n",
       "</table>\n",
       "</div>"
      ],
      "text/plain": [
       "   date_block_num  shop_id  item_id\n",
       "0               0       59    22154\n",
       "1               0       59     2746\n",
       "2               0       59     2847\n",
       "3               0       59     2848\n",
       "4               0       59     2854"
      ]
     },
     "execution_count": 103,
     "metadata": {},
     "output_type": "execute_result"
    }
   ],
   "source": [
    "all_vals.columns = ['date_block_num', 'shop_id', 'item_id']\n",
    "all_vals.head()"
   ]
  },
  {
   "cell_type": "markdown",
   "metadata": {},
   "source": [
    "Adding test shops/items @ last month:"
   ]
  },
  {
   "cell_type": "code",
   "execution_count": 104,
   "metadata": {},
   "outputs": [],
   "source": [
    "test_vals = pd.DataFrame()\n",
    "test_vals['shop_id'] = test_df['shop_id'].copy()\n",
    "test_vals['item_id'] = test_df['item_id'].copy()\n",
    "test_vals['date_block_num'] = 34"
   ]
  },
  {
   "cell_type": "code",
   "execution_count": 105,
   "metadata": {},
   "outputs": [],
   "source": [
    "all_vals = pd.concat([all_vals, test_vals], axis=0)"
   ]
  },
  {
   "cell_type": "code",
   "execution_count": 106,
   "metadata": {},
   "outputs": [
    {
     "data": {
      "text/html": [
       "<div>\n",
       "<style scoped>\n",
       "    .dataframe tbody tr th:only-of-type {\n",
       "        vertical-align: middle;\n",
       "    }\n",
       "\n",
       "    .dataframe tbody tr th {\n",
       "        vertical-align: top;\n",
       "    }\n",
       "\n",
       "    .dataframe thead th {\n",
       "        text-align: right;\n",
       "    }\n",
       "</style>\n",
       "<table border=\"1\" class=\"dataframe\">\n",
       "  <thead>\n",
       "    <tr style=\"text-align: right;\">\n",
       "      <th></th>\n",
       "      <th>date_block_num</th>\n",
       "      <th>shop_id</th>\n",
       "      <th>item_id</th>\n",
       "    </tr>\n",
       "  </thead>\n",
       "  <tbody>\n",
       "    <tr>\n",
       "      <th>0</th>\n",
       "      <td>0</td>\n",
       "      <td>59</td>\n",
       "      <td>22154</td>\n",
       "    </tr>\n",
       "    <tr>\n",
       "      <th>1</th>\n",
       "      <td>0</td>\n",
       "      <td>59</td>\n",
       "      <td>2746</td>\n",
       "    </tr>\n",
       "    <tr>\n",
       "      <th>2</th>\n",
       "      <td>0</td>\n",
       "      <td>59</td>\n",
       "      <td>2847</td>\n",
       "    </tr>\n",
       "  </tbody>\n",
       "</table>\n",
       "</div>"
      ],
      "text/plain": [
       "   date_block_num  shop_id  item_id\n",
       "0               0       59    22154\n",
       "1               0       59     2746\n",
       "2               0       59     2847"
      ]
     },
     "execution_count": 106,
     "metadata": {},
     "output_type": "execute_result"
    }
   ],
   "source": [
    "all_vals.head(3)"
   ]
  },
  {
   "cell_type": "markdown",
   "metadata": {},
   "source": [
    "### Target variable:"
   ]
  },
  {
   "cell_type": "code",
   "execution_count": 107,
   "metadata": {},
   "outputs": [],
   "source": [
    "month_sum = train_df.groupby(['shop_id',\n",
    "                             'item_id',\n",
    "                             'date_block_num']).sum()"
   ]
  },
  {
   "cell_type": "code",
   "execution_count": 108,
   "metadata": {},
   "outputs": [
    {
     "data": {
      "text/plain": [
       "(1549415, 6)"
      ]
     },
     "execution_count": 108,
     "metadata": {},
     "output_type": "execute_result"
    }
   ],
   "source": [
    "month_sum.shape"
   ]
  },
  {
   "cell_type": "code",
   "execution_count": 109,
   "metadata": {},
   "outputs": [],
   "source": [
    "month_sum = month_sum.rename(columns={'item_cnt_day':'item_cnt_month'})"
   ]
  },
  {
   "cell_type": "code",
   "execution_count": 110,
   "metadata": {},
   "outputs": [
    {
     "data": {
      "text/html": [
       "<div>\n",
       "<style scoped>\n",
       "    .dataframe tbody tr th:only-of-type {\n",
       "        vertical-align: middle;\n",
       "    }\n",
       "\n",
       "    .dataframe tbody tr th {\n",
       "        vertical-align: top;\n",
       "    }\n",
       "\n",
       "    .dataframe thead th {\n",
       "        text-align: right;\n",
       "    }\n",
       "</style>\n",
       "<table border=\"1\" class=\"dataframe\">\n",
       "  <thead>\n",
       "    <tr style=\"text-align: right;\">\n",
       "      <th></th>\n",
       "      <th></th>\n",
       "      <th></th>\n",
       "      <th>item_price</th>\n",
       "      <th>item_cnt_month</th>\n",
       "      <th>rate</th>\n",
       "      <th>price_usd</th>\n",
       "      <th>revenue</th>\n",
       "      <th>revenue_usd</th>\n",
       "    </tr>\n",
       "    <tr>\n",
       "      <th>shop_id</th>\n",
       "      <th>item_id</th>\n",
       "      <th>date_block_num</th>\n",
       "      <th></th>\n",
       "      <th></th>\n",
       "      <th></th>\n",
       "      <th></th>\n",
       "      <th></th>\n",
       "      <th></th>\n",
       "    </tr>\n",
       "  </thead>\n",
       "  <tbody>\n",
       "    <tr>\n",
       "      <th rowspan=\"5\" valign=\"top\">0</th>\n",
       "      <th>30</th>\n",
       "      <th>1</th>\n",
       "      <td>2385.0</td>\n",
       "      <td>31.0</td>\n",
       "      <td>272.60</td>\n",
       "      <td>78.744539</td>\n",
       "      <td>8215.0</td>\n",
       "      <td>271.611203</td>\n",
       "    </tr>\n",
       "    <tr>\n",
       "      <th>31</th>\n",
       "      <th>1</th>\n",
       "      <td>3038.0</td>\n",
       "      <td>11.0</td>\n",
       "      <td>212.17</td>\n",
       "      <td>100.234346</td>\n",
       "      <td>4774.0</td>\n",
       "      <td>157.860917</td>\n",
       "    </tr>\n",
       "    <tr>\n",
       "      <th rowspan=\"2\" valign=\"top\">32</th>\n",
       "      <th>0</th>\n",
       "      <td>884.0</td>\n",
       "      <td>6.0</td>\n",
       "      <td>120.53</td>\n",
       "      <td>29.337544</td>\n",
       "      <td>1326.0</td>\n",
       "      <td>43.949115</td>\n",
       "    </tr>\n",
       "    <tr>\n",
       "      <th>1</th>\n",
       "      <td>1547.0</td>\n",
       "      <td>10.0</td>\n",
       "      <td>211.06</td>\n",
       "      <td>51.309233</td>\n",
       "      <td>2210.0</td>\n",
       "      <td>73.280381</td>\n",
       "    </tr>\n",
       "    <tr>\n",
       "      <th>33</th>\n",
       "      <th>0</th>\n",
       "      <td>1041.0</td>\n",
       "      <td>3.0</td>\n",
       "      <td>90.60</td>\n",
       "      <td>34.470247</td>\n",
       "      <td>1041.0</td>\n",
       "      <td>34.470247</td>\n",
       "    </tr>\n",
       "  </tbody>\n",
       "</table>\n",
       "</div>"
      ],
      "text/plain": [
       "                                item_price  item_cnt_month    rate  \\\n",
       "shop_id item_id date_block_num                                       \n",
       "0       30      1                   2385.0            31.0  272.60   \n",
       "        31      1                   3038.0            11.0  212.17   \n",
       "        32      0                    884.0             6.0  120.53   \n",
       "                1                   1547.0            10.0  211.06   \n",
       "        33      0                   1041.0             3.0   90.60   \n",
       "\n",
       "                                 price_usd  revenue  revenue_usd  \n",
       "shop_id item_id date_block_num                                    \n",
       "0       30      1                78.744539   8215.0   271.611203  \n",
       "        31      1               100.234346   4774.0   157.860917  \n",
       "        32      0                29.337544   1326.0    43.949115  \n",
       "                1                51.309233   2210.0    73.280381  \n",
       "        33      0                34.470247   1041.0    34.470247  "
      ]
     },
     "execution_count": 110,
     "metadata": {},
     "output_type": "execute_result"
    }
   ],
   "source": [
    "month_sum.head()"
   ]
  },
  {
   "cell_type": "markdown",
   "metadata": {},
   "source": [
    "Clipping target variable according to the competition rules:"
   ]
  },
  {
   "cell_type": "code",
   "execution_count": 111,
   "metadata": {},
   "outputs": [],
   "source": [
    "month_sum['item_cnt_month'] = month_sum['item_cnt_month'].clip(0, 20)"
   ]
  },
  {
   "cell_type": "code",
   "execution_count": 112,
   "metadata": {},
   "outputs": [],
   "source": [
    "month_sum = month_sum.reset_index()[['shop_id', 'item_id',\n",
    "                                     'item_cnt_month', 'date_block_num',\n",
    "                                    'revenue', 'revenue_usd']]"
   ]
  },
  {
   "cell_type": "markdown",
   "metadata": {},
   "source": [
    "Adding all the zero values:"
   ]
  },
  {
   "cell_type": "code",
   "execution_count": 113,
   "metadata": {},
   "outputs": [],
   "source": [
    "month_sum = pd.merge(all_vals, month_sum,\n",
    "                     on=['shop_id','item_id', 'date_block_num'],\n",
    "                     how='left').fillna(0)"
   ]
  },
  {
   "cell_type": "code",
   "execution_count": 114,
   "metadata": {},
   "outputs": [
    {
     "data": {
      "text/html": [
       "<div>\n",
       "<style scoped>\n",
       "    .dataframe tbody tr th:only-of-type {\n",
       "        vertical-align: middle;\n",
       "    }\n",
       "\n",
       "    .dataframe tbody tr th {\n",
       "        vertical-align: top;\n",
       "    }\n",
       "\n",
       "    .dataframe thead th {\n",
       "        text-align: right;\n",
       "    }\n",
       "</style>\n",
       "<table border=\"1\" class=\"dataframe\">\n",
       "  <thead>\n",
       "    <tr style=\"text-align: right;\">\n",
       "      <th></th>\n",
       "      <th>date_block_num</th>\n",
       "      <th>shop_id</th>\n",
       "      <th>item_id</th>\n",
       "      <th>item_cnt_month</th>\n",
       "      <th>revenue</th>\n",
       "      <th>revenue_usd</th>\n",
       "    </tr>\n",
       "  </thead>\n",
       "  <tbody>\n",
       "    <tr>\n",
       "      <th>0</th>\n",
       "      <td>0</td>\n",
       "      <td>59</td>\n",
       "      <td>22154</td>\n",
       "      <td>1.0</td>\n",
       "      <td>999.0</td>\n",
       "      <td>33.101392</td>\n",
       "    </tr>\n",
       "    <tr>\n",
       "      <th>1</th>\n",
       "      <td>0</td>\n",
       "      <td>59</td>\n",
       "      <td>2746</td>\n",
       "      <td>9.0</td>\n",
       "      <td>2571.0</td>\n",
       "      <td>84.993986</td>\n",
       "    </tr>\n",
       "    <tr>\n",
       "      <th>2</th>\n",
       "      <td>0</td>\n",
       "      <td>59</td>\n",
       "      <td>2847</td>\n",
       "      <td>2.0</td>\n",
       "      <td>3398.0</td>\n",
       "      <td>112.853483</td>\n",
       "    </tr>\n",
       "    <tr>\n",
       "      <th>3</th>\n",
       "      <td>0</td>\n",
       "      <td>59</td>\n",
       "      <td>2848</td>\n",
       "      <td>2.0</td>\n",
       "      <td>198.0</td>\n",
       "      <td>6.575924</td>\n",
       "    </tr>\n",
       "    <tr>\n",
       "      <th>4</th>\n",
       "      <td>0</td>\n",
       "      <td>59</td>\n",
       "      <td>2854</td>\n",
       "      <td>3.0</td>\n",
       "      <td>1347.0</td>\n",
       "      <td>44.543739</td>\n",
       "    </tr>\n",
       "  </tbody>\n",
       "</table>\n",
       "</div>"
      ],
      "text/plain": [
       "   date_block_num  shop_id  item_id  item_cnt_month  revenue  revenue_usd\n",
       "0               0       59    22154             1.0    999.0    33.101392\n",
       "1               0       59     2746             9.0   2571.0    84.993986\n",
       "2               0       59     2847             2.0   3398.0   112.853483\n",
       "3               0       59     2848             2.0    198.0     6.575924\n",
       "4               0       59     2854             3.0   1347.0    44.543739"
      ]
     },
     "execution_count": 114,
     "metadata": {},
     "output_type": "execute_result"
    }
   ],
   "source": [
    "month_sum.head()"
   ]
  },
  {
   "cell_type": "code",
   "execution_count": 115,
   "metadata": {},
   "outputs": [
    {
     "data": {
      "text/plain": [
       "(10985992, 6)"
      ]
     },
     "execution_count": 115,
     "metadata": {},
     "output_type": "execute_result"
    }
   ],
   "source": [
    "month_sum.shape"
   ]
  },
  {
   "cell_type": "markdown",
   "metadata": {},
   "source": [
    "Merging with the shop and item datasets:"
   ]
  },
  {
   "cell_type": "code",
   "execution_count": 116,
   "metadata": {},
   "outputs": [
    {
     "name": "stdout",
     "output_type": "stream",
     "text": [
      "Mem. usage decreased to 230.50 Mb (60.7% reduction)\n",
      "Mem. usage decreased to  0.00 Mb (20.5% reduction)\n",
      "Mem. usage decreased to  0.74 Mb (27.1% reduction)\n"
     ]
    }
   ],
   "source": [
    "month_sum = reduce_mem_usage(month_sum)\n",
    "shop_df = reduce_mem_usage(shop_df)\n",
    "item_df = reduce_mem_usage(item_df)"
   ]
  },
  {
   "cell_type": "code",
   "execution_count": 117,
   "metadata": {},
   "outputs": [
    {
     "data": {
      "text/html": [
       "<div>\n",
       "<style scoped>\n",
       "    .dataframe tbody tr th:only-of-type {\n",
       "        vertical-align: middle;\n",
       "    }\n",
       "\n",
       "    .dataframe tbody tr th {\n",
       "        vertical-align: top;\n",
       "    }\n",
       "\n",
       "    .dataframe thead th {\n",
       "        text-align: right;\n",
       "    }\n",
       "</style>\n",
       "<table border=\"1\" class=\"dataframe\">\n",
       "  <thead>\n",
       "    <tr style=\"text-align: right;\">\n",
       "      <th></th>\n",
       "      <th>date_block_num</th>\n",
       "      <th>shop_id</th>\n",
       "      <th>item_id</th>\n",
       "      <th>item_cnt_month</th>\n",
       "      <th>revenue</th>\n",
       "      <th>revenue_usd</th>\n",
       "    </tr>\n",
       "  </thead>\n",
       "  <tbody>\n",
       "    <tr>\n",
       "      <th>0</th>\n",
       "      <td>0</td>\n",
       "      <td>59</td>\n",
       "      <td>22154</td>\n",
       "      <td>1.0</td>\n",
       "      <td>999.0</td>\n",
       "      <td>33.101391</td>\n",
       "    </tr>\n",
       "    <tr>\n",
       "      <th>1</th>\n",
       "      <td>0</td>\n",
       "      <td>59</td>\n",
       "      <td>2746</td>\n",
       "      <td>9.0</td>\n",
       "      <td>2571.0</td>\n",
       "      <td>84.993988</td>\n",
       "    </tr>\n",
       "    <tr>\n",
       "      <th>2</th>\n",
       "      <td>0</td>\n",
       "      <td>59</td>\n",
       "      <td>2847</td>\n",
       "      <td>2.0</td>\n",
       "      <td>3398.0</td>\n",
       "      <td>112.853485</td>\n",
       "    </tr>\n",
       "  </tbody>\n",
       "</table>\n",
       "</div>"
      ],
      "text/plain": [
       "   date_block_num  shop_id  item_id  item_cnt_month  revenue  revenue_usd\n",
       "0               0       59    22154             1.0    999.0    33.101391\n",
       "1               0       59     2746             9.0   2571.0    84.993988\n",
       "2               0       59     2847             2.0   3398.0   112.853485"
      ]
     },
     "execution_count": 117,
     "metadata": {},
     "output_type": "execute_result"
    }
   ],
   "source": [
    "month_sum.head(3)"
   ]
  },
  {
   "cell_type": "code",
   "execution_count": 118,
   "metadata": {},
   "outputs": [],
   "source": [
    "alles = month_sum.merge(shop_df[['shop_id', 'city', 'shop_type']],\n",
    "                            how='left', on=['shop_id'])"
   ]
  },
  {
   "cell_type": "code",
   "execution_count": 119,
   "metadata": {},
   "outputs": [],
   "source": [
    "alles = alles.merge(item_df, how='left', on=['item_id'])"
   ]
  },
  {
   "cell_type": "code",
   "execution_count": 120,
   "metadata": {},
   "outputs": [
    {
     "data": {
      "text/html": [
       "<div>\n",
       "<style scoped>\n",
       "    .dataframe tbody tr th:only-of-type {\n",
       "        vertical-align: middle;\n",
       "    }\n",
       "\n",
       "    .dataframe tbody tr th {\n",
       "        vertical-align: top;\n",
       "    }\n",
       "\n",
       "    .dataframe thead th {\n",
       "        text-align: right;\n",
       "    }\n",
       "</style>\n",
       "<table border=\"1\" class=\"dataframe\">\n",
       "  <thead>\n",
       "    <tr style=\"text-align: right;\">\n",
       "      <th></th>\n",
       "      <th>date_block_num</th>\n",
       "      <th>shop_id</th>\n",
       "      <th>item_id</th>\n",
       "      <th>item_cnt_month</th>\n",
       "      <th>revenue</th>\n",
       "      <th>revenue_usd</th>\n",
       "      <th>city</th>\n",
       "      <th>shop_type</th>\n",
       "      <th>item_name</th>\n",
       "      <th>item_category_id</th>\n",
       "      <th>item_category</th>\n",
       "      <th>item_subcategory</th>\n",
       "    </tr>\n",
       "  </thead>\n",
       "  <tbody>\n",
       "    <tr>\n",
       "      <th>0</th>\n",
       "      <td>0</td>\n",
       "      <td>59</td>\n",
       "      <td>22154</td>\n",
       "      <td>1.0</td>\n",
       "      <td>999.0</td>\n",
       "      <td>33.101391</td>\n",
       "      <td>ярославль</td>\n",
       "      <td>тц</td>\n",
       "      <td>явление 2012</td>\n",
       "      <td>37</td>\n",
       "      <td>Кино</td>\n",
       "      <td>Blu-Ray</td>\n",
       "    </tr>\n",
       "    <tr>\n",
       "      <th>1</th>\n",
       "      <td>0</td>\n",
       "      <td>59</td>\n",
       "      <td>2746</td>\n",
       "      <td>9.0</td>\n",
       "      <td>2571.0</td>\n",
       "      <td>84.993988</td>\n",
       "      <td>ярославль</td>\n",
       "      <td>тц</td>\n",
       "      <td>dead space 2</td>\n",
       "      <td>30</td>\n",
       "      <td>Игры PC</td>\n",
       "      <td>Стандартные издания</td>\n",
       "    </tr>\n",
       "    <tr>\n",
       "      <th>2</th>\n",
       "      <td>0</td>\n",
       "      <td>59</td>\n",
       "      <td>2847</td>\n",
       "      <td>2.0</td>\n",
       "      <td>3398.0</td>\n",
       "      <td>112.853485</td>\n",
       "      <td>ярославль</td>\n",
       "      <td>тц</td>\n",
       "      <td>disney история игрушек парк развлечений</td>\n",
       "      <td>23</td>\n",
       "      <td>Игры</td>\n",
       "      <td>XBOX 360</td>\n",
       "    </tr>\n",
       "    <tr>\n",
       "      <th>3</th>\n",
       "      <td>0</td>\n",
       "      <td>59</td>\n",
       "      <td>2848</td>\n",
       "      <td>2.0</td>\n",
       "      <td>198.0</td>\n",
       "      <td>6.575924</td>\n",
       "      <td>ярославль</td>\n",
       "      <td>тц</td>\n",
       "      <td>disney мир героев</td>\n",
       "      <td>30</td>\n",
       "      <td>Игры PC</td>\n",
       "      <td>Стандартные издания</td>\n",
       "    </tr>\n",
       "    <tr>\n",
       "      <th>4</th>\n",
       "      <td>0</td>\n",
       "      <td>59</td>\n",
       "      <td>2854</td>\n",
       "      <td>3.0</td>\n",
       "      <td>1347.0</td>\n",
       "      <td>44.543739</td>\n",
       "      <td>ярославль</td>\n",
       "      <td>тц</td>\n",
       "      <td>disney храбрая сердцем</td>\n",
       "      <td>30</td>\n",
       "      <td>Игры PC</td>\n",
       "      <td>Стандартные издания</td>\n",
       "    </tr>\n",
       "  </tbody>\n",
       "</table>\n",
       "</div>"
      ],
      "text/plain": [
       "   date_block_num  shop_id  item_id  item_cnt_month  revenue  revenue_usd  \\\n",
       "0               0       59    22154             1.0    999.0    33.101391   \n",
       "1               0       59     2746             9.0   2571.0    84.993988   \n",
       "2               0       59     2847             2.0   3398.0   112.853485   \n",
       "3               0       59     2848             2.0    198.0     6.575924   \n",
       "4               0       59     2854             3.0   1347.0    44.543739   \n",
       "\n",
       "        city shop_type                                item_name  \\\n",
       "0  ярославль        тц                             явление 2012   \n",
       "1  ярославль        тц                             dead space 2   \n",
       "2  ярославль        тц  disney история игрушек парк развлечений   \n",
       "3  ярославль        тц                        disney мир героев   \n",
       "4  ярославль        тц                   disney храбрая сердцем   \n",
       "\n",
       "   item_category_id item_category     item_subcategory  \n",
       "0                37          Кино              Blu-Ray  \n",
       "1                30       Игры PC  Стандартные издания  \n",
       "2                23          Игры             XBOX 360  \n",
       "3                30       Игры PC  Стандартные издания  \n",
       "4                30       Игры PC  Стандартные издания  "
      ]
     },
     "execution_count": 120,
     "metadata": {},
     "output_type": "execute_result"
    }
   ],
   "source": [
    "alles.head()"
   ]
  },
  {
   "cell_type": "markdown",
   "metadata": {},
   "source": [
    "Average USD/RUB exchange rate:"
   ]
  },
  {
   "cell_type": "code",
   "execution_count": 121,
   "metadata": {},
   "outputs": [],
   "source": [
    "exch_rate['month'] = exch_rate['date'].dt.month\n",
    "exch_rate['year'] = exch_rate['date'].dt.year"
   ]
  },
  {
   "cell_type": "code",
   "execution_count": 122,
   "metadata": {},
   "outputs": [],
   "source": [
    "temp_mean = exch_rate.groupby(['year', 'month']).mean().reset_index()"
   ]
  },
  {
   "cell_type": "code",
   "execution_count": 123,
   "metadata": {},
   "outputs": [
    {
     "data": {
      "text/plain": [
       "(43, 3)"
      ]
     },
     "execution_count": 123,
     "metadata": {},
     "output_type": "execute_result"
    }
   ],
   "source": [
    "temp_mean.shape"
   ]
  },
  {
   "cell_type": "code",
   "execution_count": 124,
   "metadata": {},
   "outputs": [],
   "source": [
    "temp_mean['date_block_num'] = range(43)\n"
   ]
  },
  {
   "cell_type": "code",
   "execution_count": 125,
   "metadata": {},
   "outputs": [
    {
     "name": "stdout",
     "output_type": "stream",
     "text": [
      "Mem. usage decreased to  0.00 Mb (74.3% reduction)\n"
     ]
    }
   ],
   "source": [
    "temp_mean = reduce_mem_usage(temp_mean)"
   ]
  },
  {
   "cell_type": "code",
   "execution_count": 126,
   "metadata": {},
   "outputs": [
    {
     "data": {
      "text/html": [
       "<div>\n",
       "<style scoped>\n",
       "    .dataframe tbody tr th:only-of-type {\n",
       "        vertical-align: middle;\n",
       "    }\n",
       "\n",
       "    .dataframe tbody tr th {\n",
       "        vertical-align: top;\n",
       "    }\n",
       "\n",
       "    .dataframe thead th {\n",
       "        text-align: right;\n",
       "    }\n",
       "</style>\n",
       "<table border=\"1\" class=\"dataframe\">\n",
       "  <thead>\n",
       "    <tr style=\"text-align: right;\">\n",
       "      <th></th>\n",
       "      <th>year</th>\n",
       "      <th>month</th>\n",
       "      <th>rate</th>\n",
       "      <th>date_block_num</th>\n",
       "    </tr>\n",
       "  </thead>\n",
       "  <tbody>\n",
       "    <tr>\n",
       "      <th>0</th>\n",
       "      <td>2013</td>\n",
       "      <td>1</td>\n",
       "      <td>30.234375</td>\n",
       "      <td>0</td>\n",
       "    </tr>\n",
       "    <tr>\n",
       "      <th>1</th>\n",
       "      <td>2013</td>\n",
       "      <td>2</td>\n",
       "      <td>30.187500</td>\n",
       "      <td>1</td>\n",
       "    </tr>\n",
       "    <tr>\n",
       "      <th>2</th>\n",
       "      <td>2013</td>\n",
       "      <td>3</td>\n",
       "      <td>30.796875</td>\n",
       "      <td>2</td>\n",
       "    </tr>\n",
       "    <tr>\n",
       "      <th>3</th>\n",
       "      <td>2013</td>\n",
       "      <td>4</td>\n",
       "      <td>31.343750</td>\n",
       "      <td>3</td>\n",
       "    </tr>\n",
       "    <tr>\n",
       "      <th>4</th>\n",
       "      <td>2013</td>\n",
       "      <td>5</td>\n",
       "      <td>31.343750</td>\n",
       "      <td>4</td>\n",
       "    </tr>\n",
       "  </tbody>\n",
       "</table>\n",
       "</div>"
      ],
      "text/plain": [
       "   year  month       rate  date_block_num\n",
       "0  2013      1  30.234375               0\n",
       "1  2013      2  30.187500               1\n",
       "2  2013      3  30.796875               2\n",
       "3  2013      4  31.343750               3\n",
       "4  2013      5  31.343750               4"
      ]
     },
     "execution_count": 126,
     "metadata": {},
     "output_type": "execute_result"
    }
   ],
   "source": [
    "temp_mean.head()"
   ]
  },
  {
   "cell_type": "code",
   "execution_count": 127,
   "metadata": {},
   "outputs": [],
   "source": [
    "alles = alles.merge(temp_mean, how='left', on=['date_block_num'])"
   ]
  },
  {
   "cell_type": "code",
   "execution_count": 128,
   "metadata": {},
   "outputs": [
    {
     "name": "stdout",
     "output_type": "stream",
     "text": [
      "<class 'pandas.core.frame.DataFrame'>\n",
      "Int64Index: 10985992 entries, 0 to 10985991\n",
      "Data columns (total 15 columns):\n",
      " #   Column            Dtype  \n",
      "---  ------            -----  \n",
      " 0   date_block_num    int8   \n",
      " 1   shop_id           int8   \n",
      " 2   item_id           int16  \n",
      " 3   item_cnt_month    float16\n",
      " 4   revenue           float32\n",
      " 5   revenue_usd       float32\n",
      " 6   city              object \n",
      " 7   shop_type         object \n",
      " 8   item_name         object \n",
      " 9   item_category_id  int8   \n",
      " 10  item_category     object \n",
      " 11  item_subcategory  object \n",
      " 12  year              int16  \n",
      " 13  month             int8   \n",
      " 14  rate              float16\n",
      "dtypes: float16(2), float32(2), int16(2), int8(4), object(5)\n",
      "memory usage: 712.4+ MB\n"
     ]
    }
   ],
   "source": [
    "alles.info()"
   ]
  },
  {
   "cell_type": "markdown",
   "metadata": {},
   "source": [
    "## Feature engineering"
   ]
  },
  {
   "cell_type": "markdown",
   "metadata": {},
   "source": [
    "### Lagging prices:"
   ]
  },
  {
   "cell_type": "markdown",
   "metadata": {},
   "source": [
    "Borrowed from https://www.kaggle.com/dlarionov/feature-engineering-xgboost:"
   ]
  },
  {
   "cell_type": "code",
   "execution_count": 129,
   "metadata": {},
   "outputs": [],
   "source": [
    "def lag_feature(df, lags, col):\n",
    "    tmp = df[['date_block_num','shop_id','item_id',col]]\n",
    "    for i in lags:\n",
    "        shifted = tmp.copy()\n",
    "        shifted.columns = ['date_block_num',\n",
    "                           'shop_id','item_id', col+'_lag_'+str(i)]\n",
    "        shifted['date_block_num'] += i\n",
    "        df = pd.merge(df, shifted, on=['date_block_num',\n",
    "                                       'shop_id','item_id'], how='left')\n",
    "    return df"
   ]
  },
  {
   "cell_type": "code",
   "execution_count": 130,
   "metadata": {},
   "outputs": [],
   "source": [
    "gr = train_df.groupby(['item_id', 'shop_id', 'date_block_num'])"
   ]
  },
  {
   "cell_type": "code",
   "execution_count": 131,
   "metadata": {},
   "outputs": [],
   "source": [
    "m_price = gr.mean()"
   ]
  },
  {
   "cell_type": "code",
   "execution_count": 132,
   "metadata": {},
   "outputs": [
    {
     "data": {
      "text/html": [
       "<div>\n",
       "<style scoped>\n",
       "    .dataframe tbody tr th:only-of-type {\n",
       "        vertical-align: middle;\n",
       "    }\n",
       "\n",
       "    .dataframe tbody tr th {\n",
       "        vertical-align: top;\n",
       "    }\n",
       "\n",
       "    .dataframe thead th {\n",
       "        text-align: right;\n",
       "    }\n",
       "</style>\n",
       "<table border=\"1\" class=\"dataframe\">\n",
       "  <thead>\n",
       "    <tr style=\"text-align: right;\">\n",
       "      <th></th>\n",
       "      <th></th>\n",
       "      <th></th>\n",
       "      <th>item_price</th>\n",
       "      <th>item_cnt_day</th>\n",
       "      <th>rate</th>\n",
       "      <th>price_usd</th>\n",
       "      <th>revenue</th>\n",
       "      <th>revenue_usd</th>\n",
       "    </tr>\n",
       "    <tr>\n",
       "      <th>item_id</th>\n",
       "      <th>shop_id</th>\n",
       "      <th>date_block_num</th>\n",
       "      <th></th>\n",
       "      <th></th>\n",
       "      <th></th>\n",
       "      <th></th>\n",
       "      <th></th>\n",
       "      <th></th>\n",
       "    </tr>\n",
       "  </thead>\n",
       "  <tbody>\n",
       "    <tr>\n",
       "      <th>0</th>\n",
       "      <th>54</th>\n",
       "      <th>20</th>\n",
       "      <td>58.0</td>\n",
       "      <td>1.0</td>\n",
       "      <td>37.3183</td>\n",
       "      <td>1.554197</td>\n",
       "      <td>58.0</td>\n",
       "      <td>1.554197</td>\n",
       "    </tr>\n",
       "    <tr>\n",
       "      <th rowspan=\"2\" valign=\"top\">1</th>\n",
       "      <th rowspan=\"2\" valign=\"top\">55</th>\n",
       "      <th>15</th>\n",
       "      <td>4490.0</td>\n",
       "      <td>1.0</td>\n",
       "      <td>35.3850</td>\n",
       "      <td>126.890495</td>\n",
       "      <td>4490.0</td>\n",
       "      <td>126.890495</td>\n",
       "    </tr>\n",
       "    <tr>\n",
       "      <th>18</th>\n",
       "      <td>4490.0</td>\n",
       "      <td>1.0</td>\n",
       "      <td>34.3913</td>\n",
       "      <td>130.556274</td>\n",
       "      <td>4490.0</td>\n",
       "      <td>130.556274</td>\n",
       "    </tr>\n",
       "  </tbody>\n",
       "</table>\n",
       "</div>"
      ],
      "text/plain": [
       "                                item_price  item_cnt_day     rate   price_usd  \\\n",
       "item_id shop_id date_block_num                                                  \n",
       "0       54      20                    58.0           1.0  37.3183    1.554197   \n",
       "1       55      15                  4490.0           1.0  35.3850  126.890495   \n",
       "                18                  4490.0           1.0  34.3913  130.556274   \n",
       "\n",
       "                                revenue  revenue_usd  \n",
       "item_id shop_id date_block_num                        \n",
       "0       54      20                 58.0     1.554197  \n",
       "1       55      15               4490.0   126.890495  \n",
       "                18               4490.0   130.556274  "
      ]
     },
     "execution_count": 132,
     "metadata": {},
     "output_type": "execute_result"
    }
   ],
   "source": [
    "m_price.head(3)"
   ]
  },
  {
   "cell_type": "code",
   "execution_count": 133,
   "metadata": {},
   "outputs": [],
   "source": [
    "m_price = m_price.rename(columns={'revenue': 'av_revenue',\n",
    "                                  'revenue_usd': 'av_revenue_usd', \n",
    "                                  'item_cnt_day': 'av_item_cnt_day',\n",
    "                                  'item_price': 'av_item_price',\n",
    "                                  'price_usd': 'av_price_usd'})"
   ]
  },
  {
   "cell_type": "code",
   "execution_count": 134,
   "metadata": {},
   "outputs": [],
   "source": [
    "m_price = m_price.drop(['rate'], axis=1)"
   ]
  },
  {
   "cell_type": "markdown",
   "metadata": {},
   "source": [
    "Number of active days (where a purchase has been done) for a particular item-shop pair:"
   ]
  },
  {
   "cell_type": "code",
   "execution_count": 135,
   "metadata": {},
   "outputs": [
    {
     "name": "stdout",
     "output_type": "stream",
     "text": [
      "Mem. usage decreased to 25.12 Mb (76.4% reduction)\n"
     ]
    }
   ],
   "source": [
    "m_price['item_purchase_days'] = gr.count()['date']\n",
    "\n",
    "m_price = m_price.reset_index()\n",
    "m_price = reduce_mem_usage(m_price)"
   ]
  },
  {
   "cell_type": "code",
   "execution_count": 136,
   "metadata": {},
   "outputs": [
    {
     "data": {
      "text/html": [
       "<div>\n",
       "<style scoped>\n",
       "    .dataframe tbody tr th:only-of-type {\n",
       "        vertical-align: middle;\n",
       "    }\n",
       "\n",
       "    .dataframe tbody tr th {\n",
       "        vertical-align: top;\n",
       "    }\n",
       "\n",
       "    .dataframe thead th {\n",
       "        text-align: right;\n",
       "    }\n",
       "</style>\n",
       "<table border=\"1\" class=\"dataframe\">\n",
       "  <thead>\n",
       "    <tr style=\"text-align: right;\">\n",
       "      <th></th>\n",
       "      <th>item_id</th>\n",
       "      <th>shop_id</th>\n",
       "      <th>date_block_num</th>\n",
       "      <th>av_item_price</th>\n",
       "      <th>av_item_cnt_day</th>\n",
       "      <th>av_price_usd</th>\n",
       "      <th>av_revenue</th>\n",
       "      <th>av_revenue_usd</th>\n",
       "      <th>item_purchase_days</th>\n",
       "    </tr>\n",
       "  </thead>\n",
       "  <tbody>\n",
       "    <tr>\n",
       "      <th>0</th>\n",
       "      <td>0</td>\n",
       "      <td>54</td>\n",
       "      <td>20</td>\n",
       "      <td>58.0</td>\n",
       "      <td>1.0</td>\n",
       "      <td>1.553711</td>\n",
       "      <td>58.0</td>\n",
       "      <td>1.553711</td>\n",
       "      <td>1</td>\n",
       "    </tr>\n",
       "    <tr>\n",
       "      <th>1</th>\n",
       "      <td>1</td>\n",
       "      <td>55</td>\n",
       "      <td>15</td>\n",
       "      <td>4488.0</td>\n",
       "      <td>1.0</td>\n",
       "      <td>126.875000</td>\n",
       "      <td>4490.0</td>\n",
       "      <td>126.875000</td>\n",
       "      <td>2</td>\n",
       "    </tr>\n",
       "    <tr>\n",
       "      <th>2</th>\n",
       "      <td>1</td>\n",
       "      <td>55</td>\n",
       "      <td>18</td>\n",
       "      <td>4488.0</td>\n",
       "      <td>1.0</td>\n",
       "      <td>130.500000</td>\n",
       "      <td>4490.0</td>\n",
       "      <td>130.500000</td>\n",
       "      <td>1</td>\n",
       "    </tr>\n",
       "    <tr>\n",
       "      <th>3</th>\n",
       "      <td>1</td>\n",
       "      <td>55</td>\n",
       "      <td>19</td>\n",
       "      <td>4488.0</td>\n",
       "      <td>1.0</td>\n",
       "      <td>125.375000</td>\n",
       "      <td>4490.0</td>\n",
       "      <td>125.375000</td>\n",
       "      <td>1</td>\n",
       "    </tr>\n",
       "    <tr>\n",
       "      <th>4</th>\n",
       "      <td>1</td>\n",
       "      <td>55</td>\n",
       "      <td>20</td>\n",
       "      <td>4488.0</td>\n",
       "      <td>1.0</td>\n",
       "      <td>119.437500</td>\n",
       "      <td>4490.0</td>\n",
       "      <td>119.437500</td>\n",
       "      <td>1</td>\n",
       "    </tr>\n",
       "  </tbody>\n",
       "</table>\n",
       "</div>"
      ],
      "text/plain": [
       "   item_id  shop_id  date_block_num  av_item_price  av_item_cnt_day  \\\n",
       "0        0       54              20           58.0              1.0   \n",
       "1        1       55              15         4488.0              1.0   \n",
       "2        1       55              18         4488.0              1.0   \n",
       "3        1       55              19         4488.0              1.0   \n",
       "4        1       55              20         4488.0              1.0   \n",
       "\n",
       "   av_price_usd  av_revenue  av_revenue_usd  item_purchase_days  \n",
       "0      1.553711        58.0        1.553711                   1  \n",
       "1    126.875000      4490.0      126.875000                   2  \n",
       "2    130.500000      4490.0      130.500000                   1  \n",
       "3    125.375000      4490.0      125.375000                   1  \n",
       "4    119.437500      4490.0      119.437500                   1  "
      ]
     },
     "execution_count": 136,
     "metadata": {},
     "output_type": "execute_result"
    }
   ],
   "source": [
    "m_price.head()"
   ]
  },
  {
   "cell_type": "markdown",
   "metadata": {},
   "source": [
    "Average number of items bought (on active days):"
   ]
  },
  {
   "cell_type": "code",
   "execution_count": 137,
   "metadata": {},
   "outputs": [],
   "source": [
    "m_price['av_item_cnt_day'] /= m_price['item_purchase_days']"
   ]
  },
  {
   "cell_type": "markdown",
   "metadata": {},
   "source": [
    "Mean item price over all shops and months and current deviation from its value:"
   ]
  },
  {
   "cell_type": "code",
   "execution_count": 138,
   "metadata": {},
   "outputs": [],
   "source": [
    "m_group = m_price.groupby(['item_id'],\n",
    "                          as_index=False)['av_item_price'].mean()"
   ]
  },
  {
   "cell_type": "code",
   "execution_count": 139,
   "metadata": {},
   "outputs": [],
   "source": [
    "m_group = m_group.rename(columns={'av_item_price': 'mean_price'})"
   ]
  },
  {
   "cell_type": "code",
   "execution_count": 140,
   "metadata": {},
   "outputs": [],
   "source": [
    "m_price = pd.merge(all_vals, m_price,\n",
    "                     on=['shop_id','item_id', 'date_block_num'],\n",
    "                     how='left').fillna(0)"
   ]
  },
  {
   "cell_type": "code",
   "execution_count": 141,
   "metadata": {},
   "outputs": [],
   "source": [
    "m_price = pd.merge(m_price, m_group, on=['item_id'], how='left')"
   ]
  },
  {
   "cell_type": "code",
   "execution_count": 142,
   "metadata": {},
   "outputs": [],
   "source": [
    "m_price['price_dev'] = (m_price['av_item_price'] - m_price['mean_price'])\\\n",
    "                       / m_price['mean_price']"
   ]
  },
  {
   "cell_type": "markdown",
   "metadata": {},
   "source": [
    "Lag everything:"
   ]
  },
  {
   "cell_type": "code",
   "execution_count": 143,
   "metadata": {},
   "outputs": [],
   "source": [
    "m_price = lag_feature(m_price, [1, 2, 3, 6, 12], 'item_purchase_days')\n",
    "m_price = lag_feature(m_price, [1, 2, 3, 6, 12], 'av_item_cnt_day')\n",
    "m_price = lag_feature(m_price, [1, 2, 3], 'av_item_price')\n",
    "m_price = lag_feature(m_price, [1, 2, 3], 'av_price_usd')\n",
    "m_price = lag_feature(m_price, [1, 2, 3], 'price_dev')\n",
    "m_price = lag_feature(m_price, [1, 2, 3], 'av_revenue')\n",
    "m_price = lag_feature(m_price, [1, 2, 3], 'av_revenue_usd')"
   ]
  },
  {
   "cell_type": "code",
   "execution_count": 144,
   "metadata": {},
   "outputs": [
    {
     "data": {
      "text/html": [
       "<div>\n",
       "<style scoped>\n",
       "    .dataframe tbody tr th:only-of-type {\n",
       "        vertical-align: middle;\n",
       "    }\n",
       "\n",
       "    .dataframe tbody tr th {\n",
       "        vertical-align: top;\n",
       "    }\n",
       "\n",
       "    .dataframe thead th {\n",
       "        text-align: right;\n",
       "    }\n",
       "</style>\n",
       "<table border=\"1\" class=\"dataframe\">\n",
       "  <thead>\n",
       "    <tr style=\"text-align: right;\">\n",
       "      <th></th>\n",
       "      <th>date_block_num</th>\n",
       "      <th>shop_id</th>\n",
       "      <th>item_id</th>\n",
       "      <th>av_item_price</th>\n",
       "      <th>av_item_cnt_day</th>\n",
       "      <th>av_price_usd</th>\n",
       "      <th>av_revenue</th>\n",
       "      <th>av_revenue_usd</th>\n",
       "      <th>item_purchase_days</th>\n",
       "      <th>mean_price</th>\n",
       "      <th>...</th>\n",
       "      <th>av_price_usd_lag_3</th>\n",
       "      <th>price_dev_lag_1</th>\n",
       "      <th>price_dev_lag_2</th>\n",
       "      <th>price_dev_lag_3</th>\n",
       "      <th>av_revenue_lag_1</th>\n",
       "      <th>av_revenue_lag_2</th>\n",
       "      <th>av_revenue_lag_3</th>\n",
       "      <th>av_revenue_usd_lag_1</th>\n",
       "      <th>av_revenue_usd_lag_2</th>\n",
       "      <th>av_revenue_usd_lag_3</th>\n",
       "    </tr>\n",
       "  </thead>\n",
       "  <tbody>\n",
       "    <tr>\n",
       "      <th>0</th>\n",
       "      <td>0</td>\n",
       "      <td>59</td>\n",
       "      <td>22154</td>\n",
       "      <td>999.00</td>\n",
       "      <td>1.000000</td>\n",
       "      <td>33.093750</td>\n",
       "      <td>999.000000</td>\n",
       "      <td>33.093750</td>\n",
       "      <td>1.0</td>\n",
       "      <td>690.5000</td>\n",
       "      <td>...</td>\n",
       "      <td>NaN</td>\n",
       "      <td>NaN</td>\n",
       "      <td>NaN</td>\n",
       "      <td>NaN</td>\n",
       "      <td>NaN</td>\n",
       "      <td>NaN</td>\n",
       "      <td>NaN</td>\n",
       "      <td>NaN</td>\n",
       "      <td>NaN</td>\n",
       "      <td>NaN</td>\n",
       "    </tr>\n",
       "    <tr>\n",
       "      <th>1</th>\n",
       "      <td>0</td>\n",
       "      <td>59</td>\n",
       "      <td>2746</td>\n",
       "      <td>286.25</td>\n",
       "      <td>0.183716</td>\n",
       "      <td>9.453125</td>\n",
       "      <td>367.285706</td>\n",
       "      <td>12.140625</td>\n",
       "      <td>7.0</td>\n",
       "      <td>265.7500</td>\n",
       "      <td>...</td>\n",
       "      <td>NaN</td>\n",
       "      <td>NaN</td>\n",
       "      <td>NaN</td>\n",
       "      <td>NaN</td>\n",
       "      <td>NaN</td>\n",
       "      <td>NaN</td>\n",
       "      <td>NaN</td>\n",
       "      <td>NaN</td>\n",
       "      <td>NaN</td>\n",
       "      <td>NaN</td>\n",
       "    </tr>\n",
       "    <tr>\n",
       "      <th>2</th>\n",
       "      <td>0</td>\n",
       "      <td>59</td>\n",
       "      <td>2847</td>\n",
       "      <td>1699.00</td>\n",
       "      <td>0.500000</td>\n",
       "      <td>56.437500</td>\n",
       "      <td>1699.000000</td>\n",
       "      <td>56.437500</td>\n",
       "      <td>2.0</td>\n",
       "      <td>1414.0000</td>\n",
       "      <td>...</td>\n",
       "      <td>NaN</td>\n",
       "      <td>NaN</td>\n",
       "      <td>NaN</td>\n",
       "      <td>NaN</td>\n",
       "      <td>NaN</td>\n",
       "      <td>NaN</td>\n",
       "      <td>NaN</td>\n",
       "      <td>NaN</td>\n",
       "      <td>NaN</td>\n",
       "      <td>NaN</td>\n",
       "    </tr>\n",
       "    <tr>\n",
       "      <th>3</th>\n",
       "      <td>0</td>\n",
       "      <td>59</td>\n",
       "      <td>2848</td>\n",
       "      <td>99.00</td>\n",
       "      <td>0.500000</td>\n",
       "      <td>3.287109</td>\n",
       "      <td>99.000000</td>\n",
       "      <td>3.287109</td>\n",
       "      <td>2.0</td>\n",
       "      <td>96.4375</td>\n",
       "      <td>...</td>\n",
       "      <td>NaN</td>\n",
       "      <td>NaN</td>\n",
       "      <td>NaN</td>\n",
       "      <td>NaN</td>\n",
       "      <td>NaN</td>\n",
       "      <td>NaN</td>\n",
       "      <td>NaN</td>\n",
       "      <td>NaN</td>\n",
       "      <td>NaN</td>\n",
       "      <td>NaN</td>\n",
       "    </tr>\n",
       "    <tr>\n",
       "      <th>4</th>\n",
       "      <td>0</td>\n",
       "      <td>59</td>\n",
       "      <td>2854</td>\n",
       "      <td>449.00</td>\n",
       "      <td>0.750000</td>\n",
       "      <td>14.851562</td>\n",
       "      <td>673.500000</td>\n",
       "      <td>22.265625</td>\n",
       "      <td>2.0</td>\n",
       "      <td>237.2500</td>\n",
       "      <td>...</td>\n",
       "      <td>NaN</td>\n",
       "      <td>NaN</td>\n",
       "      <td>NaN</td>\n",
       "      <td>NaN</td>\n",
       "      <td>NaN</td>\n",
       "      <td>NaN</td>\n",
       "      <td>NaN</td>\n",
       "      <td>NaN</td>\n",
       "      <td>NaN</td>\n",
       "      <td>NaN</td>\n",
       "    </tr>\n",
       "  </tbody>\n",
       "</table>\n",
       "<p>5 rows × 36 columns</p>\n",
       "</div>"
      ],
      "text/plain": [
       "   date_block_num  shop_id  item_id  av_item_price  av_item_cnt_day  \\\n",
       "0               0       59    22154         999.00         1.000000   \n",
       "1               0       59     2746         286.25         0.183716   \n",
       "2               0       59     2847        1699.00         0.500000   \n",
       "3               0       59     2848          99.00         0.500000   \n",
       "4               0       59     2854         449.00         0.750000   \n",
       "\n",
       "   av_price_usd   av_revenue  av_revenue_usd  item_purchase_days  mean_price  \\\n",
       "0     33.093750   999.000000       33.093750                 1.0    690.5000   \n",
       "1      9.453125   367.285706       12.140625                 7.0    265.7500   \n",
       "2     56.437500  1699.000000       56.437500                 2.0   1414.0000   \n",
       "3      3.287109    99.000000        3.287109                 2.0     96.4375   \n",
       "4     14.851562   673.500000       22.265625                 2.0    237.2500   \n",
       "\n",
       "   ...  av_price_usd_lag_3  price_dev_lag_1  price_dev_lag_2  price_dev_lag_3  \\\n",
       "0  ...                 NaN              NaN              NaN              NaN   \n",
       "1  ...                 NaN              NaN              NaN              NaN   \n",
       "2  ...                 NaN              NaN              NaN              NaN   \n",
       "3  ...                 NaN              NaN              NaN              NaN   \n",
       "4  ...                 NaN              NaN              NaN              NaN   \n",
       "\n",
       "   av_revenue_lag_1  av_revenue_lag_2  av_revenue_lag_3  av_revenue_usd_lag_1  \\\n",
       "0               NaN               NaN               NaN                   NaN   \n",
       "1               NaN               NaN               NaN                   NaN   \n",
       "2               NaN               NaN               NaN                   NaN   \n",
       "3               NaN               NaN               NaN                   NaN   \n",
       "4               NaN               NaN               NaN                   NaN   \n",
       "\n",
       "   av_revenue_usd_lag_2  av_revenue_usd_lag_3  \n",
       "0                   NaN                   NaN  \n",
       "1                   NaN                   NaN  \n",
       "2                   NaN                   NaN  \n",
       "3                   NaN                   NaN  \n",
       "4                   NaN                   NaN  \n",
       "\n",
       "[5 rows x 36 columns]"
      ]
     },
     "execution_count": 144,
     "metadata": {},
     "output_type": "execute_result"
    }
   ],
   "source": [
    "m_price.head()"
   ]
  },
  {
   "cell_type": "markdown",
   "metadata": {},
   "source": [
    "\"Projected\" values: silly linear extrapolation to the next month:"
   ]
  },
  {
   "cell_type": "code",
   "execution_count": 145,
   "metadata": {},
   "outputs": [],
   "source": [
    "m_price['proj_av_revenue'] = 2 * (m_price['av_revenue_lag_1'] -\n",
    "                             m_price['av_revenue_lag_2'])\\\n",
    "                             + m_price['av_revenue_lag_2']\n",
    "\n",
    "m_price['proj_av_revenue_2'] = 3 * (m_price['av_revenue_lag_1'] - \n",
    "                             m_price['av_revenue_lag_3']) / 2\\\n",
    "                             + m_price['av_revenue_lag_3']"
   ]
  },
  {
   "cell_type": "code",
   "execution_count": 146,
   "metadata": {},
   "outputs": [],
   "source": [
    "m_price['proj_price'] = 2 * (m_price['av_item_price_lag_1'] - \n",
    "                             m_price['av_item_price_lag_2'])\\\n",
    "                        + m_price['av_item_price_lag_2']\n",
    "\n",
    "m_price['proj_price_2'] = 3 * (m_price['av_item_price_lag_1'] - \n",
    "                               m_price['av_item_price_lag_3'])\\\n",
    "                          / 2 + m_price['av_item_price_lag_3']"
   ]
  },
  {
   "cell_type": "code",
   "execution_count": 147,
   "metadata": {},
   "outputs": [],
   "source": [
    "cols = [c for c in m_price.columns if c not in ['item_cnt_day', 'rate',\n",
    "                                                'av_item_price', 'av_price_usd',\n",
    "                                                'revenue', 'revenue_usd', 'item_purchase_days',\n",
    "                                                'av_item_cnt_day', 'price_dev',\n",
    "                                               'av_revenue', 'av_revenue_usd']]"
   ]
  },
  {
   "cell_type": "code",
   "execution_count": 148,
   "metadata": {},
   "outputs": [
    {
     "name": "stdout",
     "output_type": "stream",
     "text": [
      "Mem. usage decreased to 984.84 Mb (28.8% reduction)\n"
     ]
    }
   ],
   "source": [
    "m_price = reduce_mem_usage(m_price.loc[:, cols])"
   ]
  },
  {
   "cell_type": "code",
   "execution_count": 149,
   "metadata": {},
   "outputs": [],
   "source": [
    "alles = pd.merge(alles, m_price,\n",
    "        on=['item_id', 'date_block_num', 'shop_id'], how='left')"
   ]
  },
  {
   "cell_type": "code",
   "execution_count": 150,
   "metadata": {},
   "outputs": [
    {
     "data": {
      "text/plain": [
       "12015"
      ]
     },
     "execution_count": 150,
     "metadata": {},
     "output_type": "execute_result"
    }
   ],
   "source": [
    "del m_price\n",
    "gc.collect()"
   ]
  },
  {
   "cell_type": "markdown",
   "metadata": {},
   "source": [
    "### Lagging target variable:"
   ]
  },
  {
   "cell_type": "code",
   "execution_count": 151,
   "metadata": {},
   "outputs": [],
   "source": [
    "alles = lag_feature(alles, [1, 2, 3, 6, 12], 'item_cnt_month')"
   ]
  },
  {
   "cell_type": "markdown",
   "metadata": {},
   "source": [
    "Linear extrapolation to the next month:"
   ]
  },
  {
   "cell_type": "code",
   "execution_count": 152,
   "metadata": {},
   "outputs": [],
   "source": [
    "alles['proj_item_cnt'] = 2 * (alles['item_cnt_month_lag_1'] - \n",
    "                              alles['item_cnt_month_lag_2']) + alles['item_cnt_month_lag_2']\n",
    "\n",
    "alles['proj_item_cnt_2'] = 3 * (alles['item_cnt_month_lag_1'] -\n",
    "                                alles['item_cnt_month_lag_3']) / 2 + alles['item_cnt_month_lag_3']\n",
    "\n",
    "alles['proj_item_cnt_12'] = 12 * (alles['item_cnt_month_lag_1'] - \n",
    "                                  alles['item_cnt_month_lag_12']) / 11 + alles['item_cnt_month_lag_12']"
   ]
  },
  {
   "cell_type": "markdown",
   "metadata": {},
   "source": [
    "Averaging the values based on the extrapolation over 1, 2, and 11 months:"
   ]
  },
  {
   "cell_type": "code",
   "execution_count": 153,
   "metadata": {},
   "outputs": [],
   "source": [
    "alles['mean_proj_item_cnt'] = np.mean([alles['proj_item_cnt'],\n",
    "                                       alles['proj_item_cnt_2'], alles['proj_item_cnt_12']], axis=0)"
   ]
  },
  {
   "cell_type": "markdown",
   "metadata": {},
   "source": [
    "### Lagging revenues:"
   ]
  },
  {
   "cell_type": "code",
   "execution_count": null,
   "metadata": {},
   "outputs": [],
   "source": [
    "alles = lag_feature(alles, [1, 2, 3, 6, 12], 'revenue')\n",
    "alles = lag_feature(alles, [1, 2, 3, 6, 12], 'revenue_usd')"
   ]
  },
  {
   "cell_type": "markdown",
   "metadata": {},
   "source": [
    "Linear extrapolation:"
   ]
  },
  {
   "cell_type": "code",
   "execution_count": null,
   "metadata": {},
   "outputs": [],
   "source": [
    "alles['proj_monthly_revenue'] = 2 * (alles['revenue_lag_1'] - \n",
    "                                     alles['revenue_lag_2']) + alles['revenue_lag_2']\n",
    "\n",
    "alles['proj_monthly_revenue_2'] = 3 * (alles['revenue_lag_1'] - \n",
    "                                       alles['revenue_lag_3']) / 2 + alles['revenue_lag_3']\n",
    "\n",
    "alles['proj_monthly_revenue_12'] = 12 * (alles['revenue_lag_1'] - \n",
    "                                         alles['revenue_lag_12']) / 11 + alles['revenue_lag_12']"
   ]
  },
  {
   "cell_type": "markdown",
   "metadata": {},
   "source": [
    "Averaging the extrapolated values:"
   ]
  },
  {
   "cell_type": "code",
   "execution_count": null,
   "metadata": {},
   "outputs": [],
   "source": [
    "alles['mean_proj_revenue'] = np.mean([alles['proj_monthly_revenue'],\n",
    "                                       alles['proj_monthly_revenue_2'],\n",
    "                                      alles['proj_monthly_revenue_12']], axis=0)"
   ]
  },
  {
   "cell_type": "code",
   "execution_count": null,
   "metadata": {},
   "outputs": [],
   "source": [
    "alles = alles.drop(['revenue', 'revenue_usd'], axis=1)"
   ]
  },
  {
   "cell_type": "code",
   "execution_count": null,
   "metadata": {},
   "outputs": [],
   "source": [
    "alles.head(3)"
   ]
  },
  {
   "cell_type": "markdown",
   "metadata": {},
   "source": [
    "### Shop purchases per month (independent of the item_id):"
   ]
  },
  {
   "cell_type": "code",
   "execution_count": null,
   "metadata": {},
   "outputs": [],
   "source": [
    "gr_shop = train_df.groupby(['shop_id', 'date_block_num'])"
   ]
  },
  {
   "cell_type": "code",
   "execution_count": null,
   "metadata": {},
   "outputs": [],
   "source": [
    "pdf = pd.merge(all_vals, gr_shop.count()['date'], on=['shop_id', 'date_block_num'], how='left')"
   ]
  },
  {
   "cell_type": "code",
   "execution_count": null,
   "metadata": {},
   "outputs": [],
   "source": [
    "pdf = pdf.rename(columns={'date':'purchases_per_month'})[['date_block_num',\n",
    "                                                          'shop_id',\n",
    "                                                          'purchases_per_month']].drop_duplicates()"
   ]
  },
  {
   "cell_type": "code",
   "execution_count": null,
   "metadata": {},
   "outputs": [],
   "source": [
    "tmp = pdf[['date_block_num','shop_id', 'purchases_per_month']]\n",
    "shifted = tmp.copy()\n",
    "shifted.columns = ['date_block_num','shop_id', 'purchases_per_month'+'_lag_'+str(1)]\n",
    "shifted['date_block_num'] += 1\n",
    "pdf = pd.merge(pdf, shifted, on=['date_block_num','shop_id'], how='left')"
   ]
  },
  {
   "cell_type": "code",
   "execution_count": null,
   "metadata": {},
   "outputs": [],
   "source": [
    "pdf = reduce_mem_usage(pdf)"
   ]
  },
  {
   "cell_type": "code",
   "execution_count": null,
   "metadata": {},
   "outputs": [],
   "source": [
    "pdf = pdf.drop(['purchases_per_month'], axis=1)"
   ]
  },
  {
   "cell_type": "code",
   "execution_count": null,
   "metadata": {},
   "outputs": [],
   "source": [
    "alles = pd.merge(alles, pdf, on=['shop_id', 'date_block_num'], how='left')"
   ]
  },
  {
   "cell_type": "markdown",
   "metadata": {},
   "source": [
    "### Shop active months:"
   ]
  },
  {
   "cell_type": "code",
   "execution_count": null,
   "metadata": {},
   "outputs": [],
   "source": [
    "cc_df = pd.DataFrame(gr_shop.mean().groupby('shop_id').cumcount(), columns=['active_months'])\n",
    "cc_df = cc_df.reset_index()"
   ]
  },
  {
   "cell_type": "code",
   "execution_count": null,
   "metadata": {},
   "outputs": [],
   "source": [
    "cc_df = pd.merge(all_vals[['date_block_num', 'shop_id']], cc_df,\n",
    "                 on=['date_block_num', 'shop_id'], how='left').drop_duplicates()"
   ]
  },
  {
   "cell_type": "code",
   "execution_count": null,
   "metadata": {},
   "outputs": [],
   "source": [
    "tmp = cc_df[['date_block_num','shop_id', 'active_months']]\n",
    "for i in [1]:\n",
    "    shifted = tmp.copy()\n",
    "    shifted.columns = ['date_block_num','shop_id', 'active_months'+'_lag_'+str(i)]\n",
    "    shifted['date_block_num'] += i\n",
    "    cc_df = pd.merge(cc_df, shifted, on=['date_block_num','shop_id'], how='left')"
   ]
  },
  {
   "cell_type": "code",
   "execution_count": null,
   "metadata": {},
   "outputs": [],
   "source": [
    "cc_df = cc_df.drop(['active_months'], axis=1)"
   ]
  },
  {
   "cell_type": "code",
   "execution_count": null,
   "metadata": {},
   "outputs": [],
   "source": [
    "for i in [1]:\n",
    "    cc_df['active_months_lag_'+str(i)] += i\n",
    "    cc_df['active_months_lag_'+str(i)] = cc_df['active_months_lag_'+str(i)].fillna(0).astype('int')"
   ]
  },
  {
   "cell_type": "code",
   "execution_count": null,
   "metadata": {},
   "outputs": [],
   "source": [
    "cc_df = reduce_mem_usage(cc_df)"
   ]
  },
  {
   "cell_type": "code",
   "execution_count": null,
   "metadata": {},
   "outputs": [],
   "source": [
    "alles = pd.merge(alles, cc_df, on=['shop_id', 'date_block_num'], how='left')"
   ]
  },
  {
   "cell_type": "markdown",
   "metadata": {},
   "source": [
    "### Item active months:"
   ]
  },
  {
   "cell_type": "code",
   "execution_count": null,
   "metadata": {},
   "outputs": [],
   "source": [
    "gr_item = train_df.groupby(['item_id', 'date_block_num'])"
   ]
  },
  {
   "cell_type": "code",
   "execution_count": null,
   "metadata": {},
   "outputs": [],
   "source": [
    "cc_df = pd.DataFrame(gr_item.mean().groupby('item_id').cumcount(), columns=['item_active_months'])\n",
    "cc_df = cc_df.reset_index()"
   ]
  },
  {
   "cell_type": "code",
   "execution_count": null,
   "metadata": {},
   "outputs": [],
   "source": [
    "cc_df = pd.merge(all_vals[['date_block_num', 'item_id']], cc_df,\n",
    "                 on=['date_block_num', 'item_id'], how='left').drop_duplicates()"
   ]
  },
  {
   "cell_type": "code",
   "execution_count": null,
   "metadata": {},
   "outputs": [],
   "source": [
    "tmp = cc_df[['date_block_num','item_id', 'item_active_months']]\n",
    "for i in [1]:\n",
    "    shifted = tmp.copy()\n",
    "    shifted.columns = ['date_block_num','item_id', 'item_active_months'+'_lag_'+str(i)]\n",
    "    shifted['date_block_num'] += i\n",
    "    cc_df = pd.merge(cc_df, shifted, on=['date_block_num','item_id'], how='left')"
   ]
  },
  {
   "cell_type": "code",
   "execution_count": null,
   "metadata": {},
   "outputs": [],
   "source": [
    "cc_df = cc_df.drop(['item_active_months'], axis=1)"
   ]
  },
  {
   "cell_type": "code",
   "execution_count": null,
   "metadata": {},
   "outputs": [],
   "source": [
    "for i in [1]:\n",
    "    cc_df['item_active_months_lag_'+str(i)] += i\n",
    "    cc_df['item_active_months_lag_'+str(i)] = cc_df['item_active_months_lag_'+str(i)].fillna(0).astype('int')"
   ]
  },
  {
   "cell_type": "code",
   "execution_count": null,
   "metadata": {},
   "outputs": [],
   "source": [
    "cc_df = reduce_mem_usage(cc_df)"
   ]
  },
  {
   "cell_type": "code",
   "execution_count": null,
   "metadata": {},
   "outputs": [],
   "source": [
    "alles = pd.merge(alles, cc_df, on=['item_id', 'date_block_num'], how='left')"
   ]
  },
  {
   "cell_type": "markdown",
   "metadata": {},
   "source": [
    "### Shop+item active months:"
   ]
  },
  {
   "cell_type": "code",
   "execution_count": null,
   "metadata": {},
   "outputs": [],
   "source": [
    "cc_df = pd.DataFrame(gr.mean().groupby(['shop_id','item_id']).cumcount(), columns=['shop_item_active_months'])\n",
    "cc_df = cc_df.reset_index()"
   ]
  },
  {
   "cell_type": "code",
   "execution_count": null,
   "metadata": {},
   "outputs": [],
   "source": [
    "cc_df = pd.merge(all_vals, cc_df,\n",
    "                 on=['date_block_num', 'shop_id', 'item_id'], how='left').drop_duplicates()"
   ]
  },
  {
   "cell_type": "code",
   "execution_count": null,
   "metadata": {},
   "outputs": [],
   "source": [
    "cc_df = lag_feature(cc_df, [1], 'shop_item_active_months')"
   ]
  },
  {
   "cell_type": "code",
   "execution_count": null,
   "metadata": {},
   "outputs": [],
   "source": [
    "for i in [1]:\n",
    "    cc_df['shop_item_active_months_lag_'+str(i)] += i\n",
    "    cc_df['shop_item_active_months_lag_'+str(i)] = cc_df['shop_item_active_months_lag_'\n",
    "                                                         +str(i)].fillna(0).astype('int')"
   ]
  },
  {
   "cell_type": "code",
   "execution_count": null,
   "metadata": {},
   "outputs": [],
   "source": [
    "cc_df = cc_df.drop(['shop_item_active_months'], axis=1)"
   ]
  },
  {
   "cell_type": "code",
   "execution_count": null,
   "metadata": {},
   "outputs": [],
   "source": [
    "cc_df = reduce_mem_usage(cc_df)"
   ]
  },
  {
   "cell_type": "code",
   "execution_count": null,
   "metadata": {},
   "outputs": [],
   "source": [
    "alles = pd.merge(alles, cc_df, on=['item_id', 'shop_id', 'date_block_num'], how='left')"
   ]
  },
  {
   "cell_type": "markdown",
   "metadata": {},
   "source": [
    "### Cumulative shop revenue:"
   ]
  },
  {
   "cell_type": "code",
   "execution_count": null,
   "metadata": {},
   "outputs": [],
   "source": [
    "cum_revs = gr_shop.mean()"
   ]
  },
  {
   "cell_type": "code",
   "execution_count": null,
   "metadata": {},
   "outputs": [],
   "source": [
    "cum_revs = cum_revs[['revenue', 'revenue_usd']]"
   ]
  },
  {
   "cell_type": "code",
   "execution_count": null,
   "metadata": {},
   "outputs": [],
   "source": [
    "cum_revs = cum_revs.reset_index()"
   ]
  },
  {
   "cell_type": "code",
   "execution_count": null,
   "metadata": {},
   "outputs": [],
   "source": [
    "cum_revs = pd.merge(all_vals[['shop_id', 'date_block_num']],\n",
    "         cum_revs, on=['shop_id', 'date_block_num'], how='left').drop_duplicates()"
   ]
  },
  {
   "cell_type": "code",
   "execution_count": null,
   "metadata": {},
   "outputs": [],
   "source": [
    "cum_revs['c_shop_revenue_usd'] = cum_revs.groupby('shop_id')['revenue_usd'].cumsum().values\n",
    "cum_revs['c_shop_revenue'] = cum_revs.groupby('shop_id')['revenue'].cumsum().values"
   ]
  },
  {
   "cell_type": "code",
   "execution_count": null,
   "metadata": {},
   "outputs": [],
   "source": [
    "tmp = cum_revs[['date_block_num','shop_id', 'c_shop_revenue']]\n",
    "shifted = tmp.copy()\n",
    "shifted.columns = ['date_block_num','shop_id', 'c_shop_revenue'+'_lag_'+str(1)]\n",
    "shifted['date_block_num'] += 1\n",
    "cum_revs = pd.merge(cum_revs, shifted, on=['date_block_num','shop_id'], how='left')"
   ]
  },
  {
   "cell_type": "code",
   "execution_count": null,
   "metadata": {},
   "outputs": [],
   "source": [
    "tmp = cum_revs[['date_block_num','shop_id', 'c_shop_revenue_usd']]\n",
    "shifted = tmp.copy()\n",
    "shifted.columns = ['date_block_num','shop_id', 'c_shop_revenue_usd'+'_lag_'+str(1)]\n",
    "shifted['date_block_num'] += 1\n",
    "cum_revs = pd.merge(cum_revs, shifted, on=['date_block_num','shop_id'], how='left')"
   ]
  },
  {
   "cell_type": "code",
   "execution_count": null,
   "metadata": {},
   "outputs": [],
   "source": [
    "cum_revs = reduce_mem_usage(cum_revs)"
   ]
  },
  {
   "cell_type": "code",
   "execution_count": null,
   "metadata": {},
   "outputs": [],
   "source": [
    "alles = pd.merge(alles, cum_revs[['shop_id', 'date_block_num',\n",
    "                                  'c_shop_revenue_lag_1', 'c_shop_revenue_usd_lag_1']],\n",
    "                                   on=['shop_id', 'date_block_num'], how='left')"
   ]
  },
  {
   "cell_type": "markdown",
   "metadata": {},
   "source": [
    "### Cumulative shop revenue based on a particular item:"
   ]
  },
  {
   "cell_type": "code",
   "execution_count": null,
   "metadata": {},
   "outputs": [],
   "source": [
    "cum_revs = gr.mean()"
   ]
  },
  {
   "cell_type": "code",
   "execution_count": null,
   "metadata": {},
   "outputs": [],
   "source": [
    "cum_revs = cum_revs[['revenue', 'revenue_usd']]"
   ]
  },
  {
   "cell_type": "code",
   "execution_count": null,
   "metadata": {},
   "outputs": [],
   "source": [
    "cum_revs = cum_revs.reset_index()"
   ]
  },
  {
   "cell_type": "code",
   "execution_count": null,
   "metadata": {},
   "outputs": [],
   "source": [
    "cum_revs = pd.merge(all_vals, cum_revs, on=['shop_id', 'date_block_num', 'item_id'], how='left')"
   ]
  },
  {
   "cell_type": "code",
   "execution_count": null,
   "metadata": {},
   "outputs": [],
   "source": [
    "cum_revs['revenue'] = cum_revs['revenue'].fillna(0)\n",
    "cum_revs['revenue_usd'] = cum_revs['revenue_usd'].fillna(0)"
   ]
  },
  {
   "cell_type": "code",
   "execution_count": null,
   "metadata": {},
   "outputs": [],
   "source": [
    "cum_revs['c_revenue_usd'] = cum_revs.groupby('shop_id')['revenue_usd'].cumsum().values\n",
    "cum_revs['c_revenue'] = cum_revs.groupby('shop_id')['revenue'].cumsum().values"
   ]
  },
  {
   "cell_type": "code",
   "execution_count": null,
   "metadata": {},
   "outputs": [],
   "source": [
    "cum_revs = lag_feature(cum_revs, [1], 'c_revenue')"
   ]
  },
  {
   "cell_type": "code",
   "execution_count": null,
   "metadata": {},
   "outputs": [],
   "source": [
    "cum_revs = lag_feature(cum_revs, [1], 'c_revenue_usd')"
   ]
  },
  {
   "cell_type": "code",
   "execution_count": null,
   "metadata": {},
   "outputs": [],
   "source": [
    "cum_revs = reduce_mem_usage(cum_revs)"
   ]
  },
  {
   "cell_type": "code",
   "execution_count": null,
   "metadata": {},
   "outputs": [],
   "source": [
    "alles = pd.merge(alles, cum_revs[['shop_id', 'date_block_num', 'item_id',\n",
    "                                  'c_revenue_lag_1', 'c_revenue_usd_lag_1']],\n",
    "                                   on=['shop_id', 'date_block_num', 'item_id'], how='left')"
   ]
  },
  {
   "cell_type": "markdown",
   "metadata": {},
   "source": [
    "### Other mean values:"
   ]
  },
  {
   "cell_type": "code",
   "execution_count": null,
   "metadata": {},
   "outputs": [],
   "source": [
    "month_sum.head()"
   ]
  },
  {
   "cell_type": "markdown",
   "metadata": {},
   "source": [
    "Mean over __all shops and all items__ (fixed month):"
   ]
  },
  {
   "cell_type": "code",
   "execution_count": null,
   "metadata": {},
   "outputs": [],
   "source": [
    "group = month_sum.groupby(['date_block_num'])\n",
    "gr_df = group.mean()\n",
    "gr_df = gr_df.rename(columns={'item_cnt_month':'av_month'}).reset_index()"
   ]
  },
  {
   "cell_type": "code",
   "execution_count": null,
   "metadata": {},
   "outputs": [],
   "source": [
    "tmp = gr_df[['date_block_num', 'av_month']]\n",
    "shifted = tmp.copy()\n",
    "shifted.columns = ['date_block_num', 'av_month'+'_lag_'+str(1)]\n",
    "shifted['date_block_num'] += 1\n",
    "gr_df = pd.merge(gr_df, shifted, on=['date_block_num'], how='left')"
   ]
  },
  {
   "cell_type": "code",
   "execution_count": null,
   "metadata": {},
   "outputs": [],
   "source": [
    "gr_df = reduce_mem_usage(gr_df)"
   ]
  },
  {
   "cell_type": "code",
   "execution_count": null,
   "metadata": {},
   "outputs": [],
   "source": [
    "alles = pd.merge(alles, gr_df[['av_month_lag_1', 'date_block_num']], on=['date_block_num'], how='left')"
   ]
  },
  {
   "cell_type": "markdown",
   "metadata": {},
   "source": [
    "Mean over __all shops__ (fixed item and month):"
   ]
  },
  {
   "cell_type": "code",
   "execution_count": null,
   "metadata": {},
   "outputs": [],
   "source": [
    "group = month_sum.groupby(['date_block_num', 'item_id'])\n",
    "gr_df = group.mean()\n",
    "gr_df = gr_df.rename(columns={'item_cnt_month':'av_month_item'}).reset_index()"
   ]
  },
  {
   "cell_type": "code",
   "execution_count": null,
   "metadata": {},
   "outputs": [],
   "source": [
    "tmp = gr_df[['date_block_num', 'item_id', 'av_month_item']]\n",
    "shifted = tmp.copy()\n",
    "shifted.columns = ['date_block_num', 'item_id', 'av_month_item'+'_lag_'+str(1)]\n",
    "shifted['date_block_num'] += 1\n",
    "gr_df = pd.merge(gr_df, shifted, on=['date_block_num', 'item_id'], how='left')"
   ]
  },
  {
   "cell_type": "code",
   "execution_count": null,
   "metadata": {},
   "outputs": [],
   "source": [
    "gr_df = reduce_mem_usage(gr_df)"
   ]
  },
  {
   "cell_type": "code",
   "execution_count": null,
   "metadata": {},
   "outputs": [],
   "source": [
    "alles = pd.merge(alles, gr_df[['av_month_item_lag_1', 'date_block_num', 'item_id']],\n",
    "                 on=['date_block_num', 'item_id'], how='left')"
   ]
  },
  {
   "cell_type": "markdown",
   "metadata": {},
   "source": [
    "Mean over __all items__ (fixed month and shop):"
   ]
  },
  {
   "cell_type": "code",
   "execution_count": null,
   "metadata": {},
   "outputs": [],
   "source": [
    "group = month_sum.groupby(['date_block_num', 'shop_id'])\n",
    "gr_df = group.mean()\n",
    "gr_df = gr_df.rename(columns={'item_cnt_month':'av_month_shop'}).reset_index()"
   ]
  },
  {
   "cell_type": "code",
   "execution_count": null,
   "metadata": {},
   "outputs": [],
   "source": [
    "tmp = gr_df[['date_block_num', 'shop_id', 'av_month_shop']]\n",
    "shifted = tmp.copy()\n",
    "shifted.columns = ['date_block_num', 'shop_id', 'av_month_shop'+'_lag_'+str(1)]\n",
    "shifted['date_block_num'] += 1\n",
    "gr_df = pd.merge(gr_df, shifted, on=['date_block_num', 'shop_id'], how='left')"
   ]
  },
  {
   "cell_type": "code",
   "execution_count": null,
   "metadata": {},
   "outputs": [],
   "source": [
    "gr_df = reduce_mem_usage(gr_df)"
   ]
  },
  {
   "cell_type": "code",
   "execution_count": null,
   "metadata": {},
   "outputs": [],
   "source": [
    "alles = pd.merge(alles, gr_df[['av_month_shop_lag_1', 'date_block_num', 'shop_id']],\n",
    "                 on=['date_block_num', 'shop_id'], how='left')"
   ]
  },
  {
   "cell_type": "markdown",
   "metadata": {},
   "source": [
    "Mean over __fixed category id and month__:"
   ]
  },
  {
   "cell_type": "code",
   "execution_count": null,
   "metadata": {},
   "outputs": [],
   "source": [
    "month_cat = pd.merge(month_sum, item_df)"
   ]
  },
  {
   "cell_type": "code",
   "execution_count": null,
   "metadata": {},
   "outputs": [],
   "source": [
    "group = month_cat.groupby(['date_block_num', 'item_category_id'])\n",
    "gr_df = group.mean()\n",
    "gr_df = gr_df.rename(columns={'item_cnt_month':'av_month_cat'}).reset_index()"
   ]
  },
  {
   "cell_type": "code",
   "execution_count": null,
   "metadata": {},
   "outputs": [],
   "source": [
    "tmp = gr_df[['date_block_num', 'item_category_id', 'av_month_cat']]\n",
    "shifted = tmp.copy()\n",
    "shifted.columns = ['date_block_num', 'item_category_id', 'av_month_cat'+'_lag_'+str(1)]\n",
    "shifted['date_block_num'] += 1\n",
    "gr_df = pd.merge(gr_df, shifted, on=['date_block_num', 'item_category_id'], how='left')"
   ]
  },
  {
   "cell_type": "code",
   "execution_count": null,
   "metadata": {},
   "outputs": [],
   "source": [
    "gr_df = reduce_mem_usage(gr_df)"
   ]
  },
  {
   "cell_type": "code",
   "execution_count": null,
   "metadata": {},
   "outputs": [],
   "source": [
    "alles = pd.merge(alles, gr_df[['av_month_cat_lag_1', 'date_block_num', 'item_category_id']],\n",
    "                 on=['date_block_num', 'item_category_id'], how='left')"
   ]
  },
  {
   "cell_type": "markdown",
   "metadata": {},
   "source": [
    "Mean over __fixed subcategory and month__:"
   ]
  },
  {
   "cell_type": "code",
   "execution_count": null,
   "metadata": {},
   "outputs": [],
   "source": [
    "group = month_cat.groupby(['date_block_num', 'item_subcategory'])\n",
    "gr_df = group.mean()\n",
    "gr_df = gr_df.rename(columns={'item_cnt_month':'av_month_subcat'}).reset_index()"
   ]
  },
  {
   "cell_type": "code",
   "execution_count": null,
   "metadata": {},
   "outputs": [],
   "source": [
    "tmp = gr_df[['date_block_num', 'item_subcategory', 'av_month_subcat']]\n",
    "shifted = tmp.copy()\n",
    "shifted.columns = ['date_block_num', 'item_subcategory', 'av_month_subcat'+'_lag_'+str(1)]\n",
    "shifted['date_block_num'] += 1\n",
    "gr_df = pd.merge(gr_df, shifted, on=['date_block_num', 'item_subcategory'], how='left')"
   ]
  },
  {
   "cell_type": "code",
   "execution_count": null,
   "metadata": {},
   "outputs": [],
   "source": [
    "gr_df = reduce_mem_usage(gr_df)"
   ]
  },
  {
   "cell_type": "code",
   "execution_count": null,
   "metadata": {},
   "outputs": [],
   "source": [
    "alles = pd.merge(alles, gr_df[['av_month_subcat_lag_1', 'date_block_num', 'item_subcategory']],\n",
    "                 on=['date_block_num', 'item_subcategory'], how='left')"
   ]
  },
  {
   "cell_type": "markdown",
   "metadata": {},
   "source": [
    "Mean over __all months__ (fixed shop/item pairs):"
   ]
  },
  {
   "cell_type": "code",
   "execution_count": null,
   "metadata": {},
   "outputs": [],
   "source": [
    "group = month_sum.groupby(['shop_id', 'item_id'])\n",
    "gr_df = group.mean()\n",
    "gr_df = gr_df.rename(columns={'item_cnt_month':'av_shop_item'}).reset_index()"
   ]
  },
  {
   "cell_type": "code",
   "execution_count": null,
   "metadata": {},
   "outputs": [],
   "source": [
    "gr_df = reduce_mem_usage(gr_df)"
   ]
  },
  {
   "cell_type": "code",
   "execution_count": null,
   "metadata": {},
   "outputs": [],
   "source": [
    "alles = pd.merge(alles, gr_df[['av_shop_item', 'shop_id', 'item_id']],\n",
    "                 on=['shop_id', 'item_id'], how='left')"
   ]
  },
  {
   "cell_type": "markdown",
   "metadata": {},
   "source": [
    "### First sales:"
   ]
  },
  {
   "cell_type": "code",
   "execution_count": null,
   "metadata": {},
   "outputs": [],
   "source": [
    "alles['first_sale'] = (alles['date_block_num'] -\n",
    "                       alles.groupby(['item_id','shop_id'])['date_block_num'].transform('min'))\n",
    "alles['item_first_sale'] = (alles['date_block_num'] -\n",
    "                            alles.groupby('item_id')['date_block_num'].transform('min'))\n",
    "alles['shop_first_sale'] = (alles['date_block_num'] -\n",
    "                            alles.groupby('shop_id')['date_block_num'].transform('min'))"
   ]
  },
  {
   "cell_type": "code",
   "execution_count": null,
   "metadata": {},
   "outputs": [],
   "source": [
    "del train_df, month_sum, cum_revs, month_cat, shifted, tmp, gr_df, cc_df\n",
    "gc.collect()"
   ]
  },
  {
   "cell_type": "code",
   "execution_count": null,
   "metadata": {},
   "outputs": [],
   "source": [
    "!mkdir data"
   ]
  },
  {
   "cell_type": "code",
   "execution_count": null,
   "metadata": {},
   "outputs": [],
   "source": [
    "with open('data/alles_final.pkl', 'wb') as handle:\n",
    "    pickle.dump(alles, handle)"
   ]
  },
  {
   "cell_type": "markdown",
   "metadata": {},
   "source": [
    "**item_purchase_days_lag_()**<br/>\n",
    "item_id, shop_id, date_block_num 을 그룹하여 purchase_date count\n",
    "**av_item_cnt_day_lag_()**<br/>\n",
    "#av_price_use_lag_()\n",
    "#av_revenue_lag_()\n",
    "#av_revenue_usd_lag_()\n",
    "#price_dev_lag_()\n",
    "#proj_av_revenue_()\n",
    "#item_cnt_month_lag_()\n",
    "#revenue_lag_()\n",
    "#revenue_usd_lag_()\n",
    "#proj_monthly_revenue_()"
   ]
  },
  {
   "cell_type": "code",
   "execution_count": null,
   "metadata": {},
   "outputs": [],
   "source": [
    "%reset -f"
   ]
  },
  {
   "cell_type": "markdown",
   "metadata": {},
   "source": [
    "## Model"
   ]
  },
  {
   "cell_type": "code",
   "execution_count": 2,
   "metadata": {},
   "outputs": [],
   "source": [
    "import numpy as np\n",
    "import pandas as pd\n",
    "\n",
    "import matplotlib.pyplot as plt\n",
    "import seaborn as sns\n",
    "import gc\n",
    "import pickle\n",
    "import lightgbm as lgb\n",
    "from lightgbm import LGBMRegressor\n",
    "\n",
    "from sklearn.metrics import (mean_squared_log_error, mean_squared_error,\n",
    "                             mean_absolute_error)\n",
    "from sklearn.preprocessing import LabelEncoder, OneHotEncoder\n",
    "\n",
    "from sklearn.model_selection import train_test_split, KFold\n",
    "import warnings"
   ]
  },
  {
   "cell_type": "markdown",
   "metadata": {},
   "source": [
    "### Data preparation"
   ]
  },
  {
   "cell_type": "code",
   "execution_count": 3,
   "metadata": {},
   "outputs": [
    {
     "name": "stdout",
     "output_type": "stream",
     "text": [
      "[*]alles shape : (10985992, 83)\n"
     ]
    }
   ],
   "source": [
    "alles = pd.read_pickle('data/alles_final.pkl')\n",
    "#alles = alles.drop(['mean_price', 'av_shop_item'], axis=1)\n",
    "print('[*]alles shape : {}'.format(alles.shape))"
   ]
  },
  {
   "cell_type": "code",
   "execution_count": 4,
   "metadata": {},
   "outputs": [],
   "source": [
    "alles[['item_name', 'item_category',\n",
    "       'item_subcategory', 'city',\n",
    "       'shop_type']] = \\\n",
    "alles[['item_name', 'item_category',\n",
    "       'item_subcategory', 'city',\n",
    "       'shop_type']].apply(LabelEncoder().fit_transform)"
   ]
  },
  {
   "cell_type": "code",
   "execution_count": 5,
   "metadata": {},
   "outputs": [],
   "source": [
    "rows = alles['date_block_num'] > 11\n",
    "data = alles.loc[rows, :]"
   ]
  },
  {
   "cell_type": "code",
   "execution_count": 6,
   "metadata": {},
   "outputs": [
    {
     "name": "stdout",
     "output_type": "stream",
     "text": [
      "[*](date block num ==0).isnull().sum() :  62\n"
     ]
    }
   ],
   "source": [
    "print('[*](date block num ==0).isnull().sum() : ',\n",
    "      alles.iloc[0, :].isnull().sum())"
   ]
  },
  {
   "cell_type": "code",
   "execution_count": 7,
   "metadata": {},
   "outputs": [
    {
     "name": "stdout",
     "output_type": "stream",
     "text": [
      "[*](data block num ==11).isnull().sum() :  9\n"
     ]
    }
   ],
   "source": [
    "print('[*](data block num ==11).isnull().sum() : ',\n",
    "      alles[alles.date_block_num==11].iloc[0, :].isnull().sum())"
   ]
  },
  {
   "cell_type": "code",
   "execution_count": 8,
   "metadata": {},
   "outputs": [
    {
     "name": "stdout",
     "output_type": "stream",
     "text": [
      "[*](data block num ==0).isnull().sum() :  0\n"
     ]
    }
   ],
   "source": [
    "print('[*](data block num ==0).isnull().sum() : ',\n",
    "      data.iloc[0, :].isnull().sum())"
   ]
  },
  {
   "cell_type": "code",
   "execution_count": 9,
   "metadata": {},
   "outputs": [],
   "source": [
    "data = data.fillna(0)\n",
    "data = data.replace([np.inf, -np.inf], 0)\n"
   ]
  },
  {
   "cell_type": "markdown",
   "metadata": {},
   "source": [
    "Features found via LOFO importance (see, for example https://www.kaggle.com/aerdem4/ashrae-lofo-feature-importance):"
   ]
  },
  {
   "cell_type": "code",
   "execution_count": 10,
   "metadata": {},
   "outputs": [],
   "source": [
    "train_rows = data.date_block_num < 33\n",
    "test_rows = data.date_block_num == 33\n",
    "\n",
    "X_train = data[train_rows].drop(['item_cnt_month'], axis=1)\n",
    "y_train = data[train_rows]['item_cnt_month']\n",
    "X_test = data[test_rows].drop(['item_cnt_month'], axis=1)\n",
    "y_test = data[test_rows]['item_cnt_month']\n",
    "\n",
    "X_final_test = data[data.date_block_num == 34].drop(['item_cnt_month'],\n",
    "                                                    axis=1)"
   ]
  },
  {
   "cell_type": "code",
   "execution_count": 11,
   "metadata": {},
   "outputs": [],
   "source": [
    "categorical_features = ['item_category_id', 'shop_id']"
   ]
  },
  {
   "cell_type": "markdown",
   "metadata": {},
   "source": [
    "**PermutationImportance**\n",
    "<br/>\n",
    "- .fit 이 실행된 clf에 대하여 수행가능.\n",
    "<br/>\n",
    "- lightgbm.Dataset 클래스에 대해서는 수행하지 않음.\n",
    "<br/>"
   ]
  },
  {
   "cell_type": "code",
   "execution_count": null,
   "metadata": {
    "scrolled": true
   },
   "outputs": [
    {
     "name": "stderr",
     "output_type": "stream",
     "text": [
      "/usr/local/lib/python3.7/site-packages/sklearn/utils/deprecation.py:144: FutureWarning: The sklearn.metrics.scorer module is  deprecated in version 0.22 and will be removed in version 0.24. The corresponding classes / functions should instead be imported from sklearn.metrics. Anything that cannot be imported from sklearn.metrics is now part of the private API.\n",
      "  warnings.warn(message, FutureWarning)\n",
      "/usr/local/lib/python3.7/site-packages/sklearn/utils/deprecation.py:144: FutureWarning: The sklearn.feature_selection.base module is  deprecated in version 0.22 and will be removed in version 0.24. The corresponding classes / functions should instead be imported from sklearn.feature_selection. Anything that cannot be imported from sklearn.feature_selection is now part of the private API.\n",
      "  warnings.warn(message, FutureWarning)\n",
      "/usr/local/lib/python3.7/site-packages/sklearn/model_selection/_split.py:296: FutureWarning: Setting a random_state has no effect since shuffle is False. This will raise an error in 0.24. You should leave random_state to its default (None), or set shuffle=True.\n",
      "  FutureWarning\n"
     ]
    },
    {
     "name": "stdout",
     "output_type": "stream",
     "text": [
      ">>clf fit start\n"
     ]
    },
    {
     "name": "stderr",
     "output_type": "stream",
     "text": [
      "/usr/local/lib/python3.7/site-packages/lightgbm/engine.py:148: UserWarning: Found `num_boost_round` in params. Will use it instead of argument\n",
      "  warnings.warn(\"Found `{}` in params. Will use it instead of argument\".format(alias))\n"
     ]
    },
    {
     "name": "stdout",
     "output_type": "stream",
     "text": [
      "[1]\tvalid_0's multi_logloss: 0.552561\n",
      "[2]\tvalid_0's multi_logloss: 0.551543\n",
      "[3]\tvalid_0's multi_logloss: 0.536513\n",
      "[4]\tvalid_0's multi_logloss: 0.532938\n",
      "[5]\tvalid_0's multi_logloss: 0.525075\n",
      ">>clf fit finish\n",
      ">>perm fit start\n"
     ]
    }
   ],
   "source": [
    "import eli5\n",
    "from eli5.sklearn import PermutationImportance\n",
    "from lightgbm import LGBMClassifier\n",
    "kf = KFold(n_splits = 2, random_state=42)\n",
    "perms = []\n",
    "for train_index, test_index in list(kf.split(X_train, y_train)):\n",
    "    X_train2 = X_train.iloc[train_index, :]\n",
    "    y_train2 = y_train.iloc[train_index]\n",
    "    X_test2 = X_train.iloc[test_index, :]\n",
    "    y_test2 = y_train.iloc[test_index]\n",
    "    clf = LGBMClassifier(random_state=2020, n_threads=-1,  n_estimators=2, num_boost_round=5)\n",
    "    print('>>clf fit start')\n",
    "    clf.fit(X_train2, y_train2, \n",
    "            verbose=1,\n",
    "            eval_set=[(X_test2, y_test2)])\n",
    "    print('>>clf fit finish')\n",
    "    permutation_importance = PermutationImportance(clf, random_state=2020)\n",
    "    print('>>perm fit start')\n",
    "    permutation_importance.fit(X_train2, y_train2)\n",
    "    perms.append(permutation_importance)\n",
    "    print('>>perm fit finish')"
   ]
  },
  {
   "cell_type": "code",
   "execution_count": null,
   "metadata": {},
   "outputs": [],
   "source": [
    "display(eli5.show_weights(perms[0], feature_names = X_train.columns))"
   ]
  },
  {
   "cell_type": "code",
   "execution_count": null,
   "metadata": {},
   "outputs": [],
   "source": [
    "from tqdm import tqdm\n",
    "kf = KFold(n_splits = 5, random_state=42)\n",
    "resu1 = 0\n",
    "impor1 = 0\n",
    "resu3_mae=0\n",
    "y_pred = 0\n",
    "y_final_test = 0\n",
    "stack_train = np.zeros([X_train.shape[0], ])\n",
    "models = []\n",
    "for train_index, test_index in tqdm(list(kf.split(X_train, y_train))):\n",
    "    X_train2 = X_train.iloc[train_index, :]\n",
    "    y_train2 = y_train.iloc[train_index]\n",
    "    X_test2 = X_train.iloc[test_index, :]\n",
    "    y_test2 = y_train.iloc[test_index]\n",
    "    \n",
    "    d_training = lgb.Dataset(X_train2, label=y_train2,\n",
    "                             categorical_feature=categorical_features,\n",
    "                             free_raw_data=False)\n",
    "    d_test = lgb.Dataset(X_test2, label=y_test2,\n",
    "                         categorical_feature=categorical_features,\n",
    "                         free_raw_data=False)\n",
    "    \n",
    "    clf = lgb.train(params, train_set=d_training, num_boost_round=1000,\n",
    "                      valid_sets=[d_training, d_test], verbose_eval=25)\n",
    "\n",
    "    models.append(clf)\n",
    "    temp_predict = clf.predict(X_test2, num_iteration=clf.best_iteration)\n",
    "    stack_train[test_index] = temp_predict\n",
    "\n",
    "    y_pred += clf.predict(X_test, num_iteration=clf.best_iteration)/5\n",
    "    y_final_test += clf.predict(X_final_test, num_iteration=clf.best_iteration)/5\n",
    "    mse = mean_squared_error(y_test2, temp_predict)\n",
    "    mae = mean_absolute_error(y_test2, temp_predict)\n",
    "\n",
    "    resu1 += mse/5\n",
    "    resu3_mae += mae/5 \n",
    "    impor1 += clf.feature_importance()/5\n",
    "    del X_train2, y_train2, X_test2, y_test2; gc.collect()"
   ]
  },
  {
   "cell_type": "code",
   "execution_count": null,
   "metadata": {},
   "outputs": [],
   "source": [
    "df = pd.read_csv('../input/sample_submission.csv', index_col=False)\n",
    "df['item_cnt_month'] = y_final_test\n",
    "df.to_csv('../submission/lgbm_allfeatures_notuning_20200329.csv', index=False)\n",
    "print('done')"
   ]
  },
  {
   "cell_type": "markdown",
   "metadata": {},
   "source": [
    "LGBM feature importances:"
   ]
  },
  {
   "cell_type": "code",
   "execution_count": null,
   "metadata": {},
   "outputs": [],
   "source": [
    "df_fimp = pd.DataFrame()\n",
    "df_fimp[\"feature\"] = X_train.columns.values\n",
    "df_fimp[\"importance\"] = impor1\n",
    "\n",
    "\n",
    "plt.figure(figsize=(15, 10))\n",
    "sns.barplot(x=\"importance\", y=\"feature\", data=df_fimp.sort_values(by=\"importance\", ascending=False))\n",
    "plt.title(\"LightGBM Feature Importance\")\n",
    "plt.tight_layout()"
   ]
  },
  {
   "cell_type": "code",
   "execution_count": null,
   "metadata": {},
   "outputs": [],
   "source": []
  }
 ],
 "metadata": {
  "kernelspec": {
   "display_name": "Python 3",
   "language": "python",
   "name": "python3"
  },
  "language_info": {
   "codemirror_mode": {
    "name": "ipython",
    "version": 3
   },
   "file_extension": ".py",
   "mimetype": "text/x-python",
   "name": "python",
   "nbconvert_exporter": "python",
   "pygments_lexer": "ipython3",
   "version": "3.7.7"
  },
  "widgets": {
   "application/vnd.jupyter.widget-state+json": {
    "state": {
     "1a6156b5bb7e486d913e61a3e2e12edc": {
      "model_module": "@jupyter-widgets/base",
      "model_module_version": "1.2.0",
      "model_name": "LayoutModel",
      "state": {
       "_model_module": "@jupyter-widgets/base",
       "_model_module_version": "1.2.0",
       "_model_name": "LayoutModel",
       "_view_count": null,
       "_view_module": "@jupyter-widgets/base",
       "_view_module_version": "1.2.0",
       "_view_name": "LayoutView",
       "align_content": null,
       "align_items": null,
       "align_self": null,
       "border": null,
       "bottom": null,
       "display": null,
       "flex": null,
       "flex_flow": null,
       "grid_area": null,
       "grid_auto_columns": null,
       "grid_auto_flow": null,
       "grid_auto_rows": null,
       "grid_column": null,
       "grid_gap": null,
       "grid_row": null,
       "grid_template_areas": null,
       "grid_template_columns": null,
       "grid_template_rows": null,
       "height": null,
       "justify_content": null,
       "justify_items": null,
       "left": null,
       "margin": null,
       "max_height": null,
       "max_width": null,
       "min_height": null,
       "min_width": null,
       "object_fit": null,
       "object_position": null,
       "order": null,
       "overflow": null,
       "overflow_x": null,
       "overflow_y": null,
       "padding": null,
       "right": null,
       "top": null,
       "visibility": null,
       "width": null
      }
     },
     "1c1f4f69712649129ec0d4ae9a8128e0": {
      "model_module": "@jupyter-widgets/base",
      "model_module_version": "1.2.0",
      "model_name": "LayoutModel",
      "state": {
       "_model_module": "@jupyter-widgets/base",
       "_model_module_version": "1.2.0",
       "_model_name": "LayoutModel",
       "_view_count": null,
       "_view_module": "@jupyter-widgets/base",
       "_view_module_version": "1.2.0",
       "_view_name": "LayoutView",
       "align_content": null,
       "align_items": null,
       "align_self": null,
       "border": null,
       "bottom": null,
       "display": null,
       "flex": null,
       "flex_flow": null,
       "grid_area": null,
       "grid_auto_columns": null,
       "grid_auto_flow": null,
       "grid_auto_rows": null,
       "grid_column": null,
       "grid_gap": null,
       "grid_row": null,
       "grid_template_areas": null,
       "grid_template_columns": null,
       "grid_template_rows": null,
       "height": null,
       "justify_content": null,
       "justify_items": null,
       "left": null,
       "margin": null,
       "max_height": null,
       "max_width": null,
       "min_height": null,
       "min_width": null,
       "object_fit": null,
       "object_position": null,
       "order": null,
       "overflow": null,
       "overflow_x": null,
       "overflow_y": null,
       "padding": null,
       "right": null,
       "top": null,
       "visibility": null,
       "width": null
      }
     },
     "220b41daeaf04797bd5c9aff72651efd": {
      "model_module": "@jupyter-widgets/controls",
      "model_module_version": "1.5.0",
      "model_name": "HTMLModel",
      "state": {
       "_dom_classes": [],
       "_model_module": "@jupyter-widgets/controls",
       "_model_module_version": "1.5.0",
       "_model_name": "HTMLModel",
       "_view_count": null,
       "_view_module": "@jupyter-widgets/controls",
       "_view_module_version": "1.5.0",
       "_view_name": "HTMLView",
       "description": "",
       "description_tooltip": null,
       "layout": "IPY_MODEL_f3a9be5089cb4b22a819b8a9939abd0c",
       "placeholder": "​",
       "style": "IPY_MODEL_93da6d819c7b4047b0f8e3e2f2c82081",
       "value": " 34/34 [05:45&lt;00:00, 10.18s/it]"
      }
     },
     "2d65aeb883774200827deb5752397cc5": {
      "model_module": "@jupyter-widgets/base",
      "model_module_version": "1.2.0",
      "model_name": "LayoutModel",
      "state": {
       "_model_module": "@jupyter-widgets/base",
       "_model_module_version": "1.2.0",
       "_model_name": "LayoutModel",
       "_view_count": null,
       "_view_module": "@jupyter-widgets/base",
       "_view_module_version": "1.2.0",
       "_view_name": "LayoutView",
       "align_content": null,
       "align_items": null,
       "align_self": null,
       "border": null,
       "bottom": null,
       "display": null,
       "flex": null,
       "flex_flow": null,
       "grid_area": null,
       "grid_auto_columns": null,
       "grid_auto_flow": null,
       "grid_auto_rows": null,
       "grid_column": null,
       "grid_gap": null,
       "grid_row": null,
       "grid_template_areas": null,
       "grid_template_columns": null,
       "grid_template_rows": null,
       "height": null,
       "justify_content": null,
       "justify_items": null,
       "left": null,
       "margin": null,
       "max_height": null,
       "max_width": null,
       "min_height": null,
       "min_width": null,
       "object_fit": null,
       "object_position": null,
       "order": null,
       "overflow": null,
       "overflow_x": null,
       "overflow_y": null,
       "padding": null,
       "right": null,
       "top": null,
       "visibility": null,
       "width": null
      }
     },
     "45701d3e60ba48a7aef1a89dfe179c05": {
      "model_module": "@jupyter-widgets/controls",
      "model_module_version": "1.5.0",
      "model_name": "HTMLModel",
      "state": {
       "_dom_classes": [],
       "_model_module": "@jupyter-widgets/controls",
       "_model_module_version": "1.5.0",
       "_model_name": "HTMLModel",
       "_view_count": null,
       "_view_module": "@jupyter-widgets/controls",
       "_view_module_version": "1.5.0",
       "_view_name": "HTMLView",
       "description": "",
       "description_tooltip": null,
       "layout": "IPY_MODEL_5c692098fa6a42c7ae09e41283b1c067",
       "placeholder": "​",
       "style": "IPY_MODEL_4db96db88f954973bfde02c674096160",
       "value": " 5/5 [12:17&lt;00:00, 147.41s/it]"
      }
     },
     "4bd2c686a6ca4c0b818df59f97be61f3": {
      "model_module": "@jupyter-widgets/base",
      "model_module_version": "1.2.0",
      "model_name": "LayoutModel",
      "state": {
       "_model_module": "@jupyter-widgets/base",
       "_model_module_version": "1.2.0",
       "_model_name": "LayoutModel",
       "_view_count": null,
       "_view_module": "@jupyter-widgets/base",
       "_view_module_version": "1.2.0",
       "_view_name": "LayoutView",
       "align_content": null,
       "align_items": null,
       "align_self": null,
       "border": null,
       "bottom": null,
       "display": null,
       "flex": null,
       "flex_flow": null,
       "grid_area": null,
       "grid_auto_columns": null,
       "grid_auto_flow": null,
       "grid_auto_rows": null,
       "grid_column": null,
       "grid_gap": null,
       "grid_row": null,
       "grid_template_areas": null,
       "grid_template_columns": null,
       "grid_template_rows": null,
       "height": null,
       "justify_content": null,
       "justify_items": null,
       "left": null,
       "margin": null,
       "max_height": null,
       "max_width": null,
       "min_height": null,
       "min_width": null,
       "object_fit": null,
       "object_position": null,
       "order": null,
       "overflow": null,
       "overflow_x": null,
       "overflow_y": null,
       "padding": null,
       "right": null,
       "top": null,
       "visibility": null,
       "width": null
      }
     },
     "4db96db88f954973bfde02c674096160": {
      "model_module": "@jupyter-widgets/controls",
      "model_module_version": "1.5.0",
      "model_name": "DescriptionStyleModel",
      "state": {
       "_model_module": "@jupyter-widgets/controls",
       "_model_module_version": "1.5.0",
       "_model_name": "DescriptionStyleModel",
       "_view_count": null,
       "_view_module": "@jupyter-widgets/base",
       "_view_module_version": "1.2.0",
       "_view_name": "StyleView",
       "description_width": ""
      }
     },
     "5c692098fa6a42c7ae09e41283b1c067": {
      "model_module": "@jupyter-widgets/base",
      "model_module_version": "1.2.0",
      "model_name": "LayoutModel",
      "state": {
       "_model_module": "@jupyter-widgets/base",
       "_model_module_version": "1.2.0",
       "_model_name": "LayoutModel",
       "_view_count": null,
       "_view_module": "@jupyter-widgets/base",
       "_view_module_version": "1.2.0",
       "_view_name": "LayoutView",
       "align_content": null,
       "align_items": null,
       "align_self": null,
       "border": null,
       "bottom": null,
       "display": null,
       "flex": null,
       "flex_flow": null,
       "grid_area": null,
       "grid_auto_columns": null,
       "grid_auto_flow": null,
       "grid_auto_rows": null,
       "grid_column": null,
       "grid_gap": null,
       "grid_row": null,
       "grid_template_areas": null,
       "grid_template_columns": null,
       "grid_template_rows": null,
       "height": null,
       "justify_content": null,
       "justify_items": null,
       "left": null,
       "margin": null,
       "max_height": null,
       "max_width": null,
       "min_height": null,
       "min_width": null,
       "object_fit": null,
       "object_position": null,
       "order": null,
       "overflow": null,
       "overflow_x": null,
       "overflow_y": null,
       "padding": null,
       "right": null,
       "top": null,
       "visibility": null,
       "width": null
      }
     },
     "630ec6c9dd5b467bab8f178bc8ff612a": {
      "model_module": "@jupyter-widgets/controls",
      "model_module_version": "1.5.0",
      "model_name": "HBoxModel",
      "state": {
       "_dom_classes": [],
       "_model_module": "@jupyter-widgets/controls",
       "_model_module_version": "1.5.0",
       "_model_name": "HBoxModel",
       "_view_count": null,
       "_view_module": "@jupyter-widgets/controls",
       "_view_module_version": "1.5.0",
       "_view_name": "HBoxView",
       "box_style": "",
       "children": [
        "IPY_MODEL_86b8e5ae07a54701ac4df7ec01156a2e",
        "IPY_MODEL_45701d3e60ba48a7aef1a89dfe179c05"
       ],
       "layout": "IPY_MODEL_2d65aeb883774200827deb5752397cc5"
      }
     },
     "6bcd909676834d1c90b9de6a06987a10": {
      "model_module": "@jupyter-widgets/base",
      "model_module_version": "1.2.0",
      "model_name": "LayoutModel",
      "state": {
       "_model_module": "@jupyter-widgets/base",
       "_model_module_version": "1.2.0",
       "_model_name": "LayoutModel",
       "_view_count": null,
       "_view_module": "@jupyter-widgets/base",
       "_view_module_version": "1.2.0",
       "_view_name": "LayoutView",
       "align_content": null,
       "align_items": null,
       "align_self": null,
       "border": null,
       "bottom": null,
       "display": null,
       "flex": null,
       "flex_flow": null,
       "grid_area": null,
       "grid_auto_columns": null,
       "grid_auto_flow": null,
       "grid_auto_rows": null,
       "grid_column": null,
       "grid_gap": null,
       "grid_row": null,
       "grid_template_areas": null,
       "grid_template_columns": null,
       "grid_template_rows": null,
       "height": null,
       "justify_content": null,
       "justify_items": null,
       "left": null,
       "margin": null,
       "max_height": null,
       "max_width": null,
       "min_height": null,
       "min_width": null,
       "object_fit": null,
       "object_position": null,
       "order": null,
       "overflow": null,
       "overflow_x": null,
       "overflow_y": null,
       "padding": null,
       "right": null,
       "top": null,
       "visibility": null,
       "width": null
      }
     },
     "6f06017d88024dc09d4f4e9691604a14": {
      "model_module": "@jupyter-widgets/base",
      "model_module_version": "1.2.0",
      "model_name": "LayoutModel",
      "state": {
       "_model_module": "@jupyter-widgets/base",
       "_model_module_version": "1.2.0",
       "_model_name": "LayoutModel",
       "_view_count": null,
       "_view_module": "@jupyter-widgets/base",
       "_view_module_version": "1.2.0",
       "_view_name": "LayoutView",
       "align_content": null,
       "align_items": null,
       "align_self": null,
       "border": null,
       "bottom": null,
       "display": null,
       "flex": null,
       "flex_flow": null,
       "grid_area": null,
       "grid_auto_columns": null,
       "grid_auto_flow": null,
       "grid_auto_rows": null,
       "grid_column": null,
       "grid_gap": null,
       "grid_row": null,
       "grid_template_areas": null,
       "grid_template_columns": null,
       "grid_template_rows": null,
       "height": null,
       "justify_content": null,
       "justify_items": null,
       "left": null,
       "margin": null,
       "max_height": null,
       "max_width": null,
       "min_height": null,
       "min_width": null,
       "object_fit": null,
       "object_position": null,
       "order": null,
       "overflow": null,
       "overflow_x": null,
       "overflow_y": null,
       "padding": null,
       "right": null,
       "top": null,
       "visibility": null,
       "width": null
      }
     },
     "765797946f8640eb9743b1c2728c8176": {
      "model_module": "@jupyter-widgets/controls",
      "model_module_version": "1.5.0",
      "model_name": "HTMLModel",
      "state": {
       "_dom_classes": [],
       "_model_module": "@jupyter-widgets/controls",
       "_model_module_version": "1.5.0",
       "_model_name": "HTMLModel",
       "_view_count": null,
       "_view_module": "@jupyter-widgets/controls",
       "_view_module_version": "1.5.0",
       "_view_name": "HTMLView",
       "description": "",
       "description_tooltip": null,
       "layout": "IPY_MODEL_1a6156b5bb7e486d913e61a3e2e12edc",
       "placeholder": "​",
       "style": "IPY_MODEL_798a6a79f654457596b66684022d39c8",
       "value": " 5/5 [06:31&lt;00:00, 78.25s/it]"
      }
     },
     "798a6a79f654457596b66684022d39c8": {
      "model_module": "@jupyter-widgets/controls",
      "model_module_version": "1.5.0",
      "model_name": "DescriptionStyleModel",
      "state": {
       "_model_module": "@jupyter-widgets/controls",
       "_model_module_version": "1.5.0",
       "_model_name": "DescriptionStyleModel",
       "_view_count": null,
       "_view_module": "@jupyter-widgets/base",
       "_view_module_version": "1.2.0",
       "_view_name": "StyleView",
       "description_width": ""
      }
     },
     "803c22d2fc6e44c9b2a570063108e7f5": {
      "model_module": "@jupyter-widgets/controls",
      "model_module_version": "1.5.0",
      "model_name": "ProgressStyleModel",
      "state": {
       "_model_module": "@jupyter-widgets/controls",
       "_model_module_version": "1.5.0",
       "_model_name": "ProgressStyleModel",
       "_view_count": null,
       "_view_module": "@jupyter-widgets/base",
       "_view_module_version": "1.2.0",
       "_view_name": "StyleView",
       "bar_color": null,
       "description_width": "initial"
      }
     },
     "86b8e5ae07a54701ac4df7ec01156a2e": {
      "model_module": "@jupyter-widgets/controls",
      "model_module_version": "1.5.0",
      "model_name": "FloatProgressModel",
      "state": {
       "_dom_classes": [],
       "_model_module": "@jupyter-widgets/controls",
       "_model_module_version": "1.5.0",
       "_model_name": "FloatProgressModel",
       "_view_count": null,
       "_view_module": "@jupyter-widgets/controls",
       "_view_module_version": "1.5.0",
       "_view_name": "ProgressView",
       "bar_style": "success",
       "description": "100%",
       "description_tooltip": null,
       "layout": "IPY_MODEL_dd84b575bdad484598abf82d153df503",
       "max": 5,
       "min": 0,
       "orientation": "horizontal",
       "style": "IPY_MODEL_ab42b9c4bbc947f1a2b6356f16636fcc",
       "value": 5
      }
     },
     "93da6d819c7b4047b0f8e3e2f2c82081": {
      "model_module": "@jupyter-widgets/controls",
      "model_module_version": "1.5.0",
      "model_name": "DescriptionStyleModel",
      "state": {
       "_model_module": "@jupyter-widgets/controls",
       "_model_module_version": "1.5.0",
       "_model_name": "DescriptionStyleModel",
       "_view_count": null,
       "_view_module": "@jupyter-widgets/base",
       "_view_module_version": "1.2.0",
       "_view_name": "StyleView",
       "description_width": ""
      }
     },
     "940a74efa8b14f018aa41f7e7ca22a47": {
      "model_module": "@jupyter-widgets/controls",
      "model_module_version": "1.5.0",
      "model_name": "ProgressStyleModel",
      "state": {
       "_model_module": "@jupyter-widgets/controls",
       "_model_module_version": "1.5.0",
       "_model_name": "ProgressStyleModel",
       "_view_count": null,
       "_view_module": "@jupyter-widgets/base",
       "_view_module_version": "1.2.0",
       "_view_name": "StyleView",
       "bar_color": null,
       "description_width": "initial"
      }
     },
     "a6a9c7221a8b4839b816e05333016d36": {
      "model_module": "@jupyter-widgets/controls",
      "model_module_version": "1.5.0",
      "model_name": "FloatProgressModel",
      "state": {
       "_dom_classes": [],
       "_model_module": "@jupyter-widgets/controls",
       "_model_module_version": "1.5.0",
       "_model_name": "FloatProgressModel",
       "_view_count": null,
       "_view_module": "@jupyter-widgets/controls",
       "_view_module_version": "1.5.0",
       "_view_name": "ProgressView",
       "bar_style": "success",
       "description": "100%",
       "description_tooltip": null,
       "layout": "IPY_MODEL_6f06017d88024dc09d4f4e9691604a14",
       "max": 5,
       "min": 0,
       "orientation": "horizontal",
       "style": "IPY_MODEL_803c22d2fc6e44c9b2a570063108e7f5",
       "value": 5
      }
     },
     "ab42b9c4bbc947f1a2b6356f16636fcc": {
      "model_module": "@jupyter-widgets/controls",
      "model_module_version": "1.5.0",
      "model_name": "ProgressStyleModel",
      "state": {
       "_model_module": "@jupyter-widgets/controls",
       "_model_module_version": "1.5.0",
       "_model_name": "ProgressStyleModel",
       "_view_count": null,
       "_view_module": "@jupyter-widgets/base",
       "_view_module_version": "1.2.0",
       "_view_name": "StyleView",
       "bar_color": null,
       "description_width": "initial"
      }
     },
     "bad7812d7b07422aac80eb7ce6862bf3": {
      "model_module": "@jupyter-widgets/controls",
      "model_module_version": "1.5.0",
      "model_name": "HBoxModel",
      "state": {
       "_dom_classes": [],
       "_model_module": "@jupyter-widgets/controls",
       "_model_module_version": "1.5.0",
       "_model_name": "HBoxModel",
       "_view_count": null,
       "_view_module": "@jupyter-widgets/controls",
       "_view_module_version": "1.5.0",
       "_view_name": "HBoxView",
       "box_style": "",
       "children": [
        "IPY_MODEL_a6a9c7221a8b4839b816e05333016d36",
        "IPY_MODEL_765797946f8640eb9743b1c2728c8176"
       ],
       "layout": "IPY_MODEL_6bcd909676834d1c90b9de6a06987a10"
      }
     },
     "dd84b575bdad484598abf82d153df503": {
      "model_module": "@jupyter-widgets/base",
      "model_module_version": "1.2.0",
      "model_name": "LayoutModel",
      "state": {
       "_model_module": "@jupyter-widgets/base",
       "_model_module_version": "1.2.0",
       "_model_name": "LayoutModel",
       "_view_count": null,
       "_view_module": "@jupyter-widgets/base",
       "_view_module_version": "1.2.0",
       "_view_name": "LayoutView",
       "align_content": null,
       "align_items": null,
       "align_self": null,
       "border": null,
       "bottom": null,
       "display": null,
       "flex": null,
       "flex_flow": null,
       "grid_area": null,
       "grid_auto_columns": null,
       "grid_auto_flow": null,
       "grid_auto_rows": null,
       "grid_column": null,
       "grid_gap": null,
       "grid_row": null,
       "grid_template_areas": null,
       "grid_template_columns": null,
       "grid_template_rows": null,
       "height": null,
       "justify_content": null,
       "justify_items": null,
       "left": null,
       "margin": null,
       "max_height": null,
       "max_width": null,
       "min_height": null,
       "min_width": null,
       "object_fit": null,
       "object_position": null,
       "order": null,
       "overflow": null,
       "overflow_x": null,
       "overflow_y": null,
       "padding": null,
       "right": null,
       "top": null,
       "visibility": null,
       "width": null
      }
     },
     "e4634cdcc934417f94b1041cb50462a8": {
      "model_module": "@jupyter-widgets/controls",
      "model_module_version": "1.5.0",
      "model_name": "FloatProgressModel",
      "state": {
       "_dom_classes": [],
       "_model_module": "@jupyter-widgets/controls",
       "_model_module_version": "1.5.0",
       "_model_name": "FloatProgressModel",
       "_view_count": null,
       "_view_module": "@jupyter-widgets/controls",
       "_view_module_version": "1.5.0",
       "_view_name": "ProgressView",
       "bar_style": "success",
       "description": "100%",
       "description_tooltip": null,
       "layout": "IPY_MODEL_1c1f4f69712649129ec0d4ae9a8128e0",
       "max": 34,
       "min": 0,
       "orientation": "horizontal",
       "style": "IPY_MODEL_940a74efa8b14f018aa41f7e7ca22a47",
       "value": 34
      }
     },
     "ecaff03808354be5913f54b16bdb5a47": {
      "model_module": "@jupyter-widgets/controls",
      "model_module_version": "1.5.0",
      "model_name": "HBoxModel",
      "state": {
       "_dom_classes": [],
       "_model_module": "@jupyter-widgets/controls",
       "_model_module_version": "1.5.0",
       "_model_name": "HBoxModel",
       "_view_count": null,
       "_view_module": "@jupyter-widgets/controls",
       "_view_module_version": "1.5.0",
       "_view_name": "HBoxView",
       "box_style": "",
       "children": [
        "IPY_MODEL_e4634cdcc934417f94b1041cb50462a8",
        "IPY_MODEL_220b41daeaf04797bd5c9aff72651efd"
       ],
       "layout": "IPY_MODEL_4bd2c686a6ca4c0b818df59f97be61f3"
      }
     },
     "f3a9be5089cb4b22a819b8a9939abd0c": {
      "model_module": "@jupyter-widgets/base",
      "model_module_version": "1.2.0",
      "model_name": "LayoutModel",
      "state": {
       "_model_module": "@jupyter-widgets/base",
       "_model_module_version": "1.2.0",
       "_model_name": "LayoutModel",
       "_view_count": null,
       "_view_module": "@jupyter-widgets/base",
       "_view_module_version": "1.2.0",
       "_view_name": "LayoutView",
       "align_content": null,
       "align_items": null,
       "align_self": null,
       "border": null,
       "bottom": null,
       "display": null,
       "flex": null,
       "flex_flow": null,
       "grid_area": null,
       "grid_auto_columns": null,
       "grid_auto_flow": null,
       "grid_auto_rows": null,
       "grid_column": null,
       "grid_gap": null,
       "grid_row": null,
       "grid_template_areas": null,
       "grid_template_columns": null,
       "grid_template_rows": null,
       "height": null,
       "justify_content": null,
       "justify_items": null,
       "left": null,
       "margin": null,
       "max_height": null,
       "max_width": null,
       "min_height": null,
       "min_width": null,
       "object_fit": null,
       "object_position": null,
       "order": null,
       "overflow": null,
       "overflow_x": null,
       "overflow_y": null,
       "padding": null,
       "right": null,
       "top": null,
       "visibility": null,
       "width": null
      }
     }
    },
    "version_major": 2,
    "version_minor": 0
   }
  }
 },
 "nbformat": 4,
 "nbformat_minor": 1
}
