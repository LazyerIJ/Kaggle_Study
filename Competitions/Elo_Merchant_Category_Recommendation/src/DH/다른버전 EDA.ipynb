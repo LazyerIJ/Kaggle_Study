{
 "cells": [
  {
   "cell_type": "code",
   "execution_count": 1,
   "metadata": {},
   "outputs": [
    {
     "name": "stdout",
     "output_type": "stream",
     "text": [
      "['Data_Dictionary.xlsx', 'historical_transactions.csv', 'merchants.csv', 'new_merchant_transactions.csv', 'sample_submission.csv', 'test.csv', 'train.csv']\n"
     ]
    }
   ],
   "source": [
    "import numpy as np\n",
    "import pandas as pd\n",
    "import matplotlib.pyplot as plt\n",
    "import seaborn as sns\n",
    "\n",
    "import os\n",
    "print(os.listdir(\"D:/Data/elo\"))"
   ]
  },
  {
   "cell_type": "code",
   "execution_count": 2,
   "metadata": {},
   "outputs": [],
   "source": [
    "test =pd.read_csv(\"D:/Data/elo/test.csv\") \n",
    "train = pd.read_csv(\"D:/Data/elo/train.csv\")\n",
    "his_trans =pd.read_csv(\"D:/Data/elo/historical_transactions.csv\") \n",
    "new_merchant_t = pd.read_csv(\"D:/Data/elo/new_merchant_transactions.csv\")\n",
    "merchants = pd.read_csv(\"D:/Data/elo/merchants.csv\")"
   ]
  },
  {
   "cell_type": "code",
   "execution_count": 3,
   "metadata": {},
   "outputs": [
    {
     "name": "stdout",
     "output_type": "stream",
     "text": [
      "(201917, 6)\n",
      "(123623, 5)\n",
      "(334696, 22)\n",
      "(1963031, 14)\n",
      "(29112361, 14)\n"
     ]
    }
   ],
   "source": [
    "print(train.shape)\n",
    "print(test.shape)\n",
    "print(merchants.shape)\n",
    "print(new_merchant_t.shape)\n",
    "print(his_trans.shape)\n"
   ]
  },
  {
   "cell_type": "code",
   "execution_count": null,
   "metadata": {},
   "outputs": [],
   "source": []
  },
  {
   "cell_type": "code",
   "execution_count": null,
   "metadata": {},
   "outputs": [],
   "source": []
  },
  {
   "cell_type": "code",
   "execution_count": 4,
   "metadata": {},
   "outputs": [],
   "source": [
    "train['first_active_month'] = pd.to_datetime(train['first_active_month']).apply(lambda x: x.strftime('%Y-%m'))"
   ]
  },
  {
   "cell_type": "code",
   "execution_count": 5,
   "metadata": {
    "scrolled": true
   },
   "outputs": [
    {
     "name": "stdout",
     "output_type": "stream",
     "text": [
      "authorized_flag          object\n",
      "card_id                  object\n",
      "city_id                   int64\n",
      "category_1               object\n",
      "installments              int64\n",
      "category_3               object\n",
      "merchant_category_id      int64\n",
      "merchant_id              object\n",
      "month_lag                 int64\n",
      "purchase_amount         float64\n",
      "purchase_date            object\n",
      "category_2              float64\n",
      "state_id                  int64\n",
      "subsector_id              int64\n",
      "dtype: object\n",
      "authorized_flag          object\n",
      "card_id                  object\n",
      "city_id                   int64\n",
      "category_1               object\n",
      "installments              int64\n",
      "category_3               object\n",
      "merchant_category_id      int64\n",
      "merchant_id              object\n",
      "month_lag                 int64\n",
      "purchase_amount         float64\n",
      "purchase_date            object\n",
      "category_2              float64\n",
      "state_id                  int64\n",
      "subsector_id              int64\n",
      "dtype: object\n"
     ]
    }
   ],
   "source": [
    "print(new_merchant_t.dtypes)\n",
    "print(his_trans.dtypes)"
   ]
  },
  {
   "cell_type": "code",
   "execution_count": 6,
   "metadata": {},
   "outputs": [],
   "source": [
    "new_merchant_t['city_id'] = new_merchant_t['city_id'].astype(object)\n",
    "new_merchant_t['merchant_category_id'] = new_merchant_t['merchant_category_id'].astype(object)\n",
    "new_merchant_t['category_2'] = new_merchant_t['category_2'].astype(object)\n",
    "new_merchant_t['state_id'] = new_merchant_t['state_id'].astype(object)\n",
    "new_merchant_t['subsector_id'] = new_merchant_t['subsector_id'].astype(object)\n",
    "new_merchant_t['purchase_date'] = pd.to_datetime(new_merchant_t['purchase_date'])\n",
    "\n",
    "his_trans['city_id'] = his_trans['city_id'].astype(object)\n",
    "his_trans['merchant_category_id'] = his_trans['merchant_category_id'].astype(object)\n",
    "his_trans['category_2'] = his_trans['category_2'].astype(object)\n",
    "his_trans['state_id'] = his_trans['state_id'].astype(object)\n",
    "his_trans['subsector_id'] = his_trans['subsector_id'].astype(object)\n",
    "his_trans['purchase_date'] = pd.to_datetime(his_trans['purchase_date'])"
   ]
  },
  {
   "cell_type": "code",
   "execution_count": 7,
   "metadata": {},
   "outputs": [
    {
     "name": "stdout",
     "output_type": "stream",
     "text": [
      "merchant_id                     object\n",
      "merchant_group_id                int64\n",
      "merchant_category_id             int64\n",
      "subsector_id                     int64\n",
      "numerical_1                    float64\n",
      "numerical_2                    float64\n",
      "category_1                      object\n",
      "most_recent_sales_range         object\n",
      "most_recent_purchases_range     object\n",
      "avg_sales_lag3                 float64\n",
      "avg_purchases_lag3             float64\n",
      "active_months_lag3               int64\n",
      "avg_sales_lag6                 float64\n",
      "avg_purchases_lag6             float64\n",
      "active_months_lag6               int64\n",
      "avg_sales_lag12                float64\n",
      "avg_purchases_lag12            float64\n",
      "active_months_lag12              int64\n",
      "category_4                      object\n",
      "city_id                          int64\n",
      "state_id                         int64\n",
      "category_2                     float64\n",
      "dtype: object\n"
     ]
    }
   ],
   "source": [
    "print(merchants.dtypes)"
   ]
  },
  {
   "cell_type": "code",
   "execution_count": 8,
   "metadata": {
    "scrolled": true
   },
   "outputs": [],
   "source": [
    "merchants['merchant_group_id'] = merchants['merchant_group_id'].astype(object)\n",
    "merchants['merchant_category_id'] = merchants['merchant_category_id'].astype(object)\n",
    "merchants['subsector_id'] = merchants['subsector_id'].astype(object)\n",
    "merchants['city_id'] = merchants['city_id'].astype(object)\n",
    "merchants['state_id'] = merchants['state_id'].astype(object)\n",
    "merchants['category_2'] = merchants['category_2'].astype(object)"
   ]
  },
  {
   "cell_type": "code",
   "execution_count": 9,
   "metadata": {},
   "outputs": [
    {
     "data": {
      "text/html": [
       "<div>\n",
       "<style scoped>\n",
       "    .dataframe tbody tr th:only-of-type {\n",
       "        vertical-align: middle;\n",
       "    }\n",
       "\n",
       "    .dataframe tbody tr th {\n",
       "        vertical-align: top;\n",
       "    }\n",
       "\n",
       "    .dataframe thead th {\n",
       "        text-align: right;\n",
       "    }\n",
       "</style>\n",
       "<table border=\"1\" class=\"dataframe\">\n",
       "  <thead>\n",
       "    <tr style=\"text-align: right;\">\n",
       "      <th></th>\n",
       "      <th>first_active_month</th>\n",
       "      <th>card_id</th>\n",
       "      <th>feature_1</th>\n",
       "      <th>feature_2</th>\n",
       "      <th>feature_3</th>\n",
       "      <th>target</th>\n",
       "    </tr>\n",
       "  </thead>\n",
       "  <tbody>\n",
       "    <tr>\n",
       "      <th>0</th>\n",
       "      <td>2017-06</td>\n",
       "      <td>C_ID_92a2005557</td>\n",
       "      <td>5</td>\n",
       "      <td>2</td>\n",
       "      <td>1</td>\n",
       "      <td>-0.820283</td>\n",
       "    </tr>\n",
       "    <tr>\n",
       "      <th>1</th>\n",
       "      <td>2017-01</td>\n",
       "      <td>C_ID_3d0044924f</td>\n",
       "      <td>4</td>\n",
       "      <td>1</td>\n",
       "      <td>0</td>\n",
       "      <td>0.392913</td>\n",
       "    </tr>\n",
       "    <tr>\n",
       "      <th>2</th>\n",
       "      <td>2016-08</td>\n",
       "      <td>C_ID_d639edf6cd</td>\n",
       "      <td>2</td>\n",
       "      <td>2</td>\n",
       "      <td>0</td>\n",
       "      <td>0.688056</td>\n",
       "    </tr>\n",
       "    <tr>\n",
       "      <th>3</th>\n",
       "      <td>2017-09</td>\n",
       "      <td>C_ID_186d6a6901</td>\n",
       "      <td>4</td>\n",
       "      <td>3</td>\n",
       "      <td>0</td>\n",
       "      <td>0.142495</td>\n",
       "    </tr>\n",
       "    <tr>\n",
       "      <th>4</th>\n",
       "      <td>2017-11</td>\n",
       "      <td>C_ID_cdbd2c0db2</td>\n",
       "      <td>1</td>\n",
       "      <td>3</td>\n",
       "      <td>0</td>\n",
       "      <td>-0.159749</td>\n",
       "    </tr>\n",
       "    <tr>\n",
       "      <th>5</th>\n",
       "      <td>2016-09</td>\n",
       "      <td>C_ID_0894217f2f</td>\n",
       "      <td>4</td>\n",
       "      <td>2</td>\n",
       "      <td>0</td>\n",
       "      <td>0.871585</td>\n",
       "    </tr>\n",
       "    <tr>\n",
       "      <th>6</th>\n",
       "      <td>2016-12</td>\n",
       "      <td>C_ID_7e63323c00</td>\n",
       "      <td>3</td>\n",
       "      <td>2</td>\n",
       "      <td>1</td>\n",
       "      <td>0.230129</td>\n",
       "    </tr>\n",
       "    <tr>\n",
       "      <th>7</th>\n",
       "      <td>2017-09</td>\n",
       "      <td>C_ID_dfa21fc124</td>\n",
       "      <td>3</td>\n",
       "      <td>2</td>\n",
       "      <td>1</td>\n",
       "      <td>2.135850</td>\n",
       "    </tr>\n",
       "    <tr>\n",
       "      <th>8</th>\n",
       "      <td>2017-08</td>\n",
       "      <td>C_ID_fe0fdac8ea</td>\n",
       "      <td>2</td>\n",
       "      <td>1</td>\n",
       "      <td>0</td>\n",
       "      <td>-0.065406</td>\n",
       "    </tr>\n",
       "    <tr>\n",
       "      <th>9</th>\n",
       "      <td>2016-08</td>\n",
       "      <td>C_ID_bf62c0b49d</td>\n",
       "      <td>2</td>\n",
       "      <td>2</td>\n",
       "      <td>0</td>\n",
       "      <td>0.300062</td>\n",
       "    </tr>\n",
       "  </tbody>\n",
       "</table>\n",
       "</div>"
      ],
      "text/plain": [
       "  first_active_month          card_id  feature_1  feature_2  feature_3  \\\n",
       "0            2017-06  C_ID_92a2005557          5          2          1   \n",
       "1            2017-01  C_ID_3d0044924f          4          1          0   \n",
       "2            2016-08  C_ID_d639edf6cd          2          2          0   \n",
       "3            2017-09  C_ID_186d6a6901          4          3          0   \n",
       "4            2017-11  C_ID_cdbd2c0db2          1          3          0   \n",
       "5            2016-09  C_ID_0894217f2f          4          2          0   \n",
       "6            2016-12  C_ID_7e63323c00          3          2          1   \n",
       "7            2017-09  C_ID_dfa21fc124          3          2          1   \n",
       "8            2017-08  C_ID_fe0fdac8ea          2          1          0   \n",
       "9            2016-08  C_ID_bf62c0b49d          2          2          0   \n",
       "\n",
       "     target  \n",
       "0 -0.820283  \n",
       "1  0.392913  \n",
       "2  0.688056  \n",
       "3  0.142495  \n",
       "4 -0.159749  \n",
       "5  0.871585  \n",
       "6  0.230129  \n",
       "7  2.135850  \n",
       "8 -0.065406  \n",
       "9  0.300062  "
      ]
     },
     "execution_count": 9,
     "metadata": {},
     "output_type": "execute_result"
    }
   ],
   "source": [
    "train.head(10)"
   ]
  },
  {
   "cell_type": "code",
   "execution_count": 10,
   "metadata": {},
   "outputs": [
    {
     "data": {
      "text/plain": [
       "count    201917.000000\n",
       "mean         -0.393636\n",
       "std           3.850500\n",
       "min         -33.219281\n",
       "25%          -0.883110\n",
       "50%          -0.023437\n",
       "75%           0.765453\n",
       "max          17.965068\n",
       "Name: target, dtype: float64"
      ]
     },
     "execution_count": 10,
     "metadata": {},
     "output_type": "execute_result"
    }
   ],
   "source": [
    "train['target'].describe()"
   ]
  },
  {
   "cell_type": "code",
   "execution_count": 11,
   "metadata": {},
   "outputs": [
    {
     "data": {
      "image/png": "[encoded data removed]",
      "text/plain": [
       "<Figure size 576x432 with 1 Axes>"
      ]
     },
     "metadata": {
      "needs_background": "light"
     },
     "output_type": "display_data"
    }
   ],
   "source": [
    "f, ax = plt.subplots(figsize=(8, 6))\n",
    "fig = sns.boxplot(train.target)"
   ]
  },
  {
   "cell_type": "code",
   "execution_count": 12,
   "metadata": {},
   "outputs": [
    {
     "data": {
      "text/plain": [
       "<matplotlib.axes._subplots.AxesSubplot at 0x2987cce19b0>"
      ]
     },
     "execution_count": 12,
     "metadata": {},
     "output_type": "execute_result"
    },
    {
     "data": {
      "image/png": "[encoded data removed]",
      "text/plain": [
       "<Figure size 720x576 with 1 Axes>"
      ]
     },
     "metadata": {
      "needs_background": "light"
     },
     "output_type": "display_data"
    }
   ],
   "source": [
    "f, ax = plt.subplots(figsize=(10, 8))\n",
    "sns.distplot(train['target'])"
   ]
  },
  {
   "cell_type": "code",
   "execution_count": 13,
   "metadata": {},
   "outputs": [
    {
     "data": {
      "text/plain": [
       "<matplotlib.axes._subplots.AxesSubplot at 0x297beede9b0>"
      ]
     },
     "execution_count": 13,
     "metadata": {},
     "output_type": "execute_result"
    },
    {
     "data": {
      "image/png": "[encoded data removed]",
      "text/plain": [
       "<Figure size 432x288 with 2 Axes>"
      ]
     },
     "metadata": {
      "needs_background": "light"
     },
     "output_type": "display_data"
    }
   ],
   "source": [
    "# calculate the correlation matrix\n",
    "corr = train.corr()\n",
    "\n",
    "# plot the heatmap\n",
    "sns.heatmap(corr, \n",
    "        xticklabels=corr.columns,\n",
    "        yticklabels=corr.columns, annot=True)"
   ]
  },
  {
   "cell_type": "code",
   "execution_count": 14,
   "metadata": {},
   "outputs": [
    {
     "data": {
      "image/png": "[encoded data removed]",
      "text/plain": [
       "<Figure size 432x432 with 4 Axes>"
      ]
     },
     "metadata": {
      "needs_background": "light"
     },
     "output_type": "display_data"
    }
   ],
   "source": [
    "col_list = train.columns.tolist()\n",
    "col_list = col_list[2:]\n",
    "f = pd.melt(train, value_vars=col_list)\n",
    "g = sns.FacetGrid(f, col=\"variable\",  col_wrap=2, sharex=False, sharey=False)\n",
    "g = g.map(sns.distplot, \"value\")"
   ]
  },
  {
   "cell_type": "code",
   "execution_count": 15,
   "metadata": {},
   "outputs": [
    {
     "data": {
      "image/png": "[encoded data removed]",
      "text/plain": [
       "<Figure size 432x432 with 3 Axes>"
      ]
     },
     "metadata": {
      "needs_background": "light"
     },
     "output_type": "display_data"
    }
   ],
   "source": [
    "col_list = test.columns.tolist()\n",
    "col_list = col_list[2:]\n",
    "f = pd.melt(test, value_vars=col_list)\n",
    "g = sns.FacetGrid(f, col=\"variable\",  col_wrap=2, sharex=False, sharey=False)\n",
    "g = g.map(sns.distplot, \"value\")"
   ]
  },
  {
   "cell_type": "code",
   "execution_count": 16,
   "metadata": {
    "scrolled": true
   },
   "outputs": [
    {
     "data": {
      "image/png": "[encoded data removed]",
      "text/plain": [
       "<Figure size 1152x432 with 4 Axes>"
      ]
     },
     "metadata": {
      "needs_background": "light"
     },
     "output_type": "display_data"
    },
    {
     "data": {
      "image/png": "[encoded data removed]",
      "text/plain": [
       "<Figure size 1152x432 with 4 Axes>"
      ]
     },
     "metadata": {
      "needs_background": "light"
     },
     "output_type": "display_data"
    }
   ],
   "source": [
    "fig, ax = plt.subplots(1, 4, figsize = (16, 6));\n",
    "his_trans['authorized_flag'].value_counts().sort_index().plot(kind='bar', ax=ax[0], color='teal', title='authorized_flag');\n",
    "his_trans['category_1'].value_counts().sort_index().plot(kind='bar', ax=ax[1], color='brown', title='category_1');\n",
    "his_trans['category_2'].value_counts().sort_index().plot(kind='bar', ax=ax[2], color='gold', title='category_2');\n",
    "his_trans['category_3'].value_counts().sort_index().plot(kind='bar', ax=ax[3], color='purple', title='category_3');\n",
    "plt.suptitle('Counts of categiories historical transaction');\n",
    "fig, ax = plt.subplots(1, 4, figsize = (16, 6));\n",
    "new_merchant_t['authorized_flag'].value_counts().sort_index().plot(kind='bar', ax=ax[0], color='teal', title='authorized_flag');\n",
    "new_merchant_t['category_1'].value_counts().sort_index().plot(kind='bar', ax=ax[1], color='brown', title='category_1');\n",
    "new_merchant_t['category_2'].value_counts().sort_index().plot(kind='bar', ax=ax[2], color='gold', title='category_2');\n",
    "new_merchant_t['category_3'].value_counts().sort_index().plot(kind='bar', ax=ax[3], color='purple', title='category_3');\n",
    "plt.suptitle('Counts of categiories new merchant transaction');"
   ]
  },
  {
   "cell_type": "code",
   "execution_count": 17,
   "metadata": {},
   "outputs": [
    {
     "data": {
      "text/html": [
       "<div>\n",
       "<style scoped>\n",
       "    .dataframe tbody tr th:only-of-type {\n",
       "        vertical-align: middle;\n",
       "    }\n",
       "\n",
       "    .dataframe tbody tr th {\n",
       "        vertical-align: top;\n",
       "    }\n",
       "\n",
       "    .dataframe thead th {\n",
       "        text-align: right;\n",
       "    }\n",
       "</style>\n",
       "<table border=\"1\" class=\"dataframe\">\n",
       "  <thead>\n",
       "    <tr style=\"text-align: right;\">\n",
       "      <th></th>\n",
       "      <th>authorized_flag</th>\n",
       "      <th>card_id</th>\n",
       "      <th>city_id</th>\n",
       "      <th>category_1</th>\n",
       "      <th>installments</th>\n",
       "      <th>category_3</th>\n",
       "      <th>merchant_category_id</th>\n",
       "      <th>merchant_id</th>\n",
       "      <th>month_lag</th>\n",
       "      <th>purchase_amount</th>\n",
       "      <th>purchase_date</th>\n",
       "      <th>category_2</th>\n",
       "      <th>state_id</th>\n",
       "      <th>subsector_id</th>\n",
       "    </tr>\n",
       "  </thead>\n",
       "  <tbody>\n",
       "    <tr>\n",
       "      <th>115</th>\n",
       "      <td>N</td>\n",
       "      <td>C_ID_4e6213e9bc</td>\n",
       "      <td>88</td>\n",
       "      <td>N</td>\n",
       "      <td>0</td>\n",
       "      <td>A</td>\n",
       "      <td>842</td>\n",
       "      <td>M_ID_22c9cfa265</td>\n",
       "      <td>-10</td>\n",
       "      <td>-0.730379</td>\n",
       "      <td>2017-04-07 12:58:09</td>\n",
       "      <td>1</td>\n",
       "      <td>16</td>\n",
       "      <td>37</td>\n",
       "    </tr>\n",
       "    <tr>\n",
       "      <th>132</th>\n",
       "      <td>N</td>\n",
       "      <td>C_ID_4e6213e9bc</td>\n",
       "      <td>88</td>\n",
       "      <td>N</td>\n",
       "      <td>0</td>\n",
       "      <td>A</td>\n",
       "      <td>367</td>\n",
       "      <td>M_ID_86ec983688</td>\n",
       "      <td>-5</td>\n",
       "      <td>-0.723782</td>\n",
       "      <td>2017-09-17 22:40:27</td>\n",
       "      <td>1</td>\n",
       "      <td>16</td>\n",
       "      <td>16</td>\n",
       "    </tr>\n",
       "    <tr>\n",
       "      <th>148</th>\n",
       "      <td>N</td>\n",
       "      <td>C_ID_4e6213e9bc</td>\n",
       "      <td>88</td>\n",
       "      <td>N</td>\n",
       "      <td>0</td>\n",
       "      <td>A</td>\n",
       "      <td>367</td>\n",
       "      <td>M_ID_86ec983688</td>\n",
       "      <td>-5</td>\n",
       "      <td>-0.723782</td>\n",
       "      <td>2017-09-17 22:40:26</td>\n",
       "      <td>1</td>\n",
       "      <td>16</td>\n",
       "      <td>16</td>\n",
       "    </tr>\n",
       "    <tr>\n",
       "      <th>168</th>\n",
       "      <td>N</td>\n",
       "      <td>C_ID_4e6213e9bc</td>\n",
       "      <td>333</td>\n",
       "      <td>N</td>\n",
       "      <td>0</td>\n",
       "      <td>A</td>\n",
       "      <td>605</td>\n",
       "      <td>M_ID_c2ae34c2ef</td>\n",
       "      <td>0</td>\n",
       "      <td>-0.664262</td>\n",
       "      <td>2018-02-20 10:57:50</td>\n",
       "      <td>1</td>\n",
       "      <td>9</td>\n",
       "      <td>2</td>\n",
       "    </tr>\n",
       "    <tr>\n",
       "      <th>213</th>\n",
       "      <td>N</td>\n",
       "      <td>C_ID_4e6213e9bc</td>\n",
       "      <td>88</td>\n",
       "      <td>N</td>\n",
       "      <td>0</td>\n",
       "      <td>A</td>\n",
       "      <td>560</td>\n",
       "      <td>M_ID_e6d5ae8ea6</td>\n",
       "      <td>-7</td>\n",
       "      <td>-0.738132</td>\n",
       "      <td>2017-07-08 07:33:31</td>\n",
       "      <td>1</td>\n",
       "      <td>16</td>\n",
       "      <td>34</td>\n",
       "    </tr>\n",
       "    <tr>\n",
       "      <th>294</th>\n",
       "      <td>N</td>\n",
       "      <td>C_ID_4e6213e9bc</td>\n",
       "      <td>88</td>\n",
       "      <td>N</td>\n",
       "      <td>0</td>\n",
       "      <td>A</td>\n",
       "      <td>278</td>\n",
       "      <td>M_ID_21e1552dab</td>\n",
       "      <td>-11</td>\n",
       "      <td>-0.734135</td>\n",
       "      <td>2017-03-22 15:53:08</td>\n",
       "      <td>1</td>\n",
       "      <td>16</td>\n",
       "      <td>37</td>\n",
       "    </tr>\n",
       "    <tr>\n",
       "      <th>306</th>\n",
       "      <td>N</td>\n",
       "      <td>C_ID_4e6213e9bc</td>\n",
       "      <td>88</td>\n",
       "      <td>N</td>\n",
       "      <td>0</td>\n",
       "      <td>A</td>\n",
       "      <td>560</td>\n",
       "      <td>M_ID_e6d5ae8ea6</td>\n",
       "      <td>-7</td>\n",
       "      <td>-0.738132</td>\n",
       "      <td>2017-07-08 07:32:30</td>\n",
       "      <td>1</td>\n",
       "      <td>16</td>\n",
       "      <td>34</td>\n",
       "    </tr>\n",
       "    <tr>\n",
       "      <th>365</th>\n",
       "      <td>N</td>\n",
       "      <td>C_ID_4e6213e9bc</td>\n",
       "      <td>88</td>\n",
       "      <td>N</td>\n",
       "      <td>0</td>\n",
       "      <td>A</td>\n",
       "      <td>560</td>\n",
       "      <td>M_ID_e6d5ae8ea6</td>\n",
       "      <td>-7</td>\n",
       "      <td>-0.738132</td>\n",
       "      <td>2017-07-08 07:32:49</td>\n",
       "      <td>1</td>\n",
       "      <td>16</td>\n",
       "      <td>34</td>\n",
       "    </tr>\n",
       "    <tr>\n",
       "      <th>368</th>\n",
       "      <td>N</td>\n",
       "      <td>C_ID_4e6213e9bc</td>\n",
       "      <td>88</td>\n",
       "      <td>N</td>\n",
       "      <td>0</td>\n",
       "      <td>A</td>\n",
       "      <td>278</td>\n",
       "      <td>M_ID_21e1552dab</td>\n",
       "      <td>-11</td>\n",
       "      <td>-0.734135</td>\n",
       "      <td>2017-03-22 15:52:52</td>\n",
       "      <td>1</td>\n",
       "      <td>16</td>\n",
       "      <td>37</td>\n",
       "    </tr>\n",
       "    <tr>\n",
       "      <th>400</th>\n",
       "      <td>N</td>\n",
       "      <td>C_ID_5037ff576e</td>\n",
       "      <td>322</td>\n",
       "      <td>N</td>\n",
       "      <td>1</td>\n",
       "      <td>B</td>\n",
       "      <td>278</td>\n",
       "      <td>M_ID_b61c7d1be0</td>\n",
       "      <td>-3</td>\n",
       "      <td>-0.595260</td>\n",
       "      <td>2017-09-07 20:57:19</td>\n",
       "      <td>3</td>\n",
       "      <td>11</td>\n",
       "      <td>37</td>\n",
       "    </tr>\n",
       "  </tbody>\n",
       "</table>\n",
       "</div>"
      ],
      "text/plain": [
       "    authorized_flag          card_id city_id category_1  installments  \\\n",
       "115               N  C_ID_4e6213e9bc      88          N             0   \n",
       "132               N  C_ID_4e6213e9bc      88          N             0   \n",
       "148               N  C_ID_4e6213e9bc      88          N             0   \n",
       "168               N  C_ID_4e6213e9bc     333          N             0   \n",
       "213               N  C_ID_4e6213e9bc      88          N             0   \n",
       "294               N  C_ID_4e6213e9bc      88          N             0   \n",
       "306               N  C_ID_4e6213e9bc      88          N             0   \n",
       "365               N  C_ID_4e6213e9bc      88          N             0   \n",
       "368               N  C_ID_4e6213e9bc      88          N             0   \n",
       "400               N  C_ID_5037ff576e     322          N             1   \n",
       "\n",
       "    category_3 merchant_category_id      merchant_id  month_lag  \\\n",
       "115          A                  842  M_ID_22c9cfa265        -10   \n",
       "132          A                  367  M_ID_86ec983688         -5   \n",
       "148          A                  367  M_ID_86ec983688         -5   \n",
       "168          A                  605  M_ID_c2ae34c2ef          0   \n",
       "213          A                  560  M_ID_e6d5ae8ea6         -7   \n",
       "294          A                  278  M_ID_21e1552dab        -11   \n",
       "306          A                  560  M_ID_e6d5ae8ea6         -7   \n",
       "365          A                  560  M_ID_e6d5ae8ea6         -7   \n",
       "368          A                  278  M_ID_21e1552dab        -11   \n",
       "400          B                  278  M_ID_b61c7d1be0         -3   \n",
       "\n",
       "     purchase_amount       purchase_date category_2 state_id subsector_id  \n",
       "115        -0.730379 2017-04-07 12:58:09          1       16           37  \n",
       "132        -0.723782 2017-09-17 22:40:27          1       16           16  \n",
       "148        -0.723782 2017-09-17 22:40:26          1       16           16  \n",
       "168        -0.664262 2018-02-20 10:57:50          1        9            2  \n",
       "213        -0.738132 2017-07-08 07:33:31          1       16           34  \n",
       "294        -0.734135 2017-03-22 15:53:08          1       16           37  \n",
       "306        -0.738132 2017-07-08 07:32:30          1       16           34  \n",
       "365        -0.738132 2017-07-08 07:32:49          1       16           34  \n",
       "368        -0.734135 2017-03-22 15:52:52          1       16           37  \n",
       "400        -0.595260 2017-09-07 20:57:19          3       11           37  "
      ]
     },
     "execution_count": 17,
     "metadata": {},
     "output_type": "execute_result"
    }
   ],
   "source": [
    "his_trans[his_trans['authorized_flag']=='N'].head(10)"
   ]
  },
  {
   "cell_type": "code",
   "execution_count": 18,
   "metadata": {},
   "outputs": [
    {
     "data": {
      "image/png": "[encoded data removed]",
      "text/plain": [
       "<Figure size 1152x432 with 2 Axes>"
      ]
     },
     "metadata": {
      "needs_background": "light"
     },
     "output_type": "display_data"
    },
    {
     "data": {
      "image/png": "[encoded data removed]",
      "text/plain": [
       "<Figure size 1152x432 with 2 Axes>"
      ]
     },
     "metadata": {
      "needs_background": "light"
     },
     "output_type": "display_data"
    }
   ],
   "source": [
    "fig, ax = plt.subplots(1, 2, figsize = (16, 6));\n",
    "his_trans['installments'].value_counts().sort_index().plot(kind='bar', ax=ax[0], color='teal', title='installments');\n",
    "his_trans['month_lag'].value_counts().sort_index().plot(kind='bar', ax=ax[1], color='brown', title='month_lag');\n",
    "plt.suptitle('Counts of categiories historical transaction');\n",
    "\n",
    "fig, ax = plt.subplots(1, 2, figsize = (16, 6));\n",
    "new_merchant_t['installments'].value_counts().sort_index().plot(kind='bar', ax=ax[0], color='teal', title='installments');\n",
    "new_merchant_t['month_lag'].value_counts().sort_index().plot(kind='bar', ax=ax[1], color='brown', title='month_lag');\n",
    "plt.suptitle('Counts of categiories new merchant transaction');"
   ]
  },
  {
   "cell_type": "code",
   "execution_count": 19,
   "metadata": {
    "scrolled": true
   },
   "outputs": [
    {
     "data": {
      "text/html": [
       "<div>\n",
       "<style scoped>\n",
       "    .dataframe tbody tr th:only-of-type {\n",
       "        vertical-align: middle;\n",
       "    }\n",
       "\n",
       "    .dataframe tbody tr th {\n",
       "        vertical-align: top;\n",
       "    }\n",
       "\n",
       "    .dataframe thead th {\n",
       "        text-align: right;\n",
       "    }\n",
       "</style>\n",
       "<table border=\"1\" class=\"dataframe\">\n",
       "  <thead>\n",
       "    <tr style=\"text-align: right;\">\n",
       "      <th></th>\n",
       "      <th>authorized_flag</th>\n",
       "      <th>card_id</th>\n",
       "      <th>city_id</th>\n",
       "      <th>category_1</th>\n",
       "      <th>installments</th>\n",
       "      <th>category_3</th>\n",
       "      <th>merchant_category_id</th>\n",
       "      <th>merchant_id</th>\n",
       "      <th>month_lag</th>\n",
       "      <th>purchase_amount</th>\n",
       "      <th>purchase_date</th>\n",
       "      <th>category_2</th>\n",
       "      <th>state_id</th>\n",
       "      <th>subsector_id</th>\n",
       "    </tr>\n",
       "  </thead>\n",
       "  <tbody>\n",
       "    <tr>\n",
       "      <th>28978222</th>\n",
       "      <td>N</td>\n",
       "      <td>C_ID_730f3751de</td>\n",
       "      <td>117</td>\n",
       "      <td>N</td>\n",
       "      <td>999</td>\n",
       "      <td>C</td>\n",
       "      <td>68</td>\n",
       "      <td>M_ID_9a67369473</td>\n",
       "      <td>-1</td>\n",
       "      <td>0.440187</td>\n",
       "      <td>2017-12-13 12:22:29</td>\n",
       "      <td>1</td>\n",
       "      <td>9</td>\n",
       "      <td>27</td>\n",
       "    </tr>\n",
       "    <tr>\n",
       "      <th>28996126</th>\n",
       "      <td>N</td>\n",
       "      <td>C_ID_05240c2353</td>\n",
       "      <td>289</td>\n",
       "      <td>N</td>\n",
       "      <td>999</td>\n",
       "      <td>C</td>\n",
       "      <td>60</td>\n",
       "      <td>M_ID_dc44de5cf9</td>\n",
       "      <td>-2</td>\n",
       "      <td>0.697140</td>\n",
       "      <td>2017-08-30 11:35:02</td>\n",
       "      <td>5</td>\n",
       "      <td>5</td>\n",
       "      <td>13</td>\n",
       "    </tr>\n",
       "    <tr>\n",
       "      <th>29012755</th>\n",
       "      <td>N</td>\n",
       "      <td>C_ID_2c1f702b6a</td>\n",
       "      <td>330</td>\n",
       "      <td>N</td>\n",
       "      <td>999</td>\n",
       "      <td>C</td>\n",
       "      <td>309</td>\n",
       "      <td>M_ID_ff8fdb0abf</td>\n",
       "      <td>-7</td>\n",
       "      <td>-0.452388</td>\n",
       "      <td>2017-07-21 11:11:05</td>\n",
       "      <td>3</td>\n",
       "      <td>17</td>\n",
       "      <td>21</td>\n",
       "    </tr>\n",
       "    <tr>\n",
       "      <th>29018065</th>\n",
       "      <td>Y</td>\n",
       "      <td>C_ID_6715eccea8</td>\n",
       "      <td>174</td>\n",
       "      <td>N</td>\n",
       "      <td>999</td>\n",
       "      <td>C</td>\n",
       "      <td>840</td>\n",
       "      <td>M_ID_fcb061b2bf</td>\n",
       "      <td>-2</td>\n",
       "      <td>0.491983</td>\n",
       "      <td>2017-11-23 23:24:39</td>\n",
       "      <td>1</td>\n",
       "      <td>9</td>\n",
       "      <td>20</td>\n",
       "    </tr>\n",
       "    <tr>\n",
       "      <th>29074830</th>\n",
       "      <td>N</td>\n",
       "      <td>C_ID_b3fc559820</td>\n",
       "      <td>183</td>\n",
       "      <td>N</td>\n",
       "      <td>999</td>\n",
       "      <td>C</td>\n",
       "      <td>667</td>\n",
       "      <td>M_ID_6ff763c0ef</td>\n",
       "      <td>-2</td>\n",
       "      <td>-0.511893</td>\n",
       "      <td>2017-12-04 09:47:19</td>\n",
       "      <td>1</td>\n",
       "      <td>9</td>\n",
       "      <td>21</td>\n",
       "    </tr>\n",
       "  </tbody>\n",
       "</table>\n",
       "</div>"
      ],
      "text/plain": [
       "         authorized_flag          card_id city_id category_1  installments  \\\n",
       "28978222               N  C_ID_730f3751de     117          N           999   \n",
       "28996126               N  C_ID_05240c2353     289          N           999   \n",
       "29012755               N  C_ID_2c1f702b6a     330          N           999   \n",
       "29018065               Y  C_ID_6715eccea8     174          N           999   \n",
       "29074830               N  C_ID_b3fc559820     183          N           999   \n",
       "\n",
       "         category_3 merchant_category_id      merchant_id  month_lag  \\\n",
       "28978222          C                   68  M_ID_9a67369473         -1   \n",
       "28996126          C                   60  M_ID_dc44de5cf9         -2   \n",
       "29012755          C                  309  M_ID_ff8fdb0abf         -7   \n",
       "29018065          C                  840  M_ID_fcb061b2bf         -2   \n",
       "29074830          C                  667  M_ID_6ff763c0ef         -2   \n",
       "\n",
       "          purchase_amount       purchase_date category_2 state_id subsector_id  \n",
       "28978222         0.440187 2017-12-13 12:22:29          1        9           27  \n",
       "28996126         0.697140 2017-08-30 11:35:02          5        5           13  \n",
       "29012755        -0.452388 2017-07-21 11:11:05          3       17           21  \n",
       "29018065         0.491983 2017-11-23 23:24:39          1        9           20  \n",
       "29074830        -0.511893 2017-12-04 09:47:19          1        9           21  "
      ]
     },
     "execution_count": 19,
     "metadata": {},
     "output_type": "execute_result"
    }
   ],
   "source": [
    "his_trans[his_trans['installments']==999].tail()"
   ]
  },
  {
   "cell_type": "markdown",
   "metadata": {},
   "source": [
    "## 할부 숫자가 999 인것은 승인이 거절된 돼있는 경우였음(거의)\n",
    "\n",
    "### 999가 12개월 이상의 할부개월 수일경우 13으로 바꿀 수도 있음"
   ]
  },
  {
   "cell_type": "code",
   "execution_count": 20,
   "metadata": {},
   "outputs": [
    {
     "data": {
      "text/html": [
       "<div>\n",
       "<style scoped>\n",
       "    .dataframe tbody tr th:only-of-type {\n",
       "        vertical-align: middle;\n",
       "    }\n",
       "\n",
       "    .dataframe tbody tr th {\n",
       "        vertical-align: top;\n",
       "    }\n",
       "\n",
       "    .dataframe thead th {\n",
       "        text-align: right;\n",
       "    }\n",
       "</style>\n",
       "<table border=\"1\" class=\"dataframe\">\n",
       "  <thead>\n",
       "    <tr style=\"text-align: right;\">\n",
       "      <th></th>\n",
       "      <th>authorized_flag</th>\n",
       "      <th>card_id</th>\n",
       "      <th>city_id</th>\n",
       "      <th>category_1</th>\n",
       "      <th>installments</th>\n",
       "      <th>category_3</th>\n",
       "      <th>merchant_category_id</th>\n",
       "      <th>merchant_id</th>\n",
       "      <th>month_lag</th>\n",
       "      <th>purchase_amount</th>\n",
       "      <th>purchase_date</th>\n",
       "      <th>category_2</th>\n",
       "      <th>state_id</th>\n",
       "      <th>subsector_id</th>\n",
       "    </tr>\n",
       "  </thead>\n",
       "  <tbody>\n",
       "    <tr>\n",
       "      <th>9958645</th>\n",
       "      <td>Y</td>\n",
       "      <td>C_ID_875f80a30c</td>\n",
       "      <td>340</td>\n",
       "      <td>N</td>\n",
       "      <td>999</td>\n",
       "      <td>C</td>\n",
       "      <td>840</td>\n",
       "      <td>M_ID_995feeec61</td>\n",
       "      <td>-3</td>\n",
       "      <td>4.435736</td>\n",
       "      <td>2017-09-20 18:21:42</td>\n",
       "      <td>1</td>\n",
       "      <td>9</td>\n",
       "      <td>20</td>\n",
       "    </tr>\n",
       "    <tr>\n",
       "      <th>13456410</th>\n",
       "      <td>Y</td>\n",
       "      <td>C_ID_2e39f9fd94</td>\n",
       "      <td>340</td>\n",
       "      <td>N</td>\n",
       "      <td>999</td>\n",
       "      <td>C</td>\n",
       "      <td>840</td>\n",
       "      <td>M_ID_00f803a717</td>\n",
       "      <td>-4</td>\n",
       "      <td>0.754241</td>\n",
       "      <td>2017-10-28 13:46:13</td>\n",
       "      <td>1</td>\n",
       "      <td>9</td>\n",
       "      <td>20</td>\n",
       "    </tr>\n",
       "    <tr>\n",
       "      <th>16172859</th>\n",
       "      <td>Y</td>\n",
       "      <td>C_ID_4d3dbbbb1f</td>\n",
       "      <td>159</td>\n",
       "      <td>N</td>\n",
       "      <td>999</td>\n",
       "      <td>C</td>\n",
       "      <td>840</td>\n",
       "      <td>M_ID_e243972510</td>\n",
       "      <td>-2</td>\n",
       "      <td>0.755743</td>\n",
       "      <td>2017-12-28 19:27:12</td>\n",
       "      <td>1</td>\n",
       "      <td>9</td>\n",
       "      <td>20</td>\n",
       "    </tr>\n",
       "    <tr>\n",
       "      <th>24251967</th>\n",
       "      <td>Y</td>\n",
       "      <td>C_ID_82e68c6826</td>\n",
       "      <td>174</td>\n",
       "      <td>N</td>\n",
       "      <td>999</td>\n",
       "      <td>C</td>\n",
       "      <td>840</td>\n",
       "      <td>M_ID_fcb061b2bf</td>\n",
       "      <td>-5</td>\n",
       "      <td>1.806097</td>\n",
       "      <td>2017-09-21 16:37:51</td>\n",
       "      <td>1</td>\n",
       "      <td>9</td>\n",
       "      <td>20</td>\n",
       "    </tr>\n",
       "    <tr>\n",
       "      <th>28902917</th>\n",
       "      <td>Y</td>\n",
       "      <td>C_ID_1947a910eb</td>\n",
       "      <td>174</td>\n",
       "      <td>N</td>\n",
       "      <td>999</td>\n",
       "      <td>C</td>\n",
       "      <td>840</td>\n",
       "      <td>M_ID_fcb061b2bf</td>\n",
       "      <td>-2</td>\n",
       "      <td>2.709190</td>\n",
       "      <td>2017-12-17 22:36:08</td>\n",
       "      <td>1</td>\n",
       "      <td>9</td>\n",
       "      <td>20</td>\n",
       "    </tr>\n",
       "    <tr>\n",
       "      <th>29018065</th>\n",
       "      <td>Y</td>\n",
       "      <td>C_ID_6715eccea8</td>\n",
       "      <td>174</td>\n",
       "      <td>N</td>\n",
       "      <td>999</td>\n",
       "      <td>C</td>\n",
       "      <td>840</td>\n",
       "      <td>M_ID_fcb061b2bf</td>\n",
       "      <td>-2</td>\n",
       "      <td>0.491983</td>\n",
       "      <td>2017-11-23 23:24:39</td>\n",
       "      <td>1</td>\n",
       "      <td>9</td>\n",
       "      <td>20</td>\n",
       "    </tr>\n",
       "  </tbody>\n",
       "</table>\n",
       "</div>"
      ],
      "text/plain": [
       "         authorized_flag          card_id city_id category_1  installments  \\\n",
       "9958645                Y  C_ID_875f80a30c     340          N           999   \n",
       "13456410               Y  C_ID_2e39f9fd94     340          N           999   \n",
       "16172859               Y  C_ID_4d3dbbbb1f     159          N           999   \n",
       "24251967               Y  C_ID_82e68c6826     174          N           999   \n",
       "28902917               Y  C_ID_1947a910eb     174          N           999   \n",
       "29018065               Y  C_ID_6715eccea8     174          N           999   \n",
       "\n",
       "         category_3 merchant_category_id      merchant_id  month_lag  \\\n",
       "9958645           C                  840  M_ID_995feeec61         -3   \n",
       "13456410          C                  840  M_ID_00f803a717         -4   \n",
       "16172859          C                  840  M_ID_e243972510         -2   \n",
       "24251967          C                  840  M_ID_fcb061b2bf         -5   \n",
       "28902917          C                  840  M_ID_fcb061b2bf         -2   \n",
       "29018065          C                  840  M_ID_fcb061b2bf         -2   \n",
       "\n",
       "          purchase_amount       purchase_date category_2 state_id subsector_id  \n",
       "9958645          4.435736 2017-09-20 18:21:42          1        9           20  \n",
       "13456410         0.754241 2017-10-28 13:46:13          1        9           20  \n",
       "16172859         0.755743 2017-12-28 19:27:12          1        9           20  \n",
       "24251967         1.806097 2017-09-21 16:37:51          1        9           20  \n",
       "28902917         2.709190 2017-12-17 22:36:08          1        9           20  \n",
       "29018065         0.491983 2017-11-23 23:24:39          1        9           20  "
      ]
     },
     "execution_count": 20,
     "metadata": {},
     "output_type": "execute_result"
    }
   ],
   "source": [
    "his_trans[(his_trans['installments']==999) & (his_trans.authorized_flag=='Y')]"
   ]
  },
  {
   "cell_type": "code",
   "execution_count": 21,
   "metadata": {},
   "outputs": [
    {
     "data": {
      "text/html": [
       "<div>\n",
       "<style scoped>\n",
       "    .dataframe tbody tr th:only-of-type {\n",
       "        vertical-align: middle;\n",
       "    }\n",
       "\n",
       "    .dataframe tbody tr th {\n",
       "        vertical-align: top;\n",
       "    }\n",
       "\n",
       "    .dataframe thead th {\n",
       "        text-align: right;\n",
       "    }\n",
       "</style>\n",
       "<table border=\"1\" class=\"dataframe\">\n",
       "  <thead>\n",
       "    <tr style=\"text-align: right;\">\n",
       "      <th></th>\n",
       "      <th>authorized_flag</th>\n",
       "      <th>card_id</th>\n",
       "      <th>city_id</th>\n",
       "      <th>category_1</th>\n",
       "      <th>installments</th>\n",
       "      <th>category_3</th>\n",
       "      <th>merchant_category_id</th>\n",
       "      <th>merchant_id</th>\n",
       "      <th>month_lag</th>\n",
       "      <th>purchase_amount</th>\n",
       "      <th>purchase_date</th>\n",
       "      <th>category_2</th>\n",
       "      <th>state_id</th>\n",
       "      <th>subsector_id</th>\n",
       "    </tr>\n",
       "  </thead>\n",
       "  <tbody>\n",
       "    <tr>\n",
       "      <th>885</th>\n",
       "      <td>N</td>\n",
       "      <td>C_ID_fc8e41b9cf</td>\n",
       "      <td>251</td>\n",
       "      <td>N</td>\n",
       "      <td>-1</td>\n",
       "      <td>NaN</td>\n",
       "      <td>34</td>\n",
       "      <td>M_ID_c4f5972059</td>\n",
       "      <td>-1</td>\n",
       "      <td>-0.297615</td>\n",
       "      <td>2018-01-23 12:05:13</td>\n",
       "      <td>3</td>\n",
       "      <td>8</td>\n",
       "      <td>38</td>\n",
       "    </tr>\n",
       "    <tr>\n",
       "      <th>914</th>\n",
       "      <td>Y</td>\n",
       "      <td>C_ID_fc8e41b9cf</td>\n",
       "      <td>251</td>\n",
       "      <td>N</td>\n",
       "      <td>-1</td>\n",
       "      <td>NaN</td>\n",
       "      <td>391</td>\n",
       "      <td>M_ID_bc5663de31</td>\n",
       "      <td>0</td>\n",
       "      <td>-0.393785</td>\n",
       "      <td>2018-02-21 07:24:59</td>\n",
       "      <td>3</td>\n",
       "      <td>8</td>\n",
       "      <td>7</td>\n",
       "    </tr>\n",
       "    <tr>\n",
       "      <th>936</th>\n",
       "      <td>Y</td>\n",
       "      <td>C_ID_fc8e41b9cf</td>\n",
       "      <td>251</td>\n",
       "      <td>N</td>\n",
       "      <td>-1</td>\n",
       "      <td>NaN</td>\n",
       "      <td>307</td>\n",
       "      <td>M_ID_0f437c5559</td>\n",
       "      <td>-3</td>\n",
       "      <td>-0.475694</td>\n",
       "      <td>2017-11-13 00:00:00</td>\n",
       "      <td>3</td>\n",
       "      <td>8</td>\n",
       "      <td>19</td>\n",
       "    </tr>\n",
       "    <tr>\n",
       "      <th>941</th>\n",
       "      <td>Y</td>\n",
       "      <td>C_ID_fc8e41b9cf</td>\n",
       "      <td>170</td>\n",
       "      <td>N</td>\n",
       "      <td>-1</td>\n",
       "      <td>NaN</td>\n",
       "      <td>222</td>\n",
       "      <td>M_ID_b7441bb10f</td>\n",
       "      <td>-1</td>\n",
       "      <td>-0.551563</td>\n",
       "      <td>2018-01-09 14:15:12</td>\n",
       "      <td>3</td>\n",
       "      <td>8</td>\n",
       "      <td>21</td>\n",
       "    </tr>\n",
       "    <tr>\n",
       "      <th>965</th>\n",
       "      <td>Y</td>\n",
       "      <td>C_ID_fc8e41b9cf</td>\n",
       "      <td>251</td>\n",
       "      <td>N</td>\n",
       "      <td>-1</td>\n",
       "      <td>NaN</td>\n",
       "      <td>514</td>\n",
       "      <td>M_ID_1dd8347bcb</td>\n",
       "      <td>-1</td>\n",
       "      <td>-0.114893</td>\n",
       "      <td>2018-01-23 14:04:39</td>\n",
       "      <td>3</td>\n",
       "      <td>8</td>\n",
       "      <td>9</td>\n",
       "    </tr>\n",
       "  </tbody>\n",
       "</table>\n",
       "</div>"
      ],
      "text/plain": [
       "    authorized_flag          card_id city_id category_1  installments  \\\n",
       "885               N  C_ID_fc8e41b9cf     251          N            -1   \n",
       "914               Y  C_ID_fc8e41b9cf     251          N            -1   \n",
       "936               Y  C_ID_fc8e41b9cf     251          N            -1   \n",
       "941               Y  C_ID_fc8e41b9cf     170          N            -1   \n",
       "965               Y  C_ID_fc8e41b9cf     251          N            -1   \n",
       "\n",
       "    category_3 merchant_category_id      merchant_id  month_lag  \\\n",
       "885        NaN                   34  M_ID_c4f5972059         -1   \n",
       "914        NaN                  391  M_ID_bc5663de31          0   \n",
       "936        NaN                  307  M_ID_0f437c5559         -3   \n",
       "941        NaN                  222  M_ID_b7441bb10f         -1   \n",
       "965        NaN                  514  M_ID_1dd8347bcb         -1   \n",
       "\n",
       "     purchase_amount       purchase_date category_2 state_id subsector_id  \n",
       "885        -0.297615 2018-01-23 12:05:13          3        8           38  \n",
       "914        -0.393785 2018-02-21 07:24:59          3        8            7  \n",
       "936        -0.475694 2017-11-13 00:00:00          3        8           19  \n",
       "941        -0.551563 2018-01-09 14:15:12          3        8           21  \n",
       "965        -0.114893 2018-01-23 14:04:39          3        8            9  "
      ]
     },
     "execution_count": 21,
     "metadata": {},
     "output_type": "execute_result"
    }
   ],
   "source": [
    "his_trans[his_trans['installments']==-1].head()"
   ]
  },
  {
   "cell_type": "code",
   "execution_count": 22,
   "metadata": {
    "scrolled": false
   },
   "outputs": [
    {
     "data": {
      "text/html": [
       "<div>\n",
       "<style scoped>\n",
       "    .dataframe tbody tr th:only-of-type {\n",
       "        vertical-align: middle;\n",
       "    }\n",
       "\n",
       "    .dataframe tbody tr th {\n",
       "        vertical-align: top;\n",
       "    }\n",
       "\n",
       "    .dataframe thead th {\n",
       "        text-align: right;\n",
       "    }\n",
       "</style>\n",
       "<table border=\"1\" class=\"dataframe\">\n",
       "  <thead>\n",
       "    <tr style=\"text-align: right;\">\n",
       "      <th></th>\n",
       "      <th>authorized_flag</th>\n",
       "      <th>card_id</th>\n",
       "      <th>city_id</th>\n",
       "      <th>category_1</th>\n",
       "      <th>installments</th>\n",
       "      <th>category_3</th>\n",
       "      <th>merchant_category_id</th>\n",
       "      <th>merchant_id</th>\n",
       "      <th>month_lag</th>\n",
       "      <th>purchase_amount</th>\n",
       "      <th>purchase_date</th>\n",
       "      <th>category_2</th>\n",
       "      <th>state_id</th>\n",
       "      <th>subsector_id</th>\n",
       "    </tr>\n",
       "  </thead>\n",
       "  <tbody>\n",
       "    <tr>\n",
       "      <th>11</th>\n",
       "      <td>Y</td>\n",
       "      <td>C_ID_4e6213e9bc</td>\n",
       "      <td>-1</td>\n",
       "      <td>N</td>\n",
       "      <td>0</td>\n",
       "      <td>A</td>\n",
       "      <td>560</td>\n",
       "      <td>M_ID_7c5e93af2f</td>\n",
       "      <td>0</td>\n",
       "      <td>-0.727929</td>\n",
       "      <td>2018-02-08 20:05:45</td>\n",
       "      <td>NaN</td>\n",
       "      <td>-1</td>\n",
       "      <td>34</td>\n",
       "    </tr>\n",
       "    <tr>\n",
       "      <th>30</th>\n",
       "      <td>Y</td>\n",
       "      <td>C_ID_4e6213e9bc</td>\n",
       "      <td>-1</td>\n",
       "      <td>N</td>\n",
       "      <td>0</td>\n",
       "      <td>A</td>\n",
       "      <td>80</td>\n",
       "      <td>M_ID_98b342c0e3</td>\n",
       "      <td>0</td>\n",
       "      <td>-0.724368</td>\n",
       "      <td>2018-02-27 09:04:48</td>\n",
       "      <td>NaN</td>\n",
       "      <td>-1</td>\n",
       "      <td>37</td>\n",
       "    </tr>\n",
       "    <tr>\n",
       "      <th>43</th>\n",
       "      <td>Y</td>\n",
       "      <td>C_ID_4e6213e9bc</td>\n",
       "      <td>-1</td>\n",
       "      <td>N</td>\n",
       "      <td>0</td>\n",
       "      <td>A</td>\n",
       "      <td>278</td>\n",
       "      <td>NaN</td>\n",
       "      <td>0</td>\n",
       "      <td>-0.719154</td>\n",
       "      <td>2018-02-24 10:52:32</td>\n",
       "      <td>NaN</td>\n",
       "      <td>-1</td>\n",
       "      <td>37</td>\n",
       "    </tr>\n",
       "    <tr>\n",
       "      <th>80</th>\n",
       "      <td>Y</td>\n",
       "      <td>C_ID_4e6213e9bc</td>\n",
       "      <td>-1</td>\n",
       "      <td>N</td>\n",
       "      <td>0</td>\n",
       "      <td>A</td>\n",
       "      <td>80</td>\n",
       "      <td>M_ID_98b342c0e3</td>\n",
       "      <td>0</td>\n",
       "      <td>-0.724368</td>\n",
       "      <td>2018-02-23 09:20:59</td>\n",
       "      <td>NaN</td>\n",
       "      <td>-1</td>\n",
       "      <td>37</td>\n",
       "    </tr>\n",
       "    <tr>\n",
       "      <th>82</th>\n",
       "      <td>Y</td>\n",
       "      <td>C_ID_4e6213e9bc</td>\n",
       "      <td>-1</td>\n",
       "      <td>N</td>\n",
       "      <td>0</td>\n",
       "      <td>A</td>\n",
       "      <td>278</td>\n",
       "      <td>NaN</td>\n",
       "      <td>0</td>\n",
       "      <td>-0.713173</td>\n",
       "      <td>2018-02-25 12:07:37</td>\n",
       "      <td>NaN</td>\n",
       "      <td>-1</td>\n",
       "      <td>37</td>\n",
       "    </tr>\n",
       "  </tbody>\n",
       "</table>\n",
       "</div>"
      ],
      "text/plain": [
       "   authorized_flag          card_id city_id category_1  installments  \\\n",
       "11               Y  C_ID_4e6213e9bc      -1          N             0   \n",
       "30               Y  C_ID_4e6213e9bc      -1          N             0   \n",
       "43               Y  C_ID_4e6213e9bc      -1          N             0   \n",
       "80               Y  C_ID_4e6213e9bc      -1          N             0   \n",
       "82               Y  C_ID_4e6213e9bc      -1          N             0   \n",
       "\n",
       "   category_3 merchant_category_id      merchant_id  month_lag  \\\n",
       "11          A                  560  M_ID_7c5e93af2f          0   \n",
       "30          A                   80  M_ID_98b342c0e3          0   \n",
       "43          A                  278              NaN          0   \n",
       "80          A                   80  M_ID_98b342c0e3          0   \n",
       "82          A                  278              NaN          0   \n",
       "\n",
       "    purchase_amount       purchase_date category_2 state_id subsector_id  \n",
       "11        -0.727929 2018-02-08 20:05:45        NaN       -1           34  \n",
       "30        -0.724368 2018-02-27 09:04:48        NaN       -1           37  \n",
       "43        -0.719154 2018-02-24 10:52:32        NaN       -1           37  \n",
       "80        -0.724368 2018-02-23 09:20:59        NaN       -1           37  \n",
       "82        -0.713173 2018-02-25 12:07:37        NaN       -1           37  "
      ]
     },
     "execution_count": 22,
     "metadata": {},
     "output_type": "execute_result"
    }
   ],
   "source": [
    "his_trans[his_trans['city_id']==-1].head()"
   ]
  },
  {
   "cell_type": "code",
   "execution_count": 23,
   "metadata": {},
   "outputs": [
    {
     "data": {
      "text/html": [
       "<div>\n",
       "<style scoped>\n",
       "    .dataframe tbody tr th:only-of-type {\n",
       "        vertical-align: middle;\n",
       "    }\n",
       "\n",
       "    .dataframe tbody tr th {\n",
       "        vertical-align: top;\n",
       "    }\n",
       "\n",
       "    .dataframe thead th {\n",
       "        text-align: right;\n",
       "    }\n",
       "</style>\n",
       "<table border=\"1\" class=\"dataframe\">\n",
       "  <thead>\n",
       "    <tr style=\"text-align: right;\">\n",
       "      <th></th>\n",
       "      <th>authorized_flag</th>\n",
       "      <th>card_id</th>\n",
       "      <th>city_id</th>\n",
       "      <th>category_1</th>\n",
       "      <th>installments</th>\n",
       "      <th>category_3</th>\n",
       "      <th>merchant_category_id</th>\n",
       "      <th>merchant_id</th>\n",
       "      <th>month_lag</th>\n",
       "      <th>purchase_amount</th>\n",
       "      <th>purchase_date</th>\n",
       "      <th>category_2</th>\n",
       "      <th>state_id</th>\n",
       "      <th>subsector_id</th>\n",
       "    </tr>\n",
       "  </thead>\n",
       "  <tbody>\n",
       "  </tbody>\n",
       "</table>\n",
       "</div>"
      ],
      "text/plain": [
       "Empty DataFrame\n",
       "Columns: [authorized_flag, card_id, city_id, category_1, installments, category_3, merchant_category_id, merchant_id, month_lag, purchase_amount, purchase_date, category_2, state_id, subsector_id]\n",
       "Index: []"
      ]
     },
     "execution_count": 23,
     "metadata": {},
     "output_type": "execute_result"
    }
   ],
   "source": [
    "his_trans[(his_trans['city_id']==-1)&(his_trans['state_id']!=-1)]"
   ]
  },
  {
   "cell_type": "markdown",
   "metadata": {},
   "source": [
    "## 도시 아이디가 -1이라면 주 아이디도 -1임"
   ]
  },
  {
   "cell_type": "code",
   "execution_count": 24,
   "metadata": {},
   "outputs": [
    {
     "name": "stdout",
     "output_type": "stream",
     "text": [
      "174240\n"
     ]
    },
    {
     "data": {
      "text/html": [
       "<div>\n",
       "<style scoped>\n",
       "    .dataframe tbody tr th:only-of-type {\n",
       "        vertical-align: middle;\n",
       "    }\n",
       "\n",
       "    .dataframe tbody tr th {\n",
       "        vertical-align: top;\n",
       "    }\n",
       "\n",
       "    .dataframe thead th {\n",
       "        text-align: right;\n",
       "    }\n",
       "</style>\n",
       "<table border=\"1\" class=\"dataframe\">\n",
       "  <thead>\n",
       "    <tr style=\"text-align: right;\">\n",
       "      <th></th>\n",
       "      <th>authorized_flag</th>\n",
       "      <th>card_id</th>\n",
       "      <th>city_id</th>\n",
       "      <th>category_1</th>\n",
       "      <th>installments</th>\n",
       "      <th>category_3</th>\n",
       "      <th>merchant_category_id</th>\n",
       "      <th>merchant_id</th>\n",
       "      <th>month_lag</th>\n",
       "      <th>purchase_amount</th>\n",
       "      <th>purchase_date</th>\n",
       "      <th>category_2</th>\n",
       "      <th>state_id</th>\n",
       "      <th>subsector_id</th>\n",
       "    </tr>\n",
       "  </thead>\n",
       "  <tbody>\n",
       "    <tr>\n",
       "      <th>452</th>\n",
       "      <td>Y</td>\n",
       "      <td>C_ID_5037ff576e</td>\n",
       "      <td>331</td>\n",
       "      <td>N</td>\n",
       "      <td>1</td>\n",
       "      <td>B</td>\n",
       "      <td>307</td>\n",
       "      <td>M_ID_1cf20d1419</td>\n",
       "      <td>0</td>\n",
       "      <td>0.244541</td>\n",
       "      <td>2017-12-15 14:02:29</td>\n",
       "      <td>NaN</td>\n",
       "      <td>-1</td>\n",
       "      <td>19</td>\n",
       "    </tr>\n",
       "    <tr>\n",
       "      <th>513</th>\n",
       "      <td>Y</td>\n",
       "      <td>C_ID_5037ff576e</td>\n",
       "      <td>331</td>\n",
       "      <td>N</td>\n",
       "      <td>1</td>\n",
       "      <td>B</td>\n",
       "      <td>45</td>\n",
       "      <td>M_ID_54944a940b</td>\n",
       "      <td>0</td>\n",
       "      <td>-0.416325</td>\n",
       "      <td>2017-12-15 15:29:46</td>\n",
       "      <td>NaN</td>\n",
       "      <td>-1</td>\n",
       "      <td>18</td>\n",
       "    </tr>\n",
       "    <tr>\n",
       "      <th>904</th>\n",
       "      <td>Y</td>\n",
       "      <td>C_ID_fc8e41b9cf</td>\n",
       "      <td>170</td>\n",
       "      <td>N</td>\n",
       "      <td>1</td>\n",
       "      <td>B</td>\n",
       "      <td>307</td>\n",
       "      <td>M_ID_2e0430b435</td>\n",
       "      <td>-7</td>\n",
       "      <td>-0.626696</td>\n",
       "      <td>2017-07-23 13:15:32</td>\n",
       "      <td>NaN</td>\n",
       "      <td>-1</td>\n",
       "      <td>19</td>\n",
       "    </tr>\n",
       "    <tr>\n",
       "      <th>939</th>\n",
       "      <td>Y</td>\n",
       "      <td>C_ID_fc8e41b9cf</td>\n",
       "      <td>170</td>\n",
       "      <td>N</td>\n",
       "      <td>1</td>\n",
       "      <td>B</td>\n",
       "      <td>367</td>\n",
       "      <td>M_ID_37f7529614</td>\n",
       "      <td>0</td>\n",
       "      <td>-0.665765</td>\n",
       "      <td>2018-02-17 13:44:03</td>\n",
       "      <td>NaN</td>\n",
       "      <td>-1</td>\n",
       "      <td>16</td>\n",
       "    </tr>\n",
       "    <tr>\n",
       "      <th>946</th>\n",
       "      <td>Y</td>\n",
       "      <td>C_ID_fc8e41b9cf</td>\n",
       "      <td>170</td>\n",
       "      <td>N</td>\n",
       "      <td>1</td>\n",
       "      <td>B</td>\n",
       "      <td>307</td>\n",
       "      <td>M_ID_2e0430b435</td>\n",
       "      <td>-4</td>\n",
       "      <td>-0.236157</td>\n",
       "      <td>2017-10-21 00:00:00</td>\n",
       "      <td>NaN</td>\n",
       "      <td>-1</td>\n",
       "      <td>19</td>\n",
       "    </tr>\n",
       "  </tbody>\n",
       "</table>\n",
       "</div>"
      ],
      "text/plain": [
       "    authorized_flag          card_id city_id category_1  installments  \\\n",
       "452               Y  C_ID_5037ff576e     331          N             1   \n",
       "513               Y  C_ID_5037ff576e     331          N             1   \n",
       "904               Y  C_ID_fc8e41b9cf     170          N             1   \n",
       "939               Y  C_ID_fc8e41b9cf     170          N             1   \n",
       "946               Y  C_ID_fc8e41b9cf     170          N             1   \n",
       "\n",
       "    category_3 merchant_category_id      merchant_id  month_lag  \\\n",
       "452          B                  307  M_ID_1cf20d1419          0   \n",
       "513          B                   45  M_ID_54944a940b          0   \n",
       "904          B                  307  M_ID_2e0430b435         -7   \n",
       "939          B                  367  M_ID_37f7529614          0   \n",
       "946          B                  307  M_ID_2e0430b435         -4   \n",
       "\n",
       "     purchase_amount       purchase_date category_2 state_id subsector_id  \n",
       "452         0.244541 2017-12-15 14:02:29        NaN       -1           19  \n",
       "513        -0.416325 2017-12-15 15:29:46        NaN       -1           18  \n",
       "904        -0.626696 2017-07-23 13:15:32        NaN       -1           19  \n",
       "939        -0.665765 2018-02-17 13:44:03        NaN       -1           16  \n",
       "946        -0.236157 2017-10-21 00:00:00        NaN       -1           19  "
      ]
     },
     "execution_count": 24,
     "metadata": {},
     "output_type": "execute_result"
    }
   ],
   "source": [
    "print(len(his_trans[(his_trans['city_id']!=-1)&(his_trans['state_id']==-1)]))\n",
    "his_trans[(his_trans['city_id']!=-1)&(his_trans['state_id']==-1)].head()"
   ]
  },
  {
   "cell_type": "markdown",
   "metadata": {},
   "source": [
    "## 도시아이디가 -1이 아닌데도 불구하고 주 아이디는 -1일 수 있음 "
   ]
  },
  {
   "cell_type": "code",
   "execution_count": 25,
   "metadata": {},
   "outputs": [
    {
     "data": {
      "text/plain": [
       "merchant_id                        0\n",
       "merchant_group_id                  0\n",
       "merchant_category_id               0\n",
       "subsector_id                       0\n",
       "numerical_1                        0\n",
       "numerical_2                        0\n",
       "category_1                         0\n",
       "most_recent_sales_range            0\n",
       "most_recent_purchases_range        0\n",
       "avg_sales_lag3                    13\n",
       "avg_purchases_lag3                 0\n",
       "active_months_lag3                 0\n",
       "avg_sales_lag6                    13\n",
       "avg_purchases_lag6                 0\n",
       "active_months_lag6                 0\n",
       "avg_sales_lag12                   13\n",
       "avg_purchases_lag12                0\n",
       "active_months_lag12                0\n",
       "category_4                         0\n",
       "city_id                            0\n",
       "state_id                           0\n",
       "category_2                     11887\n",
       "dtype: int64"
      ]
     },
     "execution_count": 25,
     "metadata": {},
     "output_type": "execute_result"
    }
   ],
   "source": [
    "merchants.isnull().sum()"
   ]
  },
  {
   "cell_type": "code",
   "execution_count": 26,
   "metadata": {
    "scrolled": true
   },
   "outputs": [
    {
     "data": {
      "text/html": [
       "<div>\n",
       "<style scoped>\n",
       "    .dataframe tbody tr th:only-of-type {\n",
       "        vertical-align: middle;\n",
       "    }\n",
       "\n",
       "    .dataframe tbody tr th {\n",
       "        vertical-align: top;\n",
       "    }\n",
       "\n",
       "    .dataframe thead th {\n",
       "        text-align: right;\n",
       "    }\n",
       "</style>\n",
       "<table border=\"1\" class=\"dataframe\">\n",
       "  <thead>\n",
       "    <tr style=\"text-align: right;\">\n",
       "      <th></th>\n",
       "      <th>merchant_id</th>\n",
       "      <th>merchant_group_id</th>\n",
       "      <th>merchant_category_id</th>\n",
       "      <th>subsector_id</th>\n",
       "      <th>numerical_1</th>\n",
       "      <th>numerical_2</th>\n",
       "      <th>category_1</th>\n",
       "      <th>most_recent_sales_range</th>\n",
       "      <th>most_recent_purchases_range</th>\n",
       "      <th>avg_sales_lag3</th>\n",
       "      <th>...</th>\n",
       "      <th>avg_sales_lag6</th>\n",
       "      <th>avg_purchases_lag6</th>\n",
       "      <th>active_months_lag6</th>\n",
       "      <th>avg_sales_lag12</th>\n",
       "      <th>avg_purchases_lag12</th>\n",
       "      <th>active_months_lag12</th>\n",
       "      <th>category_4</th>\n",
       "      <th>city_id</th>\n",
       "      <th>state_id</th>\n",
       "      <th>category_2</th>\n",
       "    </tr>\n",
       "  </thead>\n",
       "  <tbody>\n",
       "    <tr>\n",
       "      <th>3</th>\n",
       "      <td>M_ID_a70e9c5f81</td>\n",
       "      <td>5026</td>\n",
       "      <td>792</td>\n",
       "      <td>9</td>\n",
       "      <td>-0.057471</td>\n",
       "      <td>-0.057471</td>\n",
       "      <td>Y</td>\n",
       "      <td>E</td>\n",
       "      <td>E</td>\n",
       "      <td>NaN</td>\n",
       "      <td>...</td>\n",
       "      <td>NaN</td>\n",
       "      <td>4.666667</td>\n",
       "      <td>6</td>\n",
       "      <td>NaN</td>\n",
       "      <td>3.833333</td>\n",
       "      <td>12</td>\n",
       "      <td>Y</td>\n",
       "      <td>-1</td>\n",
       "      <td>-1</td>\n",
       "      <td>NaN</td>\n",
       "    </tr>\n",
       "    <tr>\n",
       "      <th>4</th>\n",
       "      <td>M_ID_64456c37ce</td>\n",
       "      <td>2228</td>\n",
       "      <td>222</td>\n",
       "      <td>21</td>\n",
       "      <td>-0.057471</td>\n",
       "      <td>-0.057471</td>\n",
       "      <td>Y</td>\n",
       "      <td>E</td>\n",
       "      <td>E</td>\n",
       "      <td>NaN</td>\n",
       "      <td>...</td>\n",
       "      <td>NaN</td>\n",
       "      <td>0.361111</td>\n",
       "      <td>6</td>\n",
       "      <td>NaN</td>\n",
       "      <td>0.347222</td>\n",
       "      <td>12</td>\n",
       "      <td>Y</td>\n",
       "      <td>-1</td>\n",
       "      <td>-1</td>\n",
       "      <td>NaN</td>\n",
       "    </tr>\n",
       "    <tr>\n",
       "      <th>5</th>\n",
       "      <td>M_ID_a0915f62b5</td>\n",
       "      <td>20201</td>\n",
       "      <td>87</td>\n",
       "      <td>27</td>\n",
       "      <td>-0.057471</td>\n",
       "      <td>-0.057471</td>\n",
       "      <td>N</td>\n",
       "      <td>E</td>\n",
       "      <td>E</td>\n",
       "      <td>NaN</td>\n",
       "      <td>...</td>\n",
       "      <td>NaN</td>\n",
       "      <td>3.666667</td>\n",
       "      <td>6</td>\n",
       "      <td>NaN</td>\n",
       "      <td>3.833333</td>\n",
       "      <td>12</td>\n",
       "      <td>Y</td>\n",
       "      <td>160</td>\n",
       "      <td>21</td>\n",
       "      <td>5</td>\n",
       "    </tr>\n",
       "    <tr>\n",
       "      <th>6</th>\n",
       "      <td>M_ID_bfd41933db</td>\n",
       "      <td>33861</td>\n",
       "      <td>792</td>\n",
       "      <td>9</td>\n",
       "      <td>-0.057471</td>\n",
       "      <td>-0.057471</td>\n",
       "      <td>N</td>\n",
       "      <td>E</td>\n",
       "      <td>E</td>\n",
       "      <td>NaN</td>\n",
       "      <td>...</td>\n",
       "      <td>NaN</td>\n",
       "      <td>4.833333</td>\n",
       "      <td>6</td>\n",
       "      <td>NaN</td>\n",
       "      <td>6.333333</td>\n",
       "      <td>12</td>\n",
       "      <td>N</td>\n",
       "      <td>60</td>\n",
       "      <td>16</td>\n",
       "      <td>1</td>\n",
       "    </tr>\n",
       "    <tr>\n",
       "      <th>7</th>\n",
       "      <td>M_ID_d8ff08219e</td>\n",
       "      <td>16430</td>\n",
       "      <td>529</td>\n",
       "      <td>20</td>\n",
       "      <td>-0.057471</td>\n",
       "      <td>-0.057471</td>\n",
       "      <td>Y</td>\n",
       "      <td>E</td>\n",
       "      <td>E</td>\n",
       "      <td>NaN</td>\n",
       "      <td>...</td>\n",
       "      <td>NaN</td>\n",
       "      <td>1.666667</td>\n",
       "      <td>6</td>\n",
       "      <td>NaN</td>\n",
       "      <td>1.500000</td>\n",
       "      <td>11</td>\n",
       "      <td>Y</td>\n",
       "      <td>-1</td>\n",
       "      <td>-1</td>\n",
       "      <td>NaN</td>\n",
       "    </tr>\n",
       "    <tr>\n",
       "      <th>8</th>\n",
       "      <td>M_ID_c5b389236d</td>\n",
       "      <td>37179</td>\n",
       "      <td>813</td>\n",
       "      <td>29</td>\n",
       "      <td>-0.057471</td>\n",
       "      <td>-0.057471</td>\n",
       "      <td>N</td>\n",
       "      <td>E</td>\n",
       "      <td>E</td>\n",
       "      <td>NaN</td>\n",
       "      <td>...</td>\n",
       "      <td>NaN</td>\n",
       "      <td>189.916667</td>\n",
       "      <td>6</td>\n",
       "      <td>NaN</td>\n",
       "      <td>197.000000</td>\n",
       "      <td>7</td>\n",
       "      <td>N</td>\n",
       "      <td>248</td>\n",
       "      <td>15</td>\n",
       "      <td>1</td>\n",
       "    </tr>\n",
       "    <tr>\n",
       "      <th>9</th>\n",
       "      <td>M_ID_d2162ed113</td>\n",
       "      <td>112122</td>\n",
       "      <td>81</td>\n",
       "      <td>29</td>\n",
       "      <td>-0.057471</td>\n",
       "      <td>-0.057471</td>\n",
       "      <td>Y</td>\n",
       "      <td>E</td>\n",
       "      <td>E</td>\n",
       "      <td>NaN</td>\n",
       "      <td>...</td>\n",
       "      <td>NaN</td>\n",
       "      <td>1.000000</td>\n",
       "      <td>2</td>\n",
       "      <td>NaN</td>\n",
       "      <td>1.000000</td>\n",
       "      <td>2</td>\n",
       "      <td>Y</td>\n",
       "      <td>-1</td>\n",
       "      <td>-1</td>\n",
       "      <td>NaN</td>\n",
       "    </tr>\n",
       "    <tr>\n",
       "      <th>10</th>\n",
       "      <td>M_ID_492cfa500c</td>\n",
       "      <td>13462</td>\n",
       "      <td>369</td>\n",
       "      <td>27</td>\n",
       "      <td>-0.057471</td>\n",
       "      <td>-0.057471</td>\n",
       "      <td>N</td>\n",
       "      <td>E</td>\n",
       "      <td>E</td>\n",
       "      <td>NaN</td>\n",
       "      <td>...</td>\n",
       "      <td>NaN</td>\n",
       "      <td>inf</td>\n",
       "      <td>6</td>\n",
       "      <td>NaN</td>\n",
       "      <td>inf</td>\n",
       "      <td>12</td>\n",
       "      <td>N</td>\n",
       "      <td>-1</td>\n",
       "      <td>9</td>\n",
       "      <td>1</td>\n",
       "    </tr>\n",
       "    <tr>\n",
       "      <th>11</th>\n",
       "      <td>M_ID_73487fed26</td>\n",
       "      <td>17123</td>\n",
       "      <td>427</td>\n",
       "      <td>27</td>\n",
       "      <td>-0.057471</td>\n",
       "      <td>-0.057471</td>\n",
       "      <td>Y</td>\n",
       "      <td>E</td>\n",
       "      <td>E</td>\n",
       "      <td>NaN</td>\n",
       "      <td>...</td>\n",
       "      <td>NaN</td>\n",
       "      <td>inf</td>\n",
       "      <td>6</td>\n",
       "      <td>NaN</td>\n",
       "      <td>inf</td>\n",
       "      <td>12</td>\n",
       "      <td>Y</td>\n",
       "      <td>-1</td>\n",
       "      <td>-1</td>\n",
       "      <td>NaN</td>\n",
       "    </tr>\n",
       "    <tr>\n",
       "      <th>12</th>\n",
       "      <td>M_ID_7149162139</td>\n",
       "      <td>2118</td>\n",
       "      <td>63</td>\n",
       "      <td>27</td>\n",
       "      <td>-0.057471</td>\n",
       "      <td>-0.057471</td>\n",
       "      <td>N</td>\n",
       "      <td>E</td>\n",
       "      <td>E</td>\n",
       "      <td>NaN</td>\n",
       "      <td>...</td>\n",
       "      <td>NaN</td>\n",
       "      <td>inf</td>\n",
       "      <td>6</td>\n",
       "      <td>NaN</td>\n",
       "      <td>inf</td>\n",
       "      <td>12</td>\n",
       "      <td>Y</td>\n",
       "      <td>88</td>\n",
       "      <td>16</td>\n",
       "      <td>1</td>\n",
       "    </tr>\n",
       "    <tr>\n",
       "      <th>13</th>\n",
       "      <td>M_ID_a31332e0bc</td>\n",
       "      <td>15040</td>\n",
       "      <td>427</td>\n",
       "      <td>27</td>\n",
       "      <td>-0.057471</td>\n",
       "      <td>-0.057471</td>\n",
       "      <td>N</td>\n",
       "      <td>E</td>\n",
       "      <td>E</td>\n",
       "      <td>NaN</td>\n",
       "      <td>...</td>\n",
       "      <td>NaN</td>\n",
       "      <td>1.000000</td>\n",
       "      <td>1</td>\n",
       "      <td>NaN</td>\n",
       "      <td>1.000000</td>\n",
       "      <td>1</td>\n",
       "      <td>Y</td>\n",
       "      <td>158</td>\n",
       "      <td>15</td>\n",
       "      <td>1</td>\n",
       "    </tr>\n",
       "    <tr>\n",
       "      <th>14</th>\n",
       "      <td>M_ID_c9eb20f6f5</td>\n",
       "      <td>25449</td>\n",
       "      <td>45</td>\n",
       "      <td>18</td>\n",
       "      <td>-0.057471</td>\n",
       "      <td>-0.057471</td>\n",
       "      <td>N</td>\n",
       "      <td>E</td>\n",
       "      <td>E</td>\n",
       "      <td>NaN</td>\n",
       "      <td>...</td>\n",
       "      <td>NaN</td>\n",
       "      <td>1.666667</td>\n",
       "      <td>3</td>\n",
       "      <td>NaN</td>\n",
       "      <td>1.666667</td>\n",
       "      <td>3</td>\n",
       "      <td>N</td>\n",
       "      <td>-1</td>\n",
       "      <td>16</td>\n",
       "      <td>1</td>\n",
       "    </tr>\n",
       "    <tr>\n",
       "      <th>15</th>\n",
       "      <td>M_ID_c9855bf3e3</td>\n",
       "      <td>321</td>\n",
       "      <td>690</td>\n",
       "      <td>1</td>\n",
       "      <td>-0.057471</td>\n",
       "      <td>-0.057471</td>\n",
       "      <td>Y</td>\n",
       "      <td>E</td>\n",
       "      <td>E</td>\n",
       "      <td>NaN</td>\n",
       "      <td>...</td>\n",
       "      <td>NaN</td>\n",
       "      <td>3432.666667</td>\n",
       "      <td>6</td>\n",
       "      <td>NaN</td>\n",
       "      <td>5236.000000</td>\n",
       "      <td>12</td>\n",
       "      <td>Y</td>\n",
       "      <td>-1</td>\n",
       "      <td>-1</td>\n",
       "      <td>NaN</td>\n",
       "    </tr>\n",
       "  </tbody>\n",
       "</table>\n",
       "<p>13 rows × 22 columns</p>\n",
       "</div>"
      ],
      "text/plain": [
       "        merchant_id merchant_group_id merchant_category_id subsector_id  \\\n",
       "3   M_ID_a70e9c5f81              5026                  792            9   \n",
       "4   M_ID_64456c37ce              2228                  222           21   \n",
       "5   M_ID_a0915f62b5             20201                   87           27   \n",
       "6   M_ID_bfd41933db             33861                  792            9   \n",
       "7   M_ID_d8ff08219e             16430                  529           20   \n",
       "8   M_ID_c5b389236d             37179                  813           29   \n",
       "9   M_ID_d2162ed113            112122                   81           29   \n",
       "10  M_ID_492cfa500c             13462                  369           27   \n",
       "11  M_ID_73487fed26             17123                  427           27   \n",
       "12  M_ID_7149162139              2118                   63           27   \n",
       "13  M_ID_a31332e0bc             15040                  427           27   \n",
       "14  M_ID_c9eb20f6f5             25449                   45           18   \n",
       "15  M_ID_c9855bf3e3               321                  690            1   \n",
       "\n",
       "    numerical_1  numerical_2 category_1 most_recent_sales_range  \\\n",
       "3     -0.057471    -0.057471          Y                       E   \n",
       "4     -0.057471    -0.057471          Y                       E   \n",
       "5     -0.057471    -0.057471          N                       E   \n",
       "6     -0.057471    -0.057471          N                       E   \n",
       "7     -0.057471    -0.057471          Y                       E   \n",
       "8     -0.057471    -0.057471          N                       E   \n",
       "9     -0.057471    -0.057471          Y                       E   \n",
       "10    -0.057471    -0.057471          N                       E   \n",
       "11    -0.057471    -0.057471          Y                       E   \n",
       "12    -0.057471    -0.057471          N                       E   \n",
       "13    -0.057471    -0.057471          N                       E   \n",
       "14    -0.057471    -0.057471          N                       E   \n",
       "15    -0.057471    -0.057471          Y                       E   \n",
       "\n",
       "   most_recent_purchases_range  avg_sales_lag3  ...  avg_sales_lag6  \\\n",
       "3                            E             NaN  ...             NaN   \n",
       "4                            E             NaN  ...             NaN   \n",
       "5                            E             NaN  ...             NaN   \n",
       "6                            E             NaN  ...             NaN   \n",
       "7                            E             NaN  ...             NaN   \n",
       "8                            E             NaN  ...             NaN   \n",
       "9                            E             NaN  ...             NaN   \n",
       "10                           E             NaN  ...             NaN   \n",
       "11                           E             NaN  ...             NaN   \n",
       "12                           E             NaN  ...             NaN   \n",
       "13                           E             NaN  ...             NaN   \n",
       "14                           E             NaN  ...             NaN   \n",
       "15                           E             NaN  ...             NaN   \n",
       "\n",
       "    avg_purchases_lag6  active_months_lag6  avg_sales_lag12  \\\n",
       "3             4.666667                   6              NaN   \n",
       "4             0.361111                   6              NaN   \n",
       "5             3.666667                   6              NaN   \n",
       "6             4.833333                   6              NaN   \n",
       "7             1.666667                   6              NaN   \n",
       "8           189.916667                   6              NaN   \n",
       "9             1.000000                   2              NaN   \n",
       "10                 inf                   6              NaN   \n",
       "11                 inf                   6              NaN   \n",
       "12                 inf                   6              NaN   \n",
       "13            1.000000                   1              NaN   \n",
       "14            1.666667                   3              NaN   \n",
       "15         3432.666667                   6              NaN   \n",
       "\n",
       "    avg_purchases_lag12  active_months_lag12  category_4  city_id state_id  \\\n",
       "3              3.833333                   12           Y       -1       -1   \n",
       "4              0.347222                   12           Y       -1       -1   \n",
       "5              3.833333                   12           Y      160       21   \n",
       "6              6.333333                   12           N       60       16   \n",
       "7              1.500000                   11           Y       -1       -1   \n",
       "8            197.000000                    7           N      248       15   \n",
       "9              1.000000                    2           Y       -1       -1   \n",
       "10                  inf                   12           N       -1        9   \n",
       "11                  inf                   12           Y       -1       -1   \n",
       "12                  inf                   12           Y       88       16   \n",
       "13             1.000000                    1           Y      158       15   \n",
       "14             1.666667                    3           N       -1       16   \n",
       "15          5236.000000                   12           Y       -1       -1   \n",
       "\n",
       "   category_2  \n",
       "3         NaN  \n",
       "4         NaN  \n",
       "5           5  \n",
       "6           1  \n",
       "7         NaN  \n",
       "8           1  \n",
       "9         NaN  \n",
       "10          1  \n",
       "11        NaN  \n",
       "12          1  \n",
       "13          1  \n",
       "14          1  \n",
       "15        NaN  \n",
       "\n",
       "[13 rows x 22 columns]"
      ]
     },
     "execution_count": 26,
     "metadata": {},
     "output_type": "execute_result"
    }
   ],
   "source": [
    "merchants[merchants.avg_sales_lag3.isnull()==True]"
   ]
  },
  {
   "cell_type": "markdown",
   "metadata": {},
   "source": [
    "## avg_sales_lag의 결측치는 모두 동일한 데이터셋에서 발생."
   ]
  },
  {
   "cell_type": "code",
   "execution_count": 27,
   "metadata": {},
   "outputs": [
    {
     "data": {
      "text/plain": [
       "authorized_flag              0\n",
       "card_id                      0\n",
       "city_id                      0\n",
       "category_1                   0\n",
       "installments                 0\n",
       "category_3               55922\n",
       "merchant_category_id         0\n",
       "merchant_id              26216\n",
       "month_lag                    0\n",
       "purchase_amount              0\n",
       "purchase_date                0\n",
       "category_2              111745\n",
       "state_id                     0\n",
       "subsector_id                 0\n",
       "dtype: int64"
      ]
     },
     "execution_count": 27,
     "metadata": {},
     "output_type": "execute_result"
    }
   ],
   "source": [
    "new_merchant_t.isnull().sum()"
   ]
  },
  {
   "cell_type": "code",
   "execution_count": 28,
   "metadata": {},
   "outputs": [
    {
     "data": {
      "text/plain": [
       "authorized_flag               0\n",
       "card_id                       0\n",
       "city_id                       0\n",
       "category_1                    0\n",
       "installments                  0\n",
       "category_3               178159\n",
       "merchant_category_id          0\n",
       "merchant_id              138481\n",
       "month_lag                     0\n",
       "purchase_amount               0\n",
       "purchase_date                 0\n",
       "category_2              2652864\n",
       "state_id                      0\n",
       "subsector_id                  0\n",
       "dtype: int64"
      ]
     },
     "execution_count": 28,
     "metadata": {},
     "output_type": "execute_result"
    }
   ],
   "source": [
    "his_trans.isnull().sum()"
   ]
  },
  {
   "cell_type": "markdown",
   "metadata": {},
   "source": [
    "## 먼저, train data에서 target이 -30보다 작았던 것들 제거"
   ]
  },
  {
   "cell_type": "code",
   "execution_count": 29,
   "metadata": {},
   "outputs": [],
   "source": [
    "train = train[train.target>-30]"
   ]
  },
  {
   "cell_type": "code",
   "execution_count": 30,
   "metadata": {},
   "outputs": [],
   "source": [
    "# purchase_amount size per card_id (구매양? 금액?)\n",
    "c_his = his_trans.groupby(\"card_id\")\n",
    "c_his = c_his[\"purchase_amount\"].size().reset_index()\n",
    "c_his.columns = [\"card_id\",\"purchase_amount_size\"]\n",
    "train = pd.merge(train, c_his, on=\"card_id\", how=\"left\")"
   ]
  },
  {
   "cell_type": "markdown",
   "metadata": {},
   "source": [
    "## 구매 양에 따른 충성도 "
   ]
  },
  {
   "cell_type": "code",
   "execution_count": 31,
   "metadata": {
    "scrolled": true
   },
   "outputs": [
    {
     "data": {
      "text/plain": [
       "<function matplotlib.pyplot.show(*args, **kw)>"
      ]
     },
     "execution_count": 31,
     "metadata": {},
     "output_type": "execute_result"
    },
    {
     "data": {
      "image/png": "[encoded data removed]",
      "text/plain": [
       "<Figure size 576x432 with 1 Axes>"
      ]
     },
     "metadata": {
      "needs_background": "light"
     },
     "output_type": "display_data"
    }
   ],
   "source": [
    "data = pd.concat([train['target'], train['purchase_amount_size']], axis=1)\n",
    "f, ax = plt.subplots(figsize=(8, 6))\n",
    "plt.scatter(x='purchase_amount_size', y=\"target\", data=data)\n",
    "plt.xlabel(\"purchase_amount_size\")\n",
    "plt.ylabel(\"target\")\n",
    "plt.show"
   ]
  },
  {
   "cell_type": "markdown",
   "metadata": {},
   "source": [
    "## 구매 율과 충성도는 상관이 없다????"
   ]
  },
  {
   "cell_type": "code",
   "execution_count": 32,
   "metadata": {},
   "outputs": [],
   "source": [
    "# purchase_amount mean per card_id  (카드 아이디당 구매 평균값 )\n",
    "c_his = his_trans.groupby(\"card_id\")\n",
    "c_his = c_his[\"purchase_amount\"].mean().reset_index()\n",
    "c_his.columns = [\"card_id\",\"purchase_amount_mean\"]\n",
    "train = pd.merge(train, c_his, on=\"card_id\", how=\"left\")"
   ]
  },
  {
   "cell_type": "code",
   "execution_count": 33,
   "metadata": {},
   "outputs": [
    {
     "data": {
      "text/plain": [
       "<function matplotlib.pyplot.show(*args, **kw)>"
      ]
     },
     "execution_count": 33,
     "metadata": {},
     "output_type": "execute_result"
    },
    {
     "data": {
      "image/png": "[encoded data removed]",
      "text/plain": [
       "<Figure size 576x432 with 1 Axes>"
      ]
     },
     "metadata": {
      "needs_background": "light"
     },
     "output_type": "display_data"
    }
   ],
   "source": [
    "data = pd.concat([train['target'], train['purchase_amount_mean']], axis=1)\n",
    "f, ax = plt.subplots(figsize=(8, 6))\n",
    "plt.scatter(x='purchase_amount_mean', y=\"target\", data=data)\n",
    "plt.xlabel(\"purchase_amount_mean\")\n",
    "plt.ylabel(\"target\")\n",
    "plt.show"
   ]
  },
  {
   "cell_type": "markdown",
   "metadata": {},
   "source": [
    "## 평균을 확인해 보는 맨 끝 이상치 확인"
   ]
  },
  {
   "cell_type": "code",
   "execution_count": 34,
   "metadata": {
    "scrolled": true
   },
   "outputs": [
    {
     "data": {
      "text/html": [
       "<div>\n",
       "<style scoped>\n",
       "    .dataframe tbody tr th:only-of-type {\n",
       "        vertical-align: middle;\n",
       "    }\n",
       "\n",
       "    .dataframe tbody tr th {\n",
       "        vertical-align: top;\n",
       "    }\n",
       "\n",
       "    .dataframe thead th {\n",
       "        text-align: right;\n",
       "    }\n",
       "</style>\n",
       "<table border=\"1\" class=\"dataframe\">\n",
       "  <thead>\n",
       "    <tr style=\"text-align: right;\">\n",
       "      <th></th>\n",
       "      <th>first_active_month</th>\n",
       "      <th>card_id</th>\n",
       "      <th>feature_1</th>\n",
       "      <th>feature_2</th>\n",
       "      <th>feature_3</th>\n",
       "      <th>target</th>\n",
       "      <th>purchase_amount_size</th>\n",
       "      <th>purchase_amount_mean</th>\n",
       "    </tr>\n",
       "  </thead>\n",
       "  <tbody>\n",
       "    <tr>\n",
       "      <th>73274</th>\n",
       "      <td>2017-04</td>\n",
       "      <td>C_ID_3b6ac8e52d</td>\n",
       "      <td>3</td>\n",
       "      <td>1</td>\n",
       "      <td>1</td>\n",
       "      <td>0.072539</td>\n",
       "      <td>12</td>\n",
       "      <td>500883.004724</td>\n",
       "    </tr>\n",
       "  </tbody>\n",
       "</table>\n",
       "</div>"
      ],
      "text/plain": [
       "      first_active_month          card_id  feature_1  feature_2  feature_3  \\\n",
       "73274            2017-04  C_ID_3b6ac8e52d          3          1          1   \n",
       "\n",
       "         target  purchase_amount_size  purchase_amount_mean  \n",
       "73274  0.072539                    12         500883.004724  "
      ]
     },
     "execution_count": 34,
     "metadata": {},
     "output_type": "execute_result"
    }
   ],
   "source": [
    "train[train['purchase_amount_mean']>400000]"
   ]
  },
  {
   "cell_type": "code",
   "execution_count": 35,
   "metadata": {},
   "outputs": [
    {
     "data": {
      "text/html": [
       "<div>\n",
       "<style scoped>\n",
       "    .dataframe tbody tr th:only-of-type {\n",
       "        vertical-align: middle;\n",
       "    }\n",
       "\n",
       "    .dataframe tbody tr th {\n",
       "        vertical-align: top;\n",
       "    }\n",
       "\n",
       "    .dataframe thead th {\n",
       "        text-align: right;\n",
       "    }\n",
       "</style>\n",
       "<table border=\"1\" class=\"dataframe\">\n",
       "  <thead>\n",
       "    <tr style=\"text-align: right;\">\n",
       "      <th></th>\n",
       "      <th>authorized_flag</th>\n",
       "      <th>card_id</th>\n",
       "      <th>city_id</th>\n",
       "      <th>category_1</th>\n",
       "      <th>installments</th>\n",
       "      <th>category_3</th>\n",
       "      <th>merchant_category_id</th>\n",
       "      <th>merchant_id</th>\n",
       "      <th>month_lag</th>\n",
       "      <th>purchase_amount</th>\n",
       "      <th>purchase_date</th>\n",
       "      <th>category_2</th>\n",
       "      <th>state_id</th>\n",
       "      <th>subsector_id</th>\n",
       "    </tr>\n",
       "  </thead>\n",
       "  <tbody>\n",
       "    <tr>\n",
       "      <th>29050360</th>\n",
       "      <td>N</td>\n",
       "      <td>C_ID_3b6ac8e52d</td>\n",
       "      <td>69</td>\n",
       "      <td>N</td>\n",
       "      <td>0</td>\n",
       "      <td>A</td>\n",
       "      <td>683</td>\n",
       "      <td>M_ID_ee49262ab5</td>\n",
       "      <td>-3</td>\n",
       "      <td>6.010604e+06</td>\n",
       "      <td>2017-04-23 06:58:58</td>\n",
       "      <td>1</td>\n",
       "      <td>9</td>\n",
       "      <td>34</td>\n",
       "    </tr>\n",
       "  </tbody>\n",
       "</table>\n",
       "</div>"
      ],
      "text/plain": [
       "         authorized_flag          card_id city_id category_1  installments  \\\n",
       "29050360               N  C_ID_3b6ac8e52d      69          N             0   \n",
       "\n",
       "         category_3 merchant_category_id      merchant_id  month_lag  \\\n",
       "29050360          A                  683  M_ID_ee49262ab5         -3   \n",
       "\n",
       "          purchase_amount       purchase_date category_2 state_id subsector_id  \n",
       "29050360     6.010604e+06 2017-04-23 06:58:58          1        9           34  "
      ]
     },
     "execution_count": 35,
     "metadata": {},
     "output_type": "execute_result"
    }
   ],
   "source": [
    "# purchase_amount 가 이상치 인듯\n",
    "his_trans[his_trans['purchase_amount']>400000]"
   ]
  },
  {
   "cell_type": "code",
   "execution_count": 36,
   "metadata": {},
   "outputs": [
    {
     "data": {
      "text/plain": [
       "<function matplotlib.pyplot.show(*args, **kw)>"
      ]
     },
     "execution_count": 36,
     "metadata": {},
     "output_type": "execute_result"
    },
    {
     "data": {
      "image/png": "[encoded data removed]",
      "text/plain": [
       "<Figure size 576x432 with 1 Axes>"
      ]
     },
     "metadata": {
      "needs_background": "light"
     },
     "output_type": "display_data"
    }
   ],
   "source": [
    "# if remove that point(이상치 제거후)\n",
    "data = data[data.purchase_amount_mean < 400000]\n",
    "f, ax = plt.subplots(figsize=(8, 6))\n",
    "plt.scatter(x='purchase_amount_mean', y=\"target\", data=data)\n",
    "plt.xlabel(\"purchase_amount_mean\")\n",
    "plt.ylabel(\"target\")\n",
    "plt.show"
   ]
  },
  {
   "cell_type": "markdown",
   "metadata": {},
   "source": [
    "## 할부개월 충성도 "
   ]
  },
  {
   "cell_type": "code",
   "execution_count": 37,
   "metadata": {},
   "outputs": [],
   "source": [
    "c_his = his_trans.groupby(\"card_id\")\n",
    "c_his = c_his[\"installments\"].mean().reset_index()\n",
    "c_his.columns = [\"card_id\",\"installments_mean\"]\n",
    "train = pd.merge(train, c_his, on=\"card_id\", how=\"left\")"
   ]
  },
  {
   "cell_type": "markdown",
   "metadata": {},
   "source": [
    "## 999때문에 평균 값이 안나옴... 처리 어떻게 ? 할지 "
   ]
  },
  {
   "cell_type": "code",
   "execution_count": 38,
   "metadata": {},
   "outputs": [
    {
     "data": {
      "text/plain": [
       "<function matplotlib.pyplot.show(*args, **kw)>"
      ]
     },
     "execution_count": 38,
     "metadata": {},
     "output_type": "execute_result"
    },
    {
     "data": {
      "image/png": "[encoded data removed]",
      "text/plain": [
       "<Figure size 576x432 with 1 Axes>"
      ]
     },
     "metadata": {
      "needs_background": "light"
     },
     "output_type": "display_data"
    }
   ],
   "source": [
    "data = pd.concat([train['target'], train['installments_mean']], axis=1)\n",
    "f, ax = plt.subplots(figsize=(8, 6))\n",
    "plt.scatter(x='installments_mean', y=\"target\", data=data)\n",
    "plt.xlabel(\"installments_mean\")\n",
    "plt.ylabel(\"target\")\n",
    "plt.show"
   ]
  },
  {
   "cell_type": "markdown",
   "metadata": {},
   "source": [
    "## month_lag 처리"
   ]
  },
  {
   "cell_type": "code",
   "execution_count": 39,
   "metadata": {},
   "outputs": [],
   "source": [
    "c_his = his_trans.groupby(\"card_id\")\n",
    "c_his = c_his[\"month_lag\"].max().reset_index()\n",
    "c_his.columns = [\"card_id\",\"month_lag_recent\"]\n",
    "train = pd.merge(train, c_his, on=\"card_id\", how=\"left\")"
   ]
  },
  {
   "cell_type": "code",
   "execution_count": 40,
   "metadata": {
    "scrolled": true
   },
   "outputs": [
    {
     "data": {
      "text/plain": [
       "<function matplotlib.pyplot.show(*args, **kw)>"
      ]
     },
     "execution_count": 40,
     "metadata": {},
     "output_type": "execute_result"
    },
    {
     "data": {
      "image/png": "[encoded data removed]",
      "text/plain": [
       "<Figure size 576x432 with 1 Axes>"
      ]
     },
     "metadata": {
      "needs_background": "light"
     },
     "output_type": "display_data"
    }
   ],
   "source": [
    "data = pd.concat([train['target'], train['month_lag_recent']], axis=1)\n",
    "f, ax = plt.subplots(figsize=(8, 6))\n",
    "plt.scatter(x='month_lag_recent', y=\"target\", data=data)\n",
    "plt.xlabel(\"month_lag_recent\")\n",
    "plt.ylabel(\"target\")\n",
    "plt.show"
   ]
  },
  {
   "cell_type": "markdown",
   "metadata": {},
   "source": [
    " ## 최근 구매한 경향이 많음 첫 구매 부터 살펴보면"
   ]
  },
  {
   "cell_type": "code",
   "execution_count": 41,
   "metadata": {},
   "outputs": [],
   "source": [
    "his_trans['purchase_date_month'] = his_trans['purchase_date'].apply(lambda x: x.strftime('%Y-%m'))"
   ]
  },
  {
   "cell_type": "code",
   "execution_count": 42,
   "metadata": {},
   "outputs": [],
   "source": [
    "c_his = his_trans.groupby(\"card_id\")\n",
    "c_his = c_his[\"purchase_date_month\"].max().reset_index()\n",
    "c_his.columns = [\"card_id\",\"purchase_date_month_recent\"]\n",
    "train = pd.merge(train, c_his, on=\"card_id\", how=\"left\")"
   ]
  },
  {
   "cell_type": "code",
   "execution_count": 43,
   "metadata": {},
   "outputs": [],
   "source": [
    "train['purchase_period'] = pd.to_datetime(train['purchase_date_month_recent'])-pd.to_datetime(train['first_active_month'])"
   ]
  },
  {
   "cell_type": "code",
   "execution_count": null,
   "metadata": {},
   "outputs": [],
   "source": [
    "print(train.purchase_period.dtypes)"
   ]
  },
  {
   "cell_type": "markdown",
   "metadata": {},
   "source": [
    "## for i in range(len(train)):\n",
    "    train.purchase_period[i] = train.purchase_period[i].days//30"
   ]
  },
  {
   "cell_type": "code",
   "execution_count": null,
   "metadata": {},
   "outputs": [],
   "source": [
    "# calculate the correlation matrix\n",
    "corr = train.corr()\n",
    "\n",
    "# plot the heatmap\n",
    "sns.heatmap(corr, \n",
    "        xticklabels=corr.columns,\n",
    "        yticklabels=corr.columns, annot=True)"
   ]
  },
  {
   "cell_type": "markdown",
   "metadata": {},
   "source": [
    "## train에 거래 데이터를 추가해서 correlation을 다시 확인. 여전히 머가 없음"
   ]
  },
  {
   "cell_type": "code",
   "execution_count": null,
   "metadata": {},
   "outputs": [],
   "source": [
    "new_merchant_t.head()"
   ]
  },
  {
   "cell_type": "code",
   "execution_count": null,
   "metadata": {},
   "outputs": [],
   "source": [
    "# purchase_amount size per card_id (구매건수)\n",
    "c_his = new_merchant_t.groupby(\"card_id\")\n",
    "c_his = c_his[\"purchase_amount\"].size().reset_index()\n",
    "c_his.columns = [\"card_id\",\"purchase_amount_size_new\"]\n",
    "train = pd.merge(train, c_his, on=\"card_id\", how=\"left\")"
   ]
  },
  {
   "cell_type": "code",
   "execution_count": null,
   "metadata": {},
   "outputs": [],
   "source": [
    "data = pd.concat([train['target'], train['purchase_amount_size_new']], axis=1)\n",
    "f, ax = plt.subplots(figsize=(8, 6))\n",
    "plt.scatter(x='purchase_amount_size_new', y=\"target\", data=data)\n",
    "plt.xlabel(\"purchase_amount_size_new\")\n",
    "plt.ylabel(\"target\")\n",
    "plt.show"
   ]
  },
  {
   "cell_type": "code",
   "execution_count": null,
   "metadata": {},
   "outputs": [],
   "source": [
    "# purchase_amount mean per card_id\n",
    "c_his = new_merchant_t.groupby(\"card_id\")\n",
    "c_his = c_his[\"purchase_amount\"].mean().reset_index()\n",
    "c_his.columns = [\"card_id\",\"purchase_amount_mean_new\"]\n",
    "train = pd.merge(train, c_his, on=\"card_id\", how=\"left\")"
   ]
  },
  {
   "cell_type": "markdown",
   "metadata": {},
   "source": [
    "## purchase_amount_mean과 target의 relation을 살펴봤을때, historical에서는 거의 flat한 형태에 가까웠는데 new에서는 조금 더 정규분포처럼 생긴 모양."
   ]
  },
  {
   "cell_type": "code",
   "execution_count": null,
   "metadata": {},
   "outputs": [],
   "source": [
    "data = pd.concat([train['target'], train['purchase_amount_mean_new']], axis=1)\n",
    "f, ax = plt.subplots(figsize=(8, 6))\n",
    "plt.scatter(x='purchase_amount_mean_new', y=\"target\", data=data)\n",
    "plt.xlabel(\"purchase_amount_mean_new\")\n",
    "plt.ylabel(\"target\")\n",
    "plt.show"
   ]
  },
  {
   "cell_type": "markdown",
   "metadata": {},
   "source": [
    "## 구매 할부 개월수 "
   ]
  },
  {
   "cell_type": "code",
   "execution_count": null,
   "metadata": {},
   "outputs": [],
   "source": [
    "c_his = new_merchant_t.groupby(\"card_id\")\n",
    "c_his = c_his[\"installments\"].mean().reset_index()\n",
    "c_his.columns = [\"card_id\",\"installments_mean_new\"]\n",
    "train = pd.merge(train, c_his, on=\"card_id\", how=\"left\")"
   ]
  },
  {
   "cell_type": "code",
   "execution_count": null,
   "metadata": {},
   "outputs": [],
   "source": [
    "data = pd.concat([train['target'], train['installments_mean_new']], axis=1)\n",
    "f, ax = plt.subplots(figsize=(8, 6))\n",
    "plt.scatter(x='installments_mean_new', y=\"target\", data=data)\n",
    "plt.xlabel(\"installments_mean_new\")\n",
    "plt.ylabel(\"target\")\n",
    "plt.show"
   ]
  },
  {
   "cell_type": "markdown",
   "metadata": {},
   "source": [
    "## 이상치값 존재..."
   ]
  },
  {
   "cell_type": "code",
   "execution_count": null,
   "metadata": {},
   "outputs": [],
   "source": [
    "train[train.installments_mean_new>30]\n",
    "## 999가 이상치여서 그런건가??"
   ]
  },
  {
   "cell_type": "code",
   "execution_count": null,
   "metadata": {},
   "outputs": [],
   "source": [
    "new_merchant_t[new_merchant_t.installments==999]\n",
    "## new_merchant_trasaction data에 999 installments인 경우가 2가지 존재."
   ]
  },
  {
   "cell_type": "markdown",
   "metadata": {},
   "source": [
    "## 그래프 이상함...ㅠㅠ"
   ]
  },
  {
   "cell_type": "code",
   "execution_count": null,
   "metadata": {},
   "outputs": [],
   "source": [
    "# if remove that point,\n",
    "data = data[data.installments_mean_new<30]\n",
    "f, ax = plt.subplots(figsize=(8, 6))\n",
    "plt.scatter(x='installments_mean_new', y=\"target\", data=data)\n",
    "plt.xlabel(\"installments_mean_new\")\n",
    "plt.ylabel(\"target\")\n",
    "plt.show"
   ]
  },
  {
   "cell_type": "markdown",
   "metadata": {},
   "source": [
    "##  month_lag(month lag to reference date)"
   ]
  },
  {
   "cell_type": "code",
   "execution_count": null,
   "metadata": {},
   "outputs": [],
   "source": [
    "c_his = new_merchant_t.groupby(\"card_id\")\n",
    "c_his = c_his[\"month_lag\"].max().reset_index()\n",
    "c_his.columns = [\"card_id\",\"month_lag_recent_new\"]\n",
    "train = pd.merge(train, c_his, on=\"card_id\", how=\"left\")"
   ]
  },
  {
   "cell_type": "code",
   "execution_count": null,
   "metadata": {},
   "outputs": [],
   "source": [
    "data = pd.concat([train['target'], train['month_lag_recent_new']], axis=1)\n",
    "f, ax = plt.subplots(figsize=(8, 6))\n",
    "plt.scatter(x='month_lag_recent_new', y=\"target\", data=data)\n",
    "plt.xlabel(\"month_lag_recent_new\")\n",
    "plt.ylabel(\"target\")\n",
    "plt.show"
   ]
  },
  {
   "cell_type": "markdown",
   "metadata": {},
   "source": [
    "## first_active에서 최근 구매까지 기간을 살펴보면,"
   ]
  },
  {
   "cell_type": "code",
   "execution_count": null,
   "metadata": {},
   "outputs": [],
   "source": [
    "new_merchant_t['purchase_date_month'] = new_merchant_t['purchase_date'].apply(lambda x: x.strftime('%Y-%m'))"
   ]
  },
  {
   "cell_type": "code",
   "execution_count": null,
   "metadata": {},
   "outputs": [],
   "source": [
    "c_his = new_merchant_t.groupby(\"card_id\")\n",
    "c_his = c_his[\"purchase_date_month\"].max().reset_index()\n",
    "c_his.columns = [\"card_id\",\"purchase_date_month_recent_new\"]\n",
    "train = pd.merge(train, c_his, on=\"card_id\", how=\"left\")"
   ]
  },
  {
   "cell_type": "code",
   "execution_count": null,
   "metadata": {},
   "outputs": [],
   "source": [
    "train['purchase_period_new'] = pd.to_datetime(train['purchase_date_month_recent_new'])-pd.to_datetime(train['first_active_month'])"
   ]
  },
  {
   "cell_type": "code",
   "execution_count": null,
   "metadata": {},
   "outputs": [],
   "source": [
    "train.head()"
   ]
  },
  {
   "cell_type": "code",
   "execution_count": null,
   "metadata": {},
   "outputs": [],
   "source": [
    "# Fill null by most frequent data\n",
    "#df_trans['category_2'].fillna(1.0,inplace=True)\n",
    "#df_trans['category_3'].fillna('A',inplace=True)\n",
    "#df_trans['merchant_id'].fillna('M_ID_00a6ca8a8a',inplace=True)"
   ]
  },
  {
   "cell_type": "code",
   "execution_count": null,
   "metadata": {},
   "outputs": [],
   "source": [
    "train.isnull().sum()"
   ]
  },
  {
   "cell_type": "code",
   "execution_count": null,
   "metadata": {},
   "outputs": [],
   "source": [
    "train.dtypes"
   ]
  },
  {
   "cell_type": "code",
   "execution_count": null,
   "metadata": {},
   "outputs": [],
   "source": []
  }
 ],
 "metadata": {
  "kernelspec": {
   "display_name": "Python 3",
   "language": "python",
   "name": "python3"
  },
  "language_info": {
   "codemirror_mode": {
    "name": "ipython",
    "version": 3
   },
   "file_extension": ".py",
   "mimetype": "text/x-python",
   "name": "python",
   "nbconvert_exporter": "python",
   "pygments_lexer": "ipython3",
   "version": "3.7.3"
  }
 },
 "nbformat": 4,
 "nbformat_minor": 2
}
