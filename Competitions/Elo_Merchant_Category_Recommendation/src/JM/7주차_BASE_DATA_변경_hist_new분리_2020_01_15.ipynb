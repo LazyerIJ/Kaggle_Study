{
 "cells": [
  {
   "cell_type": "markdown",
   "metadata": {},
   "source": [
    "# 1. 라이브러리 로드"
   ]
  },
  {
   "cell_type": "code",
   "execution_count": 1,
   "metadata": {},
   "outputs": [
    {
     "data": {
      "text/plain": [
       "'D:\\\\kaggle\\\\ELO'"
      ]
     },
     "execution_count": 1,
     "metadata": {},
     "output_type": "execute_result"
    }
   ],
   "source": [
    "import pandas as pd\n",
    "import numpy as np\n",
    "import re\n",
    "import os\n",
    "import datetime\n",
    "import seaborn as sns\n",
    "import matplotlib.pyplot as plt\n",
    "%matplotlib inline\n",
    "import matplotlib.font_manager as fm\n",
    "import matplotlib as mpl\n",
    "import lightgbm as lgb\n",
    "from sklearn.model_selection import StratifiedKFold\n",
    "from sklearn.metrics import mean_squared_error\n",
    "import gc\n",
    "import statistics as st\n",
    "plt.rcParams['font.family'] = 'Malgun Gothic'\n",
    "rc={'axes.labelsize': 15, 'font.size': 15, 'legend.fontsize': 12.0, 'axes.titlesize': 20}\n",
    "plt.rcParams.update(**rc)\n",
    "mpl.rcParams['axes.unicode_minus'] = False\n",
    "os.getcwd()"
   ]
  },
  {
   "cell_type": "markdown",
   "metadata": {},
   "source": [
    "# 2. 데이터 로드 및 메모리 최적화\n",
    "* train.csv: 학습 데이터\n",
    "* test.csv: 테스트 데이터\n",
    "* tr_train : transaction(history+new).csv에 train.csv 붙인거\n",
    "* tr_test  : transaction(history+new).csv에 test.csv 붙인거"
   ]
  },
  {
   "cell_type": "markdown",
   "metadata": {},
   "source": [
    "### 데이터 로드"
   ]
  },
  {
   "cell_type": "code",
   "execution_count": 2,
   "metadata": {},
   "outputs": [
    {
     "name": "stdout",
     "output_type": "stream",
     "text": [
      "Wall time: 51.6 s\n"
     ]
    }
   ],
   "source": [
    "%%time\n",
    "train=pd.read_csv(\"D:/kaggle/ELO/data/new2/train.csv\",encoding='utf-8')\n",
    "test=pd.read_csv(\"D:/kaggle/ELO/data/new2/test.csv\",encoding='utf-8')\n",
    "\n",
    "df_hist=pd.read_csv(\"D:/kaggle/ELO/data/new2/historical_transactions.csv\",encoding='utf-8')\n",
    "df_new=pd.read_csv(\"D:/kaggle/ELO/data/new2/new_merchant_transactions.csv\",encoding='utf-8')"
   ]
  },
  {
   "cell_type": "markdown",
   "metadata": {},
   "source": [
    "### 메모리 최적화"
   ]
  },
  {
   "cell_type": "code",
   "execution_count": 3,
   "metadata": {},
   "outputs": [],
   "source": [
    "def reduce_mem_usage(props, fillna=False):\n",
    "    start_mem_usg = props.memory_usage().sum() / 1024**2 \n",
    "    print(\"Memory usage of properties dataframe is :\",start_mem_usg,\" MB\")\n",
    "    NAlist = [] # Keeps track of columns that have missing values filled in. \n",
    "    for col in props.columns:\n",
    "        if props[col].dtype != object:  # Exclude strings\n",
    "            # Print current column type\n",
    "            print(\"******************************\")\n",
    "            print(\"Column: \",col)\n",
    "            print(\"dtype before: \",props[col].dtype)\n",
    "            \n",
    "            # make variables for Int, max and min\n",
    "            IsInt = False\n",
    "            mx = props[col].max()\n",
    "            mn = props[col].min()\n",
    "            \n",
    "            \n",
    "            # Integer does not support NA, therefore, NA needs to be filled\n",
    "            if not np.isfinite(props[col]).all(): \n",
    "                if not fillna:\n",
    "                    print('[*]skip {} cause of NA value'.format(col))\n",
    "                    continue\n",
    "                NAlist.append(col)\n",
    "                props[col].fillna(mn-1,inplace=True)  \n",
    "                   \n",
    "            # test if column can be converted to an integer\n",
    "            asint = props[col].fillna(0).astype(np.int64)\n",
    "            result = (props[col] - asint)\n",
    "            result = result.sum()\n",
    "            if result > -0.01 and result < 0.01:\n",
    "                IsInt = True\n",
    "            # Make Integer/unsigned Integer datatypes\n",
    "            if IsInt:\n",
    "                if mn >= 0:\n",
    "                    if mx < 255:\n",
    "                        props[col] = props[col].astype(np.uint8)\n",
    "                    elif mx < 65535:\n",
    "                        props[col] = props[col].astype(np.uint16)\n",
    "                    elif mx < 4294967295:\n",
    "                        props[col] = props[col].astype(np.uint32)\n",
    "                    else:\n",
    "                        props[col] = props[col].astype(np.uint64)\n",
    "                else:\n",
    "                    if mn > np.iinfo(np.int8).min and mx < np.iinfo(np.int8).max:\n",
    "                        props[col] = props[col].astype(np.int8)\n",
    "                    elif mn > np.iinfo(np.int16).min and mx < np.iinfo(np.int16).max:\n",
    "                        props[col] = props[col].astype(np.int16)\n",
    "                    elif mn > np.iinfo(np.int32).min and mx < np.iinfo(np.int32).max:\n",
    "                        props[col] = props[col].astype(np.int32)\n",
    "                    elif mn > np.iinfo(np.int64).min and mx < np.iinfo(np.int64).max:\n",
    "                        props[col] = props[col].astype(np.int64)    \n",
    "            # Make float datatypes 32 bit\n",
    "            else:\n",
    "                props[col] = props[col].astype(np.float32)\n",
    "            \n",
    "            # Print new column type\n",
    "            print(\"dtype after: \",props[col].dtype)\n",
    "            print(\"******************************\")\n",
    "    # Print final result\n",
    "    print(\"___MEMORY USAGE AFTER COMPLETION:___\")\n",
    "    mem_usg = props.memory_usage().sum() / 1024**2 \n",
    "    print(\"Memory usage is: \",mem_usg,\" MB\")\n",
    "    print(\"This is \",100*mem_usg/start_mem_usg,\"% of the initial size\")\n",
    "    return props, NAlist"
   ]
  },
  {
   "cell_type": "code",
   "execution_count": 4,
   "metadata": {
    "scrolled": true
   },
   "outputs": [
    {
     "name": "stdout",
     "output_type": "stream",
     "text": [
      "Memory usage of properties dataframe is : 9.243148803710938  MB\n",
      "******************************\n",
      "Column:  feature_1\n",
      "dtype before:  int64\n",
      "dtype after:  uint8\n",
      "******************************\n",
      "******************************\n",
      "Column:  feature_2\n",
      "dtype before:  int64\n",
      "dtype after:  uint8\n",
      "******************************\n",
      "******************************\n",
      "Column:  feature_3\n",
      "dtype before:  int64\n",
      "dtype after:  uint8\n",
      "******************************\n",
      "******************************\n",
      "Column:  target\n",
      "dtype before:  float64\n",
      "dtype after:  float32\n",
      "******************************\n",
      "___MEMORY USAGE AFTER COMPLETION:___\n",
      "Memory usage is:  4.429072380065918  MB\n",
      "This is  47.91735450897139 % of the initial size\n",
      "Memory usage of properties dataframe is : 4.715965270996094  MB\n",
      "******************************\n",
      "Column:  feature_1\n",
      "dtype before:  int64\n",
      "dtype after:  uint8\n",
      "******************************\n",
      "******************************\n",
      "Column:  feature_2\n",
      "dtype before:  int64\n",
      "dtype after:  uint8\n",
      "******************************\n",
      "******************************\n",
      "Column:  feature_3\n",
      "dtype before:  int64\n",
      "dtype after:  uint8\n",
      "******************************\n",
      "___MEMORY USAGE AFTER COMPLETION:___\n",
      "Memory usage is:  2.240147590637207  MB\n",
      "This is  47.50135893524188 % of the initial size\n",
      "Memory usage of properties dataframe is : 3109.5357513427734  MB\n",
      "******************************\n",
      "Column:  city_id\n",
      "dtype before:  int64\n",
      "dtype after:  int16\n",
      "******************************\n",
      "******************************\n",
      "Column:  installments\n",
      "dtype before:  int64\n",
      "dtype after:  int16\n",
      "******************************\n",
      "******************************\n",
      "Column:  merchant_category_id\n",
      "dtype before:  int64\n",
      "dtype after:  int16\n",
      "******************************\n",
      "******************************\n",
      "Column:  month_lag\n",
      "dtype before:  int64\n",
      "dtype after:  int8\n",
      "******************************\n",
      "******************************\n",
      "Column:  purchase_amount\n",
      "dtype before:  float64\n",
      "dtype after:  float32\n",
      "******************************\n",
      "******************************\n",
      "Column:  category_2\n",
      "dtype before:  float64\n",
      "[*]skip category_2 cause of NA value\n",
      "******************************\n",
      "Column:  state_id\n",
      "dtype before:  int64\n",
      "dtype after:  int8\n",
      "******************************\n",
      "******************************\n",
      "Column:  subsector_id\n",
      "dtype before:  int64\n",
      "dtype after:  int8\n",
      "******************************\n",
      "___MEMORY USAGE AFTER COMPLETION:___\n",
      "Memory usage is:  1915.6961793899536  MB\n",
      "This is  61.6071443643222 % of the initial size\n",
      "Memory usage of properties dataframe is : 209.67445373535156  MB\n",
      "******************************\n",
      "Column:  city_id\n",
      "dtype before:  int64\n",
      "dtype after:  int16\n",
      "******************************\n",
      "******************************\n",
      "Column:  installments\n",
      "dtype before:  int64\n",
      "dtype after:  int16\n",
      "******************************\n",
      "******************************\n",
      "Column:  merchant_category_id\n",
      "dtype before:  int64\n",
      "dtype after:  int16\n",
      "******************************\n",
      "******************************\n",
      "Column:  month_lag\n",
      "dtype before:  int64\n",
      "dtype after:  uint8\n",
      "******************************\n",
      "******************************\n",
      "Column:  purchase_amount\n",
      "dtype before:  float64\n",
      "dtype after:  float32\n",
      "******************************\n",
      "******************************\n",
      "Column:  category_2\n",
      "dtype before:  float64\n",
      "[*]skip category_2 cause of NA value\n",
      "******************************\n",
      "Column:  state_id\n",
      "dtype before:  int64\n",
      "dtype after:  int8\n",
      "******************************\n",
      "******************************\n",
      "Column:  subsector_id\n",
      "dtype before:  int64\n",
      "dtype after:  int8\n",
      "******************************\n",
      "___MEMORY USAGE AFTER COMPLETION:___\n",
      "Memory usage is:  129.17448711395264  MB\n",
      "This is  61.60716520906979 % of the initial size\n"
     ]
    }
   ],
   "source": [
    "train, _ = reduce_mem_usage(train,fillna=False)\n",
    "test, _ = reduce_mem_usage(test,fillna=False)\n",
    "df_hist, _ = reduce_mem_usage(df_hist,fillna=False)\n",
    "df_new, _ = reduce_mem_usage(df_new,fillna=False)"
   ]
  },
  {
   "cell_type": "markdown",
   "metadata": {},
   "source": [
    "# 3. 파생변수 생성하고 train / test  dataframe 만들기"
   ]
  },
  {
   "cell_type": "markdown",
   "metadata": {},
   "source": [
    "### train / test에 있는 열들 미리 df_hist / df_new에 붙여놓기 "
   ]
  },
  {
   "cell_type": "code",
   "execution_count": 5,
   "metadata": {},
   "outputs": [],
   "source": [
    "test['target']=np.nan\n",
    "train_test=pd.concat([train,test],axis=0)\n",
    "\n",
    "df_hist=pd.merge(df_hist,train_test,how='left',on='card_id')\n",
    "df_new=pd.merge(df_new,train_test,how='left',on='card_id')"
   ]
  },
  {
   "cell_type": "code",
   "execution_count": 6,
   "metadata": {},
   "outputs": [],
   "source": [
    "## 각 NA에서 최대로 많이 나온 값으로 대체 // first_active_month NA의(C_ID_c27b4f80f7) 경우는 가장오래된 2017-03으로 대체\n",
    "for df in [df_hist,df_new]:\n",
    "    df['category_2'].fillna(1.0,inplace=True)\n",
    "    df['category_3'].fillna('A',inplace=True)\n",
    "    df['merchant_id'].fillna('M_ID_00a6ca8a8a',inplace=True)\n",
    "    df['first_active_month'].fillna('2017-03',inplace=True) "
   ]
  },
  {
   "cell_type": "code",
   "execution_count": 7,
   "metadata": {},
   "outputs": [
    {
     "data": {
      "text/plain": [
       "[datetime.date(2011, 1, 1),\n",
       " datetime.date(2011, 4, 21),\n",
       " datetime.date(2011, 4, 24),\n",
       " datetime.date(2011, 5, 1)]"
      ]
     },
     "execution_count": 7,
     "metadata": {},
     "output_type": "execute_result"
    }
   ],
   "source": [
    "## 브라질 기념일 확인 \n",
    "import workalendar\n",
    "from workalendar.america import Brazil\n",
    "\n",
    "cal = Brazil()\n",
    "holidays_all= []\n",
    "\n",
    "for yr in [2011,2012,2013,2014,2015,2016,2017,2018]:\n",
    "    hols=cal.holidays(yr)\n",
    "    for i in range(len(cal.holidays(yr))):\n",
    "                   holidays_all.append(hols[i][0])\n",
    "holidays_all[:4]"
   ]
  },
  {
   "cell_type": "code",
   "execution_count": 8,
   "metadata": {},
   "outputs": [],
   "source": [
    "for df in [df_hist,df_new]:\n",
    "    df['purchase_date'] = pd.to_datetime(df['purchase_date'])\n",
    "    df['first_active_month'] = pd.to_datetime(df['first_active_month'])\n",
    "    df['year'] = df['purchase_date'].dt.year\n",
    "    df['weekofyear'] = df['purchase_date'].dt.weekofyear\n",
    "    df['month'] = df['purchase_date'].dt.month\n",
    "    df['dayofweek'] = df['purchase_date'].dt.dayofweek\n",
    "    df['weekend'] = (df.purchase_date.dt.weekday >=5).astype(int)\n",
    "    df['hour'] = df['purchase_date'].dt.hour\n",
    "    df['authorized_flag'] = df['authorized_flag'].map({'Y':1, 'N':0})\n",
    "    df['category_1'] = df['category_1'].map({'Y':1, 'N':0}) \n",
    "    \n",
    "    #purchase_date_log1p 생성\n",
    "    df['purchase_amount_log1p'] = np.log1p(df['purchase_amount'])\n",
    "\n",
    "    #interval_month 생성 (purchase_date - first_active_month)\n",
    "    df['interval_month']=((df['purchase_date']-df['first_active_month']).dt.days)//30 \n",
    "    \n",
    "    ## holidays : purchase_date 가 브라질 기념일이면 1 //// 아니면 0 \n",
    "    df['holidays'] = df['purchase_date'].apply(lambda x : 1 if x in holidays_all else 0)"
   ]
  },
  {
   "cell_type": "code",
   "execution_count": 9,
   "metadata": {},
   "outputs": [],
   "source": [
    "def aggregate_func(dataframe,dataframe_name):\n",
    "    \n",
    "    agg_func = {\n",
    "        \n",
    "    'month':['nunique'],\n",
    "    'hour':['nunique'],\n",
    "    'weekofyear':['nunique'],\n",
    "    'dayofweek': ['nunique'],\n",
    "    'year':['nunique'],\n",
    "    'subsector_id':['nunique'],\n",
    "    'merchant_id':['nunique'],\n",
    "    'merchant_category_id':['nunique'],\n",
    "    'installments': ['sum','max','min','mean','var'],\n",
    "    'purchase_date': ['max','min'],\n",
    "    'authorized_flag': ['sum', 'mean'],\n",
    "    'weekend': ['sum', 'mean'],\n",
    "    'category_1': ['sum', 'mean'],\n",
    "    'purchase_amount_log1p': ['sum','max','min','mean','var'],\n",
    "    'interval_month': ['max','min','mean','var'],\n",
    "    'holidays' : ['sum','mean']\n",
    "    \n",
    "    }\n",
    "    \n",
    "    agg_dataframe = dataframe.groupby(['card_id']).agg(agg_func)\n",
    "    agg_dataframe.columns = ['{}_'.format(dataframe_name) + '_'.join(col).strip() for col in agg_dataframe.columns.values]\n",
    "    agg_dataframe.reset_index(inplace=True)\n",
    "    \n",
    "    ref_df = (dataframe.groupby('card_id')\n",
    "          .size()\n",
    "          .reset_index(name='{}_'.format(dataframe_name) + 'card_id_count'))\n",
    "    \n",
    "    agg_dataframe = pd.merge(ref_df, agg_dataframe, on='card_id', how='left')\n",
    "    \n",
    "    return agg_dataframe"
   ]
  },
  {
   "cell_type": "code",
   "execution_count": 10,
   "metadata": {},
   "outputs": [],
   "source": [
    "df_hist_agg = aggregate_func(df_hist,\"hist\")\n",
    "df_new_agg = aggregate_func(df_new,\"new\")\n",
    "df_model = pd.merge(df_hist_agg,df_new_agg,how='left',on='card_id')"
   ]
  },
  {
   "cell_type": "markdown",
   "metadata": {},
   "source": [
    "### train / test card_id 보존"
   ]
  },
  {
   "cell_type": "code",
   "execution_count": 11,
   "metadata": {},
   "outputs": [],
   "source": [
    "train_id=np.unique(train.card_id)\n",
    "test_id=np.unique(test.card_id)"
   ]
  },
  {
   "cell_type": "markdown",
   "metadata": {},
   "source": [
    "### train / test 분리"
   ]
  },
  {
   "cell_type": "code",
   "execution_count": 12,
   "metadata": {},
   "outputs": [],
   "source": [
    "df_train=df_model.loc[df_model.card_id.isin(train_id)].reset_index(drop=True)\n",
    "df_test=df_model.loc[df_model.card_id.isin(test_id)].reset_index(drop=True)\n",
    "\n",
    "df_train=df_train.merge(train,how='left',on='card_id')\n",
    "df_test=df_test.merge(test,how='left',on='card_id')\n",
    "df_test.drop(columns=['target'],inplace=True)"
   ]
  },
  {
   "cell_type": "markdown",
   "metadata": {},
   "source": [
    "# 4. 머신러닝 "
   ]
  },
  {
   "cell_type": "markdown",
   "metadata": {},
   "source": [
    "### tartget <-30 인 outlier 열 사전 구분"
   ]
  },
  {
   "cell_type": "code",
   "execution_count": 13,
   "metadata": {
    "scrolled": true
   },
   "outputs": [
    {
     "data": {
      "text/plain": [
       "0    199710\n",
       "1      2207\n",
       "Name: outliers, dtype: int64"
      ]
     },
     "execution_count": 13,
     "metadata": {},
     "output_type": "execute_result"
    }
   ],
   "source": [
    "df_train['outliers'] = 0\n",
    "df_train.loc[df_train['target'] < -30, ['outliers']] = 1\n",
    "df_train['outliers'].value_counts()"
   ]
  },
  {
   "cell_type": "code",
   "execution_count": 14,
   "metadata": {},
   "outputs": [
    {
     "data": {
      "text/plain": [
       "Index(['card_id', 'hist_card_id_count', 'hist_month_nunique',\n",
       "       'hist_hour_nunique', 'hist_weekofyear_nunique',\n",
       "       'hist_dayofweek_nunique', 'hist_year_nunique',\n",
       "       'hist_subsector_id_nunique', 'hist_merchant_id_nunique',\n",
       "       'hist_merchant_category_id_nunique', 'hist_installments_sum',\n",
       "       'hist_installments_max', 'hist_installments_min',\n",
       "       'hist_installments_mean', 'hist_installments_var',\n",
       "       'hist_purchase_date_max', 'hist_purchase_date_min',\n",
       "       'hist_authorized_flag_sum', 'hist_authorized_flag_mean',\n",
       "       'hist_weekend_sum', 'hist_weekend_mean', 'hist_category_1_sum',\n",
       "       'hist_category_1_mean', 'hist_purchase_amount_log1p_sum',\n",
       "       'hist_purchase_amount_log1p_max', 'hist_purchase_amount_log1p_min',\n",
       "       'hist_purchase_amount_log1p_mean', 'hist_purchase_amount_log1p_var',\n",
       "       'hist_interval_month_max', 'hist_interval_month_min',\n",
       "       'hist_interval_month_mean', 'hist_interval_month_var',\n",
       "       'hist_holidays_sum', 'hist_holidays_mean', 'new_card_id_count',\n",
       "       'new_month_nunique', 'new_hour_nunique', 'new_weekofyear_nunique',\n",
       "       'new_dayofweek_nunique', 'new_year_nunique', 'new_subsector_id_nunique',\n",
       "       'new_merchant_id_nunique', 'new_merchant_category_id_nunique',\n",
       "       'new_installments_sum', 'new_installments_max', 'new_installments_min',\n",
       "       'new_installments_mean', 'new_installments_var',\n",
       "       'new_purchase_date_max', 'new_purchase_date_min',\n",
       "       'new_authorized_flag_sum', 'new_authorized_flag_mean',\n",
       "       'new_weekend_sum', 'new_weekend_mean', 'new_category_1_sum',\n",
       "       'new_category_1_mean', 'new_purchase_amount_log1p_sum',\n",
       "       'new_purchase_amount_log1p_max', 'new_purchase_amount_log1p_min',\n",
       "       'new_purchase_amount_log1p_mean', 'new_purchase_amount_log1p_var',\n",
       "       'new_interval_month_max', 'new_interval_month_min',\n",
       "       'new_interval_month_mean', 'new_interval_month_var', 'new_holidays_sum',\n",
       "       'new_holidays_mean', 'first_active_month', 'feature_1', 'feature_2',\n",
       "       'feature_3', 'target', 'outliers'],\n",
       "      dtype='object')"
      ]
     },
     "execution_count": 14,
     "metadata": {},
     "output_type": "execute_result"
    }
   ],
   "source": [
    "df_train.columns"
   ]
  },
  {
   "cell_type": "markdown",
   "metadata": {},
   "source": [
    "### 학습에 불필요한 열 삭제"
   ]
  },
  {
   "cell_type": "code",
   "execution_count": 15,
   "metadata": {},
   "outputs": [],
   "source": [
    "### 기본 삭제 열\n",
    "df_train_columns = [c for c in df_train.columns if c not in ['card_id', 'first_active_month','target',\n",
    "                                                               'hist_purchase_date_max', 'hist_purchase_date_min', \n",
    "                                                               'new_purchase_date_max', 'new_purchase_date_min','outliers']]\n",
    "target = df_train['target']\n",
    "del df_train['target']"
   ]
  },
  {
   "cell_type": "code",
   "execution_count": 16,
   "metadata": {},
   "outputs": [],
   "source": [
    "### 일단 notebook에 있는 하이퍼 파라미터 사용... 나중에 직접 그리드서치해서 찾기\n",
    "num_round = 10000\n",
    "param = {'num_leaves': 31,#가지 수 \n",
    "         'min_data_in_leaf': 30, # 가지당 최소 데이터 \n",
    "         'objective':'regression', #값을 예측하는 분석이므로 회귀\n",
    "         'max_depth': -1, #최대 깊이 자동 \n",
    "         'learning_rate': 0.01,#학습률\n",
    "         \"min_child_samples\": 20, # 최하단 리프의 샘플링 허용 수 \n",
    "         \"boosting\": \"gbdt\", #부스팅 방식 (탐욕적 알고리즘)\n",
    "         \"feature_fraction\": 0.9, # 학습 열에 대한 선택하는 열의 비율\n",
    "         \"bagging_freq\": 1, #  \n",
    "         \"bagging_fraction\": 0.9 ,# ex) 데이터 수에 대한 학습 샘플링 비율  \n",
    "         \"bagging_seed\": 11,# 랜덤 시드 \n",
    "         \"metric\": 'rmse', #척도 rmse\n",
    "         \"lambda_l1\": 0.1, #L1 정규화 정도\n",
    "         \"verbosity\": -1, # \n",
    "         \"nthread\": 4, #사용 쓰레드 수 \n",
    "         \"random_state\": 4590}"
   ]
  },
  {
   "cell_type": "code",
   "execution_count": 17,
   "metadata": {
    "scrolled": true
   },
   "outputs": [
    {
     "name": "stdout",
     "output_type": "stream",
     "text": [
      "fold 0\n",
      "Training until validation scores don't improve for 100 rounds\n",
      "[100]\ttraining's rmse: 3.69771\tvalid_1's rmse: 3.74317\n",
      "[200]\ttraining's rmse: 3.63583\tvalid_1's rmse: 3.71906\n",
      "[300]\ttraining's rmse: 3.59631\tvalid_1's rmse: 3.7102\n",
      "[400]\ttraining's rmse: 3.56744\tvalid_1's rmse: 3.7042\n",
      "[500]\ttraining's rmse: 3.54406\tvalid_1's rmse: 3.70029\n",
      "[600]\ttraining's rmse: 3.52417\tvalid_1's rmse: 3.69772\n",
      "[700]\ttraining's rmse: 3.50752\tvalid_1's rmse: 3.69607\n",
      "[800]\ttraining's rmse: 3.49196\tvalid_1's rmse: 3.69547\n",
      "[900]\ttraining's rmse: 3.47717\tvalid_1's rmse: 3.69454\n",
      "[1000]\ttraining's rmse: 3.46354\tvalid_1's rmse: 3.69441\n",
      "[1100]\ttraining's rmse: 3.45006\tvalid_1's rmse: 3.6941\n",
      "[1200]\ttraining's rmse: 3.43701\tvalid_1's rmse: 3.69397\n",
      "[1300]\ttraining's rmse: 3.42443\tvalid_1's rmse: 3.69406\n",
      "Early stopping, best iteration is:\n",
      "[1222]\ttraining's rmse: 3.43403\tvalid_1's rmse: 3.6938\n",
      "fold 1\n",
      "Training until validation scores don't improve for 100 rounds\n",
      "[100]\ttraining's rmse: 3.69448\tvalid_1's rmse: 3.74482\n",
      "[200]\ttraining's rmse: 3.63236\tvalid_1's rmse: 3.72136\n",
      "[300]\ttraining's rmse: 3.59248\tvalid_1's rmse: 3.7126\n",
      "[400]\ttraining's rmse: 3.56434\tvalid_1's rmse: 3.7068\n",
      "[500]\ttraining's rmse: 3.5427\tvalid_1's rmse: 3.70338\n",
      "[600]\ttraining's rmse: 3.52397\tvalid_1's rmse: 3.70139\n",
      "[700]\ttraining's rmse: 3.50672\tvalid_1's rmse: 3.69984\n",
      "[800]\ttraining's rmse: 3.49114\tvalid_1's rmse: 3.69897\n",
      "[900]\ttraining's rmse: 3.47652\tvalid_1's rmse: 3.69849\n",
      "[1000]\ttraining's rmse: 3.46257\tvalid_1's rmse: 3.69779\n",
      "[1100]\ttraining's rmse: 3.44923\tvalid_1's rmse: 3.69752\n",
      "[1200]\ttraining's rmse: 3.43689\tvalid_1's rmse: 3.6973\n",
      "[1300]\ttraining's rmse: 3.42547\tvalid_1's rmse: 3.69746\n",
      "Early stopping, best iteration is:\n",
      "[1281]\ttraining's rmse: 3.42765\tvalid_1's rmse: 3.69723\n",
      "fold 2\n",
      "Training until validation scores don't improve for 100 rounds\n",
      "[100]\ttraining's rmse: 3.69665\tvalid_1's rmse: 3.74348\n",
      "[200]\ttraining's rmse: 3.63477\tvalid_1's rmse: 3.72143\n",
      "[300]\ttraining's rmse: 3.59481\tvalid_1's rmse: 3.71337\n",
      "[400]\ttraining's rmse: 3.5665\tvalid_1's rmse: 3.70922\n",
      "[500]\ttraining's rmse: 3.54341\tvalid_1's rmse: 3.7074\n",
      "[600]\ttraining's rmse: 3.52257\tvalid_1's rmse: 3.70621\n",
      "[700]\ttraining's rmse: 3.50611\tvalid_1's rmse: 3.70606\n",
      "[800]\ttraining's rmse: 3.49085\tvalid_1's rmse: 3.70598\n",
      "Early stopping, best iteration is:\n",
      "[777]\ttraining's rmse: 3.49439\tvalid_1's rmse: 3.70588\n",
      "fold 3\n",
      "Training until validation scores don't improve for 100 rounds\n",
      "[100]\ttraining's rmse: 3.69647\tvalid_1's rmse: 3.74464\n",
      "[200]\ttraining's rmse: 3.63294\tvalid_1's rmse: 3.72142\n",
      "[300]\ttraining's rmse: 3.59429\tvalid_1's rmse: 3.71076\n",
      "[400]\ttraining's rmse: 3.56607\tvalid_1's rmse: 3.70449\n",
      "[500]\ttraining's rmse: 3.5427\tvalid_1's rmse: 3.70156\n",
      "[600]\ttraining's rmse: 3.5237\tvalid_1's rmse: 3.69881\n",
      "[700]\ttraining's rmse: 3.50626\tvalid_1's rmse: 3.69714\n",
      "[800]\ttraining's rmse: 3.49075\tvalid_1's rmse: 3.6953\n",
      "[900]\ttraining's rmse: 3.47636\tvalid_1's rmse: 3.69471\n",
      "[1000]\ttraining's rmse: 3.46232\tvalid_1's rmse: 3.69405\n",
      "[1100]\ttraining's rmse: 3.44974\tvalid_1's rmse: 3.69365\n",
      "[1200]\ttraining's rmse: 3.43729\tvalid_1's rmse: 3.69366\n",
      "[1300]\ttraining's rmse: 3.42494\tvalid_1's rmse: 3.69327\n",
      "Early stopping, best iteration is:\n",
      "[1289]\ttraining's rmse: 3.42611\tvalid_1's rmse: 3.6932\n",
      "fold 4\n",
      "Training until validation scores don't improve for 100 rounds\n",
      "[100]\ttraining's rmse: 3.69808\tvalid_1's rmse: 3.73386\n",
      "[200]\ttraining's rmse: 3.63604\tvalid_1's rmse: 3.71194\n",
      "[300]\ttraining's rmse: 3.59696\tvalid_1's rmse: 3.7024\n",
      "[400]\ttraining's rmse: 3.56877\tvalid_1's rmse: 3.69666\n",
      "[500]\ttraining's rmse: 3.54514\tvalid_1's rmse: 3.69255\n",
      "[600]\ttraining's rmse: 3.52612\tvalid_1's rmse: 3.68969\n",
      "[700]\ttraining's rmse: 3.50795\tvalid_1's rmse: 3.68825\n",
      "[800]\ttraining's rmse: 3.49235\tvalid_1's rmse: 3.68742\n",
      "[900]\ttraining's rmse: 3.47733\tvalid_1's rmse: 3.68742\n",
      "[1000]\ttraining's rmse: 3.46388\tvalid_1's rmse: 3.68686\n",
      "[1100]\ttraining's rmse: 3.45022\tvalid_1's rmse: 3.68666\n",
      "[1200]\ttraining's rmse: 3.43768\tvalid_1's rmse: 3.68674\n",
      "Early stopping, best iteration is:\n",
      "[1167]\ttraining's rmse: 3.44162\tvalid_1's rmse: 3.68654\n"
     ]
    },
    {
     "data": {
      "text/plain": [
       "3.695336165368799"
      ]
     },
     "execution_count": 17,
     "metadata": {},
     "output_type": "execute_result"
    }
   ],
   "source": [
    "folds = StratifiedKFold(n_splits=5, shuffle=True, random_state=4590)\n",
    "oof = np.zeros(len(df_train))\n",
    "predictions = np.zeros(len(df_test))\n",
    "feature_importance_df = pd.DataFrame()\n",
    "\n",
    "for fold_, (trn_idx, val_idx) in enumerate(folds.split(df_train,df_train['outliers'].values)):\n",
    "    print(\"fold {}\".format(fold_))\n",
    "    trn_data = lgb.Dataset(df_train.iloc[trn_idx][df_train_columns], label=target.iloc[trn_idx])#, categorical_feature=categorical_feats)\n",
    "    val_data = lgb.Dataset(df_train.iloc[val_idx][df_train_columns], label=target.iloc[val_idx])#, categorical_feature=categorical_feats)\n",
    "\n",
    "    num_round = 10000\n",
    "    clf = lgb.train(param, trn_data, num_round, valid_sets = [trn_data, val_data], verbose_eval=100, early_stopping_rounds = 100)\n",
    "    oof[val_idx] = clf.predict(df_train.iloc[val_idx][df_train_columns], num_iteration=clf.best_iteration)\n",
    "    \n",
    "    fold_importance_df = pd.DataFrame()\n",
    "    fold_importance_df[\"Feature\"] = df_train_columns\n",
    "    fold_importance_df[\"importance\"] = clf.feature_importance()\n",
    "    fold_importance_df[\"fold\"] = fold_ + 1\n",
    "    feature_importance_df = pd.concat([feature_importance_df, fold_importance_df], axis=0)\n",
    "    \n",
    "    predictions += clf.predict(df_test[df_train_columns], num_iteration=clf.best_iteration) / folds.n_splits\n",
    "\n",
    "np.sqrt(mean_squared_error(oof, target))"
   ]
  },
  {
   "cell_type": "code",
   "execution_count": 18,
   "metadata": {
    "scrolled": false
   },
   "outputs": [
    {
     "data": {
      "image/png": "[encoded data removed]",
      "text/plain": [
       "<Figure size 1008x1800 with 1 Axes>"
      ]
     },
     "metadata": {
      "needs_background": "light"
     },
     "output_type": "display_data"
    }
   ],
   "source": [
    "cols = (feature_importance_df[[\"Feature\", \"importance\"]]\n",
    "        .groupby(\"Feature\")\n",
    "        .mean()\n",
    "        .sort_values(by=\"importance\", ascending=False)[:1000].index)\n",
    "\n",
    "best_features = feature_importance_df.loc[feature_importance_df.Feature.isin(cols)]\n",
    "\n",
    "plt.figure(figsize=(14,25))\n",
    "sns.barplot(x=\"importance\",\n",
    "            y=\"Feature\",\n",
    "            data=best_features.sort_values(by=\"importance\",\n",
    "                                           ascending=False))\n",
    "plt.title('LightGBM Features (avg over folds)')\n",
    "plt.tight_layout()"
   ]
  },
  {
   "cell_type": "code",
   "execution_count": 19,
   "metadata": {},
   "outputs": [
    {
     "data": {
      "text/plain": [
       "hist_merchant_category_id_nunique    0.189894\n",
       "hist_merchant_id_nunique             0.189316\n",
       "hist_subsector_id_nunique            0.183378\n",
       "hist_authorized_flag_sum             0.170452\n",
       "hist_card_id_count                   0.169487\n",
       "                                       ...   \n",
       "feature_3                           -0.016766\n",
       "hist_installments_min               -0.017524\n",
       "new_purchase_amount_log1p_sum       -0.125600\n",
       "hist_purchase_amount_log1p_sum      -0.146627\n",
       "new_authorized_flag_mean                  NaN\n",
       "Length: 66, dtype: float64"
      ]
     },
     "execution_count": 19,
     "metadata": {},
     "output_type": "execute_result"
    }
   ],
   "source": [
    "df_train.corr().mean().sort_values(ascending=False)"
   ]
  },
  {
   "cell_type": "code",
   "execution_count": 20,
   "metadata": {},
   "outputs": [],
   "source": [
    "sub_df = pd.DataFrame({\"card_id\":df_test[\"card_id\"].values})\n",
    "sub_df[\"target\"] = predictions\n",
    "sub_df.to_csv(\"D:/kaggle/ELO/data/new/model/submission.csv\", index=False)"
   ]
  },
  {
   "cell_type": "code",
   "execution_count": 23,
   "metadata": {},
   "outputs": [
    {
     "data": {
      "text/plain": [
       "['hist_card_id_count',\n",
       " 'hist_month_nunique',\n",
       " 'hist_hour_nunique',\n",
       " 'hist_weekofyear_nunique',\n",
       " 'hist_dayofweek_nunique',\n",
       " 'hist_year_nunique',\n",
       " 'hist_subsector_id_nunique',\n",
       " 'hist_merchant_id_nunique',\n",
       " 'hist_merchant_category_id_nunique',\n",
       " 'hist_installments_sum',\n",
       " 'hist_installments_max',\n",
       " 'hist_installments_min',\n",
       " 'hist_installments_mean',\n",
       " 'hist_installments_var',\n",
       " 'hist_authorized_flag_sum',\n",
       " 'hist_authorized_flag_mean',\n",
       " 'hist_weekend_sum',\n",
       " 'hist_weekend_mean',\n",
       " 'hist_category_1_sum',\n",
       " 'hist_category_1_mean',\n",
       " 'hist_purchase_amount_log1p_sum',\n",
       " 'hist_purchase_amount_log1p_max',\n",
       " 'hist_purchase_amount_log1p_min',\n",
       " 'hist_purchase_amount_log1p_mean',\n",
       " 'hist_purchase_amount_log1p_var',\n",
       " 'hist_interval_month_max',\n",
       " 'hist_interval_month_min',\n",
       " 'hist_interval_month_mean',\n",
       " 'hist_interval_month_var',\n",
       " 'hist_holidays_sum',\n",
       " 'hist_holidays_mean',\n",
       " 'new_card_id_count',\n",
       " 'new_month_nunique',\n",
       " 'new_hour_nunique',\n",
       " 'new_weekofyear_nunique',\n",
       " 'new_dayofweek_nunique',\n",
       " 'new_year_nunique',\n",
       " 'new_subsector_id_nunique',\n",
       " 'new_merchant_id_nunique',\n",
       " 'new_merchant_category_id_nunique',\n",
       " 'new_installments_sum',\n",
       " 'new_installments_max',\n",
       " 'new_installments_min',\n",
       " 'new_installments_mean',\n",
       " 'new_installments_var',\n",
       " 'new_authorized_flag_sum',\n",
       " 'new_authorized_flag_mean',\n",
       " 'new_weekend_sum',\n",
       " 'new_weekend_mean',\n",
       " 'new_category_1_sum',\n",
       " 'new_category_1_mean',\n",
       " 'new_purchase_amount_log1p_sum',\n",
       " 'new_purchase_amount_log1p_max',\n",
       " 'new_purchase_amount_log1p_min',\n",
       " 'new_purchase_amount_log1p_mean',\n",
       " 'new_purchase_amount_log1p_var',\n",
       " 'new_interval_month_max',\n",
       " 'new_interval_month_min',\n",
       " 'new_interval_month_mean',\n",
       " 'new_interval_month_var',\n",
       " 'new_holidays_sum',\n",
       " 'new_holidays_mean',\n",
       " 'feature_1',\n",
       " 'feature_2',\n",
       " 'feature_3']"
      ]
     },
     "execution_count": 23,
     "metadata": {},
     "output_type": "execute_result"
    }
   ],
   "source": [
    "df_train_columns"
   ]
  },
  {
   "cell_type": "code",
   "execution_count": null,
   "metadata": {},
   "outputs": [],
   "source": []
  }
 ],
 "metadata": {
  "kernelspec": {
   "display_name": "Python 3",
   "language": "python",
   "name": "python3"
  },
  "language_info": {
   "codemirror_mode": {
    "name": "ipython",
    "version": 3
   },
   "file_extension": ".py",
   "mimetype": "text/x-python",
   "name": "python",
   "nbconvert_exporter": "python",
   "pygments_lexer": "ipython3",
   "version": "3.7.4"
  }
 },
 "nbformat": 4,
 "nbformat_minor": 2
}
